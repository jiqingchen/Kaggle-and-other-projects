{
 "cells": [
  {
   "cell_type": "code",
   "execution_count": 5,
   "metadata": {
    "executionInfo": {
     "elapsed": 172,
     "status": "ok",
     "timestamp": 1654054771003,
     "user": {
      "displayName": "JQ Chen",
      "userId": "13222497970351445459"
     },
     "user_tz": 240
    },
    "id": "M4vh7M2XDAqS"
   },
   "outputs": [
    {
     "ename": "SyntaxError",
     "evalue": "invalid syntax (<ipython-input-5-5873c8e5a261>, line 1)",
     "output_type": "error",
     "traceback": [
      "\u001b[0;36m  File \u001b[0;32m\"<ipython-input-5-5873c8e5a261>\"\u001b[0;36m, line \u001b[0;32m1\u001b[0m\n\u001b[0;31m    pip install jovian\u001b[0m\n\u001b[0m              ^\u001b[0m\n\u001b[0;31mSyntaxError\u001b[0m\u001b[0;31m:\u001b[0m invalid syntax\n"
     ]
    }
   ],
   "source": [
    "pip install jovian\n",
    "#pip install holidays"
   ]
  },
  {
   "cell_type": "markdown",
   "metadata": {
    "id": "7CbazmxUDKVp"
   },
   "source": [
    "- Reference: https://pytorch.org/tutorials/beginner/transfer_learning_tutorial.html#load-data"
   ]
  },
  {
   "cell_type": "code",
   "execution_count": 8,
   "metadata": {
    "executionInfo": {
     "elapsed": 380,
     "status": "ok",
     "timestamp": 1654054728910,
     "user": {
      "displayName": "JQ Chen",
      "userId": "13222497970351445459"
     },
     "user_tz": 240
    },
    "id": "K8QE04zlO8dj"
   },
   "outputs": [],
   "source": [
    "# module loading\n",
    "from __future__ import print_function, division\n",
    "\n",
    "import torch\n",
    "import torch.nn as nn\n",
    "import torch.optim as optim\n",
    "from torch.optim import lr_scheduler\n",
    "import torch.backends.cudnn as cudnn\n",
    "import numpy as np\n",
    "import pandas as pd\n",
    "import torchvision\n",
    "from torchvision import datasets, models, transforms\n",
    "import matplotlib.pyplot as plt\n",
    "import seaborn as sns\n",
    "import time\n",
    "import os\n",
    "import copy\n",
    "\n",
    "cudnn.benchmark = True\n",
    "plt.ion()   # interactive mode"
   ]
  },
  {
   "cell_type": "markdown",
   "metadata": {
    "id": "kyUd8jd9DUk8"
   },
   "source": [
    "### Load Data"
   ]
  },
  {
   "cell_type": "markdown",
   "metadata": {
    "id": "NXhwRwAKDpCC"
   },
   "source": [
    "- Reference: https://pytorch.org/tutorials/beginner/transfer_learning_tutorial.html#load-data"
   ]
  },
  {
   "cell_type": "code",
   "execution_count": 3,
   "metadata": {
    "colab": {
     "base_uri": "https://localhost:8080/"
    },
    "executionInfo": {
     "elapsed": 3763,
     "status": "ok",
     "timestamp": 1653959189643,
     "user": {
      "displayName": "JQ Chen",
      "userId": "13222497970351445459"
     },
     "user_tz": 240
    },
    "id": "AeTqe5sTDWNQ",
    "outputId": "144006bd-0d67-4d41-d191-c069d98a9044"
   },
   "outputs": [
    {
     "name": "stderr",
     "output_type": "stream",
     "text": [
      "/usr/local/lib/python3.7/dist-packages/torch/utils/data/dataloader.py:490: UserWarning: This DataLoader will create 4 worker processes in total. Our suggested max number of worker in current system is 2, which is smaller than what this DataLoader is going to create. Please be aware that excessive worker creation might get DataLoader running slow or even freeze, lower the worker number to avoid potential slowness/freeze if necessary.\n",
      "  cpuset_checked))\n"
     ]
    }
   ],
   "source": [
    "# Data augmentation and normalization for training set; for validation set, we only do normalization\n",
    "data_transforms = {\n",
    "    'train': transforms.Compose([\n",
    "        transforms.RandomResizedCrop(224),\n",
    "        transforms.RandomHorizontalFlip(),\n",
    "        transforms.ToTensor(),\n",
    "        transforms.Normalize([0.485, 0.456, 0.406], [0.229, 0.224, 0.225])\n",
    "    ]),\n",
    "    'val': transforms.Compose([\n",
    "        transforms.Resize(256),\n",
    "        transforms.CenterCrop(224),\n",
    "        transforms.ToTensor(),\n",
    "        transforms.Normalize([0.485, 0.456, 0.406], [0.229, 0.224, 0.225])\n",
    "    ]),\n",
    "    'test': transforms.Compose([\n",
    "        transforms.Resize(256),\n",
    "        transforms.CenterCrop(224),\n",
    "        transforms.ToTensor(),\n",
    "        transforms.Normalize([0.485, 0.456, 0.406], [0.229, 0.224, 0.225])\n",
    "    ]),\n",
    "}\n",
    "\n",
    "data_dir = '/content/drive/MyDrive/test colab/Fish'\n",
    "\n",
    "image_datasets = {x: datasets.ImageFolder(os.path.join(data_dir, x),data_transforms[x])\n",
    "                  for x in ['train', 'val']}\n",
    "\n",
    "dataloaders = {x: torch.utils.data.DataLoader(image_datasets[x], batch_size=4, shuffle=True, num_workers=4)\n",
    "              for x in ['train', 'val']}\n",
    "\n",
    "dataset_sizes = {x: len(image_datasets[x]) for x in ['train', 'val']}\n",
    "\n",
    "class_names = image_datasets['train'].classes\n",
    "\n",
    "device = torch.device(\"cuda:0\" if torch.cuda.is_available() else \"cpu\")"
   ]
  },
  {
   "cell_type": "code",
   "execution_count": 4,
   "metadata": {
    "colab": {
     "base_uri": "https://localhost:8080/"
    },
    "executionInfo": {
     "elapsed": 143,
     "status": "ok",
     "timestamp": 1653959199332,
     "user": {
      "displayName": "JQ Chen",
      "userId": "13222497970351445459"
     },
     "user_tz": 240
    },
    "id": "pT-1W00Xv9nZ",
    "outputId": "a1af9043-c034-4dd2-90db-b3d9c6ee04ee"
   },
   "outputs": [
    {
     "data": {
      "text/plain": [
       "['ALB', 'NoF', 'OTHER', 'YFT']"
      ]
     },
     "execution_count": 4,
     "metadata": {},
     "output_type": "execute_result"
    }
   ],
   "source": [
    "class_names"
   ]
  },
  {
   "cell_type": "markdown",
   "metadata": {
    "id": "JDEUOjFgPbT7"
   },
   "source": [
    "#### Visualize images"
   ]
  },
  {
   "cell_type": "markdown",
   "metadata": {
    "id": "ckxmpOo4DwxO"
   },
   "source": [
    "- Reference: https://pytorch.org/tutorials/beginner/transfer_learning_tutorial.html#load-data"
   ]
  },
  {
   "cell_type": "code",
   "execution_count": 5,
   "metadata": {
    "colab": {
     "base_uri": "https://localhost:8080/",
     "height": 203
    },
    "executionInfo": {
     "elapsed": 5005,
     "status": "ok",
     "timestamp": 1653959208099,
     "user": {
      "displayName": "JQ Chen",
      "userId": "13222497970351445459"
     },
     "user_tz": 240
    },
    "id": "Ou1CO30OD06e",
    "outputId": "8683bead-fad3-47e3-d5e9-28fe20a069ba"
   },
   "outputs": [
    {
     "name": "stderr",
     "output_type": "stream",
     "text": [
      "/usr/local/lib/python3.7/dist-packages/torch/utils/data/dataloader.py:490: UserWarning: This DataLoader will create 4 worker processes in total. Our suggested max number of worker in current system is 2, which is smaller than what this DataLoader is going to create. Please be aware that excessive worker creation might get DataLoader running slow or even freeze, lower the worker number to avoid potential slowness/freeze if necessary.\n",
      "  cpuset_checked))\n"
     ]
    },
    {
     "data": {
      "image/png": "[encoded data removed]",
      "text/plain": [
       "<Figure size 432x288 with 1 Axes>"
      ]
     },
     "metadata": {
      "needs_background": "light"
     },
     "output_type": "display_data"
    }
   ],
   "source": [
    "def imshow(inp, title=None):\n",
    "    inp = inp.numpy().transpose((1, 2, 0))\n",
    "    mean = np.array([0.485, 0.456, 0.406])\n",
    "    std = np.array([0.229, 0.224, 0.225])\n",
    "    inp = std * inp + mean\n",
    "    inp = np.clip(inp, 0, 1)\n",
    "    plt.imshow(inp)\n",
    "    if title is not None:\n",
    "        plt.title(title)\n",
    "    plt.pause(0.001)  \n",
    "\n",
    "# Get a batch of training data\n",
    "inputs, classes = next(iter(dataloaders['train']))\n",
    "\n",
    "# Make a grid from batch\n",
    "out = torchvision.utils.make_grid(inputs)\n",
    "\n",
    "imshow(out, title=[class_names[x] for x in classes])"
   ]
  },
  {
   "cell_type": "code",
   "execution_count": 6,
   "metadata": {
    "colab": {
     "base_uri": "https://localhost:8080/",
     "height": 148
    },
    "executionInfo": {
     "elapsed": 852,
     "status": "ok",
     "timestamp": 1653959211023,
     "user": {
      "displayName": "JQ Chen",
      "userId": "13222497970351445459"
     },
     "user_tz": 240
    },
    "id": "O7_L_tSF-CUa",
    "outputId": "83329b59-8d86-49e2-e6a6-574ee003be73"
   },
   "outputs": [
    {
     "data": {
      "image/png": "[encoded data removed]",
      "text/plain": [
       "<Figure size 432x288 with 1 Axes>"
      ]
     },
     "metadata": {
      "needs_background": "light"
     },
     "output_type": "display_data"
    }
   ],
   "source": [
    "imshow(out, title=[x for x in classes])"
   ]
  },
  {
   "cell_type": "markdown",
   "metadata": {
    "id": "WqYo_5AeGemj"
   },
   "source": [
    "### Training model"
   ]
  },
  {
   "cell_type": "markdown",
   "metadata": {
    "id": "y9B6cux8GfWC"
   },
   "source": [
    "- Reference: https://pytorch.org/tutorials/beginner/transfer_learning_tutorial.html#load-data"
   ]
  },
  {
   "cell_type": "code",
   "execution_count": 7,
   "metadata": {
    "executionInfo": {
     "elapsed": 572,
     "status": "ok",
     "timestamp": 1653959216554,
     "user": {
      "displayName": "JQ Chen",
      "userId": "13222497970351445459"
     },
     "user_tz": 240
    },
    "id": "D_Qu8eaHGirv"
   },
   "outputs": [],
   "source": [
    "def train_model(model, criterion, optimizer, scheduler, num_epochs=25):\n",
    "    \n",
    "    train_losses = []\n",
    "    val_losses = []\n",
    "    \n",
    "    since = time.time()\n",
    "\n",
    "    best_model_wts = copy.deepcopy(model.state_dict())\n",
    "    best_acc = 0.0\n",
    "    best_epoch = 0\n",
    "\n",
    "    for epoch in range(num_epochs):\n",
    "        print(f'Epoch {epoch}/{num_epochs - 1}')\n",
    "        print('-' * 10)\n",
    "\n",
    "        # Each epoch has a training and validation phase\n",
    "        for phase in ['train', 'val']:\n",
    "            if phase == 'train':\n",
    "                #scheduler.step()\n",
    "                model.train()  # Set model to training mode\n",
    "            else:\n",
    "                model.eval()   # Set model to evaluate mode\n",
    "\n",
    "            running_loss = 0.0\n",
    "            running_corrects = 0\n",
    "\n",
    "            # Iterate over data.\n",
    "            for inputs, labels in dataloaders[phase]:\n",
    "                inputs = inputs.to(device)\n",
    "                labels = labels.to(device)\n",
    "\n",
    "                # zero the parameter gradients\n",
    "                optimizer.zero_grad()\n",
    "\n",
    "                # forward\n",
    "                # track history if only in train\n",
    "                with torch.set_grad_enabled(phase == 'train'):\n",
    "                    outputs = model(inputs)\n",
    "                    _, preds = torch.max(outputs, 1)\n",
    "                    loss = criterion(outputs, labels)\n",
    "\n",
    "                    # backward + optimize only if in training phase\n",
    "                    if phase == 'train':\n",
    "                        loss.backward()\n",
    "                        optimizer.step()\n",
    "\n",
    "                # statistics\n",
    "                running_loss += loss.item() * inputs.size(0)\n",
    "                running_corrects += torch.sum(preds == labels.data)\n",
    "            if phase == 'train':\n",
    "                scheduler.step()\n",
    "\n",
    "            epoch_loss = running_loss / dataset_sizes[phase]\n",
    "            epoch_acc = running_corrects.double() / dataset_sizes[phase]\n",
    "            \n",
    "            if phase == 'train':\n",
    "                train_losses.append(epoch_loss)\n",
    "            else:\n",
    "                val_losses.append(epoch_loss)\n",
    "\n",
    "            print(f'{phase} Loss: {epoch_loss:.4f} Acc: {epoch_acc:.4f}')\n",
    "\n",
    "            # deep copy the model\n",
    "            if phase == 'val' and epoch_acc > best_acc:\n",
    "                best_acc = epoch_acc\n",
    "                best_model_wts = copy.deepcopy(model.state_dict())\n",
    "                best_epoch = epoch\n",
    "\n",
    "        print()\n",
    "\n",
    "    time_elapsed = time.time() - since\n",
    "    print(f'Training complete in {time_elapsed // 60:.0f}m {time_elapsed % 60:.0f}s')\n",
    "    print(f'Best val Acc: {best_acc:4f}')\n",
    "    print(f'Best val epoch: {best_epoch}')\n",
    "\n",
    "    # load best model weights\n",
    "    model.load_state_dict(best_model_wts)\n",
    "    return model, train_losses, val_losses"
   ]
  },
  {
   "cell_type": "markdown",
   "metadata": {
    "id": "2Ggt-44UGrf2"
   },
   "source": [
    "## 1.1.1.(a) Initialize a Resnet18 model"
   ]
  },
  {
   "cell_type": "markdown",
   "metadata": {
    "id": "fbywRKq3GsVw"
   },
   "source": [
    "### (1) Using the pre-trained Resnet18 model as a fixed feature extractor (only fine-tune the fully-connected layer)"
   ]
  },
  {
   "cell_type": "markdown",
   "metadata": {
    "id": "f4i0mgU5GxC6"
   },
   "source": [
    "- Reference: https://pytorch.org/tutorials/beginner/transfer_learning_tutorial.html#load-data"
   ]
  },
  {
   "cell_type": "code",
   "execution_count": 12,
   "metadata": {
    "executionInfo": {
     "elapsed": 296,
     "status": "ok",
     "timestamp": 1653965465896,
     "user": {
      "displayName": "JQ Chen",
      "userId": "13222497970351445459"
     },
     "user_tz": 240
    },
    "id": "f4IZck7pGmOb"
   },
   "outputs": [],
   "source": [
    "model_FineTuneFC = torchvision.models.resnet18(pretrained=True)\n",
    "for param in model_FineTuneFC.parameters():\n",
    "    param.requires_grad = False\n",
    "\n",
    "# Parameters of newly constructed modules have requires_grad=True by default\n",
    "num_FineTuneFC_rs = model_FineTuneFC.fc.in_features\n",
    "\n",
    "model_FineTuneFC.fc = nn.Linear(num_FineTuneFC_rs, 4) # only 4 classes\n",
    "\n",
    "model_FineTuneFC = model_FineTuneFC.to(device)\n",
    "\n",
    "criterion = nn.CrossEntropyLoss()\n",
    "\n",
    "# Observe that only parameters of final layer are being optimized.\n",
    "optimizer_FineTuneFC = optim.Adam(model_FineTuneFC.fc.parameters(), lr=0.001)\n",
    "\n",
    "# Decay LR by a factor of 0.1 every 7 epochs\n",
    "exp_lr_scheduler_FineTuneFC = lr_scheduler.StepLR(optimizer_FineTuneFC, step_size=7, gamma=0.1)"
   ]
  },
  {
   "cell_type": "markdown",
   "metadata": {
    "id": "PKZzfQS2G4jA"
   },
   "source": [
    "### (2) Fine-tuning all layers of the pre-trained Resnet18 model"
   ]
  },
  {
   "cell_type": "markdown",
   "metadata": {
    "id": "Uz79pR4cG5b5"
   },
   "source": [
    "- Reference: https://pytorch.org/tutorials/beginner/transfer_learning_tutorial.html#load-data"
   ]
  },
  {
   "cell_type": "code",
   "execution_count": 9,
   "metadata": {
    "executionInfo": {
     "elapsed": 642,
     "status": "ok",
     "timestamp": 1653959227545,
     "user": {
      "displayName": "JQ Chen",
      "userId": "13222497970351445459"
     },
     "user_tz": 240
    },
    "id": "nKGK6i3qG9-x"
   },
   "outputs": [],
   "source": [
    "model_FineTuning_all = models.resnet18(pretrained=True)\n",
    "\n",
    "num_FineTuning_all_rs = model_FineTuning_all.fc.in_features\n",
    "\n",
    "model_FineTuning_all.fc = nn.Linear(num_FineTuning_all_rs, 4) # only 4 classes\n",
    "\n",
    "model_FineTuning_all = model_FineTuning_all.to(device)\n",
    "\n",
    "criterion = nn.CrossEntropyLoss()\n",
    "\n",
    "optimizer_FineTuning_all = optim.Adam(model_FineTuning_all.parameters(), lr=0.001)\n",
    "\n",
    "# Decay LR by a factor of 0.1 every 7 epochs\n",
    "exp_lr_scheduler_FineTuning_all = lr_scheduler.StepLR(optimizer_FineTuning_all, step_size=7, gamma=0.1)"
   ]
  },
  {
   "cell_type": "markdown",
   "metadata": {
    "id": "NyEMy24-G_FK"
   },
   "source": [
    "### (3) Training a Resnet18 model from scratch."
   ]
  },
  {
   "cell_type": "markdown",
   "metadata": {
    "id": "3ouK9msTHEAv"
   },
   "source": [
    "- Reference: https://pytorch.org/tutorials/beginner/transfer_learning_tutorial.html#load-data"
   ]
  },
  {
   "cell_type": "code",
   "execution_count": 10,
   "metadata": {
    "executionInfo": {
     "elapsed": 264,
     "status": "ok",
     "timestamp": 1653959230136,
     "user": {
      "displayName": "JQ Chen",
      "userId": "13222497970351445459"
     },
     "user_tz": 240
    },
    "id": "To6x3zhKHLqA"
   },
   "outputs": [],
   "source": [
    "model_scratch = models.resnet18(pretrained=False)\n",
    "\n",
    "num_scratch_rs = model_scratch.fc.in_features\n",
    "\n",
    "model_scratch.fc = nn.Linear(num_scratch_rs, 4)\n",
    "\n",
    "model_scratch = model_scratch.to(device)\n",
    "\n",
    "criterion = nn.CrossEntropyLoss()\n",
    "\n",
    "optimizer_scratch = optim.Adam(model_scratch.parameters(), lr=0.001)\n",
    "\n",
    "# Decay LR by a factor of 0.1 every 7 epochs\n",
    "exp_lr_scheduler_scratch = lr_scheduler.StepLR(optimizer_scratch, step_size=7, gamma=0.1)"
   ]
  },
  {
   "cell_type": "markdown",
   "metadata": {
    "id": "wZgQY-1vHPSz"
   },
   "source": [
    "## 1.1.1.(b) Before training, can you speculate how the training will be different between these three approaches? Which way do you think is the most appropriate given this fishing dataset, and why?"
   ]
  },
  {
   "cell_type": "markdown",
   "metadata": {
    "id": "gNipzSNeHQK2"
   },
   "source": [
    "- In my opinion, I think the model that only fine-tune the fully-connected layer would have the best performance among these three approaches. The resnet18 were trained with ImageNet database containing 1,000,000+ images so each weight in each layer can accurately capture the image features. If we reset or fine-tune these weights in all layers and re-train the model by our own images, the model will decrease the ability to capture image features accurately. As a result, Fine-tuning only the fully-connected layer is the most appropriate given this fishing dataset."
   ]
  },
  {
   "cell_type": "markdown",
   "metadata": {
    "id": "sr8UUC5wHTGf"
   },
   "source": [
    "## 1.1.2 Model Training/Fine-tuning"
   ]
  },
  {
   "cell_type": "code",
   "execution_count": 13,
   "metadata": {
    "colab": {
     "base_uri": "https://localhost:8080/"
    },
    "executionInfo": {
     "elapsed": 4871334,
     "status": "ok",
     "timestamp": 1653970350711,
     "user": {
      "displayName": "JQ Chen",
      "userId": "13222497970351445459"
     },
     "user_tz": 240
    },
    "id": "m8D5kP17HYu_",
    "outputId": "5a534d6b-1612-4aa3-e313-9c4a2a17ed82"
   },
   "outputs": [
    {
     "name": "stdout",
     "output_type": "stream",
     "text": [
      "Epoch 0/24\n",
      "----------\n"
     ]
    },
    {
     "name": "stderr",
     "output_type": "stream",
     "text": [
      "/usr/local/lib/python3.7/dist-packages/torch/utils/data/dataloader.py:490: UserWarning: This DataLoader will create 4 worker processes in total. Our suggested max number of worker in current system is 2, which is smaller than what this DataLoader is going to create. Please be aware that excessive worker creation might get DataLoader running slow or even freeze, lower the worker number to avoid potential slowness/freeze if necessary.\n",
      "  cpuset_checked))\n"
     ]
    },
    {
     "name": "stdout",
     "output_type": "stream",
     "text": [
      "train Loss: 1.2757 Acc: 0.4205\n",
      "val Loss: 1.4029 Acc: 0.4138\n",
      "\n",
      "Epoch 1/24\n",
      "----------\n",
      "train Loss: 1.1749 Acc: 0.4866\n",
      "val Loss: 0.8604 Acc: 0.6293\n",
      "\n",
      "Epoch 2/24\n",
      "----------\n",
      "train Loss: 1.1251 Acc: 0.4994\n",
      "val Loss: 0.8226 Acc: 0.6466\n",
      "\n",
      "Epoch 3/24\n",
      "----------\n",
      "train Loss: 1.1103 Acc: 0.5269\n",
      "val Loss: 0.8175 Acc: 0.6810\n",
      "\n",
      "Epoch 4/24\n",
      "----------\n",
      "train Loss: 1.0633 Acc: 0.5471\n",
      "val Loss: 0.9205 Acc: 0.6034\n",
      "\n",
      "Epoch 5/24\n",
      "----------\n",
      "train Loss: 1.0760 Acc: 0.5397\n",
      "val Loss: 0.8477 Acc: 0.6638\n",
      "\n",
      "Epoch 6/24\n",
      "----------\n",
      "train Loss: 1.0678 Acc: 0.5477\n",
      "val Loss: 0.8128 Acc: 0.6595\n",
      "\n",
      "Epoch 7/24\n",
      "----------\n",
      "train Loss: 1.0100 Acc: 0.5709\n",
      "val Loss: 0.7703 Acc: 0.6810\n",
      "\n",
      "Epoch 8/24\n",
      "----------\n",
      "train Loss: 0.9689 Acc: 0.5856\n",
      "val Loss: 0.7510 Acc: 0.7112\n",
      "\n",
      "Epoch 9/24\n",
      "----------\n",
      "train Loss: 0.9985 Acc: 0.5630\n",
      "val Loss: 0.7284 Acc: 0.7112\n",
      "\n",
      "Epoch 10/24\n",
      "----------\n",
      "train Loss: 0.9667 Acc: 0.5972\n",
      "val Loss: 0.7623 Acc: 0.7155\n",
      "\n",
      "Epoch 11/24\n",
      "----------\n",
      "train Loss: 0.9982 Acc: 0.5752\n",
      "val Loss: 0.7262 Acc: 0.7026\n",
      "\n",
      "Epoch 12/24\n",
      "----------\n",
      "train Loss: 0.9791 Acc: 0.5899\n",
      "val Loss: 0.7151 Acc: 0.7241\n",
      "\n",
      "Epoch 13/24\n",
      "----------\n",
      "train Loss: 0.9747 Acc: 0.5954\n",
      "val Loss: 0.7605 Acc: 0.7026\n",
      "\n",
      "Epoch 14/24\n",
      "----------\n",
      "train Loss: 0.9444 Acc: 0.6082\n",
      "val Loss: 0.7217 Acc: 0.7457\n",
      "\n",
      "Epoch 15/24\n",
      "----------\n",
      "train Loss: 0.9578 Acc: 0.5868\n",
      "val Loss: 0.7490 Acc: 0.7026\n",
      "\n",
      "Epoch 16/24\n",
      "----------\n",
      "train Loss: 0.9772 Acc: 0.5636\n",
      "val Loss: 0.7260 Acc: 0.7026\n",
      "\n",
      "Epoch 17/24\n",
      "----------\n",
      "train Loss: 1.0064 Acc: 0.5623\n",
      "val Loss: 0.7153 Acc: 0.7414\n",
      "\n",
      "Epoch 18/24\n",
      "----------\n",
      "train Loss: 0.9654 Acc: 0.5947\n",
      "val Loss: 0.7312 Acc: 0.7241\n",
      "\n",
      "Epoch 19/24\n",
      "----------\n",
      "train Loss: 0.9706 Acc: 0.5990\n",
      "val Loss: 0.7431 Acc: 0.7328\n",
      "\n",
      "Epoch 20/24\n",
      "----------\n",
      "train Loss: 0.9655 Acc: 0.5886\n",
      "val Loss: 0.7345 Acc: 0.7155\n",
      "\n",
      "Epoch 21/24\n",
      "----------\n",
      "train Loss: 0.9710 Acc: 0.5966\n",
      "val Loss: 0.7287 Acc: 0.7198\n",
      "\n",
      "Epoch 22/24\n",
      "----------\n",
      "train Loss: 0.9599 Acc: 0.6137\n",
      "val Loss: 0.7218 Acc: 0.7629\n",
      "\n",
      "Epoch 23/24\n",
      "----------\n",
      "train Loss: 0.9615 Acc: 0.5905\n",
      "val Loss: 0.7568 Acc: 0.7069\n",
      "\n",
      "Epoch 24/24\n",
      "----------\n",
      "train Loss: 0.9747 Acc: 0.5996\n",
      "val Loss: 0.7242 Acc: 0.7112\n",
      "\n",
      "Training complete in 81m 11s\n",
      "Best val Acc: 0.762931\n",
      "Best val epoch: 22\n"
     ]
    }
   ],
   "source": [
    "# Fine-tuning only the fully-connected layer\n",
    "model_FineTuneFC, train_losses_FineTuneFC, val_losses_FineTuneFC = train_model(model_FineTuneFC, criterion, optimizer_FineTuneFC, exp_lr_scheduler_FineTuneFC, num_epochs=25)"
   ]
  },
  {
   "cell_type": "code",
   "execution_count": 11,
   "metadata": {
    "colab": {
     "base_uri": "https://localhost:8080/"
    },
    "executionInfo": {
     "elapsed": 11569407,
     "status": "ok",
     "timestamp": 1653920303189,
     "user": {
      "displayName": "JQ Chen",
      "userId": "13222497970351445459"
     },
     "user_tz": 240
    },
    "id": "Nilr9hyzHcGI",
    "outputId": "08c295e3-f238-4b93-bf21-c56584ef81d6"
   },
   "outputs": [
    {
     "name": "stdout",
     "output_type": "stream",
     "text": [
      "Epoch 0/24\n",
      "----------\n"
     ]
    },
    {
     "name": "stderr",
     "output_type": "stream",
     "text": [
      "/usr/local/lib/python3.7/dist-packages/torch/utils/data/dataloader.py:490: UserWarning: This DataLoader will create 4 worker processes in total. Our suggested max number of worker in current system is 2, which is smaller than what this DataLoader is going to create. Please be aware that excessive worker creation might get DataLoader running slow or even freeze, lower the worker number to avoid potential slowness/freeze if necessary.\n",
      "  cpuset_checked))\n"
     ]
    },
    {
     "name": "stdout",
     "output_type": "stream",
     "text": [
      "train Loss: 1.4276 Acc: 0.3380\n",
      "val Loss: 1.5179 Acc: 0.3405\n",
      "\n",
      "Epoch 1/24\n",
      "----------\n",
      "train Loss: 1.3324 Acc: 0.3851\n",
      "val Loss: 1.2252 Acc: 0.4698\n",
      "\n",
      "Epoch 2/24\n",
      "----------\n",
      "train Loss: 1.3182 Acc: 0.3839\n",
      "val Loss: 1.2834 Acc: 0.3922\n",
      "\n",
      "Epoch 3/24\n",
      "----------\n",
      "train Loss: 1.2772 Acc: 0.4114\n",
      "val Loss: 1.1721 Acc: 0.4828\n",
      "\n",
      "Epoch 4/24\n",
      "----------\n",
      "train Loss: 1.2842 Acc: 0.3851\n",
      "val Loss: 1.0892 Acc: 0.4871\n",
      "\n",
      "Epoch 5/24\n",
      "----------\n",
      "train Loss: 1.2719 Acc: 0.4224\n",
      "val Loss: 1.3602 Acc: 0.4914\n",
      "\n",
      "Epoch 6/24\n",
      "----------\n",
      "train Loss: 1.2544 Acc: 0.4279\n",
      "val Loss: 1.6557 Acc: 0.4009\n",
      "\n",
      "Epoch 7/24\n",
      "----------\n",
      "train Loss: 1.2315 Acc: 0.4352\n",
      "val Loss: 1.0729 Acc: 0.5216\n",
      "\n",
      "Epoch 8/24\n",
      "----------\n",
      "train Loss: 1.1813 Acc: 0.4713\n",
      "val Loss: 1.0235 Acc: 0.5603\n",
      "\n",
      "Epoch 9/24\n",
      "----------\n",
      "train Loss: 1.1493 Acc: 0.4969\n",
      "val Loss: 1.0161 Acc: 0.5431\n",
      "\n",
      "Epoch 10/24\n",
      "----------\n",
      "train Loss: 1.1270 Acc: 0.4969\n",
      "val Loss: 1.0784 Acc: 0.5259\n",
      "\n",
      "Epoch 11/24\n",
      "----------\n",
      "train Loss: 1.1431 Acc: 0.4982\n",
      "val Loss: 0.9482 Acc: 0.5776\n",
      "\n",
      "Epoch 12/24\n",
      "----------\n",
      "train Loss: 1.1131 Acc: 0.5055\n",
      "val Loss: 0.9886 Acc: 0.5474\n",
      "\n",
      "Epoch 13/24\n",
      "----------\n",
      "train Loss: 1.0940 Acc: 0.5269\n",
      "val Loss: 1.0000 Acc: 0.5431\n",
      "\n",
      "Epoch 14/24\n",
      "----------\n",
      "train Loss: 1.0758 Acc: 0.5263\n",
      "val Loss: 0.9637 Acc: 0.5690\n",
      "\n",
      "Epoch 15/24\n",
      "----------\n",
      "train Loss: 1.0719 Acc: 0.5336\n",
      "val Loss: 0.9224 Acc: 0.5776\n",
      "\n",
      "Epoch 16/24\n",
      "----------\n",
      "train Loss: 1.0635 Acc: 0.5342\n",
      "val Loss: 0.9549 Acc: 0.5905\n",
      "\n",
      "Epoch 17/24\n",
      "----------\n",
      "train Loss: 1.0664 Acc: 0.5342\n",
      "val Loss: 0.9455 Acc: 0.5603\n",
      "\n",
      "Epoch 18/24\n",
      "----------\n",
      "train Loss: 1.0927 Acc: 0.5293\n",
      "val Loss: 0.9163 Acc: 0.6207\n",
      "\n",
      "Epoch 19/24\n",
      "----------\n",
      "train Loss: 1.0707 Acc: 0.5306\n",
      "val Loss: 0.9399 Acc: 0.5948\n",
      "\n",
      "Epoch 20/24\n",
      "----------\n",
      "train Loss: 1.0606 Acc: 0.5165\n",
      "val Loss: 0.9455 Acc: 0.6034\n",
      "\n",
      "Epoch 21/24\n",
      "----------\n",
      "train Loss: 1.0518 Acc: 0.5330\n",
      "val Loss: 0.9268 Acc: 0.5905\n",
      "\n",
      "Epoch 22/24\n",
      "----------\n",
      "train Loss: 1.0572 Acc: 0.5410\n",
      "val Loss: 0.9526 Acc: 0.6078\n",
      "\n",
      "Epoch 23/24\n",
      "----------\n",
      "train Loss: 1.0792 Acc: 0.5367\n",
      "val Loss: 0.9606 Acc: 0.6121\n",
      "\n",
      "Epoch 24/24\n",
      "----------\n",
      "train Loss: 1.0388 Acc: 0.5538\n",
      "val Loss: 0.9464 Acc: 0.5862\n",
      "\n",
      "Training complete in 192m 49s\n",
      "Best val Acc: 0.620690\n",
      "Best val epoch: 18\n"
     ]
    }
   ],
   "source": [
    "# Fine-tuning all layers\n",
    "model_FineTuning_all, train_losses_FineTuning_all, val_losses_FineTuning_all = train_model(model_FineTuning_all, criterion, optimizer_FineTuning_all, exp_lr_scheduler_FineTuning_all, num_epochs=25)"
   ]
  },
  {
   "cell_type": "code",
   "execution_count": 13,
   "metadata": {
    "colab": {
     "base_uri": "https://localhost:8080/"
    },
    "executionInfo": {
     "elapsed": 22913460,
     "status": "ok",
     "timestamp": 1653943548991,
     "user": {
      "displayName": "JQ Chen",
      "userId": "13222497970351445459"
     },
     "user_tz": 240
    },
    "id": "4taFbbecHco9",
    "outputId": "08c6d0dd-e244-413d-ed43-1a47e82e4cb1"
   },
   "outputs": [
    {
     "name": "stdout",
     "output_type": "stream",
     "text": [
      "Epoch 0/49\n",
      "----------\n"
     ]
    },
    {
     "name": "stderr",
     "output_type": "stream",
     "text": [
      "/usr/local/lib/python3.7/dist-packages/torch/utils/data/dataloader.py:490: UserWarning: This DataLoader will create 4 worker processes in total. Our suggested max number of worker in current system is 2, which is smaller than what this DataLoader is going to create. Please be aware that excessive worker creation might get DataLoader running slow or even freeze, lower the worker number to avoid potential slowness/freeze if necessary.\n",
      "  cpuset_checked))\n"
     ]
    },
    {
     "name": "stdout",
     "output_type": "stream",
     "text": [
      "train Loss: 1.4074 Acc: 0.3710\n",
      "val Loss: 1.2385 Acc: 0.4397\n",
      "\n",
      "Epoch 1/49\n",
      "----------\n",
      "train Loss: 1.3394 Acc: 0.3753\n",
      "val Loss: 1.3532 Acc: 0.3276\n",
      "\n",
      "Epoch 2/49\n",
      "----------\n",
      "train Loss: 1.3066 Acc: 0.3949\n",
      "val Loss: 1.2850 Acc: 0.3879\n",
      "\n",
      "Epoch 3/49\n",
      "----------\n",
      "train Loss: 1.2852 Acc: 0.4077\n",
      "val Loss: 1.1941 Acc: 0.3879\n",
      "\n",
      "Epoch 4/49\n",
      "----------\n",
      "train Loss: 1.2636 Acc: 0.4242\n",
      "val Loss: 1.1005 Acc: 0.5043\n",
      "\n",
      "Epoch 5/49\n",
      "----------\n",
      "train Loss: 1.2517 Acc: 0.4169\n",
      "val Loss: 1.2268 Acc: 0.4095\n",
      "\n",
      "Epoch 6/49\n",
      "----------\n",
      "train Loss: 1.2400 Acc: 0.4444\n",
      "val Loss: 1.2241 Acc: 0.4569\n",
      "\n",
      "Epoch 7/49\n",
      "----------\n",
      "train Loss: 1.2233 Acc: 0.4554\n",
      "val Loss: 1.0697 Acc: 0.5129\n",
      "\n",
      "Epoch 8/49\n",
      "----------\n",
      "train Loss: 1.1823 Acc: 0.4847\n",
      "val Loss: 1.0497 Acc: 0.4828\n",
      "\n",
      "Epoch 9/49\n",
      "----------\n",
      "train Loss: 1.1750 Acc: 0.4780\n",
      "val Loss: 1.0314 Acc: 0.5129\n",
      "\n",
      "Epoch 10/49\n",
      "----------\n",
      "train Loss: 1.1958 Acc: 0.4700\n",
      "val Loss: 1.0201 Acc: 0.5129\n",
      "\n",
      "Epoch 11/49\n",
      "----------\n",
      "train Loss: 1.1537 Acc: 0.4859\n",
      "val Loss: 1.0002 Acc: 0.5431\n",
      "\n",
      "Epoch 12/49\n",
      "----------\n",
      "train Loss: 1.1668 Acc: 0.4896\n",
      "val Loss: 1.0130 Acc: 0.5043\n",
      "\n",
      "Epoch 13/49\n",
      "----------\n",
      "train Loss: 1.1370 Acc: 0.5000\n",
      "val Loss: 0.9523 Acc: 0.5647\n",
      "\n",
      "Epoch 14/49\n",
      "----------\n",
      "train Loss: 1.1351 Acc: 0.4963\n",
      "val Loss: 0.9574 Acc: 0.5560\n",
      "\n",
      "Epoch 15/49\n",
      "----------\n",
      "train Loss: 1.1107 Acc: 0.5196\n",
      "val Loss: 0.9334 Acc: 0.5517\n",
      "\n",
      "Epoch 16/49\n",
      "----------\n",
      "train Loss: 1.1195 Acc: 0.5134\n",
      "val Loss: 0.9313 Acc: 0.5603\n",
      "\n",
      "Epoch 17/49\n",
      "----------\n",
      "train Loss: 1.1116 Acc: 0.5183\n",
      "val Loss: 0.9496 Acc: 0.5603\n",
      "\n",
      "Epoch 18/49\n",
      "----------\n",
      "train Loss: 1.1063 Acc: 0.5171\n",
      "val Loss: 0.9381 Acc: 0.5690\n",
      "\n",
      "Epoch 19/49\n",
      "----------\n",
      "train Loss: 1.1081 Acc: 0.5141\n",
      "val Loss: 0.9285 Acc: 0.5733\n",
      "\n",
      "Epoch 20/49\n",
      "----------\n",
      "train Loss: 1.1048 Acc: 0.5244\n",
      "val Loss: 0.9266 Acc: 0.5905\n",
      "\n",
      "Epoch 21/49\n",
      "----------\n",
      "train Loss: 1.1013 Acc: 0.5226\n",
      "val Loss: 0.9382 Acc: 0.5690\n",
      "\n",
      "Epoch 22/49\n",
      "----------\n",
      "train Loss: 1.1092 Acc: 0.5147\n",
      "val Loss: 0.9331 Acc: 0.5905\n",
      "\n",
      "Epoch 23/49\n",
      "----------\n",
      "train Loss: 1.0990 Acc: 0.5122\n",
      "val Loss: 0.9260 Acc: 0.5690\n",
      "\n",
      "Epoch 24/49\n",
      "----------\n",
      "train Loss: 1.1056 Acc: 0.5153\n",
      "val Loss: 0.9401 Acc: 0.5776\n",
      "\n",
      "Epoch 25/49\n",
      "----------\n",
      "train Loss: 1.1118 Acc: 0.5257\n",
      "val Loss: 0.9240 Acc: 0.5862\n",
      "\n",
      "Epoch 26/49\n",
      "----------\n",
      "train Loss: 1.1047 Acc: 0.5122\n",
      "val Loss: 0.9409 Acc: 0.5517\n",
      "\n",
      "Epoch 27/49\n",
      "----------\n",
      "train Loss: 1.1027 Acc: 0.5037\n",
      "val Loss: 0.9243 Acc: 0.5733\n",
      "\n",
      "Epoch 28/49\n",
      "----------\n",
      "train Loss: 1.1066 Acc: 0.5226\n",
      "val Loss: 0.9431 Acc: 0.5733\n",
      "\n",
      "Epoch 29/49\n",
      "----------\n",
      "train Loss: 1.0943 Acc: 0.5183\n",
      "val Loss: 0.9339 Acc: 0.5819\n",
      "\n",
      "Epoch 30/49\n",
      "----------\n",
      "train Loss: 1.1082 Acc: 0.5092\n",
      "val Loss: 0.9313 Acc: 0.5647\n",
      "\n",
      "Epoch 31/49\n",
      "----------\n",
      "train Loss: 1.1089 Acc: 0.5098\n",
      "val Loss: 0.9410 Acc: 0.5690\n",
      "\n",
      "Epoch 32/49\n",
      "----------\n",
      "train Loss: 1.0894 Acc: 0.5257\n",
      "val Loss: 0.9331 Acc: 0.5819\n",
      "\n",
      "Epoch 33/49\n",
      "----------\n",
      "train Loss: 1.1093 Acc: 0.5086\n",
      "val Loss: 0.9237 Acc: 0.5690\n",
      "\n",
      "Epoch 34/49\n",
      "----------\n",
      "train Loss: 1.1015 Acc: 0.5122\n",
      "val Loss: 0.9226 Acc: 0.5776\n",
      "\n",
      "Epoch 35/49\n",
      "----------\n",
      "train Loss: 1.0832 Acc: 0.5238\n",
      "val Loss: 0.9293 Acc: 0.5647\n",
      "\n",
      "Epoch 36/49\n",
      "----------\n",
      "train Loss: 1.0965 Acc: 0.5238\n",
      "val Loss: 0.9305 Acc: 0.5862\n",
      "\n",
      "Epoch 37/49\n",
      "----------\n",
      "train Loss: 1.0982 Acc: 0.5104\n",
      "val Loss: 0.9219 Acc: 0.5733\n",
      "\n",
      "Epoch 38/49\n",
      "----------\n",
      "train Loss: 1.0958 Acc: 0.5189\n",
      "val Loss: 0.9464 Acc: 0.5776\n",
      "\n",
      "Epoch 39/49\n",
      "----------\n",
      "train Loss: 1.0913 Acc: 0.5104\n",
      "val Loss: 0.9249 Acc: 0.5647\n",
      "\n",
      "Epoch 40/49\n",
      "----------\n",
      "train Loss: 1.1105 Acc: 0.5086\n",
      "val Loss: 0.9230 Acc: 0.5733\n",
      "\n",
      "Epoch 41/49\n",
      "----------\n",
      "train Loss: 1.1156 Acc: 0.5134\n",
      "val Loss: 0.9352 Acc: 0.5776\n",
      "\n",
      "Epoch 42/49\n",
      "----------\n",
      "train Loss: 1.1073 Acc: 0.5043\n",
      "val Loss: 0.9180 Acc: 0.5733\n",
      "\n",
      "Epoch 43/49\n",
      "----------\n",
      "train Loss: 1.1021 Acc: 0.5348\n",
      "val Loss: 0.9291 Acc: 0.5603\n",
      "\n",
      "Epoch 44/49\n",
      "----------\n",
      "train Loss: 1.0980 Acc: 0.5141\n",
      "val Loss: 0.9294 Acc: 0.5690\n",
      "\n",
      "Epoch 45/49\n",
      "----------\n",
      "train Loss: 1.1041 Acc: 0.5128\n",
      "val Loss: 0.9345 Acc: 0.5776\n",
      "\n",
      "Epoch 46/49\n",
      "----------\n",
      "train Loss: 1.1016 Acc: 0.5165\n",
      "val Loss: 0.9322 Acc: 0.5776\n",
      "\n",
      "Epoch 47/49\n",
      "----------\n",
      "train Loss: 1.1269 Acc: 0.4945\n",
      "val Loss: 0.9334 Acc: 0.5733\n",
      "\n",
      "Epoch 48/49\n",
      "----------\n",
      "train Loss: 1.0866 Acc: 0.5196\n",
      "val Loss: 0.9230 Acc: 0.5517\n",
      "\n",
      "Epoch 49/49\n",
      "----------\n",
      "train Loss: 1.1061 Acc: 0.5165\n",
      "val Loss: 0.9267 Acc: 0.5819\n",
      "\n",
      "Training complete in 381m 53s\n",
      "Best val Acc: 0.590517\n",
      "Best val epoch: 20\n"
     ]
    }
   ],
   "source": [
    "# Training a Resnet18 model from scratch\n",
    "model_scratch, train_losses_scratch, val_losses_scratch = train_model(model_scratch, criterion, optimizer_scratch, exp_lr_scheduler_scratch, num_epochs=50)"
   ]
  },
  {
   "cell_type": "markdown",
   "metadata": {
    "id": "wVzJXHDp14u8"
   },
   "source": [
    "- (a) For training set: I cropped a random portion of image and resize it to a given size (224x224), and then horizontally flipped the given image randomly with a given probability (p = 0.5). Finally, I normalized a tensor image with mean ([0.485, 0.456, 0.406] for each RGB channel) and standard deviation ([0.229, 0.224, 0.225] for each RGB channel).\n",
    "For validation and testing set: I resized the input image to the given size (256x256), and then cropped the given image at the center with size (224x224). Finally, I normalized a tensor image with mean ([0.485, 0.456, 0.406] for each RGB channel) and standard deviation ([0.229, 0.224, 0.225] for each RGB channel).\n",
    "- (b) Loss function would be cross-entropy loss; optimizer would be Adam optimizer.\n",
    "- (c) For the model with training a Resnet18 model from scratch, the number of epochs is 50 (because I reset all of the weights), and the number of epochs is 25 for the other 2 models. For all models, the batch size is 4 and the learning rate is 0.001\n",
    "- the learning rate is decay by a factor of 0.1 every 7 epochs"
   ]
  },
  {
   "cell_type": "markdown",
   "metadata": {
    "id": "_4gdpn0MPGcR"
   },
   "source": [
    "## 1.2 (a) Generate a plot of training and validation loss curves for each of the three training cases from Section 1.1.1."
   ]
  },
  {
   "cell_type": "code",
   "execution_count": 17,
   "metadata": {
    "colab": {
     "base_uri": "https://localhost:8080/",
     "height": 295
    },
    "executionInfo": {
     "elapsed": 420,
     "status": "ok",
     "timestamp": 1653948533053,
     "user": {
      "displayName": "JQ Chen",
      "userId": "13222497970351445459"
     },
     "user_tz": 240
    },
    "id": "Wvcs9W7CPVeX",
    "outputId": "ae1fd0b1-43e0-474e-d722-56a8a825aa41"
   },
   "outputs": [
    {
     "data": {
      "image/png": "[encoded data removed]",
      "text/plain": [
       "<Figure size 432x288 with 1 Axes>"
      ]
     },
     "metadata": {
      "needs_background": "light"
     },
     "output_type": "display_data"
    }
   ],
   "source": [
    "# plot the loss curve for Fine-tuning only the fully-connected layer\n",
    "plt.plot(train_losses_FineTuneFC, label='Train')\n",
    "plt.plot(val_losses_FineTuneFC, label='Val')\n",
    "plt.legend()\n",
    "plt.title('Loss curves for Fine-tuning only the fully-connected layer')\n",
    "plt.xlabel('Epoch')\n",
    "plt.ylabel('Loss')\n",
    "plt.show()"
   ]
  },
  {
   "cell_type": "markdown",
   "metadata": {
    "id": "gaDrquqJi3ko"
   },
   "source": [
    "- Best epoch: 23; because the model has the highest accuracy in the validation set when epoch = 23"
   ]
  },
  {
   "cell_type": "code",
   "execution_count": 15,
   "metadata": {
    "colab": {
     "base_uri": "https://localhost:8080/",
     "height": 295
    },
    "executionInfo": {
     "elapsed": 427,
     "status": "ok",
     "timestamp": 1653943580515,
     "user": {
      "displayName": "JQ Chen",
      "userId": "13222497970351445459"
     },
     "user_tz": 240
    },
    "id": "GA_DLo5rwjfF",
    "outputId": "4e79b660-095f-4081-b23a-0c9d595c7d0e"
   },
   "outputs": [
    {
     "data": {
      "image/png": "[encoded data removed]",
      "text/plain": [
       "<Figure size 432x288 with 1 Axes>"
      ]
     },
     "metadata": {
      "needs_background": "light"
     },
     "output_type": "display_data"
    }
   ],
   "source": [
    "# plot the loss curve for Fine-tuning all layers\n",
    "plt.plot(train_losses_FineTuning_all, label='Train')\n",
    "plt.plot(val_losses_FineTuning_all, label='Val')\n",
    "plt.legend()\n",
    "plt.title('Loss curves for Fine-tuning all layers')\n",
    "plt.xlabel('Epoch')\n",
    "plt.ylabel('Loss')\n",
    "plt.show()"
   ]
  },
  {
   "cell_type": "markdown",
   "metadata": {
    "id": "7EQpsvMeiQbR"
   },
   "source": [
    "- Best epoch: 19; because the model has the highest accuracy and the lowest loss in the validation set when epoch = 19"
   ]
  },
  {
   "cell_type": "code",
   "execution_count": 14,
   "metadata": {
    "colab": {
     "base_uri": "https://localhost:8080/",
     "height": 295
    },
    "executionInfo": {
     "elapsed": 464,
     "status": "ok",
     "timestamp": 1653943561438,
     "user": {
      "displayName": "JQ Chen",
      "userId": "13222497970351445459"
     },
     "user_tz": 240
    },
    "id": "_NGVSPZddLVb",
    "outputId": "16dd14a3-1b95-456f-bfb5-2a8865770452"
   },
   "outputs": [
    {
     "data": {
      "image/png": "[encoded data removed]",
      "text/plain": [
       "<Figure size 432x288 with 1 Axes>"
      ]
     },
     "metadata": {
      "needs_background": "light"
     },
     "output_type": "display_data"
    }
   ],
   "source": [
    "# plot the loss curve for Training a Resnet18 model from scratch\n",
    "plt.plot(train_losses_scratch, label='Train')\n",
    "plt.plot(val_losses_scratch, label='Val')\n",
    "plt.legend()\n",
    "plt.title('Loss curves for Training a Resnet18 model from scratch')\n",
    "plt.xlabel('Epoch')\n",
    "plt.ylabel('Loss')\n",
    "plt.show()"
   ]
  },
  {
   "cell_type": "markdown",
   "metadata": {
    "id": "Nyn0bMUXhZVd"
   },
   "source": [
    "- Best epoch: 21; because the model has the highest accuracy in validation set when epoch = 21"
   ]
  },
  {
   "cell_type": "markdown",
   "metadata": {
    "id": "d0DS1AY0UTwh"
   },
   "source": [
    "## 1.2 (b) Choose a single best performing model as your final model, and report the confu- sion matrix, per-class accuracy, and weighted F1 score of this model on the validation set."
   ]
  },
  {
   "cell_type": "markdown",
   "metadata": {
    "id": "I43EUrU6cbLi"
   },
   "source": [
    "- Reference: https://pytorch.org/tutorials/beginner/blitz/cifar10_tutorial.html"
   ]
  },
  {
   "cell_type": "code",
   "execution_count": 14,
   "metadata": {
    "colab": {
     "base_uri": "https://localhost:8080/"
    },
    "executionInfo": {
     "elapsed": 26058,
     "status": "ok",
     "timestamp": 1653970563460,
     "user": {
      "displayName": "JQ Chen",
      "userId": "13222497970351445459"
     },
     "user_tz": 240
    },
    "id": "H3S07U59UaWE",
    "outputId": "92814f5b-d61d-40a9-a25d-8b05d9f4baea"
   },
   "outputs": [
    {
     "name": "stderr",
     "output_type": "stream",
     "text": [
      "/usr/local/lib/python3.7/dist-packages/torch/utils/data/dataloader.py:490: UserWarning: This DataLoader will create 4 worker processes in total. Our suggested max number of worker in current system is 2, which is smaller than what this DataLoader is going to create. Please be aware that excessive worker creation might get DataLoader running slow or even freeze, lower the worker number to avoid potential slowness/freeze if necessary.\n",
      "  cpuset_checked))\n"
     ]
    },
    {
     "name": "stdout",
     "output_type": "stream",
     "text": [
      " \n",
      "==============================\n",
      " \n",
      "Confusion Matrix: \n",
      "             Pred: ALB  Pred: NoF  Pred: OTHER  Pred: YFT\n",
      "True: ALB           57          4            9         13\n",
      "True: NoF            8         37            0          1\n",
      "True: OTHER          3          0           27          0\n",
      "True: YFT            9          1            7         56\n",
      " \n",
      "==============================\n",
      " \n",
      "Accuracy for class: ALB   is 68.7 %\n",
      "Accuracy for class: NoF   is 80.4 %\n",
      "Accuracy for class: OTHER is 90.0 %\n",
      "Accuracy for class: YFT   is 76.7 %\n",
      " \n",
      "==============================\n",
      " \n",
      "Weighted F1 Score:  0.7637324318041429\n"
     ]
    }
   ],
   "source": [
    "from sklearn.metrics import confusion_matrix, f1_score\n",
    "\n",
    "correct_pred = {classname: 0 for classname in class_names}\n",
    "total_pred = {classname: 0 for classname in class_names}\n",
    "\n",
    "val_predicted = []\n",
    "val_true = []\n",
    "with torch.no_grad():\n",
    "    for i, (inputs, labels) in enumerate(dataloaders['val']):\n",
    "        inputs = inputs.to(device)\n",
    "        labels = labels.to(device)\n",
    "        output = model_FineTuneFC(inputs)\n",
    "        _, predictions = torch.max(output, 1)\n",
    "        for label, prediction in zip(labels, predictions):\n",
    "            if label == prediction:\n",
    "                correct_pred[class_names[label]] += 1\n",
    "            total_pred[class_names[label]] += 1\n",
    "        for j in range(inputs.size()[0]):\n",
    "            val_true.append(labels[j].cpu().numpy())\n",
    "            val_predicted.append(predictions[j].cpu().numpy())\n",
    "\n",
    "print(\" \")\n",
    "print(\"=\"*30)\n",
    "print(\" \")\n",
    "# Confusion Matrix\n",
    "cm = confusion_matrix(val_true, val_predicted)\n",
    "ConF_MaX_plot = pd.DataFrame(cm,\n",
    "                    index=['True: ALB', 'True: NoF', 'True: OTHER', 'True: YFT'],\n",
    "                    columns=['Pred: ALB', 'Pred: NoF', 'Pred: OTHER', 'Pred: YFT'])\n",
    "print('Confusion Matrix: ')\n",
    "print(ConF_MaX_plot)\n",
    "\n",
    "print(\" \")\n",
    "print(\"=\"*30)\n",
    "print(\" \")\n",
    "# per-class accuracy\n",
    "for classname, correct_count in correct_pred.items():\n",
    "    accuracy = 100 * float(correct_count) / total_pred[classname]\n",
    "    print(f'Accuracy for class: {classname:5s} is {accuracy:.1f} %')\n",
    "\n",
    "print(\" \")\n",
    "print(\"=\"*30)\n",
    "print(\" \")\n",
    "# weighted F1 score\n",
    "val_weighted_F1 = f1_score(val_true, val_predicted, average='weighted')\n",
    "print('Weighted F1 Score: ',val_weighted_F1)"
   ]
  },
  {
   "cell_type": "markdown",
   "metadata": {
    "id": "C7Ew054tePmz"
   },
   "source": [
    "## 1.3 Model Performance Evaluation "
   ]
  },
  {
   "cell_type": "markdown",
   "metadata": {
    "id": "ehK1fHkCG5bT"
   },
   "source": [
    "- Reference: https://gist.github.com/andrewjong/6b02ff237533b3b2c554701fb53d5c4d"
   ]
  },
  {
   "cell_type": "code",
   "execution_count": 15,
   "metadata": {
    "executionInfo": {
     "elapsed": 137,
     "status": "ok",
     "timestamp": 1653970580580,
     "user": {
      "displayName": "JQ Chen",
      "userId": "13222497970351445459"
     },
     "user_tz": 240
    },
    "id": "0rAn259gB8IK"
   },
   "outputs": [],
   "source": [
    "class ImageFolderWithPaths(datasets.ImageFolder):\n",
    "    \"\"\"Customize ImageFolder to retrieve file name\n",
    "    \"\"\"\n",
    "    # override the __getitem__ method.\n",
    "    def __getitem__(self, index):\n",
    "        # this is what ImageFolder normally returns \n",
    "        original_tuple = super(ImageFolderWithPaths, self).__getitem__(index)\n",
    "        # the image file path\n",
    "        path = self.imgs[index][0]\n",
    "        # make a new tuple that includes original and the path\n",
    "        tuple_with_path = (original_tuple + (path,))\n",
    "        return tuple_with_path"
   ]
  },
  {
   "cell_type": "code",
   "execution_count": 16,
   "metadata": {
    "colab": {
     "base_uri": "https://localhost:8080/"
    },
    "executionInfo": {
     "elapsed": 2590,
     "status": "ok",
     "timestamp": 1653970589934,
     "user": {
      "displayName": "JQ Chen",
      "userId": "13222497970351445459"
     },
     "user_tz": 240
    },
    "id": "ZtIcJRQnDJEO",
    "outputId": "f3548345-8769-4f3c-c262-c098172f9199"
   },
   "outputs": [
    {
     "name": "stderr",
     "output_type": "stream",
     "text": [
      "/usr/local/lib/python3.7/dist-packages/torch/utils/data/dataloader.py:490: UserWarning: This DataLoader will create 4 worker processes in total. Our suggested max number of worker in current system is 2, which is smaller than what this DataLoader is going to create. Please be aware that excessive worker creation might get DataLoader running slow or even freeze, lower the worker number to avoid potential slowness/freeze if necessary.\n",
      "  cpuset_checked))\n"
     ]
    }
   ],
   "source": [
    "test_data_dir = '/content/drive/MyDrive/test colab/Fish/test2'\n",
    "image_datasets_test = ImageFolderWithPaths(root = test_data_dir, transform = data_transforms['test'])\n",
    "testloader = torch.utils.data.DataLoader(image_datasets_test, batch_size=4, shuffle=False, num_workers=4)"
   ]
  },
  {
   "cell_type": "markdown",
   "metadata": {
    "id": "xtu4Ci9FlV__"
   },
   "source": [
    "- Reference: https://pytorch.org/tutorials/beginner/blitz/cifar10_tutorial.html"
   ]
  },
  {
   "cell_type": "code",
   "execution_count": 46,
   "metadata": {
    "colab": {
     "base_uri": "https://localhost:8080/"
    },
    "executionInfo": {
     "elapsed": 45766,
     "status": "ok",
     "timestamp": 1653972956124,
     "user": {
      "displayName": "JQ Chen",
      "userId": "13222497970351445459"
     },
     "user_tz": 240
    },
    "id": "2JzmUIXTkc-f",
    "outputId": "c4a6cb09-0fc8-430b-8183-09c1a4bea631"
   },
   "outputs": [
    {
     "name": "stderr",
     "output_type": "stream",
     "text": [
      "/usr/local/lib/python3.7/dist-packages/torch/utils/data/dataloader.py:490: UserWarning: This DataLoader will create 4 worker processes in total. Our suggested max number of worker in current system is 2, which is smaller than what this DataLoader is going to create. Please be aware that excessive worker creation might get DataLoader running slow or even freeze, lower the worker number to avoid potential slowness/freeze if necessary.\n",
      "  cpuset_checked))\n"
     ]
    }
   ],
   "source": [
    "# Predict\n",
    "test_fileName = []\n",
    "test_predicted = []\n",
    "with torch.no_grad():\n",
    "    for data in testloader:\n",
    "        inputs, labels, paths = data\n",
    "        inputs = inputs.to(device)\n",
    "        labels = labels.to(device)\n",
    "        paths2 = list(paths)\n",
    "        for i in range(len(paths2)):\n",
    "          paths2[i] = paths2[i].split(\"/\")[-1]\n",
    "        output = model_FineTuneFC(inputs)\n",
    "        _, predictions = torch.max(output, 1)\n",
    "        for j in range(inputs.size()[0]):\n",
    "            test_predicted.append(predictions.numpy()[j])\n",
    "            test_fileName.append(paths2[j])"
   ]
  },
  {
   "cell_type": "code",
   "execution_count": 50,
   "metadata": {
    "executionInfo": {
     "elapsed": 112,
     "status": "ok",
     "timestamp": 1653973350413,
     "user": {
      "displayName": "JQ Chen",
      "userId": "13222497970351445459"
     },
     "user_tz": 240
    },
    "id": "upX17S8_etCD"
   },
   "outputs": [],
   "source": [
    "for i in range(len(test_predicted)):\n",
    "    if test_predicted[i] == 0:\n",
    "        test_predicted[i] = 'ALB'\n",
    "    elif test_predicted[i] == 1:\n",
    "        test_predicted[i] = 'NoF'\n",
    "    elif test_predicted[i] == 2:\n",
    "        test_predicted[i] = 'OTHER'\n",
    "    else:\n",
    "        test_predicted[i] = 'YFT'"
   ]
  },
  {
   "cell_type": "code",
   "execution_count": 53,
   "metadata": {
    "colab": {
     "base_uri": "https://localhost:8080/",
     "height": 424
    },
    "executionInfo": {
     "elapsed": 134,
     "status": "ok",
     "timestamp": 1653973446656,
     "user": {
      "displayName": "JQ Chen",
      "userId": "13222497970351445459"
     },
     "user_tz": 240
    },
    "id": "QYTlcIgJej-g",
    "outputId": "831fed1c-23b2-4f17-8cdd-12553b6f077f"
   },
   "outputs": [
    {
     "data": {
      "text/html": [
       "\n",
       "  <div id=\"df-d164e2ad-f431-4cdf-9902-40677563c3fa\">\n",
       "    <div class=\"colab-df-container\">\n",
       "      <div>\n",
       "<style scoped>\n",
       "    .dataframe tbody tr th:only-of-type {\n",
       "        vertical-align: middle;\n",
       "    }\n",
       "\n",
       "    .dataframe tbody tr th {\n",
       "        vertical-align: top;\n",
       "    }\n",
       "\n",
       "    .dataframe thead th {\n",
       "        text-align: right;\n",
       "    }\n",
       "</style>\n",
       "<table border=\"1\" class=\"dataframe\">\n",
       "  <thead>\n",
       "    <tr style=\"text-align: right;\">\n",
       "      <th></th>\n",
       "      <th>0</th>\n",
       "      <th>1</th>\n",
       "    </tr>\n",
       "  </thead>\n",
       "  <tbody>\n",
       "    <tr>\n",
       "      <th>0</th>\n",
       "      <td>00nbnyg8lv.jpg</td>\n",
       "      <td>ALB</td>\n",
       "    </tr>\n",
       "    <tr>\n",
       "      <th>1</th>\n",
       "      <td>00w6uh7ij9.jpg</td>\n",
       "      <td>YFT</td>\n",
       "    </tr>\n",
       "    <tr>\n",
       "      <th>2</th>\n",
       "      <td>03id3d30l2.jpg</td>\n",
       "      <td>ALB</td>\n",
       "    </tr>\n",
       "    <tr>\n",
       "      <th>3</th>\n",
       "      <td>05yjz3psm1.jpg</td>\n",
       "      <td>YFT</td>\n",
       "    </tr>\n",
       "    <tr>\n",
       "      <th>4</th>\n",
       "      <td>06jxolt55u.jpg</td>\n",
       "      <td>ALB</td>\n",
       "    </tr>\n",
       "    <tr>\n",
       "      <th>...</th>\n",
       "      <td>...</td>\n",
       "      <td>...</td>\n",
       "    </tr>\n",
       "    <tr>\n",
       "      <th>460</th>\n",
       "      <td>znsx4xkv8w.jpg</td>\n",
       "      <td>YFT</td>\n",
       "    </tr>\n",
       "    <tr>\n",
       "      <th>461</th>\n",
       "      <td>zp9z3ikb5l.jpg</td>\n",
       "      <td>ALB</td>\n",
       "    </tr>\n",
       "    <tr>\n",
       "      <th>462</th>\n",
       "      <td>zt5hww356w.jpg</td>\n",
       "      <td>YFT</td>\n",
       "    </tr>\n",
       "    <tr>\n",
       "      <th>463</th>\n",
       "      <td>zv05q7bkuc.jpg</td>\n",
       "      <td>YFT</td>\n",
       "    </tr>\n",
       "    <tr>\n",
       "      <th>464</th>\n",
       "      <td>zzyy3g44t2.jpg</td>\n",
       "      <td>NoF</td>\n",
       "    </tr>\n",
       "  </tbody>\n",
       "</table>\n",
       "<p>465 rows × 2 columns</p>\n",
       "</div>\n",
       "      <button class=\"colab-df-convert\" onclick=\"convertToInteractive('df-d164e2ad-f431-4cdf-9902-40677563c3fa')\"\n",
       "              title=\"Convert this dataframe to an interactive table.\"\n",
       "              style=\"display:none;\">\n",
       "        \n",
       "  <svg xmlns=\"http://www.w3.org/2000/svg\" height=\"24px\"viewBox=\"0 0 24 24\"\n",
       "       width=\"24px\">\n",
       "    <path d=\"M0 0h24v24H0V0z\" fill=\"none\"/>\n",
       "    <path d=\"M18.56 5.44l.94 2.06.94-2.06 2.06-.94-2.06-.94-.94-2.06-.94 2.06-2.06.94zm-11 1L8.5 8.5l.94-2.06 2.06-.94-2.06-.94L8.5 2.5l-.94 2.06-2.06.94zm10 10l.94 2.06.94-2.06 2.06-.94-2.06-.94-.94-2.06-.94 2.06-2.06.94z\"/><path d=\"M17.41 7.96l-1.37-1.37c-.4-.4-.92-.59-1.43-.59-.52 0-1.04.2-1.43.59L10.3 9.45l-7.72 7.72c-.78.78-.78 2.05 0 2.83L4 21.41c.39.39.9.59 1.41.59.51 0 1.02-.2 1.41-.59l7.78-7.78 2.81-2.81c.8-.78.8-2.07 0-2.86zM5.41 20L4 18.59l7.72-7.72 1.47 1.35L5.41 20z\"/>\n",
       "  </svg>\n",
       "      </button>\n",
       "      \n",
       "  <style>\n",
       "    .colab-df-container {\n",
       "      display:flex;\n",
       "      flex-wrap:wrap;\n",
       "      gap: 12px;\n",
       "    }\n",
       "\n",
       "    .colab-df-convert {\n",
       "      background-color: #E8F0FE;\n",
       "      border: none;\n",
       "      border-radius: 50%;\n",
       "      cursor: pointer;\n",
       "      display: none;\n",
       "      fill: #1967D2;\n",
       "      height: 32px;\n",
       "      padding: 0 0 0 0;\n",
       "      width: 32px;\n",
       "    }\n",
       "\n",
       "    .colab-df-convert:hover {\n",
       "      background-color: #E2EBFA;\n",
       "      box-shadow: 0px 1px 2px rgba(60, 64, 67, 0.3), 0px 1px 3px 1px rgba(60, 64, 67, 0.15);\n",
       "      fill: #174EA6;\n",
       "    }\n",
       "\n",
       "    [theme=dark] .colab-df-convert {\n",
       "      background-color: #3B4455;\n",
       "      fill: #D2E3FC;\n",
       "    }\n",
       "\n",
       "    [theme=dark] .colab-df-convert:hover {\n",
       "      background-color: #434B5C;\n",
       "      box-shadow: 0px 1px 3px 1px rgba(0, 0, 0, 0.15);\n",
       "      filter: drop-shadow(0px 1px 2px rgba(0, 0, 0, 0.3));\n",
       "      fill: #FFFFFF;\n",
       "    }\n",
       "  </style>\n",
       "\n",
       "      <script>\n",
       "        const buttonEl =\n",
       "          document.querySelector('#df-d164e2ad-f431-4cdf-9902-40677563c3fa button.colab-df-convert');\n",
       "        buttonEl.style.display =\n",
       "          google.colab.kernel.accessAllowed ? 'block' : 'none';\n",
       "\n",
       "        async function convertToInteractive(key) {\n",
       "          const element = document.querySelector('#df-d164e2ad-f431-4cdf-9902-40677563c3fa');\n",
       "          const dataTable =\n",
       "            await google.colab.kernel.invokeFunction('convertToInteractive',\n",
       "                                                     [key], {});\n",
       "          if (!dataTable) return;\n",
       "\n",
       "          const docLinkHtml = 'Like what you see? Visit the ' +\n",
       "            '<a target=\"_blank\" href=https://colab.research.google.com/notebooks/data_table.ipynb>data table notebook</a>'\n",
       "            + ' to learn more about interactive tables.';\n",
       "          element.innerHTML = '';\n",
       "          dataTable['output_type'] = 'display_data';\n",
       "          await google.colab.output.renderOutput(dataTable, element);\n",
       "          const docLink = document.createElement('div');\n",
       "          docLink.innerHTML = docLinkHtml;\n",
       "          element.appendChild(docLink);\n",
       "        }\n",
       "      </script>\n",
       "    </div>\n",
       "  </div>\n",
       "  "
      ],
      "text/plain": [
       "                  0    1\n",
       "0    00nbnyg8lv.jpg  ALB\n",
       "1    00w6uh7ij9.jpg  YFT\n",
       "2    03id3d30l2.jpg  ALB\n",
       "3    05yjz3psm1.jpg  YFT\n",
       "4    06jxolt55u.jpg  ALB\n",
       "..              ...  ...\n",
       "460  znsx4xkv8w.jpg  YFT\n",
       "461  zp9z3ikb5l.jpg  ALB\n",
       "462  zt5hww356w.jpg  YFT\n",
       "463  zv05q7bkuc.jpg  YFT\n",
       "464  zzyy3g44t2.jpg  NoF\n",
       "\n",
       "[465 rows x 2 columns]"
      ]
     },
     "execution_count": 53,
     "metadata": {},
     "output_type": "execute_result"
    }
   ],
   "source": [
    "df = pd.DataFrame(list(zip(test_fileName, test_predicted)))\n",
    "df"
   ]
  },
  {
   "cell_type": "code",
   "execution_count": 55,
   "metadata": {
    "executionInfo": {
     "elapsed": 189,
     "status": "ok",
     "timestamp": 1653973670721,
     "user": {
      "displayName": "JQ Chen",
      "userId": "13222497970351445459"
     },
     "user_tz": 240
    },
    "id": "3uiuLggVgKTo"
   },
   "outputs": [],
   "source": [
    "# save the predictions\n",
    "df.to_csv('/content/drive/MyDrive/test colab/F0034WQ_CNN_predictions.csv', index=False, header = False)"
   ]
  },
  {
   "cell_type": "markdown",
   "metadata": {
    "id": "362uBHs5Q3Fd"
   },
   "source": [
    "# 2"
   ]
  },
  {
   "cell_type": "markdown",
   "metadata": {
    "id": "U7VUZygpV8vJ"
   },
   "source": [
    "## 2.1 Data Inspection"
   ]
  },
  {
   "cell_type": "code",
   "execution_count": 12,
   "metadata": {
    "executionInfo": {
     "elapsed": 429,
     "status": "ok",
     "timestamp": 1654054778810,
     "user": {
      "displayName": "JQ Chen",
      "userId": "13222497970351445459"
     },
     "user_tz": 240
    },
    "id": "Nm00AcEi71st"
   },
   "outputs": [],
   "source": [
    "import re\n",
    "import spacy\n",
    "import jovian\n",
    "from collections import Counter\n",
    "from torch.utils.data import Dataset, DataLoader\n",
    "import torch.nn.functional as F\n",
    "import string\n",
    "from torch.nn.utils.rnn import pack_padded_sequence, pad_packed_sequence\n",
    "from sklearn.metrics import mean_squared_error\n",
    "from sklearn.model_selection import train_test_split"
   ]
  },
  {
   "cell_type": "code",
   "execution_count": 13,
   "metadata": {
    "executionInfo": {
     "elapsed": 469,
     "status": "ok",
     "timestamp": 1654054833926,
     "user": {
      "displayName": "JQ Chen",
      "userId": "13222497970351445459"
     },
     "user_tz": 240
    },
    "id": "m_XwY4ue9yGL"
   },
   "outputs": [],
   "source": [
    "# Load Data\n",
    "train = pd.read_csv('/content/drive/MyDrive/test colab/train_yelp_reviews.csv', sep='\\t', engine='python')"
   ]
  },
  {
   "cell_type": "code",
   "execution_count": 14,
   "metadata": {
    "colab": {
     "base_uri": "https://localhost:8080/",
     "height": 424
    },
    "executionInfo": {
     "elapsed": 206,
     "status": "ok",
     "timestamp": 1654054844880,
     "user": {
      "displayName": "JQ Chen",
      "userId": "13222497970351445459"
     },
     "user_tz": 240
    },
    "id": "P4iSsQVRWfDZ",
    "outputId": "0ae0a939-06f8-43be-fed6-9d0ba4a7ddc8"
   },
   "outputs": [
    {
     "data": {
      "text/html": [
       "\n",
       "  <div id=\"df-fa8e94b3-20a5-4f39-b1f8-89de5ae4a337\">\n",
       "    <div class=\"colab-df-container\">\n",
       "      <div>\n",
       "<style scoped>\n",
       "    .dataframe tbody tr th:only-of-type {\n",
       "        vertical-align: middle;\n",
       "    }\n",
       "\n",
       "    .dataframe tbody tr th {\n",
       "        vertical-align: top;\n",
       "    }\n",
       "\n",
       "    .dataframe thead th {\n",
       "        text-align: right;\n",
       "    }\n",
       "</style>\n",
       "<table border=\"1\" class=\"dataframe\">\n",
       "  <thead>\n",
       "    <tr style=\"text-align: right;\">\n",
       "      <th></th>\n",
       "      <th>text</th>\n",
       "      <th>label</th>\n",
       "    </tr>\n",
       "  </thead>\n",
       "  <tbody>\n",
       "    <tr>\n",
       "      <th>0</th>\n",
       "      <td>Great time - family dinner on a Sunday night.</td>\n",
       "      <td>1</td>\n",
       "    </tr>\n",
       "    <tr>\n",
       "      <th>1</th>\n",
       "      <td>The classic Maine Lobster Roll was fantastic.</td>\n",
       "      <td>1</td>\n",
       "    </tr>\n",
       "    <tr>\n",
       "      <th>2</th>\n",
       "      <td>We won't be going back.</td>\n",
       "      <td>0</td>\n",
       "    </tr>\n",
       "    <tr>\n",
       "      <th>3</th>\n",
       "      <td>All I have to say is the food was amazing!!!</td>\n",
       "      <td>1</td>\n",
       "    </tr>\n",
       "    <tr>\n",
       "      <th>4</th>\n",
       "      <td>Food was good, service was good, Prices were g...</td>\n",
       "      <td>1</td>\n",
       "    </tr>\n",
       "    <tr>\n",
       "      <th>...</th>\n",
       "      <td>...</td>\n",
       "      <td>...</td>\n",
       "    </tr>\n",
       "    <tr>\n",
       "      <th>895</th>\n",
       "      <td>I guess maybe we went on an off night but it w...</td>\n",
       "      <td>0</td>\n",
       "    </tr>\n",
       "    <tr>\n",
       "      <th>896</th>\n",
       "      <td>The restaurant atmosphere was exquisite.</td>\n",
       "      <td>1</td>\n",
       "    </tr>\n",
       "    <tr>\n",
       "      <th>897</th>\n",
       "      <td>Be sure to order dessert, even if you need to ...</td>\n",
       "      <td>1</td>\n",
       "    </tr>\n",
       "    <tr>\n",
       "      <th>898</th>\n",
       "      <td>They could serve it with just the vinaigrette ...</td>\n",
       "      <td>1</td>\n",
       "    </tr>\n",
       "    <tr>\n",
       "      <th>899</th>\n",
       "      <td>I had strawberry tea, which was good.</td>\n",
       "      <td>1</td>\n",
       "    </tr>\n",
       "  </tbody>\n",
       "</table>\n",
       "<p>900 rows × 2 columns</p>\n",
       "</div>\n",
       "      <button class=\"colab-df-convert\" onclick=\"convertToInteractive('df-fa8e94b3-20a5-4f39-b1f8-89de5ae4a337')\"\n",
       "              title=\"Convert this dataframe to an interactive table.\"\n",
       "              style=\"display:none;\">\n",
       "        \n",
       "  <svg xmlns=\"http://www.w3.org/2000/svg\" height=\"24px\"viewBox=\"0 0 24 24\"\n",
       "       width=\"24px\">\n",
       "    <path d=\"M0 0h24v24H0V0z\" fill=\"none\"/>\n",
       "    <path d=\"M18.56 5.44l.94 2.06.94-2.06 2.06-.94-2.06-.94-.94-2.06-.94 2.06-2.06.94zm-11 1L8.5 8.5l.94-2.06 2.06-.94-2.06-.94L8.5 2.5l-.94 2.06-2.06.94zm10 10l.94 2.06.94-2.06 2.06-.94-2.06-.94-.94-2.06-.94 2.06-2.06.94z\"/><path d=\"M17.41 7.96l-1.37-1.37c-.4-.4-.92-.59-1.43-.59-.52 0-1.04.2-1.43.59L10.3 9.45l-7.72 7.72c-.78.78-.78 2.05 0 2.83L4 21.41c.39.39.9.59 1.41.59.51 0 1.02-.2 1.41-.59l7.78-7.78 2.81-2.81c.8-.78.8-2.07 0-2.86zM5.41 20L4 18.59l7.72-7.72 1.47 1.35L5.41 20z\"/>\n",
       "  </svg>\n",
       "      </button>\n",
       "      \n",
       "  <style>\n",
       "    .colab-df-container {\n",
       "      display:flex;\n",
       "      flex-wrap:wrap;\n",
       "      gap: 12px;\n",
       "    }\n",
       "\n",
       "    .colab-df-convert {\n",
       "      background-color: #E8F0FE;\n",
       "      border: none;\n",
       "      border-radius: 50%;\n",
       "      cursor: pointer;\n",
       "      display: none;\n",
       "      fill: #1967D2;\n",
       "      height: 32px;\n",
       "      padding: 0 0 0 0;\n",
       "      width: 32px;\n",
       "    }\n",
       "\n",
       "    .colab-df-convert:hover {\n",
       "      background-color: #E2EBFA;\n",
       "      box-shadow: 0px 1px 2px rgba(60, 64, 67, 0.3), 0px 1px 3px 1px rgba(60, 64, 67, 0.15);\n",
       "      fill: #174EA6;\n",
       "    }\n",
       "\n",
       "    [theme=dark] .colab-df-convert {\n",
       "      background-color: #3B4455;\n",
       "      fill: #D2E3FC;\n",
       "    }\n",
       "\n",
       "    [theme=dark] .colab-df-convert:hover {\n",
       "      background-color: #434B5C;\n",
       "      box-shadow: 0px 1px 3px 1px rgba(0, 0, 0, 0.15);\n",
       "      filter: drop-shadow(0px 1px 2px rgba(0, 0, 0, 0.3));\n",
       "      fill: #FFFFFF;\n",
       "    }\n",
       "  </style>\n",
       "\n",
       "      <script>\n",
       "        const buttonEl =\n",
       "          document.querySelector('#df-fa8e94b3-20a5-4f39-b1f8-89de5ae4a337 button.colab-df-convert');\n",
       "        buttonEl.style.display =\n",
       "          google.colab.kernel.accessAllowed ? 'block' : 'none';\n",
       "\n",
       "        async function convertToInteractive(key) {\n",
       "          const element = document.querySelector('#df-fa8e94b3-20a5-4f39-b1f8-89de5ae4a337');\n",
       "          const dataTable =\n",
       "            await google.colab.kernel.invokeFunction('convertToInteractive',\n",
       "                                                     [key], {});\n",
       "          if (!dataTable) return;\n",
       "\n",
       "          const docLinkHtml = 'Like what you see? Visit the ' +\n",
       "            '<a target=\"_blank\" href=https://colab.research.google.com/notebooks/data_table.ipynb>data table notebook</a>'\n",
       "            + ' to learn more about interactive tables.';\n",
       "          element.innerHTML = '';\n",
       "          dataTable['output_type'] = 'display_data';\n",
       "          await google.colab.output.renderOutput(dataTable, element);\n",
       "          const docLink = document.createElement('div');\n",
       "          docLink.innerHTML = docLinkHtml;\n",
       "          element.appendChild(docLink);\n",
       "        }\n",
       "      </script>\n",
       "    </div>\n",
       "  </div>\n",
       "  "
      ],
      "text/plain": [
       "                                                  text  label\n",
       "0        Great time - family dinner on a Sunday night.      1\n",
       "1        The classic Maine Lobster Roll was fantastic.      1\n",
       "2                              We won't be going back.      0\n",
       "3         All I have to say is the food was amazing!!!      1\n",
       "4    Food was good, service was good, Prices were g...      1\n",
       "..                                                 ...    ...\n",
       "895  I guess maybe we went on an off night but it w...      0\n",
       "896           The restaurant atmosphere was exquisite.      1\n",
       "897  Be sure to order dessert, even if you need to ...      1\n",
       "898  They could serve it with just the vinaigrette ...      1\n",
       "899              I had strawberry tea, which was good.      1\n",
       "\n",
       "[900 rows x 2 columns]"
      ]
     },
     "execution_count": 14,
     "metadata": {},
     "output_type": "execute_result"
    }
   ],
   "source": [
    "train"
   ]
  },
  {
   "cell_type": "markdown",
   "metadata": {
    "id": "1nzMnHLXWjkZ"
   },
   "source": [
    "- Reference: https://jovian.ai/aakanksha-ns/lstm-multiclass-text-classification/v/5?utm_source=embed#C18"
   ]
  },
  {
   "cell_type": "code",
   "execution_count": 15,
   "metadata": {
    "colab": {
     "base_uri": "https://localhost:8080/",
     "height": 424
    },
    "executionInfo": {
     "elapsed": 398,
     "status": "ok",
     "timestamp": 1654054872699,
     "user": {
      "displayName": "JQ Chen",
      "userId": "13222497970351445459"
     },
     "user_tz": 240
    },
    "id": "ni7fC2KvWgjU",
    "outputId": "018f6114-9cd0-4ea9-ed7c-1d32e34e6c1d"
   },
   "outputs": [
    {
     "data": {
      "text/html": [
       "\n",
       "  <div id=\"df-7d66fb19-19af-4845-b5f6-5c425ae1058d\">\n",
       "    <div class=\"colab-df-container\">\n",
       "      <div>\n",
       "<style scoped>\n",
       "    .dataframe tbody tr th:only-of-type {\n",
       "        vertical-align: middle;\n",
       "    }\n",
       "\n",
       "    .dataframe tbody tr th {\n",
       "        vertical-align: top;\n",
       "    }\n",
       "\n",
       "    .dataframe thead th {\n",
       "        text-align: right;\n",
       "    }\n",
       "</style>\n",
       "<table border=\"1\" class=\"dataframe\">\n",
       "  <thead>\n",
       "    <tr style=\"text-align: right;\">\n",
       "      <th></th>\n",
       "      <th>text</th>\n",
       "      <th>label</th>\n",
       "      <th>text_length</th>\n",
       "    </tr>\n",
       "  </thead>\n",
       "  <tbody>\n",
       "    <tr>\n",
       "      <th>0</th>\n",
       "      <td>Great time - family dinner on a Sunday night.</td>\n",
       "      <td>1</td>\n",
       "      <td>9</td>\n",
       "    </tr>\n",
       "    <tr>\n",
       "      <th>1</th>\n",
       "      <td>The classic Maine Lobster Roll was fantastic.</td>\n",
       "      <td>1</td>\n",
       "      <td>7</td>\n",
       "    </tr>\n",
       "    <tr>\n",
       "      <th>2</th>\n",
       "      <td>We won't be going back.</td>\n",
       "      <td>0</td>\n",
       "      <td>5</td>\n",
       "    </tr>\n",
       "    <tr>\n",
       "      <th>3</th>\n",
       "      <td>All I have to say is the food was amazing!!!</td>\n",
       "      <td>1</td>\n",
       "      <td>10</td>\n",
       "    </tr>\n",
       "    <tr>\n",
       "      <th>4</th>\n",
       "      <td>Food was good, service was good, Prices were g...</td>\n",
       "      <td>1</td>\n",
       "      <td>9</td>\n",
       "    </tr>\n",
       "    <tr>\n",
       "      <th>...</th>\n",
       "      <td>...</td>\n",
       "      <td>...</td>\n",
       "      <td>...</td>\n",
       "    </tr>\n",
       "    <tr>\n",
       "      <th>895</th>\n",
       "      <td>I guess maybe we went on an off night but it w...</td>\n",
       "      <td>0</td>\n",
       "      <td>13</td>\n",
       "    </tr>\n",
       "    <tr>\n",
       "      <th>896</th>\n",
       "      <td>The restaurant atmosphere was exquisite.</td>\n",
       "      <td>1</td>\n",
       "      <td>5</td>\n",
       "    </tr>\n",
       "    <tr>\n",
       "      <th>897</th>\n",
       "      <td>Be sure to order dessert, even if you need to ...</td>\n",
       "      <td>1</td>\n",
       "      <td>23</td>\n",
       "    </tr>\n",
       "    <tr>\n",
       "      <th>898</th>\n",
       "      <td>They could serve it with just the vinaigrette ...</td>\n",
       "      <td>1</td>\n",
       "      <td>23</td>\n",
       "    </tr>\n",
       "    <tr>\n",
       "      <th>899</th>\n",
       "      <td>I had strawberry tea, which was good.</td>\n",
       "      <td>1</td>\n",
       "      <td>7</td>\n",
       "    </tr>\n",
       "  </tbody>\n",
       "</table>\n",
       "<p>900 rows × 3 columns</p>\n",
       "</div>\n",
       "      <button class=\"colab-df-convert\" onclick=\"convertToInteractive('df-7d66fb19-19af-4845-b5f6-5c425ae1058d')\"\n",
       "              title=\"Convert this dataframe to an interactive table.\"\n",
       "              style=\"display:none;\">\n",
       "        \n",
       "  <svg xmlns=\"http://www.w3.org/2000/svg\" height=\"24px\"viewBox=\"0 0 24 24\"\n",
       "       width=\"24px\">\n",
       "    <path d=\"M0 0h24v24H0V0z\" fill=\"none\"/>\n",
       "    <path d=\"M18.56 5.44l.94 2.06.94-2.06 2.06-.94-2.06-.94-.94-2.06-.94 2.06-2.06.94zm-11 1L8.5 8.5l.94-2.06 2.06-.94-2.06-.94L8.5 2.5l-.94 2.06-2.06.94zm10 10l.94 2.06.94-2.06 2.06-.94-2.06-.94-.94-2.06-.94 2.06-2.06.94z\"/><path d=\"M17.41 7.96l-1.37-1.37c-.4-.4-.92-.59-1.43-.59-.52 0-1.04.2-1.43.59L10.3 9.45l-7.72 7.72c-.78.78-.78 2.05 0 2.83L4 21.41c.39.39.9.59 1.41.59.51 0 1.02-.2 1.41-.59l7.78-7.78 2.81-2.81c.8-.78.8-2.07 0-2.86zM5.41 20L4 18.59l7.72-7.72 1.47 1.35L5.41 20z\"/>\n",
       "  </svg>\n",
       "      </button>\n",
       "      \n",
       "  <style>\n",
       "    .colab-df-container {\n",
       "      display:flex;\n",
       "      flex-wrap:wrap;\n",
       "      gap: 12px;\n",
       "    }\n",
       "\n",
       "    .colab-df-convert {\n",
       "      background-color: #E8F0FE;\n",
       "      border: none;\n",
       "      border-radius: 50%;\n",
       "      cursor: pointer;\n",
       "      display: none;\n",
       "      fill: #1967D2;\n",
       "      height: 32px;\n",
       "      padding: 0 0 0 0;\n",
       "      width: 32px;\n",
       "    }\n",
       "\n",
       "    .colab-df-convert:hover {\n",
       "      background-color: #E2EBFA;\n",
       "      box-shadow: 0px 1px 2px rgba(60, 64, 67, 0.3), 0px 1px 3px 1px rgba(60, 64, 67, 0.15);\n",
       "      fill: #174EA6;\n",
       "    }\n",
       "\n",
       "    [theme=dark] .colab-df-convert {\n",
       "      background-color: #3B4455;\n",
       "      fill: #D2E3FC;\n",
       "    }\n",
       "\n",
       "    [theme=dark] .colab-df-convert:hover {\n",
       "      background-color: #434B5C;\n",
       "      box-shadow: 0px 1px 3px 1px rgba(0, 0, 0, 0.15);\n",
       "      filter: drop-shadow(0px 1px 2px rgba(0, 0, 0, 0.3));\n",
       "      fill: #FFFFFF;\n",
       "    }\n",
       "  </style>\n",
       "\n",
       "      <script>\n",
       "        const buttonEl =\n",
       "          document.querySelector('#df-7d66fb19-19af-4845-b5f6-5c425ae1058d button.colab-df-convert');\n",
       "        buttonEl.style.display =\n",
       "          google.colab.kernel.accessAllowed ? 'block' : 'none';\n",
       "\n",
       "        async function convertToInteractive(key) {\n",
       "          const element = document.querySelector('#df-7d66fb19-19af-4845-b5f6-5c425ae1058d');\n",
       "          const dataTable =\n",
       "            await google.colab.kernel.invokeFunction('convertToInteractive',\n",
       "                                                     [key], {});\n",
       "          if (!dataTable) return;\n",
       "\n",
       "          const docLinkHtml = 'Like what you see? Visit the ' +\n",
       "            '<a target=\"_blank\" href=https://colab.research.google.com/notebooks/data_table.ipynb>data table notebook</a>'\n",
       "            + ' to learn more about interactive tables.';\n",
       "          element.innerHTML = '';\n",
       "          dataTable['output_type'] = 'display_data';\n",
       "          await google.colab.output.renderOutput(dataTable, element);\n",
       "          const docLink = document.createElement('div');\n",
       "          docLink.innerHTML = docLinkHtml;\n",
       "          element.appendChild(docLink);\n",
       "        }\n",
       "      </script>\n",
       "    </div>\n",
       "  </div>\n",
       "  "
      ],
      "text/plain": [
       "                                                  text  label  text_length\n",
       "0        Great time - family dinner on a Sunday night.      1            9\n",
       "1        The classic Maine Lobster Roll was fantastic.      1            7\n",
       "2                              We won't be going back.      0            5\n",
       "3         All I have to say is the food was amazing!!!      1           10\n",
       "4    Food was good, service was good, Prices were g...      1            9\n",
       "..                                                 ...    ...          ...\n",
       "895  I guess maybe we went on an off night but it w...      0           13\n",
       "896           The restaurant atmosphere was exquisite.      1            5\n",
       "897  Be sure to order dessert, even if you need to ...      1           23\n",
       "898  They could serve it with just the vinaigrette ...      1           23\n",
       "899              I had strawberry tea, which was good.      1            7\n",
       "\n",
       "[900 rows x 3 columns]"
      ]
     },
     "execution_count": 15,
     "metadata": {},
     "output_type": "execute_result"
    }
   ],
   "source": [
    "# calculate sentence lengths\n",
    "train['text_length'] = train['text'].apply(lambda x: len(x.split()))\n",
    "train"
   ]
  },
  {
   "cell_type": "code",
   "execution_count": 25,
   "metadata": {
    "colab": {
     "base_uri": "https://localhost:8080/"
    },
    "executionInfo": {
     "elapsed": 205,
     "status": "ok",
     "timestamp": 1654057493005,
     "user": {
      "displayName": "JQ Chen",
      "userId": "13222497970351445459"
     },
     "user_tz": 240
    },
    "id": "zH1aYDQPgkNC",
    "outputId": "7fcafa91-e0ad-4cc2-bf11-3a2168de012d"
   },
   "outputs": [
    {
     "data": {
      "text/plain": [
       "10.872222222222222"
      ]
     },
     "execution_count": 25,
     "metadata": {},
     "output_type": "execute_result"
    }
   ],
   "source": [
    "#mean sentence length\n",
    "np.mean(train['text_length'])"
   ]
  },
  {
   "cell_type": "markdown",
   "metadata": {
    "id": "4GAF9PXlWpGY"
   },
   "source": [
    "- Reference: https://jovian.ai/aakanksha-ns/lstm-multiclass-text-classification/v/5?utm_source=embed#C18"
   ]
  },
  {
   "cell_type": "code",
   "execution_count": 16,
   "metadata": {
    "executionInfo": {
     "elapsed": 2340,
     "status": "ok",
     "timestamp": 1654054902938,
     "user": {
      "displayName": "JQ Chen",
      "userId": "13222497970351445459"
     },
     "user_tz": 240
    },
    "id": "yjbiLFT-WpuV"
   },
   "outputs": [],
   "source": [
    "#tokenization\n",
    "import spacy\n",
    "tok = spacy.load('en_core_web_sm')\n",
    "def tokenize (text):\n",
    "    text = re.sub(r\"[^\\x00-\\x7F]+\", \" \", text)\n",
    "    regex = re.compile('[' + re.escape(string.punctuation) + '0-9\\\\r\\\\t\\\\n]') # remove punctuation and numbers\n",
    "    nopunct = regex.sub(\" \", text.lower())\n",
    "    return [token.text for token in tok.tokenizer(nopunct)]"
   ]
  },
  {
   "cell_type": "markdown",
   "metadata": {
    "id": "XRNcM8cRWx5M"
   },
   "source": [
    "- Reference: https://jovian.ai/aakanksha-ns/lstm-multiclass-text-classification/v/5?utm_source=embed#C18"
   ]
  },
  {
   "cell_type": "code",
   "execution_count": 23,
   "metadata": {
    "executionInfo": {
     "elapsed": 164,
     "status": "ok",
     "timestamp": 1654057243033,
     "user": {
      "displayName": "JQ Chen",
      "userId": "13222497970351445459"
     },
     "user_tz": 240
    },
    "id": "7J1WSnWuWz8h"
   },
   "outputs": [],
   "source": [
    "#count number of occurences of each word\n",
    "counts = Counter()\n",
    "for index, row in train.iterrows():\n",
    "    counts.update(tokenize(row['text']))"
   ]
  },
  {
   "cell_type": "markdown",
   "metadata": {
    "id": "M3WdArjhW6c_"
   },
   "source": [
    "### Display the most 50 commonly occurring tokens for positive review"
   ]
  },
  {
   "cell_type": "code",
   "execution_count": 18,
   "metadata": {
    "colab": {
     "base_uri": "https://localhost:8080/",
     "height": 424
    },
    "executionInfo": {
     "elapsed": 212,
     "status": "ok",
     "timestamp": 1654054968349,
     "user": {
      "displayName": "JQ Chen",
      "userId": "13222497970351445459"
     },
     "user_tz": 240
    },
    "id": "QhYGEblPW60R",
    "outputId": "2e15151b-ef28-438f-8ded-e9187a8b5a6d"
   },
   "outputs": [
    {
     "data": {
      "text/html": [
       "\n",
       "  <div id=\"df-62883469-589b-41db-bca4-ded19ed1be7e\">\n",
       "    <div class=\"colab-df-container\">\n",
       "      <div>\n",
       "<style scoped>\n",
       "    .dataframe tbody tr th:only-of-type {\n",
       "        vertical-align: middle;\n",
       "    }\n",
       "\n",
       "    .dataframe tbody tr th {\n",
       "        vertical-align: top;\n",
       "    }\n",
       "\n",
       "    .dataframe thead th {\n",
       "        text-align: right;\n",
       "    }\n",
       "</style>\n",
       "<table border=\"1\" class=\"dataframe\">\n",
       "  <thead>\n",
       "    <tr style=\"text-align: right;\">\n",
       "      <th></th>\n",
       "      <th>text</th>\n",
       "      <th>label</th>\n",
       "      <th>text_length</th>\n",
       "    </tr>\n",
       "  </thead>\n",
       "  <tbody>\n",
       "    <tr>\n",
       "      <th>0</th>\n",
       "      <td>Great time - family dinner on a Sunday night.</td>\n",
       "      <td>1</td>\n",
       "      <td>9</td>\n",
       "    </tr>\n",
       "    <tr>\n",
       "      <th>1</th>\n",
       "      <td>The classic Maine Lobster Roll was fantastic.</td>\n",
       "      <td>1</td>\n",
       "      <td>7</td>\n",
       "    </tr>\n",
       "    <tr>\n",
       "      <th>3</th>\n",
       "      <td>All I have to say is the food was amazing!!!</td>\n",
       "      <td>1</td>\n",
       "      <td>10</td>\n",
       "    </tr>\n",
       "    <tr>\n",
       "      <th>4</th>\n",
       "      <td>Food was good, service was good, Prices were g...</td>\n",
       "      <td>1</td>\n",
       "      <td>9</td>\n",
       "    </tr>\n",
       "    <tr>\n",
       "      <th>5</th>\n",
       "      <td>If you're not familiar, check it out.</td>\n",
       "      <td>1</td>\n",
       "      <td>7</td>\n",
       "    </tr>\n",
       "    <tr>\n",
       "      <th>...</th>\n",
       "      <td>...</td>\n",
       "      <td>...</td>\n",
       "      <td>...</td>\n",
       "    </tr>\n",
       "    <tr>\n",
       "      <th>893</th>\n",
       "      <td>If you love authentic Mexican food and want a ...</td>\n",
       "      <td>1</td>\n",
       "      <td>25</td>\n",
       "    </tr>\n",
       "    <tr>\n",
       "      <th>896</th>\n",
       "      <td>The restaurant atmosphere was exquisite.</td>\n",
       "      <td>1</td>\n",
       "      <td>5</td>\n",
       "    </tr>\n",
       "    <tr>\n",
       "      <th>897</th>\n",
       "      <td>Be sure to order dessert, even if you need to ...</td>\n",
       "      <td>1</td>\n",
       "      <td>23</td>\n",
       "    </tr>\n",
       "    <tr>\n",
       "      <th>898</th>\n",
       "      <td>They could serve it with just the vinaigrette ...</td>\n",
       "      <td>1</td>\n",
       "      <td>23</td>\n",
       "    </tr>\n",
       "    <tr>\n",
       "      <th>899</th>\n",
       "      <td>I had strawberry tea, which was good.</td>\n",
       "      <td>1</td>\n",
       "      <td>7</td>\n",
       "    </tr>\n",
       "  </tbody>\n",
       "</table>\n",
       "<p>453 rows × 3 columns</p>\n",
       "</div>\n",
       "      <button class=\"colab-df-convert\" onclick=\"convertToInteractive('df-62883469-589b-41db-bca4-ded19ed1be7e')\"\n",
       "              title=\"Convert this dataframe to an interactive table.\"\n",
       "              style=\"display:none;\">\n",
       "        \n",
       "  <svg xmlns=\"http://www.w3.org/2000/svg\" height=\"24px\"viewBox=\"0 0 24 24\"\n",
       "       width=\"24px\">\n",
       "    <path d=\"M0 0h24v24H0V0z\" fill=\"none\"/>\n",
       "    <path d=\"M18.56 5.44l.94 2.06.94-2.06 2.06-.94-2.06-.94-.94-2.06-.94 2.06-2.06.94zm-11 1L8.5 8.5l.94-2.06 2.06-.94-2.06-.94L8.5 2.5l-.94 2.06-2.06.94zm10 10l.94 2.06.94-2.06 2.06-.94-2.06-.94-.94-2.06-.94 2.06-2.06.94z\"/><path d=\"M17.41 7.96l-1.37-1.37c-.4-.4-.92-.59-1.43-.59-.52 0-1.04.2-1.43.59L10.3 9.45l-7.72 7.72c-.78.78-.78 2.05 0 2.83L4 21.41c.39.39.9.59 1.41.59.51 0 1.02-.2 1.41-.59l7.78-7.78 2.81-2.81c.8-.78.8-2.07 0-2.86zM5.41 20L4 18.59l7.72-7.72 1.47 1.35L5.41 20z\"/>\n",
       "  </svg>\n",
       "      </button>\n",
       "      \n",
       "  <style>\n",
       "    .colab-df-container {\n",
       "      display:flex;\n",
       "      flex-wrap:wrap;\n",
       "      gap: 12px;\n",
       "    }\n",
       "\n",
       "    .colab-df-convert {\n",
       "      background-color: #E8F0FE;\n",
       "      border: none;\n",
       "      border-radius: 50%;\n",
       "      cursor: pointer;\n",
       "      display: none;\n",
       "      fill: #1967D2;\n",
       "      height: 32px;\n",
       "      padding: 0 0 0 0;\n",
       "      width: 32px;\n",
       "    }\n",
       "\n",
       "    .colab-df-convert:hover {\n",
       "      background-color: #E2EBFA;\n",
       "      box-shadow: 0px 1px 2px rgba(60, 64, 67, 0.3), 0px 1px 3px 1px rgba(60, 64, 67, 0.15);\n",
       "      fill: #174EA6;\n",
       "    }\n",
       "\n",
       "    [theme=dark] .colab-df-convert {\n",
       "      background-color: #3B4455;\n",
       "      fill: #D2E3FC;\n",
       "    }\n",
       "\n",
       "    [theme=dark] .colab-df-convert:hover {\n",
       "      background-color: #434B5C;\n",
       "      box-shadow: 0px 1px 3px 1px rgba(0, 0, 0, 0.15);\n",
       "      filter: drop-shadow(0px 1px 2px rgba(0, 0, 0, 0.3));\n",
       "      fill: #FFFFFF;\n",
       "    }\n",
       "  </style>\n",
       "\n",
       "      <script>\n",
       "        const buttonEl =\n",
       "          document.querySelector('#df-62883469-589b-41db-bca4-ded19ed1be7e button.colab-df-convert');\n",
       "        buttonEl.style.display =\n",
       "          google.colab.kernel.accessAllowed ? 'block' : 'none';\n",
       "\n",
       "        async function convertToInteractive(key) {\n",
       "          const element = document.querySelector('#df-62883469-589b-41db-bca4-ded19ed1be7e');\n",
       "          const dataTable =\n",
       "            await google.colab.kernel.invokeFunction('convertToInteractive',\n",
       "                                                     [key], {});\n",
       "          if (!dataTable) return;\n",
       "\n",
       "          const docLinkHtml = 'Like what you see? Visit the ' +\n",
       "            '<a target=\"_blank\" href=https://colab.research.google.com/notebooks/data_table.ipynb>data table notebook</a>'\n",
       "            + ' to learn more about interactive tables.';\n",
       "          element.innerHTML = '';\n",
       "          dataTable['output_type'] = 'display_data';\n",
       "          await google.colab.output.renderOutput(dataTable, element);\n",
       "          const docLink = document.createElement('div');\n",
       "          docLink.innerHTML = docLinkHtml;\n",
       "          element.appendChild(docLink);\n",
       "        }\n",
       "      </script>\n",
       "    </div>\n",
       "  </div>\n",
       "  "
      ],
      "text/plain": [
       "                                                  text  label  text_length\n",
       "0        Great time - family dinner on a Sunday night.      1            9\n",
       "1        The classic Maine Lobster Roll was fantastic.      1            7\n",
       "3         All I have to say is the food was amazing!!!      1           10\n",
       "4    Food was good, service was good, Prices were g...      1            9\n",
       "5                If you're not familiar, check it out.      1            7\n",
       "..                                                 ...    ...          ...\n",
       "893  If you love authentic Mexican food and want a ...      1           25\n",
       "896           The restaurant atmosphere was exquisite.      1            5\n",
       "897  Be sure to order dessert, even if you need to ...      1           23\n",
       "898  They could serve it with just the vinaigrette ...      1           23\n",
       "899              I had strawberry tea, which was good.      1            7\n",
       "\n",
       "[453 rows x 3 columns]"
      ]
     },
     "execution_count": 18,
     "metadata": {},
     "output_type": "execute_result"
    }
   ],
   "source": [
    "positive_train = train[train['label'] == 1].copy()\n",
    "positive_train"
   ]
  },
  {
   "cell_type": "code",
   "execution_count": 19,
   "metadata": {
    "colab": {
     "base_uri": "https://localhost:8080/"
    },
    "executionInfo": {
     "elapsed": 172,
     "status": "ok",
     "timestamp": 1654054979592,
     "user": {
      "displayName": "JQ Chen",
      "userId": "13222497970351445459"
     },
     "user_tz": 240
    },
    "id": "XeqkAskgXAA_",
    "outputId": "d19e74fa-10f8-450a-be41-646e4ad29ea2"
   },
   "outputs": [
    {
     "name": "stdout",
     "output_type": "stream",
     "text": [
      "[('the', 279), (' ', 207), ('and', 202), ('was', 128), ('i', 122), ('a', 98), ('is', 96), ('to', 84), ('good', 66), ('this', 65), ('great', 64), ('it', 57), ('food', 53), ('place', 51), ('in', 50), ('of', 49), ('  ', 45), ('service', 43), ('very', 41), ('for', 38), ('had', 37), ('with', 36), ('you', 35), ('are', 34), ('so', 34), ('were', 32), ('have', 31), ('they', 30), ('we', 29), ('my', 29), ('on', 28), ('here', 27), ('all', 24), ('that', 23), ('friendly', 22), ('delicious', 21), ('amazing', 20), ('back', 20), ('really', 20), ('but', 20), ('best', 20), ('our', 19), ('s', 19), ('nice', 19), ('time', 18), ('t', 18), ('be', 18), ('go', 18), ('just', 17), ('as', 17)]\n"
     ]
    }
   ],
   "source": [
    "counts_positive_train = Counter()\n",
    "for index, row in positive_train.iterrows():\n",
    "    counts_positive_train.update(tokenize(row['text']))\n",
    "\n",
    "Top50_counts_positive = sorted(counts_positive_train.items(), key=lambda x: x[1], reverse=True)[:50]\n",
    "print(Top50_counts_positive)"
   ]
  },
  {
   "cell_type": "markdown",
   "metadata": {
    "id": "RDKbZcpGXDNb"
   },
   "source": [
    "### Display the most 50 commonly occurring tokens for negative review"
   ]
  },
  {
   "cell_type": "code",
   "execution_count": 20,
   "metadata": {
    "colab": {
     "base_uri": "https://localhost:8080/",
     "height": 424
    },
    "executionInfo": {
     "elapsed": 250,
     "status": "ok",
     "timestamp": 1654055001935,
     "user": {
      "displayName": "JQ Chen",
      "userId": "13222497970351445459"
     },
     "user_tz": 240
    },
    "id": "jeqfLmoiXAZe",
    "outputId": "5f6f3821-e56a-4ba7-def2-ad61987add31"
   },
   "outputs": [
    {
     "data": {
      "text/html": [
       "\n",
       "  <div id=\"df-01b31543-9686-4113-824c-422319cf3787\">\n",
       "    <div class=\"colab-df-container\">\n",
       "      <div>\n",
       "<style scoped>\n",
       "    .dataframe tbody tr th:only-of-type {\n",
       "        vertical-align: middle;\n",
       "    }\n",
       "\n",
       "    .dataframe tbody tr th {\n",
       "        vertical-align: top;\n",
       "    }\n",
       "\n",
       "    .dataframe thead th {\n",
       "        text-align: right;\n",
       "    }\n",
       "</style>\n",
       "<table border=\"1\" class=\"dataframe\">\n",
       "  <thead>\n",
       "    <tr style=\"text-align: right;\">\n",
       "      <th></th>\n",
       "      <th>text</th>\n",
       "      <th>label</th>\n",
       "      <th>text_length</th>\n",
       "    </tr>\n",
       "  </thead>\n",
       "  <tbody>\n",
       "    <tr>\n",
       "      <th>2</th>\n",
       "      <td>We won't be going back.</td>\n",
       "      <td>0</td>\n",
       "      <td>5</td>\n",
       "    </tr>\n",
       "    <tr>\n",
       "      <th>6</th>\n",
       "      <td>I probably won't be back, to be honest.</td>\n",
       "      <td>0</td>\n",
       "      <td>8</td>\n",
       "    </tr>\n",
       "    <tr>\n",
       "      <th>8</th>\n",
       "      <td>This is a disgrace.</td>\n",
       "      <td>0</td>\n",
       "      <td>4</td>\n",
       "    </tr>\n",
       "    <tr>\n",
       "      <th>9</th>\n",
       "      <td>The servers are not pleasant to deal with and ...</td>\n",
       "      <td>0</td>\n",
       "      <td>16</td>\n",
       "    </tr>\n",
       "    <tr>\n",
       "      <th>10</th>\n",
       "      <td>The service here leaves a lot to be desired.</td>\n",
       "      <td>0</td>\n",
       "      <td>9</td>\n",
       "    </tr>\n",
       "    <tr>\n",
       "      <th>...</th>\n",
       "      <td>...</td>\n",
       "      <td>...</td>\n",
       "      <td>...</td>\n",
       "    </tr>\n",
       "    <tr>\n",
       "      <th>887</th>\n",
       "      <td>Don't do it!!!!</td>\n",
       "      <td>0</td>\n",
       "      <td>3</td>\n",
       "    </tr>\n",
       "    <tr>\n",
       "      <th>889</th>\n",
       "      <td>Waited and waited and waited.</td>\n",
       "      <td>0</td>\n",
       "      <td>5</td>\n",
       "    </tr>\n",
       "    <tr>\n",
       "      <th>891</th>\n",
       "      <td>Waited 2 hours &amp; never got either of our pizza...</td>\n",
       "      <td>0</td>\n",
       "      <td>20</td>\n",
       "    </tr>\n",
       "    <tr>\n",
       "      <th>894</th>\n",
       "      <td>I'll take my business dinner dollars elsewhere.</td>\n",
       "      <td>0</td>\n",
       "      <td>7</td>\n",
       "    </tr>\n",
       "    <tr>\n",
       "      <th>895</th>\n",
       "      <td>I guess maybe we went on an off night but it w...</td>\n",
       "      <td>0</td>\n",
       "      <td>13</td>\n",
       "    </tr>\n",
       "  </tbody>\n",
       "</table>\n",
       "<p>447 rows × 3 columns</p>\n",
       "</div>\n",
       "      <button class=\"colab-df-convert\" onclick=\"convertToInteractive('df-01b31543-9686-4113-824c-422319cf3787')\"\n",
       "              title=\"Convert this dataframe to an interactive table.\"\n",
       "              style=\"display:none;\">\n",
       "        \n",
       "  <svg xmlns=\"http://www.w3.org/2000/svg\" height=\"24px\"viewBox=\"0 0 24 24\"\n",
       "       width=\"24px\">\n",
       "    <path d=\"M0 0h24v24H0V0z\" fill=\"none\"/>\n",
       "    <path d=\"M18.56 5.44l.94 2.06.94-2.06 2.06-.94-2.06-.94-.94-2.06-.94 2.06-2.06.94zm-11 1L8.5 8.5l.94-2.06 2.06-.94-2.06-.94L8.5 2.5l-.94 2.06-2.06.94zm10 10l.94 2.06.94-2.06 2.06-.94-2.06-.94-.94-2.06-.94 2.06-2.06.94z\"/><path d=\"M17.41 7.96l-1.37-1.37c-.4-.4-.92-.59-1.43-.59-.52 0-1.04.2-1.43.59L10.3 9.45l-7.72 7.72c-.78.78-.78 2.05 0 2.83L4 21.41c.39.39.9.59 1.41.59.51 0 1.02-.2 1.41-.59l7.78-7.78 2.81-2.81c.8-.78.8-2.07 0-2.86zM5.41 20L4 18.59l7.72-7.72 1.47 1.35L5.41 20z\"/>\n",
       "  </svg>\n",
       "      </button>\n",
       "      \n",
       "  <style>\n",
       "    .colab-df-container {\n",
       "      display:flex;\n",
       "      flex-wrap:wrap;\n",
       "      gap: 12px;\n",
       "    }\n",
       "\n",
       "    .colab-df-convert {\n",
       "      background-color: #E8F0FE;\n",
       "      border: none;\n",
       "      border-radius: 50%;\n",
       "      cursor: pointer;\n",
       "      display: none;\n",
       "      fill: #1967D2;\n",
       "      height: 32px;\n",
       "      padding: 0 0 0 0;\n",
       "      width: 32px;\n",
       "    }\n",
       "\n",
       "    .colab-df-convert:hover {\n",
       "      background-color: #E2EBFA;\n",
       "      box-shadow: 0px 1px 2px rgba(60, 64, 67, 0.3), 0px 1px 3px 1px rgba(60, 64, 67, 0.15);\n",
       "      fill: #174EA6;\n",
       "    }\n",
       "\n",
       "    [theme=dark] .colab-df-convert {\n",
       "      background-color: #3B4455;\n",
       "      fill: #D2E3FC;\n",
       "    }\n",
       "\n",
       "    [theme=dark] .colab-df-convert:hover {\n",
       "      background-color: #434B5C;\n",
       "      box-shadow: 0px 1px 3px 1px rgba(0, 0, 0, 0.15);\n",
       "      filter: drop-shadow(0px 1px 2px rgba(0, 0, 0, 0.3));\n",
       "      fill: #FFFFFF;\n",
       "    }\n",
       "  </style>\n",
       "\n",
       "      <script>\n",
       "        const buttonEl =\n",
       "          document.querySelector('#df-01b31543-9686-4113-824c-422319cf3787 button.colab-df-convert');\n",
       "        buttonEl.style.display =\n",
       "          google.colab.kernel.accessAllowed ? 'block' : 'none';\n",
       "\n",
       "        async function convertToInteractive(key) {\n",
       "          const element = document.querySelector('#df-01b31543-9686-4113-824c-422319cf3787');\n",
       "          const dataTable =\n",
       "            await google.colab.kernel.invokeFunction('convertToInteractive',\n",
       "                                                     [key], {});\n",
       "          if (!dataTable) return;\n",
       "\n",
       "          const docLinkHtml = 'Like what you see? Visit the ' +\n",
       "            '<a target=\"_blank\" href=https://colab.research.google.com/notebooks/data_table.ipynb>data table notebook</a>'\n",
       "            + ' to learn more about interactive tables.';\n",
       "          element.innerHTML = '';\n",
       "          dataTable['output_type'] = 'display_data';\n",
       "          await google.colab.output.renderOutput(dataTable, element);\n",
       "          const docLink = document.createElement('div');\n",
       "          docLink.innerHTML = docLinkHtml;\n",
       "          element.appendChild(docLink);\n",
       "        }\n",
       "      </script>\n",
       "    </div>\n",
       "  </div>\n",
       "  "
      ],
      "text/plain": [
       "                                                  text  label  text_length\n",
       "2                              We won't be going back.      0            5\n",
       "6              I probably won't be back, to be honest.      0            8\n",
       "8                                  This is a disgrace.      0            4\n",
       "9    The servers are not pleasant to deal with and ...      0           16\n",
       "10        The service here leaves a lot to be desired.      0            9\n",
       "..                                                 ...    ...          ...\n",
       "887                                    Don't do it!!!!      0            3\n",
       "889                      Waited and waited and waited.      0            5\n",
       "891  Waited 2 hours & never got either of our pizza...      0           20\n",
       "894    I'll take my business dinner dollars elsewhere.      0            7\n",
       "895  I guess maybe we went on an off night but it w...      0           13\n",
       "\n",
       "[447 rows x 3 columns]"
      ]
     },
     "execution_count": 20,
     "metadata": {},
     "output_type": "execute_result"
    }
   ],
   "source": [
    "negative_train = train[train['label'] == 0].copy()\n",
    "negative_train"
   ]
  },
  {
   "cell_type": "code",
   "execution_count": 21,
   "metadata": {
    "colab": {
     "base_uri": "https://localhost:8080/"
    },
    "executionInfo": {
     "elapsed": 492,
     "status": "ok",
     "timestamp": 1654055011992,
     "user": {
      "displayName": "JQ Chen",
      "userId": "13222497970351445459"
     },
     "user_tz": 240
    },
    "id": "4u4lc17hXHw6",
    "outputId": "13a20767-8d3f-484a-a558-ff9a959cb2e2"
   },
   "outputs": [
    {
     "name": "stdout",
     "output_type": "stream",
     "text": [
      "[('the', 247), (' ', 198), ('i', 191), ('and', 152), ('was', 138), ('to', 120), ('a', 113), ('not', 92), ('it', 83), ('t', 68), ('of', 68), ('food', 61), ('is', 59), ('for', 57), ('this', 56), ('we', 47), ('in', 47), ('  ', 42), ('that', 42), ('place', 40), ('be', 38), ('my', 37), ('at', 36), ('but', 36), ('back', 33), ('   ', 33), ('service', 32), ('with', 29), ('like', 28), ('very', 28), ('had', 28), ('so', 27), ('were', 27), ('are', 25), ('go', 25), ('there', 25), ('have', 24), ('here', 23), ('they', 22), ('you', 22), ('don', 21), ('good', 20), ('s', 20), ('our', 19), ('on', 19), ('time', 19), ('no', 19), ('will', 18), ('never', 17), ('would', 17)]\n"
     ]
    }
   ],
   "source": [
    "counts_negative_train = Counter()\n",
    "for index, row in negative_train.iterrows():\n",
    "    counts_negative_train.update(tokenize(row['text']))\n",
    "\n",
    "Top50_counts_negative = sorted(counts_negative_train.items(), key=lambda x: x[1], reverse=True)[:50]\n",
    "print(Top50_counts_negative)"
   ]
  },
  {
   "cell_type": "markdown",
   "metadata": {
    "id": "N32JfupzXydt"
   },
   "source": [
    "- good, great, friendly, delicious, best, and nice are words that Naive Bayes or other bag-of-word models may not be able to classify accurately. Because we also need to care about some words near our target words. For example, if there is a 'not' showing in front of 'good', then the meaning would be 'bad'. As a result, the meaning would be totally different, and Naive Bayes or other bag-of-word models are hard to detect or distinguish."
   ]
  },
  {
   "cell_type": "code",
   "execution_count": 22,
   "metadata": {
    "colab": {
     "base_uri": "https://localhost:8080/"
    },
    "executionInfo": {
     "elapsed": 256,
     "status": "ok",
     "timestamp": 1654057220050,
     "user": {
      "displayName": "JQ Chen",
      "userId": "13222497970351445459"
     },
     "user_tz": 240
    },
    "id": "WKN0vkoYfEJ5",
    "outputId": "3c20a27c-d3ac-4683-a4f0-cde9c919149f"
   },
   "outputs": [
    {
     "name": "stdout",
     "output_type": "stream",
     "text": [
      "num_words before: 1919\n",
      "num_words after: 824\n"
     ]
    }
   ],
   "source": [
    "# Reference: https://jovian.ai/aakanksha-ns/lstm-multiclass-text-classification/v/5?utm_source=embed#C18\n",
    "#deleting infrequent words\n",
    "print(\"num_words before:\",len(counts.keys()))\n",
    "for word in list(counts):\n",
    "    if counts[word] < 2:\n",
    "        del counts[word]\n",
    "print(\"num_words after:\",len(counts.keys()))"
   ]
  },
  {
   "cell_type": "code",
   "execution_count": 24,
   "metadata": {
    "executionInfo": {
     "elapsed": 175,
     "status": "ok",
     "timestamp": 1654057313556,
     "user": {
      "displayName": "JQ Chen",
      "userId": "13222497970351445459"
     },
     "user_tz": 240
    },
    "id": "gwdDOeU1fjRE"
   },
   "outputs": [],
   "source": [
    "#creating vocabulary\n",
    "vocab2index = {\"\":0, \"UNK\":1}\n",
    "words = [\"\", \"UNK\"]\n",
    "for word in counts:\n",
    "    vocab2index[word] = len(words)\n",
    "    words.append(word)"
   ]
  },
  {
   "cell_type": "code",
   "execution_count": 26,
   "metadata": {
    "executionInfo": {
     "elapsed": 201,
     "status": "ok",
     "timestamp": 1654057631126,
     "user": {
      "displayName": "JQ Chen",
      "userId": "13222497970351445459"
     },
     "user_tz": 240
    },
    "id": "PhPLFM9hgoNw"
   },
   "outputs": [],
   "source": [
    "# Reference: https://jovian.ai/aakanksha-ns/lstm-multiclass-text-classification/v/5?utm_source=embed#C18\n",
    "def encode_sentence(text, vocab2index, N=20):\n",
    "    tokenized = tokenize(text)\n",
    "    encoded = np.zeros(N, dtype=int)\n",
    "    enc1 = np.array([vocab2index.get(word, vocab2index[\"UNK\"]) for word in tokenized])\n",
    "    length = min(N, len(enc1))\n",
    "    encoded[:length] = enc1[:length]\n",
    "    return encoded, length"
   ]
  },
  {
   "cell_type": "code",
   "execution_count": 27,
   "metadata": {
    "colab": {
     "base_uri": "https://localhost:8080/",
     "height": 261
    },
    "executionInfo": {
     "elapsed": 175,
     "status": "ok",
     "timestamp": 1654057661296,
     "user": {
      "displayName": "JQ Chen",
      "userId": "13222497970351445459"
     },
     "user_tz": 240
    },
    "id": "j1pYbWlHhOjd",
    "outputId": "d3b69df0-cef8-4eed-da90-addf6344eb2a"
   },
   "outputs": [
    {
     "name": "stderr",
     "output_type": "stream",
     "text": [
      "/usr/local/lib/python3.7/dist-packages/ipykernel_launcher.py:1: VisibleDeprecationWarning: Creating an ndarray from ragged nested sequences (which is a list-or-tuple of lists-or-tuples-or ndarrays with different lengths or shapes) is deprecated. If you meant to do this, you must specify 'dtype=object' when creating the ndarray.\n",
      "  \"\"\"Entry point for launching an IPython kernel.\n"
     ]
    },
    {
     "data": {
      "text/html": [
       "\n",
       "  <div id=\"df-20908e29-3a5c-4448-b3cf-9200fdcfde8f\">\n",
       "    <div class=\"colab-df-container\">\n",
       "      <div>\n",
       "<style scoped>\n",
       "    .dataframe tbody tr th:only-of-type {\n",
       "        vertical-align: middle;\n",
       "    }\n",
       "\n",
       "    .dataframe tbody tr th {\n",
       "        vertical-align: top;\n",
       "    }\n",
       "\n",
       "    .dataframe thead th {\n",
       "        text-align: right;\n",
       "    }\n",
       "</style>\n",
       "<table border=\"1\" class=\"dataframe\">\n",
       "  <thead>\n",
       "    <tr style=\"text-align: right;\">\n",
       "      <th></th>\n",
       "      <th>text</th>\n",
       "      <th>label</th>\n",
       "      <th>text_length</th>\n",
       "      <th>encoded</th>\n",
       "    </tr>\n",
       "  </thead>\n",
       "  <tbody>\n",
       "    <tr>\n",
       "      <th>0</th>\n",
       "      <td>Great time - family dinner on a Sunday night.</td>\n",
       "      <td>1</td>\n",
       "      <td>9</td>\n",
       "      <td>[[2, 3, 4, 5, 6, 7, 8, 9, 10, 0, 0, 0, 0, 0, 0...</td>\n",
       "    </tr>\n",
       "    <tr>\n",
       "      <th>1</th>\n",
       "      <td>The classic Maine Lobster Roll was fantastic.</td>\n",
       "      <td>1</td>\n",
       "      <td>7</td>\n",
       "      <td>[[11, 12, 13, 14, 15, 16, 17, 0, 0, 0, 0, 0, 0...</td>\n",
       "    </tr>\n",
       "    <tr>\n",
       "      <th>2</th>\n",
       "      <td>We won't be going back.</td>\n",
       "      <td>0</td>\n",
       "      <td>5</td>\n",
       "      <td>[[18, 19, 20, 21, 22, 23, 0, 0, 0, 0, 0, 0, 0,...</td>\n",
       "    </tr>\n",
       "    <tr>\n",
       "      <th>3</th>\n",
       "      <td>All I have to say is the food was amazing!!!</td>\n",
       "      <td>1</td>\n",
       "      <td>10</td>\n",
       "      <td>[[24, 25, 26, 27, 28, 29, 11, 30, 16, 31, 4, 0...</td>\n",
       "    </tr>\n",
       "    <tr>\n",
       "      <th>4</th>\n",
       "      <td>Food was good, service was good, Prices were g...</td>\n",
       "      <td>1</td>\n",
       "      <td>9</td>\n",
       "      <td>[[30, 16, 32, 33, 34, 16, 32, 33, 35, 36, 32, ...</td>\n",
       "    </tr>\n",
       "  </tbody>\n",
       "</table>\n",
       "</div>\n",
       "      <button class=\"colab-df-convert\" onclick=\"convertToInteractive('df-20908e29-3a5c-4448-b3cf-9200fdcfde8f')\"\n",
       "              title=\"Convert this dataframe to an interactive table.\"\n",
       "              style=\"display:none;\">\n",
       "        \n",
       "  <svg xmlns=\"http://www.w3.org/2000/svg\" height=\"24px\"viewBox=\"0 0 24 24\"\n",
       "       width=\"24px\">\n",
       "    <path d=\"M0 0h24v24H0V0z\" fill=\"none\"/>\n",
       "    <path d=\"M18.56 5.44l.94 2.06.94-2.06 2.06-.94-2.06-.94-.94-2.06-.94 2.06-2.06.94zm-11 1L8.5 8.5l.94-2.06 2.06-.94-2.06-.94L8.5 2.5l-.94 2.06-2.06.94zm10 10l.94 2.06.94-2.06 2.06-.94-2.06-.94-.94-2.06-.94 2.06-2.06.94z\"/><path d=\"M17.41 7.96l-1.37-1.37c-.4-.4-.92-.59-1.43-.59-.52 0-1.04.2-1.43.59L10.3 9.45l-7.72 7.72c-.78.78-.78 2.05 0 2.83L4 21.41c.39.39.9.59 1.41.59.51 0 1.02-.2 1.41-.59l7.78-7.78 2.81-2.81c.8-.78.8-2.07 0-2.86zM5.41 20L4 18.59l7.72-7.72 1.47 1.35L5.41 20z\"/>\n",
       "  </svg>\n",
       "      </button>\n",
       "      \n",
       "  <style>\n",
       "    .colab-df-container {\n",
       "      display:flex;\n",
       "      flex-wrap:wrap;\n",
       "      gap: 12px;\n",
       "    }\n",
       "\n",
       "    .colab-df-convert {\n",
       "      background-color: #E8F0FE;\n",
       "      border: none;\n",
       "      border-radius: 50%;\n",
       "      cursor: pointer;\n",
       "      display: none;\n",
       "      fill: #1967D2;\n",
       "      height: 32px;\n",
       "      padding: 0 0 0 0;\n",
       "      width: 32px;\n",
       "    }\n",
       "\n",
       "    .colab-df-convert:hover {\n",
       "      background-color: #E2EBFA;\n",
       "      box-shadow: 0px 1px 2px rgba(60, 64, 67, 0.3), 0px 1px 3px 1px rgba(60, 64, 67, 0.15);\n",
       "      fill: #174EA6;\n",
       "    }\n",
       "\n",
       "    [theme=dark] .colab-df-convert {\n",
       "      background-color: #3B4455;\n",
       "      fill: #D2E3FC;\n",
       "    }\n",
       "\n",
       "    [theme=dark] .colab-df-convert:hover {\n",
       "      background-color: #434B5C;\n",
       "      box-shadow: 0px 1px 3px 1px rgba(0, 0, 0, 0.15);\n",
       "      filter: drop-shadow(0px 1px 2px rgba(0, 0, 0, 0.3));\n",
       "      fill: #FFFFFF;\n",
       "    }\n",
       "  </style>\n",
       "\n",
       "      <script>\n",
       "        const buttonEl =\n",
       "          document.querySelector('#df-20908e29-3a5c-4448-b3cf-9200fdcfde8f button.colab-df-convert');\n",
       "        buttonEl.style.display =\n",
       "          google.colab.kernel.accessAllowed ? 'block' : 'none';\n",
       "\n",
       "        async function convertToInteractive(key) {\n",
       "          const element = document.querySelector('#df-20908e29-3a5c-4448-b3cf-9200fdcfde8f');\n",
       "          const dataTable =\n",
       "            await google.colab.kernel.invokeFunction('convertToInteractive',\n",
       "                                                     [key], {});\n",
       "          if (!dataTable) return;\n",
       "\n",
       "          const docLinkHtml = 'Like what you see? Visit the ' +\n",
       "            '<a target=\"_blank\" href=https://colab.research.google.com/notebooks/data_table.ipynb>data table notebook</a>'\n",
       "            + ' to learn more about interactive tables.';\n",
       "          element.innerHTML = '';\n",
       "          dataTable['output_type'] = 'display_data';\n",
       "          await google.colab.output.renderOutput(dataTable, element);\n",
       "          const docLink = document.createElement('div');\n",
       "          docLink.innerHTML = docLinkHtml;\n",
       "          element.appendChild(docLink);\n",
       "        }\n",
       "      </script>\n",
       "    </div>\n",
       "  </div>\n",
       "  "
      ],
      "text/plain": [
       "                                                text  label  text_length  \\\n",
       "0      Great time - family dinner on a Sunday night.      1            9   \n",
       "1      The classic Maine Lobster Roll was fantastic.      1            7   \n",
       "2                            We won't be going back.      0            5   \n",
       "3       All I have to say is the food was amazing!!!      1           10   \n",
       "4  Food was good, service was good, Prices were g...      1            9   \n",
       "\n",
       "                                             encoded  \n",
       "0  [[2, 3, 4, 5, 6, 7, 8, 9, 10, 0, 0, 0, 0, 0, 0...  \n",
       "1  [[11, 12, 13, 14, 15, 16, 17, 0, 0, 0, 0, 0, 0...  \n",
       "2  [[18, 19, 20, 21, 22, 23, 0, 0, 0, 0, 0, 0, 0,...  \n",
       "3  [[24, 25, 26, 27, 28, 29, 11, 30, 16, 31, 4, 0...  \n",
       "4  [[30, 16, 32, 33, 34, 16, 32, 33, 35, 36, 32, ...  "
      ]
     },
     "execution_count": 27,
     "metadata": {},
     "output_type": "execute_result"
    }
   ],
   "source": [
    "train['encoded'] = train['text'].apply(lambda x: np.array(encode_sentence(x,vocab2index )))\n",
    "train.head()"
   ]
  },
  {
   "cell_type": "code",
   "execution_count": 28,
   "metadata": {
    "colab": {
     "base_uri": "https://localhost:8080/"
    },
    "executionInfo": {
     "elapsed": 237,
     "status": "ok",
     "timestamp": 1654057744454,
     "user": {
      "displayName": "JQ Chen",
      "userId": "13222497970351445459"
     },
     "user_tz": 240
    },
    "id": "JcY26fk4hfI3",
    "outputId": "56110c66-4b38-40fa-8508-4b0f86c04f16"
   },
   "outputs": [
    {
     "data": {
      "text/plain": [
       "Counter({0: 447, 1: 453})"
      ]
     },
     "execution_count": 28,
     "metadata": {},
     "output_type": "execute_result"
    }
   ],
   "source": [
    "#check how balanced the dataset is\n",
    "Counter(train['label'])"
   ]
  },
  {
   "cell_type": "markdown",
   "metadata": {
    "id": "D9lIsehfhlZo"
   },
   "source": [
    "- Pretty balanced"
   ]
  },
  {
   "cell_type": "code",
   "execution_count": 29,
   "metadata": {
    "executionInfo": {
     "elapsed": 173,
     "status": "ok",
     "timestamp": 1654057857092,
     "user": {
      "displayName": "JQ Chen",
      "userId": "13222497970351445459"
     },
     "user_tz": 240
    },
    "id": "GxzIG_4Rhn-9"
   },
   "outputs": [],
   "source": [
    "# Split data set\n",
    "X = list(train['encoded'])\n",
    "y = list(train['label'])\n",
    "from sklearn.model_selection import train_test_split\n",
    "X_train, X_valid, y_train, y_valid = train_test_split(X, y, test_size=0.2)"
   ]
  },
  {
   "cell_type": "markdown",
   "metadata": {
    "id": "8oQ9fSTh2h1h"
   },
   "source": [
    "## 2.2 Model Training"
   ]
  },
  {
   "cell_type": "markdown",
   "metadata": {},
   "source": [
    "- First, I calculated the text length for each review. Next, I removed punctuation, numbers, and special characters, and lowercase the text. Then, en_core_web_sm in spacy package was used for tokenization. After tokenization, I used Counter() to count the number of occurences of each word, and then removed infrequent words (word count < 2).\n",
    "- Before model training, I created a vocabulary to index mapping and encode our review text. The maximum length of any review is 20 words because the average length of reviews was around 10 (so I decided the maximum length be twice the average length of reviews).\n",
    "- I split train_yelp_reviews into training and validation set with ratio 8:2. The first layer is the embedding layer, and its input dimension is vocabulary size = 826, and output dimsension of embedding dimension is 100. The second layer is the LSTM layer, its input is the output from the embedding layer, and the dimension of the output of LSTM is 100. For LSTM, I used bidirectional training, and the rate of dropout was 0.3. The final layer is the linear layer, and its input dimension is 100; output dimension is 2. Loss function would be cross-entropy loss; optimizer would be Adam optimizer. The epochs was 125, and learning rate was 0.01"
   ]
  },
  {
   "cell_type": "markdown",
   "metadata": {
    "id": "548q-eeBiYI6"
   },
   "source": [
    "#### Pytorch Dataset"
   ]
  },
  {
   "cell_type": "markdown",
   "metadata": {
    "id": "d8Oe1aw_ibFc"
   },
   "source": [
    "- Reference: https://jovian.ai/aakanksha-ns/lstm-multiclass-text-classification/v/5?utm_source=embed#C18"
   ]
  },
  {
   "cell_type": "code",
   "execution_count": 30,
   "metadata": {
    "executionInfo": {
     "elapsed": 286,
     "status": "ok",
     "timestamp": 1654057992566,
     "user": {
      "displayName": "JQ Chen",
      "userId": "13222497970351445459"
     },
     "user_tz": 240
    },
    "id": "WUsjnRD7h-5x"
   },
   "outputs": [],
   "source": [
    "class ReviewsDataset(Dataset):\n",
    "    def __init__(self, X, Y):\n",
    "        self.X = X\n",
    "        self.y = Y\n",
    "        \n",
    "    def __len__(self):\n",
    "        return len(self.y)\n",
    "    \n",
    "    def __getitem__(self, idx):\n",
    "        return torch.from_numpy(self.X[idx][0].astype(np.int32)), self.y[idx], self.X[idx][1]"
   ]
  },
  {
   "cell_type": "code",
   "execution_count": 31,
   "metadata": {
    "executionInfo": {
     "elapsed": 340,
     "status": "ok",
     "timestamp": 1654058014417,
     "user": {
      "displayName": "JQ Chen",
      "userId": "13222497970351445459"
     },
     "user_tz": 240
    },
    "id": "JnUrVWNCigqh"
   },
   "outputs": [],
   "source": [
    "train_ds = ReviewsDataset(X_train, y_train)\n",
    "valid_ds = ReviewsDataset(X_valid, y_valid)"
   ]
  },
  {
   "cell_type": "code",
   "execution_count": 42,
   "metadata": {
    "executionInfo": {
     "elapsed": 253,
     "status": "ok",
     "timestamp": 1654060455273,
     "user": {
      "displayName": "JQ Chen",
      "userId": "13222497970351445459"
     },
     "user_tz": 240
    },
    "id": "Ugw-iYALjZYG"
   },
   "outputs": [],
   "source": [
    "# Reference: https://jovian.ai/aakanksha-ns/lstm-multiclass-text-classification/v/5?utm_source=embed#C18\n",
    "def train_model(model, epochs=10, lr=0.001):\n",
    "    parameters = filter(lambda p: p.requires_grad, model.parameters())\n",
    "    optimizer = torch.optim.Adam(parameters, lr=lr)\n",
    "    for i in range(epochs):\n",
    "        model.train()\n",
    "        sum_loss = 0.0\n",
    "        total = 0\n",
    "        for x, y, l in train_dl:\n",
    "            x = x.long()\n",
    "            y = y.long()\n",
    "            y_pred = model(x, l)\n",
    "            optimizer.zero_grad()\n",
    "            loss = F.cross_entropy(y_pred, y)\n",
    "            loss.backward()\n",
    "            optimizer.step()\n",
    "            sum_loss += loss.item()*y.shape[0]\n",
    "            total += y.shape[0]\n",
    "        val_loss, val_acc, val_rmse = validation_metrics(model, val_dl)\n",
    "        if i % 5 == 1:\n",
    "            print(\"train loss %.3f, val loss %.3f, val accuracy %.3f, and val rmse %.3f\" % (sum_loss/total, val_loss, val_acc, val_rmse))\n",
    "\n",
    "def validation_metrics (model, valid_dl):\n",
    "    model.eval()\n",
    "    correct = 0\n",
    "    total = 0\n",
    "    sum_loss = 0.0\n",
    "    sum_rmse = 0.0\n",
    "    for x, y, l in valid_dl:\n",
    "        x = x.long()\n",
    "        y = y.long()\n",
    "        y_hat = model(x, l)\n",
    "        loss = F.cross_entropy(y_hat, y)\n",
    "        pred = torch.max(y_hat, 1)[1]\n",
    "        correct += (pred == y).float().sum()\n",
    "        total += y.shape[0]\n",
    "        sum_loss += loss.item()*y.shape[0]\n",
    "        sum_rmse += np.sqrt(mean_squared_error(pred, y.unsqueeze(-1)))*y.shape[0]\n",
    "    return sum_loss/total, correct/total, sum_rmse/total"
   ]
  },
  {
   "cell_type": "code",
   "execution_count": 34,
   "metadata": {
    "executionInfo": {
     "elapsed": 164,
     "status": "ok",
     "timestamp": 1654059449157,
     "user": {
      "displayName": "JQ Chen",
      "userId": "13222497970351445459"
     },
     "user_tz": 240
    },
    "id": "faHESfRGnnVN"
   },
   "outputs": [],
   "source": [
    "batch_size = 64\n",
    "vocab_size = len(words)\n",
    "train_dl = DataLoader(train_ds, batch_size=batch_size, shuffle=True)\n",
    "val_dl = DataLoader(valid_ds, batch_size=batch_size)"
   ]
  },
  {
   "cell_type": "markdown",
   "metadata": {
    "id": "KlhC1NQzpgQn"
   },
   "source": [
    "### LSTM model setting"
   ]
  },
  {
   "cell_type": "code",
   "execution_count": 72,
   "metadata": {
    "executionInfo": {
     "elapsed": 185,
     "status": "ok",
     "timestamp": 1654062547893,
     "user": {
      "displayName": "JQ Chen",
      "userId": "13222497970351445459"
     },
     "user_tz": 240
    },
    "id": "zEwsEWM2oHqG"
   },
   "outputs": [],
   "source": [
    "# Reference: https://jovian.ai/aakanksha-ns/lstm-multiclass-text-classification/v/5?utm_source=embed#C18\n",
    "# Reference: https://github.com/bentrevett/pytorch-sentiment-analysis/blob/master/2%20-%20Upgraded%20Sentiment%20Analysis.ipynb\n",
    "class LSTM_fixed_len(torch.nn.Module) :\n",
    "    def __init__(self, vocab_size, embedding_dim, hidden_dim, dropout, bidirectional, n_layers) :\n",
    "        super().__init__()\n",
    "        self.embeddings = nn.Embedding(vocab_size, embedding_dim, padding_idx=0)\n",
    "        self.lstm = nn.LSTM(embedding_dim, \n",
    "                            hidden_dim,\n",
    "                            num_layers=n_layers, \n",
    "                            batch_first=True,\n",
    "                            bidirectional=bidirectional, \n",
    "                            dropout=dropout)\n",
    "        self.linear = nn.Linear(hidden_dim, 2)\n",
    "        self.dropout = nn.Dropout(dropout)\n",
    "        \n",
    "    def forward(self, x, l):\n",
    "        x = self.embeddings(x)\n",
    "        x = self.dropout(x)\n",
    "        lstm_out, (ht, ct) = self.lstm(x)\n",
    "        return self.linear(ht[-1])"
   ]
  },
  {
   "cell_type": "code",
   "execution_count": 75,
   "metadata": {
    "executionInfo": {
     "elapsed": 249,
     "status": "ok",
     "timestamp": 1654062999806,
     "user": {
      "displayName": "JQ Chen",
      "userId": "13222497970351445459"
     },
     "user_tz": 240
    },
    "id": "mnNs9y-7qyYB"
   },
   "outputs": [],
   "source": [
    "model_fixed =  LSTM_fixed_len(vocab_size, 100, 100, dropout = 0.3, bidirectional = True, n_layers = 2)"
   ]
  },
  {
   "cell_type": "code",
   "execution_count": 76,
   "metadata": {
    "colab": {
     "base_uri": "https://localhost:8080/"
    },
    "executionInfo": {
     "elapsed": 148595,
     "status": "ok",
     "timestamp": 1654063150229,
     "user": {
      "displayName": "JQ Chen",
      "userId": "13222497970351445459"
     },
     "user_tz": 240
    },
    "id": "OWt5ynAIq9aR",
    "outputId": "ebbb6bdb-d757-4275-f9e1-f13847c8c13a"
   },
   "outputs": [
    {
     "name": "stdout",
     "output_type": "stream",
     "text": [
      "train loss 0.489, val loss 0.608, val accuracy 0.661, and val rmse 0.579\n",
      "train loss 0.095, val loss 1.267, val accuracy 0.706, and val rmse 0.541\n",
      "train loss 0.021, val loss 1.449, val accuracy 0.739, and val rmse 0.510\n",
      "train loss 0.017, val loss 0.912, val accuracy 0.772, and val rmse 0.476\n",
      "train loss 0.008, val loss 1.316, val accuracy 0.778, and val rmse 0.466\n",
      "train loss 0.009, val loss 1.289, val accuracy 0.750, and val rmse 0.499\n",
      "train loss 0.009, val loss 1.235, val accuracy 0.800, and val rmse 0.445\n",
      "train loss 0.015, val loss 1.199, val accuracy 0.761, and val rmse 0.488\n",
      "train loss 0.002, val loss 1.312, val accuracy 0.761, and val rmse 0.489\n",
      "train loss 0.003, val loss 1.456, val accuracy 0.767, and val rmse 0.482\n",
      "train loss 0.008, val loss 1.573, val accuracy 0.783, and val rmse 0.463\n",
      "train loss 0.002, val loss 1.462, val accuracy 0.733, and val rmse 0.515\n",
      "train loss 0.002, val loss 1.633, val accuracy 0.772, and val rmse 0.473\n",
      "train loss 0.001, val loss 1.744, val accuracy 0.722, and val rmse 0.526\n",
      "train loss 0.005, val loss 1.445, val accuracy 0.778, and val rmse 0.469\n",
      "train loss 0.014, val loss 1.460, val accuracy 0.778, and val rmse 0.467\n",
      "train loss 0.008, val loss 1.197, val accuracy 0.772, and val rmse 0.475\n",
      "train loss 0.001, val loss 1.300, val accuracy 0.767, and val rmse 0.482\n",
      "train loss 0.000, val loss 1.443, val accuracy 0.778, and val rmse 0.470\n",
      "train loss 0.004, val loss 1.604, val accuracy 0.756, and val rmse 0.493\n",
      "train loss 0.000, val loss 1.653, val accuracy 0.767, and val rmse 0.481\n",
      "train loss 0.006, val loss 1.519, val accuracy 0.767, and val rmse 0.479\n",
      "train loss 0.001, val loss 1.599, val accuracy 0.767, and val rmse 0.483\n",
      "train loss 0.001, val loss 1.315, val accuracy 0.772, and val rmse 0.476\n",
      "train loss 0.002, val loss 1.539, val accuracy 0.767, and val rmse 0.479\n"
     ]
    }
   ],
   "source": [
    "train_model(model_fixed, epochs=125, lr=0.01)"
   ]
  },
  {
   "cell_type": "markdown",
   "metadata": {
    "id": "S0SsQvek2qLY"
   },
   "source": [
    "## 2.3 Evaluation"
   ]
  },
  {
   "cell_type": "markdown",
   "metadata": {
    "id": "SkBioFpv25yc"
   },
   "source": [
    "#### Load testing set"
   ]
  },
  {
   "cell_type": "code",
   "execution_count": 82,
   "metadata": {
    "colab": {
     "base_uri": "https://localhost:8080/",
     "height": 424
    },
    "executionInfo": {
     "elapsed": 232,
     "status": "ok",
     "timestamp": 1654063924043,
     "user": {
      "displayName": "JQ Chen",
      "userId": "13222497970351445459"
     },
     "user_tz": 240
    },
    "id": "vTVd7r0j2tOy",
    "outputId": "15065e81-6f23-4e94-bdb3-ae5a4a3dd75a"
   },
   "outputs": [
    {
     "data": {
      "text/html": [
       "\n",
       "  <div id=\"df-0a091dc5-ff8b-498b-957e-30bef789b870\">\n",
       "    <div class=\"colab-df-container\">\n",
       "      <div>\n",
       "<style scoped>\n",
       "    .dataframe tbody tr th:only-of-type {\n",
       "        vertical-align: middle;\n",
       "    }\n",
       "\n",
       "    .dataframe tbody tr th {\n",
       "        vertical-align: top;\n",
       "    }\n",
       "\n",
       "    .dataframe thead th {\n",
       "        text-align: right;\n",
       "    }\n",
       "</style>\n",
       "<table border=\"1\" class=\"dataframe\">\n",
       "  <thead>\n",
       "    <tr style=\"text-align: right;\">\n",
       "      <th></th>\n",
       "      <th>text</th>\n",
       "    </tr>\n",
       "  </thead>\n",
       "  <tbody>\n",
       "    <tr>\n",
       "      <th>0</th>\n",
       "      <td>Would not recommend to others.</td>\n",
       "    </tr>\n",
       "    <tr>\n",
       "      <th>1</th>\n",
       "      <td>I will be back many times soon.</td>\n",
       "    </tr>\n",
       "    <tr>\n",
       "      <th>2</th>\n",
       "      <td>Their steaks are 100% recommended!</td>\n",
       "    </tr>\n",
       "    <tr>\n",
       "      <th>3</th>\n",
       "      <td>At first glance it is a lovely bakery cafe - n...</td>\n",
       "    </tr>\n",
       "    <tr>\n",
       "      <th>4</th>\n",
       "      <td>We waited an hour for what was a breakfast I c...</td>\n",
       "    </tr>\n",
       "    <tr>\n",
       "      <th>...</th>\n",
       "      <td>...</td>\n",
       "    </tr>\n",
       "    <tr>\n",
       "      <th>95</th>\n",
       "      <td>The menu is always changing, food quality is g...</td>\n",
       "    </tr>\n",
       "    <tr>\n",
       "      <th>96</th>\n",
       "      <td>How can you call yourself a steakhouse if you ...</td>\n",
       "    </tr>\n",
       "    <tr>\n",
       "      <th>97</th>\n",
       "      <td>The food sucked, which we expected but it suck...</td>\n",
       "    </tr>\n",
       "    <tr>\n",
       "      <th>98</th>\n",
       "      <td>It was a pale color instead of nice and char a...</td>\n",
       "    </tr>\n",
       "    <tr>\n",
       "      <th>99</th>\n",
       "      <td>There is nothing authentic about this place.</td>\n",
       "    </tr>\n",
       "  </tbody>\n",
       "</table>\n",
       "<p>100 rows × 1 columns</p>\n",
       "</div>\n",
       "      <button class=\"colab-df-convert\" onclick=\"convertToInteractive('df-0a091dc5-ff8b-498b-957e-30bef789b870')\"\n",
       "              title=\"Convert this dataframe to an interactive table.\"\n",
       "              style=\"display:none;\">\n",
       "        \n",
       "  <svg xmlns=\"http://www.w3.org/2000/svg\" height=\"24px\"viewBox=\"0 0 24 24\"\n",
       "       width=\"24px\">\n",
       "    <path d=\"M0 0h24v24H0V0z\" fill=\"none\"/>\n",
       "    <path d=\"M18.56 5.44l.94 2.06.94-2.06 2.06-.94-2.06-.94-.94-2.06-.94 2.06-2.06.94zm-11 1L8.5 8.5l.94-2.06 2.06-.94-2.06-.94L8.5 2.5l-.94 2.06-2.06.94zm10 10l.94 2.06.94-2.06 2.06-.94-2.06-.94-.94-2.06-.94 2.06-2.06.94z\"/><path d=\"M17.41 7.96l-1.37-1.37c-.4-.4-.92-.59-1.43-.59-.52 0-1.04.2-1.43.59L10.3 9.45l-7.72 7.72c-.78.78-.78 2.05 0 2.83L4 21.41c.39.39.9.59 1.41.59.51 0 1.02-.2 1.41-.59l7.78-7.78 2.81-2.81c.8-.78.8-2.07 0-2.86zM5.41 20L4 18.59l7.72-7.72 1.47 1.35L5.41 20z\"/>\n",
       "  </svg>\n",
       "      </button>\n",
       "      \n",
       "  <style>\n",
       "    .colab-df-container {\n",
       "      display:flex;\n",
       "      flex-wrap:wrap;\n",
       "      gap: 12px;\n",
       "    }\n",
       "\n",
       "    .colab-df-convert {\n",
       "      background-color: #E8F0FE;\n",
       "      border: none;\n",
       "      border-radius: 50%;\n",
       "      cursor: pointer;\n",
       "      display: none;\n",
       "      fill: #1967D2;\n",
       "      height: 32px;\n",
       "      padding: 0 0 0 0;\n",
       "      width: 32px;\n",
       "    }\n",
       "\n",
       "    .colab-df-convert:hover {\n",
       "      background-color: #E2EBFA;\n",
       "      box-shadow: 0px 1px 2px rgba(60, 64, 67, 0.3), 0px 1px 3px 1px rgba(60, 64, 67, 0.15);\n",
       "      fill: #174EA6;\n",
       "    }\n",
       "\n",
       "    [theme=dark] .colab-df-convert {\n",
       "      background-color: #3B4455;\n",
       "      fill: #D2E3FC;\n",
       "    }\n",
       "\n",
       "    [theme=dark] .colab-df-convert:hover {\n",
       "      background-color: #434B5C;\n",
       "      box-shadow: 0px 1px 3px 1px rgba(0, 0, 0, 0.15);\n",
       "      filter: drop-shadow(0px 1px 2px rgba(0, 0, 0, 0.3));\n",
       "      fill: #FFFFFF;\n",
       "    }\n",
       "  </style>\n",
       "\n",
       "      <script>\n",
       "        const buttonEl =\n",
       "          document.querySelector('#df-0a091dc5-ff8b-498b-957e-30bef789b870 button.colab-df-convert');\n",
       "        buttonEl.style.display =\n",
       "          google.colab.kernel.accessAllowed ? 'block' : 'none';\n",
       "\n",
       "        async function convertToInteractive(key) {\n",
       "          const element = document.querySelector('#df-0a091dc5-ff8b-498b-957e-30bef789b870');\n",
       "          const dataTable =\n",
       "            await google.colab.kernel.invokeFunction('convertToInteractive',\n",
       "                                                     [key], {});\n",
       "          if (!dataTable) return;\n",
       "\n",
       "          const docLinkHtml = 'Like what you see? Visit the ' +\n",
       "            '<a target=\"_blank\" href=https://colab.research.google.com/notebooks/data_table.ipynb>data table notebook</a>'\n",
       "            + ' to learn more about interactive tables.';\n",
       "          element.innerHTML = '';\n",
       "          dataTable['output_type'] = 'display_data';\n",
       "          await google.colab.output.renderOutput(dataTable, element);\n",
       "          const docLink = document.createElement('div');\n",
       "          docLink.innerHTML = docLinkHtml;\n",
       "          element.appendChild(docLink);\n",
       "        }\n",
       "      </script>\n",
       "    </div>\n",
       "  </div>\n",
       "  "
      ],
      "text/plain": [
       "                                                 text\n",
       "0                      Would not recommend to others.\n",
       "1                     I will be back many times soon.\n",
       "2                  Their steaks are 100% recommended!\n",
       "3   At first glance it is a lovely bakery cafe - n...\n",
       "4   We waited an hour for what was a breakfast I c...\n",
       "..                                                ...\n",
       "95  The menu is always changing, food quality is g...\n",
       "96  How can you call yourself a steakhouse if you ...\n",
       "97  The food sucked, which we expected but it suck...\n",
       "98  It was a pale color instead of nice and char a...\n",
       "99       There is nothing authentic about this place.\n",
       "\n",
       "[100 rows x 1 columns]"
      ]
     },
     "execution_count": 82,
     "metadata": {},
     "output_type": "execute_result"
    }
   ],
   "source": [
    "test = pd.read_csv('/content/drive/MyDrive/test colab/test_yelp_reviews.csv', sep='\\t', engine='python')\n",
    "test"
   ]
  },
  {
   "cell_type": "markdown",
   "metadata": {
    "id": "Ozghkdag4_jm"
   },
   "source": [
    "#### Transform testing set"
   ]
  },
  {
   "cell_type": "code",
   "execution_count": 83,
   "metadata": {
    "colab": {
     "base_uri": "https://localhost:8080/",
     "height": 478
    },
    "executionInfo": {
     "elapsed": 221,
     "status": "ok",
     "timestamp": 1654063929431,
     "user": {
      "displayName": "JQ Chen",
      "userId": "13222497970351445459"
     },
     "user_tz": 240
    },
    "id": "WdRcmnYN3pPG",
    "outputId": "e07131c4-0dae-45fe-e2fd-5a9b34072cd6"
   },
   "outputs": [
    {
     "name": "stderr",
     "output_type": "stream",
     "text": [
      "/usr/local/lib/python3.7/dist-packages/ipykernel_launcher.py:1: VisibleDeprecationWarning: Creating an ndarray from ragged nested sequences (which is a list-or-tuple of lists-or-tuples-or ndarrays with different lengths or shapes) is deprecated. If you meant to do this, you must specify 'dtype=object' when creating the ndarray.\n",
      "  \"\"\"Entry point for launching an IPython kernel.\n"
     ]
    },
    {
     "data": {
      "text/html": [
       "\n",
       "  <div id=\"df-e5cb18fe-2fb5-46bd-a243-29893573468d\">\n",
       "    <div class=\"colab-df-container\">\n",
       "      <div>\n",
       "<style scoped>\n",
       "    .dataframe tbody tr th:only-of-type {\n",
       "        vertical-align: middle;\n",
       "    }\n",
       "\n",
       "    .dataframe tbody tr th {\n",
       "        vertical-align: top;\n",
       "    }\n",
       "\n",
       "    .dataframe thead th {\n",
       "        text-align: right;\n",
       "    }\n",
       "</style>\n",
       "<table border=\"1\" class=\"dataframe\">\n",
       "  <thead>\n",
       "    <tr style=\"text-align: right;\">\n",
       "      <th></th>\n",
       "      <th>text</th>\n",
       "      <th>encoded</th>\n",
       "      <th>text_length</th>\n",
       "    </tr>\n",
       "  </thead>\n",
       "  <tbody>\n",
       "    <tr>\n",
       "      <th>0</th>\n",
       "      <td>Would not recommend to others.</td>\n",
       "      <td>[[289, 40, 290, 27, 691, 0, 0, 0, 0, 0, 0, 0, ...</td>\n",
       "      <td>5</td>\n",
       "    </tr>\n",
       "    <tr>\n",
       "      <th>1</th>\n",
       "      <td>I will be back many times soon.</td>\n",
       "      <td>[[25, 148, 21, 23, 431, 73, 725, 0, 0, 0, 0, 0...</td>\n",
       "      <td>7</td>\n",
       "    </tr>\n",
       "    <tr>\n",
       "      <th>2</th>\n",
       "      <td>Their steaks are 100% recommended!</td>\n",
       "      <td>[[243, 1020, 50, 576, 1, 0, 0, 0, 0, 0, 0, 0, ...</td>\n",
       "      <td>5</td>\n",
       "    </tr>\n",
       "    <tr>\n",
       "      <th>3</th>\n",
       "      <td>At first glance it is a lovely bakery cafe - n...</td>\n",
       "      <td>[[112, 123, 1, 43, 29, 8, 814, 1201, 1808, 4, ...</td>\n",
       "      <td>15</td>\n",
       "    </tr>\n",
       "    <tr>\n",
       "      <th>4</th>\n",
       "      <td>We waited an hour for what was a breakfast I c...</td>\n",
       "      <td>[[18, 1482, 77, 1166, 88, 144, 16, 8, 253, 25,...</td>\n",
       "      <td>18</td>\n",
       "    </tr>\n",
       "    <tr>\n",
       "      <th>...</th>\n",
       "      <td>...</td>\n",
       "      <td>...</td>\n",
       "      <td>...</td>\n",
       "    </tr>\n",
       "    <tr>\n",
       "      <th>95</th>\n",
       "      <td>The menu is always changing, food quality is g...</td>\n",
       "      <td>[[11, 234, 29, 61, 1, 33, 30, 167, 29, 22, 760...</td>\n",
       "      <td>15</td>\n",
       "    </tr>\n",
       "    <tr>\n",
       "      <th>96</th>\n",
       "      <td>How can you call yourself a steakhouse if you ...</td>\n",
       "      <td>[[81, 284, 38, 1, 1724, 8, 1, 37, 38, 284, 20,...</td>\n",
       "      <td>17</td>\n",
       "    </tr>\n",
       "    <tr>\n",
       "      <th>97</th>\n",
       "      <td>The food sucked, which we expected but it suck...</td>\n",
       "      <td>[[11, 30, 1347, 33, 135, 18, 1612, 228, 43, 13...</td>\n",
       "      <td>15</td>\n",
       "    </tr>\n",
       "    <tr>\n",
       "      <th>98</th>\n",
       "      <td>It was a pale color instead of nice and char a...</td>\n",
       "      <td>[[43, 16, 8, 1, 1887, 1, 214, 266, 48, 1, 48, ...</td>\n",
       "      <td>14</td>\n",
       "    </tr>\n",
       "    <tr>\n",
       "      <th>99</th>\n",
       "      <td>There is nothing authentic about this place.</td>\n",
       "      <td>[[161, 29, 670, 981, 227, 53, 150, 0, 0, 0, 0,...</td>\n",
       "      <td>7</td>\n",
       "    </tr>\n",
       "  </tbody>\n",
       "</table>\n",
       "<p>100 rows × 3 columns</p>\n",
       "</div>\n",
       "      <button class=\"colab-df-convert\" onclick=\"convertToInteractive('df-e5cb18fe-2fb5-46bd-a243-29893573468d')\"\n",
       "              title=\"Convert this dataframe to an interactive table.\"\n",
       "              style=\"display:none;\">\n",
       "        \n",
       "  <svg xmlns=\"http://www.w3.org/2000/svg\" height=\"24px\"viewBox=\"0 0 24 24\"\n",
       "       width=\"24px\">\n",
       "    <path d=\"M0 0h24v24H0V0z\" fill=\"none\"/>\n",
       "    <path d=\"M18.56 5.44l.94 2.06.94-2.06 2.06-.94-2.06-.94-.94-2.06-.94 2.06-2.06.94zm-11 1L8.5 8.5l.94-2.06 2.06-.94-2.06-.94L8.5 2.5l-.94 2.06-2.06.94zm10 10l.94 2.06.94-2.06 2.06-.94-2.06-.94-.94-2.06-.94 2.06-2.06.94z\"/><path d=\"M17.41 7.96l-1.37-1.37c-.4-.4-.92-.59-1.43-.59-.52 0-1.04.2-1.43.59L10.3 9.45l-7.72 7.72c-.78.78-.78 2.05 0 2.83L4 21.41c.39.39.9.59 1.41.59.51 0 1.02-.2 1.41-.59l7.78-7.78 2.81-2.81c.8-.78.8-2.07 0-2.86zM5.41 20L4 18.59l7.72-7.72 1.47 1.35L5.41 20z\"/>\n",
       "  </svg>\n",
       "      </button>\n",
       "      \n",
       "  <style>\n",
       "    .colab-df-container {\n",
       "      display:flex;\n",
       "      flex-wrap:wrap;\n",
       "      gap: 12px;\n",
       "    }\n",
       "\n",
       "    .colab-df-convert {\n",
       "      background-color: #E8F0FE;\n",
       "      border: none;\n",
       "      border-radius: 50%;\n",
       "      cursor: pointer;\n",
       "      display: none;\n",
       "      fill: #1967D2;\n",
       "      height: 32px;\n",
       "      padding: 0 0 0 0;\n",
       "      width: 32px;\n",
       "    }\n",
       "\n",
       "    .colab-df-convert:hover {\n",
       "      background-color: #E2EBFA;\n",
       "      box-shadow: 0px 1px 2px rgba(60, 64, 67, 0.3), 0px 1px 3px 1px rgba(60, 64, 67, 0.15);\n",
       "      fill: #174EA6;\n",
       "    }\n",
       "\n",
       "    [theme=dark] .colab-df-convert {\n",
       "      background-color: #3B4455;\n",
       "      fill: #D2E3FC;\n",
       "    }\n",
       "\n",
       "    [theme=dark] .colab-df-convert:hover {\n",
       "      background-color: #434B5C;\n",
       "      box-shadow: 0px 1px 3px 1px rgba(0, 0, 0, 0.15);\n",
       "      filter: drop-shadow(0px 1px 2px rgba(0, 0, 0, 0.3));\n",
       "      fill: #FFFFFF;\n",
       "    }\n",
       "  </style>\n",
       "\n",
       "      <script>\n",
       "        const buttonEl =\n",
       "          document.querySelector('#df-e5cb18fe-2fb5-46bd-a243-29893573468d button.colab-df-convert');\n",
       "        buttonEl.style.display =\n",
       "          google.colab.kernel.accessAllowed ? 'block' : 'none';\n",
       "\n",
       "        async function convertToInteractive(key) {\n",
       "          const element = document.querySelector('#df-e5cb18fe-2fb5-46bd-a243-29893573468d');\n",
       "          const dataTable =\n",
       "            await google.colab.kernel.invokeFunction('convertToInteractive',\n",
       "                                                     [key], {});\n",
       "          if (!dataTable) return;\n",
       "\n",
       "          const docLinkHtml = 'Like what you see? Visit the ' +\n",
       "            '<a target=\"_blank\" href=https://colab.research.google.com/notebooks/data_table.ipynb>data table notebook</a>'\n",
       "            + ' to learn more about interactive tables.';\n",
       "          element.innerHTML = '';\n",
       "          dataTable['output_type'] = 'display_data';\n",
       "          await google.colab.output.renderOutput(dataTable, element);\n",
       "          const docLink = document.createElement('div');\n",
       "          docLink.innerHTML = docLinkHtml;\n",
       "          element.appendChild(docLink);\n",
       "        }\n",
       "      </script>\n",
       "    </div>\n",
       "  </div>\n",
       "  "
      ],
      "text/plain": [
       "                                                 text  \\\n",
       "0                      Would not recommend to others.   \n",
       "1                     I will be back many times soon.   \n",
       "2                  Their steaks are 100% recommended!   \n",
       "3   At first glance it is a lovely bakery cafe - n...   \n",
       "4   We waited an hour for what was a breakfast I c...   \n",
       "..                                                ...   \n",
       "95  The menu is always changing, food quality is g...   \n",
       "96  How can you call yourself a steakhouse if you ...   \n",
       "97  The food sucked, which we expected but it suck...   \n",
       "98  It was a pale color instead of nice and char a...   \n",
       "99       There is nothing authentic about this place.   \n",
       "\n",
       "                                              encoded  text_length  \n",
       "0   [[289, 40, 290, 27, 691, 0, 0, 0, 0, 0, 0, 0, ...            5  \n",
       "1   [[25, 148, 21, 23, 431, 73, 725, 0, 0, 0, 0, 0...            7  \n",
       "2   [[243, 1020, 50, 576, 1, 0, 0, 0, 0, 0, 0, 0, ...            5  \n",
       "3   [[112, 123, 1, 43, 29, 8, 814, 1201, 1808, 4, ...           15  \n",
       "4   [[18, 1482, 77, 1166, 88, 144, 16, 8, 253, 25,...           18  \n",
       "..                                                ...          ...  \n",
       "95  [[11, 234, 29, 61, 1, 33, 30, 167, 29, 22, 760...           15  \n",
       "96  [[81, 284, 38, 1, 1724, 8, 1, 37, 38, 284, 20,...           17  \n",
       "97  [[11, 30, 1347, 33, 135, 18, 1612, 228, 43, 13...           15  \n",
       "98  [[43, 16, 8, 1, 1887, 1, 214, 266, 48, 1, 48, ...           14  \n",
       "99  [[161, 29, 670, 981, 227, 53, 150, 0, 0, 0, 0,...            7  \n",
       "\n",
       "[100 rows x 3 columns]"
      ]
     },
     "execution_count": 83,
     "metadata": {},
     "output_type": "execute_result"
    }
   ],
   "source": [
    "test['encoded'] = test['text'].apply(lambda x: np.array(encode_sentence(x,vocab2index )))\n",
    "test['text_length'] = test['text'].apply(lambda x: len(x.split()))\n",
    "test"
   ]
  },
  {
   "cell_type": "markdown",
   "metadata": {
    "id": "P70NA5I_73fn"
   },
   "source": [
    "#### Prediction"
   ]
  },
  {
   "cell_type": "code",
   "execution_count": 96,
   "metadata": {
    "colab": {
     "base_uri": "https://localhost:8080/"
    },
    "executionInfo": {
     "elapsed": 418,
     "status": "ok",
     "timestamp": 1654064633389,
     "user": {
      "displayName": "JQ Chen",
      "userId": "13222497970351445459"
     },
     "user_tz": 240
    },
    "id": "wTyo_Zi86TNw",
    "outputId": "e286eefa-3b45-4ed7-87c5-55a162580087"
   },
   "outputs": [
    {
     "data": {
      "text/plain": [
       "tensor([0, 1, 1, 1, 0, 1, 0, 1, 1, 1, 0, 1, 0, 1, 0, 0, 0, 0, 1, 1, 1, 1, 0, 0,\n",
       "        1, 0, 0, 1, 0, 0, 0, 1, 0, 0, 0, 1, 0, 1, 1, 0, 1, 1, 1, 0, 1, 1, 0, 0,\n",
       "        1, 0, 1, 0, 0, 0, 0, 0, 0, 0, 1, 1, 1, 1, 0, 1, 1, 1, 1, 0, 0, 0, 0, 0,\n",
       "        1, 0, 1, 0, 1, 0, 1, 0, 0, 0, 1, 1, 1, 0, 1, 1, 1, 1, 1, 0, 1, 1, 0, 0,\n",
       "        0, 0, 0, 0])"
      ]
     },
     "execution_count": 96,
     "metadata": {},
     "output_type": "execute_result"
    }
   ],
   "source": [
    "X = list(test['encoded'])\n",
    "y = list(test['text_length'])\n",
    "test2 = ReviewsDataset(X, y)\n",
    "test3 = DataLoader(test2, batch_size=100)\n",
    "for x, y, l in test3:\n",
    "    x = x.long()\n",
    "    y = y.long()\n",
    "    pred = model_fixed(x, l)\n",
    "  \n",
    "predictions = torch.max(pred, 1)[1]\n",
    "predictions"
   ]
  },
  {
   "cell_type": "markdown",
   "metadata": {
    "id": "sWbw914g8NNd"
   },
   "source": [
    "#### Save"
   ]
  },
  {
   "cell_type": "code",
   "execution_count": 98,
   "metadata": {
    "colab": {
     "base_uri": "https://localhost:8080/",
     "height": 424
    },
    "executionInfo": {
     "elapsed": 186,
     "status": "ok",
     "timestamp": 1654064954339,
     "user": {
      "displayName": "JQ Chen",
      "userId": "13222497970351445459"
     },
     "user_tz": 240
    },
    "id": "cLyhz86x8MkR",
    "outputId": "30a4afd7-bc26-4b7c-b558-2d302394d084"
   },
   "outputs": [
    {
     "data": {
      "text/html": [
       "\n",
       "  <div id=\"df-25129a18-0f1d-4ab0-b5a3-f40701dd571d\">\n",
       "    <div class=\"colab-df-container\">\n",
       "      <div>\n",
       "<style scoped>\n",
       "    .dataframe tbody tr th:only-of-type {\n",
       "        vertical-align: middle;\n",
       "    }\n",
       "\n",
       "    .dataframe tbody tr th {\n",
       "        vertical-align: top;\n",
       "    }\n",
       "\n",
       "    .dataframe thead th {\n",
       "        text-align: right;\n",
       "    }\n",
       "</style>\n",
       "<table border=\"1\" class=\"dataframe\">\n",
       "  <thead>\n",
       "    <tr style=\"text-align: right;\">\n",
       "      <th></th>\n",
       "      <th>classification</th>\n",
       "    </tr>\n",
       "  </thead>\n",
       "  <tbody>\n",
       "    <tr>\n",
       "      <th>0</th>\n",
       "      <td>0</td>\n",
       "    </tr>\n",
       "    <tr>\n",
       "      <th>1</th>\n",
       "      <td>1</td>\n",
       "    </tr>\n",
       "    <tr>\n",
       "      <th>2</th>\n",
       "      <td>1</td>\n",
       "    </tr>\n",
       "    <tr>\n",
       "      <th>3</th>\n",
       "      <td>1</td>\n",
       "    </tr>\n",
       "    <tr>\n",
       "      <th>4</th>\n",
       "      <td>0</td>\n",
       "    </tr>\n",
       "    <tr>\n",
       "      <th>...</th>\n",
       "      <td>...</td>\n",
       "    </tr>\n",
       "    <tr>\n",
       "      <th>95</th>\n",
       "      <td>0</td>\n",
       "    </tr>\n",
       "    <tr>\n",
       "      <th>96</th>\n",
       "      <td>0</td>\n",
       "    </tr>\n",
       "    <tr>\n",
       "      <th>97</th>\n",
       "      <td>0</td>\n",
       "    </tr>\n",
       "    <tr>\n",
       "      <th>98</th>\n",
       "      <td>0</td>\n",
       "    </tr>\n",
       "    <tr>\n",
       "      <th>99</th>\n",
       "      <td>0</td>\n",
       "    </tr>\n",
       "  </tbody>\n",
       "</table>\n",
       "<p>100 rows × 1 columns</p>\n",
       "</div>\n",
       "      <button class=\"colab-df-convert\" onclick=\"convertToInteractive('df-25129a18-0f1d-4ab0-b5a3-f40701dd571d')\"\n",
       "              title=\"Convert this dataframe to an interactive table.\"\n",
       "              style=\"display:none;\">\n",
       "        \n",
       "  <svg xmlns=\"http://www.w3.org/2000/svg\" height=\"24px\"viewBox=\"0 0 24 24\"\n",
       "       width=\"24px\">\n",
       "    <path d=\"M0 0h24v24H0V0z\" fill=\"none\"/>\n",
       "    <path d=\"M18.56 5.44l.94 2.06.94-2.06 2.06-.94-2.06-.94-.94-2.06-.94 2.06-2.06.94zm-11 1L8.5 8.5l.94-2.06 2.06-.94-2.06-.94L8.5 2.5l-.94 2.06-2.06.94zm10 10l.94 2.06.94-2.06 2.06-.94-2.06-.94-.94-2.06-.94 2.06-2.06.94z\"/><path d=\"M17.41 7.96l-1.37-1.37c-.4-.4-.92-.59-1.43-.59-.52 0-1.04.2-1.43.59L10.3 9.45l-7.72 7.72c-.78.78-.78 2.05 0 2.83L4 21.41c.39.39.9.59 1.41.59.51 0 1.02-.2 1.41-.59l7.78-7.78 2.81-2.81c.8-.78.8-2.07 0-2.86zM5.41 20L4 18.59l7.72-7.72 1.47 1.35L5.41 20z\"/>\n",
       "  </svg>\n",
       "      </button>\n",
       "      \n",
       "  <style>\n",
       "    .colab-df-container {\n",
       "      display:flex;\n",
       "      flex-wrap:wrap;\n",
       "      gap: 12px;\n",
       "    }\n",
       "\n",
       "    .colab-df-convert {\n",
       "      background-color: #E8F0FE;\n",
       "      border: none;\n",
       "      border-radius: 50%;\n",
       "      cursor: pointer;\n",
       "      display: none;\n",
       "      fill: #1967D2;\n",
       "      height: 32px;\n",
       "      padding: 0 0 0 0;\n",
       "      width: 32px;\n",
       "    }\n",
       "\n",
       "    .colab-df-convert:hover {\n",
       "      background-color: #E2EBFA;\n",
       "      box-shadow: 0px 1px 2px rgba(60, 64, 67, 0.3), 0px 1px 3px 1px rgba(60, 64, 67, 0.15);\n",
       "      fill: #174EA6;\n",
       "    }\n",
       "\n",
       "    [theme=dark] .colab-df-convert {\n",
       "      background-color: #3B4455;\n",
       "      fill: #D2E3FC;\n",
       "    }\n",
       "\n",
       "    [theme=dark] .colab-df-convert:hover {\n",
       "      background-color: #434B5C;\n",
       "      box-shadow: 0px 1px 3px 1px rgba(0, 0, 0, 0.15);\n",
       "      filter: drop-shadow(0px 1px 2px rgba(0, 0, 0, 0.3));\n",
       "      fill: #FFFFFF;\n",
       "    }\n",
       "  </style>\n",
       "\n",
       "      <script>\n",
       "        const buttonEl =\n",
       "          document.querySelector('#df-25129a18-0f1d-4ab0-b5a3-f40701dd571d button.colab-df-convert');\n",
       "        buttonEl.style.display =\n",
       "          google.colab.kernel.accessAllowed ? 'block' : 'none';\n",
       "\n",
       "        async function convertToInteractive(key) {\n",
       "          const element = document.querySelector('#df-25129a18-0f1d-4ab0-b5a3-f40701dd571d');\n",
       "          const dataTable =\n",
       "            await google.colab.kernel.invokeFunction('convertToInteractive',\n",
       "                                                     [key], {});\n",
       "          if (!dataTable) return;\n",
       "\n",
       "          const docLinkHtml = 'Like what you see? Visit the ' +\n",
       "            '<a target=\"_blank\" href=https://colab.research.google.com/notebooks/data_table.ipynb>data table notebook</a>'\n",
       "            + ' to learn more about interactive tables.';\n",
       "          element.innerHTML = '';\n",
       "          dataTable['output_type'] = 'display_data';\n",
       "          await google.colab.output.renderOutput(dataTable, element);\n",
       "          const docLink = document.createElement('div');\n",
       "          docLink.innerHTML = docLinkHtml;\n",
       "          element.appendChild(docLink);\n",
       "        }\n",
       "      </script>\n",
       "    </div>\n",
       "  </div>\n",
       "  "
      ],
      "text/plain": [
       "    classification\n",
       "0                0\n",
       "1                1\n",
       "2                1\n",
       "3                1\n",
       "4                0\n",
       "..             ...\n",
       "95               0\n",
       "96               0\n",
       "97               0\n",
       "98               0\n",
       "99               0\n",
       "\n",
       "[100 rows x 1 columns]"
      ]
     },
     "execution_count": 98,
     "metadata": {},
     "output_type": "execute_result"
    }
   ],
   "source": [
    "Final_pred = predictions.numpy()\n",
    "\n",
    "df_pred = pd.DataFrame(Final_pred, columns =['classification'])\n",
    "df_pred"
   ]
  },
  {
   "cell_type": "code",
   "execution_count": 99,
   "metadata": {
    "executionInfo": {
     "elapsed": 284,
     "status": "ok",
     "timestamp": 1654065092118,
     "user": {
      "displayName": "JQ Chen",
      "userId": "13222497970351445459"
     },
     "user_tz": 240
    },
    "id": "pyIiSm4u9ZYC"
   },
   "outputs": [],
   "source": [
    "df_pred.to_csv('/content/drive/MyDrive/test colab/F0034WQ_LSTM_predictions.csv', index=False)"
   ]
  }
 ],
 "metadata": {
  "colab": {
   "authorship_tag": "ABX9TyOu5pdqmuQkMAMyKvgKwZgs",
   "collapsed_sections": [],
   "mount_file_id": "16Fa5nxLrjPQZ5eVfvDgjwEm9i1DniGT0",
   "name": "Untitled0.ipynb",
   "provenance": []
  },
  "kernelspec": {
   "display_name": "Python 3",
   "language": "python",
   "name": "python3"
  },
  "language_info": {
   "codemirror_mode": {
    "name": "ipython",
    "version": 3
   },
   "file_extension": ".py",
   "mimetype": "text/x-python",
   "name": "python",
   "nbconvert_exporter": "python",
   "pygments_lexer": "ipython3",
   "version": "3.7.7"
  }
 },
 "nbformat": 4,
 "nbformat_minor": 4
}
