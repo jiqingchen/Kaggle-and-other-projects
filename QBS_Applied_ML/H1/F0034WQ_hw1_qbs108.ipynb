{
 "cells": [
  {
   "cell_type": "markdown",
   "metadata": {},
   "source": [
    "# 1 - Write a loss function that can be used for each of the models below.\n",
    "\n",
    "### L1-Regularized Linear Regression:\n",
    "$$J = \\frac{1}{n} \\sum\\limits_{i = 1}^{n} \\left(\\large f\\left(x_i, W\\right) - y_i \\large  \\right)^{2} + \\lambda\\sum\\limits_{i = 1}^{m}|w_i|$$\n",
    "\n",
    "$$ Where, \\large f\\left(x_i, W\\right) = w_0 + w_1x_1 + w_2x_2 + ... + w_nx_n \\large$$\n",
    "\n",
    "$$ \\large x_i = \\text{feature vector} ; y_i = \\text{target vector} ; W = \\text{weight vector} \\large$$\n",
    "\n",
    "$$ \\large n = \\text{number of data points} ; m = \\text{number of weights} ;  \\lambda = \\text{parameter controls how strong the penalty is in regularization} \\large $$\n",
    "\n",
    "### L2-Regularized Logistic Regression:\n",
    "$$ \\large -\\sum\\limits_{i=1}^{n}\\sum\\limits_{j=1}^{m} y_{i,j}log\\left(P_{i,j}\\right) + \\lambda\\sum\\limits_{i=1}^{n}\\sum\\limits_{j = 1}^{m} W_{i,j}^{2}$$\n",
    "\n",
    "$$ \\large y_{i,j} = \\text{target vector} ; P_{i,j} = \\text{the probability of } i^{th} \\text{data points being } j^{th} \\text{class} ; W_{i,j} = \\text{weight vector} \\large$$\n",
    "\n",
    "$$ \\large n = \\text{number of data points} ; m = \\text{number of classes} \\large ;  \\lambda = \\text{parameter controls how strong the penalty is in regularization}$$"
   ]
  },
  {
   "cell_type": "markdown",
   "metadata": {},
   "source": [
    "# 2 - Which logistic regression model (unregularized, L2, or L1) and parameters (lambda high or low) may be more useful for determining a small set of parameters that are most important for classification?\n",
    "\n",
    "I will choose L1 logistic regression model because the weight of unrelated features will be set to zero (feature reduction).\n",
    "Also, I will choose lambda high because high lambda value strengthens the regularization effect and decreases the model complexity."
   ]
  },
  {
   "cell_type": "markdown",
   "metadata": {},
   "source": [
    "# For questions 3-7"
   ]
  },
  {
   "cell_type": "markdown",
   "metadata": {},
   "source": [
    "# 3 - Examine the training and validation data and decide on a metric to determine the performance of your models. Please provide the reason(s) of your choice."
   ]
  },
  {
   "cell_type": "code",
   "execution_count": 1,
   "metadata": {},
   "outputs": [],
   "source": [
    "import pandas as pd\n",
    "import numpy as np\n",
    "import matplotlib.pyplot as plt"
   ]
  },
  {
   "cell_type": "markdown",
   "metadata": {},
   "source": [
    "### Load Data"
   ]
  },
  {
   "cell_type": "code",
   "execution_count": 2,
   "metadata": {},
   "outputs": [
    {
     "data": {
      "text/html": [
       "<div>\n",
       "<style scoped>\n",
       "    .dataframe tbody tr th:only-of-type {\n",
       "        vertical-align: middle;\n",
       "    }\n",
       "\n",
       "    .dataframe tbody tr th {\n",
       "        vertical-align: top;\n",
       "    }\n",
       "\n",
       "    .dataframe thead th {\n",
       "        text-align: right;\n",
       "    }\n",
       "</style>\n",
       "<table border=\"1\" class=\"dataframe\">\n",
       "  <thead>\n",
       "    <tr style=\"text-align: right;\">\n",
       "      <th></th>\n",
       "      <th>Pregnancies</th>\n",
       "      <th>Glucose</th>\n",
       "      <th>BloodPressure</th>\n",
       "      <th>SkinThickness</th>\n",
       "      <th>Insulin</th>\n",
       "      <th>BMI</th>\n",
       "      <th>DiabetesPedigreeFunction</th>\n",
       "      <th>Age</th>\n",
       "      <th>Outcome</th>\n",
       "    </tr>\n",
       "  </thead>\n",
       "  <tbody>\n",
       "    <tr>\n",
       "      <th>0</th>\n",
       "      <td>6</td>\n",
       "      <td>114</td>\n",
       "      <td>88</td>\n",
       "      <td>0</td>\n",
       "      <td>0</td>\n",
       "      <td>27.8</td>\n",
       "      <td>0.247</td>\n",
       "      <td>66</td>\n",
       "      <td>0</td>\n",
       "    </tr>\n",
       "    <tr>\n",
       "      <th>1</th>\n",
       "      <td>9</td>\n",
       "      <td>123</td>\n",
       "      <td>70</td>\n",
       "      <td>44</td>\n",
       "      <td>94</td>\n",
       "      <td>33.1</td>\n",
       "      <td>0.374</td>\n",
       "      <td>40</td>\n",
       "      <td>0</td>\n",
       "    </tr>\n",
       "    <tr>\n",
       "      <th>2</th>\n",
       "      <td>4</td>\n",
       "      <td>115</td>\n",
       "      <td>72</td>\n",
       "      <td>0</td>\n",
       "      <td>0</td>\n",
       "      <td>28.9</td>\n",
       "      <td>0.376</td>\n",
       "      <td>46</td>\n",
       "      <td>1</td>\n",
       "    </tr>\n",
       "    <tr>\n",
       "      <th>3</th>\n",
       "      <td>4</td>\n",
       "      <td>85</td>\n",
       "      <td>58</td>\n",
       "      <td>22</td>\n",
       "      <td>49</td>\n",
       "      <td>27.8</td>\n",
       "      <td>0.306</td>\n",
       "      <td>28</td>\n",
       "      <td>0</td>\n",
       "    </tr>\n",
       "    <tr>\n",
       "      <th>4</th>\n",
       "      <td>5</td>\n",
       "      <td>97</td>\n",
       "      <td>76</td>\n",
       "      <td>27</td>\n",
       "      <td>0</td>\n",
       "      <td>35.6</td>\n",
       "      <td>0.378</td>\n",
       "      <td>52</td>\n",
       "      <td>1</td>\n",
       "    </tr>\n",
       "    <tr>\n",
       "      <th>...</th>\n",
       "      <td>...</td>\n",
       "      <td>...</td>\n",
       "      <td>...</td>\n",
       "      <td>...</td>\n",
       "      <td>...</td>\n",
       "      <td>...</td>\n",
       "      <td>...</td>\n",
       "      <td>...</td>\n",
       "      <td>...</td>\n",
       "    </tr>\n",
       "    <tr>\n",
       "      <th>455</th>\n",
       "      <td>4</td>\n",
       "      <td>141</td>\n",
       "      <td>74</td>\n",
       "      <td>0</td>\n",
       "      <td>0</td>\n",
       "      <td>27.6</td>\n",
       "      <td>0.244</td>\n",
       "      <td>40</td>\n",
       "      <td>0</td>\n",
       "    </tr>\n",
       "    <tr>\n",
       "      <th>456</th>\n",
       "      <td>4</td>\n",
       "      <td>142</td>\n",
       "      <td>86</td>\n",
       "      <td>0</td>\n",
       "      <td>0</td>\n",
       "      <td>44.0</td>\n",
       "      <td>0.645</td>\n",
       "      <td>22</td>\n",
       "      <td>1</td>\n",
       "    </tr>\n",
       "    <tr>\n",
       "      <th>457</th>\n",
       "      <td>1</td>\n",
       "      <td>189</td>\n",
       "      <td>60</td>\n",
       "      <td>23</td>\n",
       "      <td>846</td>\n",
       "      <td>30.1</td>\n",
       "      <td>0.398</td>\n",
       "      <td>59</td>\n",
       "      <td>1</td>\n",
       "    </tr>\n",
       "    <tr>\n",
       "      <th>458</th>\n",
       "      <td>3</td>\n",
       "      <td>124</td>\n",
       "      <td>80</td>\n",
       "      <td>33</td>\n",
       "      <td>130</td>\n",
       "      <td>33.2</td>\n",
       "      <td>0.305</td>\n",
       "      <td>26</td>\n",
       "      <td>0</td>\n",
       "    </tr>\n",
       "    <tr>\n",
       "      <th>459</th>\n",
       "      <td>5</td>\n",
       "      <td>88</td>\n",
       "      <td>78</td>\n",
       "      <td>30</td>\n",
       "      <td>0</td>\n",
       "      <td>27.6</td>\n",
       "      <td>0.258</td>\n",
       "      <td>37</td>\n",
       "      <td>0</td>\n",
       "    </tr>\n",
       "  </tbody>\n",
       "</table>\n",
       "<p>460 rows × 9 columns</p>\n",
       "</div>"
      ],
      "text/plain": [
       "     Pregnancies  Glucose  BloodPressure  SkinThickness  Insulin   BMI  \\\n",
       "0              6      114             88              0        0  27.8   \n",
       "1              9      123             70             44       94  33.1   \n",
       "2              4      115             72              0        0  28.9   \n",
       "3              4       85             58             22       49  27.8   \n",
       "4              5       97             76             27        0  35.6   \n",
       "..           ...      ...            ...            ...      ...   ...   \n",
       "455            4      141             74              0        0  27.6   \n",
       "456            4      142             86              0        0  44.0   \n",
       "457            1      189             60             23      846  30.1   \n",
       "458            3      124             80             33      130  33.2   \n",
       "459            5       88             78             30        0  27.6   \n",
       "\n",
       "     DiabetesPedigreeFunction  Age  Outcome  \n",
       "0                       0.247   66        0  \n",
       "1                       0.374   40        0  \n",
       "2                       0.376   46        1  \n",
       "3                       0.306   28        0  \n",
       "4                       0.378   52        1  \n",
       "..                        ...  ...      ...  \n",
       "455                     0.244   40        0  \n",
       "456                     0.645   22        1  \n",
       "457                     0.398   59        1  \n",
       "458                     0.305   26        0  \n",
       "459                     0.258   37        0  \n",
       "\n",
       "[460 rows x 9 columns]"
      ]
     },
     "execution_count": 2,
     "metadata": {},
     "output_type": "execute_result"
    }
   ],
   "source": [
    "df_train = pd.read_csv('/Users/chenjiqing/Public/2022_Spring_term/QBS108 Applied ML/2022 file/Homework 1/datasets/train_diabetes.csv')\n",
    "df_train = df_train.drop('Unnamed: 0',axis=1)\n",
    "df_train"
   ]
  },
  {
   "cell_type": "code",
   "execution_count": 3,
   "metadata": {},
   "outputs": [
    {
     "data": {
      "text/html": [
       "<div>\n",
       "<style scoped>\n",
       "    .dataframe tbody tr th:only-of-type {\n",
       "        vertical-align: middle;\n",
       "    }\n",
       "\n",
       "    .dataframe tbody tr th {\n",
       "        vertical-align: top;\n",
       "    }\n",
       "\n",
       "    .dataframe thead th {\n",
       "        text-align: right;\n",
       "    }\n",
       "</style>\n",
       "<table border=\"1\" class=\"dataframe\">\n",
       "  <thead>\n",
       "    <tr style=\"text-align: right;\">\n",
       "      <th></th>\n",
       "      <th>Pregnancies</th>\n",
       "      <th>Glucose</th>\n",
       "      <th>BloodPressure</th>\n",
       "      <th>SkinThickness</th>\n",
       "      <th>Insulin</th>\n",
       "      <th>BMI</th>\n",
       "      <th>DiabetesPedigreeFunction</th>\n",
       "      <th>Age</th>\n",
       "      <th>Outcome</th>\n",
       "    </tr>\n",
       "  </thead>\n",
       "  <tbody>\n",
       "    <tr>\n",
       "      <th>count</th>\n",
       "      <td>460.000000</td>\n",
       "      <td>460.000000</td>\n",
       "      <td>460.000000</td>\n",
       "      <td>460.000000</td>\n",
       "      <td>460.000000</td>\n",
       "      <td>460.000000</td>\n",
       "      <td>460.000000</td>\n",
       "      <td>460.000000</td>\n",
       "      <td>460.000000</td>\n",
       "    </tr>\n",
       "    <tr>\n",
       "      <th>mean</th>\n",
       "      <td>3.863043</td>\n",
       "      <td>122.089130</td>\n",
       "      <td>70.006522</td>\n",
       "      <td>20.930435</td>\n",
       "      <td>82.760870</td>\n",
       "      <td>32.378478</td>\n",
       "      <td>0.457661</td>\n",
       "      <td>33.504348</td>\n",
       "      <td>0.330435</td>\n",
       "    </tr>\n",
       "    <tr>\n",
       "      <th>std</th>\n",
       "      <td>3.295991</td>\n",
       "      <td>32.022641</td>\n",
       "      <td>17.907106</td>\n",
       "      <td>15.898355</td>\n",
       "      <td>116.823701</td>\n",
       "      <td>7.274589</td>\n",
       "      <td>0.332795</td>\n",
       "      <td>11.816590</td>\n",
       "      <td>0.470882</td>\n",
       "    </tr>\n",
       "    <tr>\n",
       "      <th>min</th>\n",
       "      <td>0.000000</td>\n",
       "      <td>0.000000</td>\n",
       "      <td>0.000000</td>\n",
       "      <td>0.000000</td>\n",
       "      <td>0.000000</td>\n",
       "      <td>0.000000</td>\n",
       "      <td>0.078000</td>\n",
       "      <td>21.000000</td>\n",
       "      <td>0.000000</td>\n",
       "    </tr>\n",
       "    <tr>\n",
       "      <th>25%</th>\n",
       "      <td>1.000000</td>\n",
       "      <td>100.000000</td>\n",
       "      <td>64.000000</td>\n",
       "      <td>0.000000</td>\n",
       "      <td>0.000000</td>\n",
       "      <td>27.400000</td>\n",
       "      <td>0.245750</td>\n",
       "      <td>24.000000</td>\n",
       "      <td>0.000000</td>\n",
       "    </tr>\n",
       "    <tr>\n",
       "      <th>50%</th>\n",
       "      <td>3.000000</td>\n",
       "      <td>117.000000</td>\n",
       "      <td>72.000000</td>\n",
       "      <td>23.000000</td>\n",
       "      <td>45.000000</td>\n",
       "      <td>32.250000</td>\n",
       "      <td>0.348000</td>\n",
       "      <td>29.000000</td>\n",
       "      <td>0.000000</td>\n",
       "    </tr>\n",
       "    <tr>\n",
       "      <th>75%</th>\n",
       "      <td>6.000000</td>\n",
       "      <td>142.250000</td>\n",
       "      <td>80.000000</td>\n",
       "      <td>32.000000</td>\n",
       "      <td>130.000000</td>\n",
       "      <td>36.600000</td>\n",
       "      <td>0.591500</td>\n",
       "      <td>40.250000</td>\n",
       "      <td>1.000000</td>\n",
       "    </tr>\n",
       "    <tr>\n",
       "      <th>max</th>\n",
       "      <td>14.000000</td>\n",
       "      <td>197.000000</td>\n",
       "      <td>114.000000</td>\n",
       "      <td>99.000000</td>\n",
       "      <td>846.000000</td>\n",
       "      <td>59.400000</td>\n",
       "      <td>2.420000</td>\n",
       "      <td>81.000000</td>\n",
       "      <td>1.000000</td>\n",
       "    </tr>\n",
       "  </tbody>\n",
       "</table>\n",
       "</div>"
      ],
      "text/plain": [
       "       Pregnancies     Glucose  BloodPressure  SkinThickness     Insulin  \\\n",
       "count   460.000000  460.000000     460.000000     460.000000  460.000000   \n",
       "mean      3.863043  122.089130      70.006522      20.930435   82.760870   \n",
       "std       3.295991   32.022641      17.907106      15.898355  116.823701   \n",
       "min       0.000000    0.000000       0.000000       0.000000    0.000000   \n",
       "25%       1.000000  100.000000      64.000000       0.000000    0.000000   \n",
       "50%       3.000000  117.000000      72.000000      23.000000   45.000000   \n",
       "75%       6.000000  142.250000      80.000000      32.000000  130.000000   \n",
       "max      14.000000  197.000000     114.000000      99.000000  846.000000   \n",
       "\n",
       "              BMI  DiabetesPedigreeFunction         Age     Outcome  \n",
       "count  460.000000                460.000000  460.000000  460.000000  \n",
       "mean    32.378478                  0.457661   33.504348    0.330435  \n",
       "std      7.274589                  0.332795   11.816590    0.470882  \n",
       "min      0.000000                  0.078000   21.000000    0.000000  \n",
       "25%     27.400000                  0.245750   24.000000    0.000000  \n",
       "50%     32.250000                  0.348000   29.000000    0.000000  \n",
       "75%     36.600000                  0.591500   40.250000    1.000000  \n",
       "max     59.400000                  2.420000   81.000000    1.000000  "
      ]
     },
     "execution_count": 3,
     "metadata": {},
     "output_type": "execute_result"
    }
   ],
   "source": [
    "df_train.describe()"
   ]
  },
  {
   "cell_type": "code",
   "execution_count": 4,
   "metadata": {},
   "outputs": [
    {
     "data": {
      "text/html": [
       "<div>\n",
       "<style scoped>\n",
       "    .dataframe tbody tr th:only-of-type {\n",
       "        vertical-align: middle;\n",
       "    }\n",
       "\n",
       "    .dataframe tbody tr th {\n",
       "        vertical-align: top;\n",
       "    }\n",
       "\n",
       "    .dataframe thead th {\n",
       "        text-align: right;\n",
       "    }\n",
       "</style>\n",
       "<table border=\"1\" class=\"dataframe\">\n",
       "  <thead>\n",
       "    <tr style=\"text-align: right;\">\n",
       "      <th></th>\n",
       "      <th>Pregnancies</th>\n",
       "      <th>Glucose</th>\n",
       "      <th>BloodPressure</th>\n",
       "      <th>SkinThickness</th>\n",
       "      <th>Insulin</th>\n",
       "      <th>BMI</th>\n",
       "      <th>DiabetesPedigreeFunction</th>\n",
       "      <th>Age</th>\n",
       "      <th>Outcome</th>\n",
       "    </tr>\n",
       "  </thead>\n",
       "  <tbody>\n",
       "    <tr>\n",
       "      <th>0</th>\n",
       "      <td>7</td>\n",
       "      <td>125</td>\n",
       "      <td>86</td>\n",
       "      <td>0</td>\n",
       "      <td>0</td>\n",
       "      <td>37.6</td>\n",
       "      <td>0.304</td>\n",
       "      <td>51</td>\n",
       "      <td>0</td>\n",
       "    </tr>\n",
       "    <tr>\n",
       "      <th>1</th>\n",
       "      <td>7</td>\n",
       "      <td>194</td>\n",
       "      <td>68</td>\n",
       "      <td>28</td>\n",
       "      <td>0</td>\n",
       "      <td>35.9</td>\n",
       "      <td>0.745</td>\n",
       "      <td>41</td>\n",
       "      <td>1</td>\n",
       "    </tr>\n",
       "    <tr>\n",
       "      <th>2</th>\n",
       "      <td>1</td>\n",
       "      <td>121</td>\n",
       "      <td>78</td>\n",
       "      <td>39</td>\n",
       "      <td>74</td>\n",
       "      <td>39.0</td>\n",
       "      <td>0.261</td>\n",
       "      <td>28</td>\n",
       "      <td>0</td>\n",
       "    </tr>\n",
       "    <tr>\n",
       "      <th>3</th>\n",
       "      <td>0</td>\n",
       "      <td>117</td>\n",
       "      <td>0</td>\n",
       "      <td>0</td>\n",
       "      <td>0</td>\n",
       "      <td>33.8</td>\n",
       "      <td>0.932</td>\n",
       "      <td>44</td>\n",
       "      <td>0</td>\n",
       "    </tr>\n",
       "    <tr>\n",
       "      <th>4</th>\n",
       "      <td>1</td>\n",
       "      <td>151</td>\n",
       "      <td>60</td>\n",
       "      <td>0</td>\n",
       "      <td>0</td>\n",
       "      <td>26.1</td>\n",
       "      <td>0.179</td>\n",
       "      <td>22</td>\n",
       "      <td>0</td>\n",
       "    </tr>\n",
       "    <tr>\n",
       "      <th>...</th>\n",
       "      <td>...</td>\n",
       "      <td>...</td>\n",
       "      <td>...</td>\n",
       "      <td>...</td>\n",
       "      <td>...</td>\n",
       "      <td>...</td>\n",
       "      <td>...</td>\n",
       "      <td>...</td>\n",
       "      <td>...</td>\n",
       "    </tr>\n",
       "    <tr>\n",
       "      <th>149</th>\n",
       "      <td>8</td>\n",
       "      <td>95</td>\n",
       "      <td>72</td>\n",
       "      <td>0</td>\n",
       "      <td>0</td>\n",
       "      <td>36.8</td>\n",
       "      <td>0.485</td>\n",
       "      <td>57</td>\n",
       "      <td>0</td>\n",
       "    </tr>\n",
       "    <tr>\n",
       "      <th>150</th>\n",
       "      <td>3</td>\n",
       "      <td>96</td>\n",
       "      <td>56</td>\n",
       "      <td>34</td>\n",
       "      <td>115</td>\n",
       "      <td>24.7</td>\n",
       "      <td>0.944</td>\n",
       "      <td>39</td>\n",
       "      <td>0</td>\n",
       "    </tr>\n",
       "    <tr>\n",
       "      <th>151</th>\n",
       "      <td>3</td>\n",
       "      <td>107</td>\n",
       "      <td>62</td>\n",
       "      <td>13</td>\n",
       "      <td>48</td>\n",
       "      <td>22.9</td>\n",
       "      <td>0.678</td>\n",
       "      <td>23</td>\n",
       "      <td>1</td>\n",
       "    </tr>\n",
       "    <tr>\n",
       "      <th>152</th>\n",
       "      <td>9</td>\n",
       "      <td>156</td>\n",
       "      <td>86</td>\n",
       "      <td>28</td>\n",
       "      <td>155</td>\n",
       "      <td>34.3</td>\n",
       "      <td>1.189</td>\n",
       "      <td>42</td>\n",
       "      <td>1</td>\n",
       "    </tr>\n",
       "    <tr>\n",
       "      <th>153</th>\n",
       "      <td>0</td>\n",
       "      <td>118</td>\n",
       "      <td>84</td>\n",
       "      <td>47</td>\n",
       "      <td>230</td>\n",
       "      <td>45.8</td>\n",
       "      <td>0.551</td>\n",
       "      <td>31</td>\n",
       "      <td>1</td>\n",
       "    </tr>\n",
       "  </tbody>\n",
       "</table>\n",
       "<p>154 rows × 9 columns</p>\n",
       "</div>"
      ],
      "text/plain": [
       "     Pregnancies  Glucose  BloodPressure  SkinThickness  Insulin   BMI  \\\n",
       "0              7      125             86              0        0  37.6   \n",
       "1              7      194             68             28        0  35.9   \n",
       "2              1      121             78             39       74  39.0   \n",
       "3              0      117              0              0        0  33.8   \n",
       "4              1      151             60              0        0  26.1   \n",
       "..           ...      ...            ...            ...      ...   ...   \n",
       "149            8       95             72              0        0  36.8   \n",
       "150            3       96             56             34      115  24.7   \n",
       "151            3      107             62             13       48  22.9   \n",
       "152            9      156             86             28      155  34.3   \n",
       "153            0      118             84             47      230  45.8   \n",
       "\n",
       "     DiabetesPedigreeFunction  Age  Outcome  \n",
       "0                       0.304   51        0  \n",
       "1                       0.745   41        1  \n",
       "2                       0.261   28        0  \n",
       "3                       0.932   44        0  \n",
       "4                       0.179   22        0  \n",
       "..                        ...  ...      ...  \n",
       "149                     0.485   57        0  \n",
       "150                     0.944   39        0  \n",
       "151                     0.678   23        1  \n",
       "152                     1.189   42        1  \n",
       "153                     0.551   31        1  \n",
       "\n",
       "[154 rows x 9 columns]"
      ]
     },
     "execution_count": 4,
     "metadata": {},
     "output_type": "execute_result"
    }
   ],
   "source": [
    "df_val = pd.read_csv('/Users/chenjiqing/Public/2022_Spring_term/QBS108 Applied ML/2022 file/Homework 1/datasets/val_diabetes.csv')\n",
    "df_val = df_val.drop('Unnamed: 0',axis=1)\n",
    "df_val"
   ]
  },
  {
   "cell_type": "code",
   "execution_count": 5,
   "metadata": {},
   "outputs": [
    {
     "data": {
      "text/html": [
       "<div>\n",
       "<style scoped>\n",
       "    .dataframe tbody tr th:only-of-type {\n",
       "        vertical-align: middle;\n",
       "    }\n",
       "\n",
       "    .dataframe tbody tr th {\n",
       "        vertical-align: top;\n",
       "    }\n",
       "\n",
       "    .dataframe thead th {\n",
       "        text-align: right;\n",
       "    }\n",
       "</style>\n",
       "<table border=\"1\" class=\"dataframe\">\n",
       "  <thead>\n",
       "    <tr style=\"text-align: right;\">\n",
       "      <th></th>\n",
       "      <th>Pregnancies</th>\n",
       "      <th>Glucose</th>\n",
       "      <th>BloodPressure</th>\n",
       "      <th>SkinThickness</th>\n",
       "      <th>Insulin</th>\n",
       "      <th>BMI</th>\n",
       "      <th>DiabetesPedigreeFunction</th>\n",
       "      <th>Age</th>\n",
       "      <th>Outcome</th>\n",
       "    </tr>\n",
       "  </thead>\n",
       "  <tbody>\n",
       "    <tr>\n",
       "      <th>count</th>\n",
       "      <td>154.000000</td>\n",
       "      <td>154.000000</td>\n",
       "      <td>154.000000</td>\n",
       "      <td>154.000000</td>\n",
       "      <td>154.000000</td>\n",
       "      <td>154.000000</td>\n",
       "      <td>154.000000</td>\n",
       "      <td>154.000000</td>\n",
       "      <td>154.000000</td>\n",
       "    </tr>\n",
       "    <tr>\n",
       "      <th>mean</th>\n",
       "      <td>3.824675</td>\n",
       "      <td>119.714286</td>\n",
       "      <td>67.292208</td>\n",
       "      <td>20.461039</td>\n",
       "      <td>73.233766</td>\n",
       "      <td>31.818182</td>\n",
       "      <td>0.514130</td>\n",
       "      <td>33.168831</td>\n",
       "      <td>0.409091</td>\n",
       "    </tr>\n",
       "    <tr>\n",
       "      <th>std</th>\n",
       "      <td>3.566608</td>\n",
       "      <td>30.936941</td>\n",
       "      <td>21.701759</td>\n",
       "      <td>16.427354</td>\n",
       "      <td>112.384017</td>\n",
       "      <td>7.449196</td>\n",
       "      <td>0.335402</td>\n",
       "      <td>11.476492</td>\n",
       "      <td>0.493270</td>\n",
       "    </tr>\n",
       "    <tr>\n",
       "      <th>min</th>\n",
       "      <td>0.000000</td>\n",
       "      <td>0.000000</td>\n",
       "      <td>0.000000</td>\n",
       "      <td>0.000000</td>\n",
       "      <td>0.000000</td>\n",
       "      <td>0.000000</td>\n",
       "      <td>0.088000</td>\n",
       "      <td>21.000000</td>\n",
       "      <td>0.000000</td>\n",
       "    </tr>\n",
       "    <tr>\n",
       "      <th>25%</th>\n",
       "      <td>1.000000</td>\n",
       "      <td>99.000000</td>\n",
       "      <td>62.000000</td>\n",
       "      <td>0.000000</td>\n",
       "      <td>0.000000</td>\n",
       "      <td>27.300000</td>\n",
       "      <td>0.240250</td>\n",
       "      <td>24.000000</td>\n",
       "      <td>0.000000</td>\n",
       "    </tr>\n",
       "    <tr>\n",
       "      <th>50%</th>\n",
       "      <td>3.000000</td>\n",
       "      <td>119.000000</td>\n",
       "      <td>70.000000</td>\n",
       "      <td>24.000000</td>\n",
       "      <td>0.000000</td>\n",
       "      <td>32.550000</td>\n",
       "      <td>0.414000</td>\n",
       "      <td>28.000000</td>\n",
       "      <td>0.000000</td>\n",
       "    </tr>\n",
       "    <tr>\n",
       "      <th>75%</th>\n",
       "      <td>6.000000</td>\n",
       "      <td>140.000000</td>\n",
       "      <td>80.000000</td>\n",
       "      <td>32.000000</td>\n",
       "      <td>113.000000</td>\n",
       "      <td>36.225000</td>\n",
       "      <td>0.686750</td>\n",
       "      <td>41.000000</td>\n",
       "      <td>1.000000</td>\n",
       "    </tr>\n",
       "    <tr>\n",
       "      <th>max</th>\n",
       "      <td>17.000000</td>\n",
       "      <td>199.000000</td>\n",
       "      <td>122.000000</td>\n",
       "      <td>60.000000</td>\n",
       "      <td>545.000000</td>\n",
       "      <td>53.200000</td>\n",
       "      <td>1.699000</td>\n",
       "      <td>69.000000</td>\n",
       "      <td>1.000000</td>\n",
       "    </tr>\n",
       "  </tbody>\n",
       "</table>\n",
       "</div>"
      ],
      "text/plain": [
       "       Pregnancies     Glucose  BloodPressure  SkinThickness     Insulin  \\\n",
       "count   154.000000  154.000000     154.000000     154.000000  154.000000   \n",
       "mean      3.824675  119.714286      67.292208      20.461039   73.233766   \n",
       "std       3.566608   30.936941      21.701759      16.427354  112.384017   \n",
       "min       0.000000    0.000000       0.000000       0.000000    0.000000   \n",
       "25%       1.000000   99.000000      62.000000       0.000000    0.000000   \n",
       "50%       3.000000  119.000000      70.000000      24.000000    0.000000   \n",
       "75%       6.000000  140.000000      80.000000      32.000000  113.000000   \n",
       "max      17.000000  199.000000     122.000000      60.000000  545.000000   \n",
       "\n",
       "              BMI  DiabetesPedigreeFunction         Age     Outcome  \n",
       "count  154.000000                154.000000  154.000000  154.000000  \n",
       "mean    31.818182                  0.514130   33.168831    0.409091  \n",
       "std      7.449196                  0.335402   11.476492    0.493270  \n",
       "min      0.000000                  0.088000   21.000000    0.000000  \n",
       "25%     27.300000                  0.240250   24.000000    0.000000  \n",
       "50%     32.550000                  0.414000   28.000000    0.000000  \n",
       "75%     36.225000                  0.686750   41.000000    1.000000  \n",
       "max     53.200000                  1.699000   69.000000    1.000000  "
      ]
     },
     "execution_count": 5,
     "metadata": {},
     "output_type": "execute_result"
    }
   ],
   "source": [
    "df_val.describe()"
   ]
  },
  {
   "cell_type": "code",
   "execution_count": 6,
   "metadata": {},
   "outputs": [
    {
     "data": {
      "text/html": [
       "<div>\n",
       "<style scoped>\n",
       "    .dataframe tbody tr th:only-of-type {\n",
       "        vertical-align: middle;\n",
       "    }\n",
       "\n",
       "    .dataframe tbody tr th {\n",
       "        vertical-align: top;\n",
       "    }\n",
       "\n",
       "    .dataframe thead th {\n",
       "        text-align: right;\n",
       "    }\n",
       "</style>\n",
       "<table border=\"1\" class=\"dataframe\">\n",
       "  <thead>\n",
       "    <tr style=\"text-align: right;\">\n",
       "      <th></th>\n",
       "      <th>Pregnancies</th>\n",
       "      <th>Glucose</th>\n",
       "      <th>BloodPressure</th>\n",
       "      <th>SkinThickness</th>\n",
       "      <th>Insulin</th>\n",
       "      <th>BMI</th>\n",
       "      <th>DiabetesPedigreeFunction</th>\n",
       "      <th>Age</th>\n",
       "      <th>Outcome</th>\n",
       "    </tr>\n",
       "  </thead>\n",
       "  <tbody>\n",
       "    <tr>\n",
       "      <th>0</th>\n",
       "      <td>2</td>\n",
       "      <td>74</td>\n",
       "      <td>0</td>\n",
       "      <td>0</td>\n",
       "      <td>0</td>\n",
       "      <td>0.0</td>\n",
       "      <td>0.102</td>\n",
       "      <td>22</td>\n",
       "      <td>0</td>\n",
       "    </tr>\n",
       "    <tr>\n",
       "      <th>1</th>\n",
       "      <td>2</td>\n",
       "      <td>90</td>\n",
       "      <td>68</td>\n",
       "      <td>42</td>\n",
       "      <td>0</td>\n",
       "      <td>38.2</td>\n",
       "      <td>0.503</td>\n",
       "      <td>27</td>\n",
       "      <td>1</td>\n",
       "    </tr>\n",
       "    <tr>\n",
       "      <th>2</th>\n",
       "      <td>0</td>\n",
       "      <td>162</td>\n",
       "      <td>76</td>\n",
       "      <td>36</td>\n",
       "      <td>0</td>\n",
       "      <td>49.6</td>\n",
       "      <td>0.364</td>\n",
       "      <td>26</td>\n",
       "      <td>1</td>\n",
       "    </tr>\n",
       "    <tr>\n",
       "      <th>3</th>\n",
       "      <td>13</td>\n",
       "      <td>153</td>\n",
       "      <td>88</td>\n",
       "      <td>37</td>\n",
       "      <td>140</td>\n",
       "      <td>40.6</td>\n",
       "      <td>1.174</td>\n",
       "      <td>39</td>\n",
       "      <td>0</td>\n",
       "    </tr>\n",
       "    <tr>\n",
       "      <th>4</th>\n",
       "      <td>1</td>\n",
       "      <td>172</td>\n",
       "      <td>68</td>\n",
       "      <td>49</td>\n",
       "      <td>579</td>\n",
       "      <td>42.4</td>\n",
       "      <td>0.702</td>\n",
       "      <td>28</td>\n",
       "      <td>1</td>\n",
       "    </tr>\n",
       "    <tr>\n",
       "      <th>...</th>\n",
       "      <td>...</td>\n",
       "      <td>...</td>\n",
       "      <td>...</td>\n",
       "      <td>...</td>\n",
       "      <td>...</td>\n",
       "      <td>...</td>\n",
       "      <td>...</td>\n",
       "      <td>...</td>\n",
       "      <td>...</td>\n",
       "    </tr>\n",
       "    <tr>\n",
       "      <th>149</th>\n",
       "      <td>0</td>\n",
       "      <td>152</td>\n",
       "      <td>82</td>\n",
       "      <td>39</td>\n",
       "      <td>272</td>\n",
       "      <td>41.5</td>\n",
       "      <td>0.270</td>\n",
       "      <td>27</td>\n",
       "      <td>0</td>\n",
       "    </tr>\n",
       "    <tr>\n",
       "      <th>150</th>\n",
       "      <td>0</td>\n",
       "      <td>129</td>\n",
       "      <td>110</td>\n",
       "      <td>46</td>\n",
       "      <td>130</td>\n",
       "      <td>67.1</td>\n",
       "      <td>0.319</td>\n",
       "      <td>26</td>\n",
       "      <td>1</td>\n",
       "    </tr>\n",
       "    <tr>\n",
       "      <th>151</th>\n",
       "      <td>2</td>\n",
       "      <td>88</td>\n",
       "      <td>74</td>\n",
       "      <td>19</td>\n",
       "      <td>53</td>\n",
       "      <td>29.0</td>\n",
       "      <td>0.229</td>\n",
       "      <td>22</td>\n",
       "      <td>0</td>\n",
       "    </tr>\n",
       "    <tr>\n",
       "      <th>152</th>\n",
       "      <td>2</td>\n",
       "      <td>158</td>\n",
       "      <td>90</td>\n",
       "      <td>0</td>\n",
       "      <td>0</td>\n",
       "      <td>31.6</td>\n",
       "      <td>0.805</td>\n",
       "      <td>66</td>\n",
       "      <td>1</td>\n",
       "    </tr>\n",
       "    <tr>\n",
       "      <th>153</th>\n",
       "      <td>5</td>\n",
       "      <td>109</td>\n",
       "      <td>75</td>\n",
       "      <td>26</td>\n",
       "      <td>0</td>\n",
       "      <td>36.0</td>\n",
       "      <td>0.546</td>\n",
       "      <td>60</td>\n",
       "      <td>0</td>\n",
       "    </tr>\n",
       "  </tbody>\n",
       "</table>\n",
       "<p>154 rows × 9 columns</p>\n",
       "</div>"
      ],
      "text/plain": [
       "     Pregnancies  Glucose  BloodPressure  SkinThickness  Insulin   BMI  \\\n",
       "0              2       74              0              0        0   0.0   \n",
       "1              2       90             68             42        0  38.2   \n",
       "2              0      162             76             36        0  49.6   \n",
       "3             13      153             88             37      140  40.6   \n",
       "4              1      172             68             49      579  42.4   \n",
       "..           ...      ...            ...            ...      ...   ...   \n",
       "149            0      152             82             39      272  41.5   \n",
       "150            0      129            110             46      130  67.1   \n",
       "151            2       88             74             19       53  29.0   \n",
       "152            2      158             90              0        0  31.6   \n",
       "153            5      109             75             26        0  36.0   \n",
       "\n",
       "     DiabetesPedigreeFunction  Age  Outcome  \n",
       "0                       0.102   22        0  \n",
       "1                       0.503   27        1  \n",
       "2                       0.364   26        1  \n",
       "3                       1.174   39        0  \n",
       "4                       0.702   28        1  \n",
       "..                        ...  ...      ...  \n",
       "149                     0.270   27        0  \n",
       "150                     0.319   26        1  \n",
       "151                     0.229   22        0  \n",
       "152                     0.805   66        1  \n",
       "153                     0.546   60        0  \n",
       "\n",
       "[154 rows x 9 columns]"
      ]
     },
     "execution_count": 6,
     "metadata": {},
     "output_type": "execute_result"
    }
   ],
   "source": [
    "df_test = pd.read_csv('/Users/chenjiqing/Public/2022_Spring_term/QBS108 Applied ML/2022 file/Homework 1/datasets/test_diabetes.csv')\n",
    "df_test = df_test.drop('Unnamed: 0',axis=1)\n",
    "df_test"
   ]
  },
  {
   "cell_type": "markdown",
   "metadata": {},
   "source": [
    "#### We can see the Outcomes of the training and validation data are imbalanced (skewed dataset) so I would not used accuracy as a metric to determine the performance.\n",
    "#### Although precision and recall are good candidates for skewed dataset to determine the performance of model, I prefer a conservative metric and don't want over-estimate the strength of my model. As a result, I will choose F1-score as a metric to determine the performance."
   ]
  },
  {
   "cell_type": "markdown",
   "metadata": {},
   "source": [
    "### Data Clean"
   ]
  },
  {
   "cell_type": "code",
   "execution_count": 7,
   "metadata": {},
   "outputs": [],
   "source": [
    "# Set features and target\n",
    "X_train = df_train.drop(['Outcome'], axis=1).copy()\n",
    "y_train = df_train['Outcome'].copy()\n",
    "\n",
    "X_val = df_val.drop(['Outcome'], axis=1).copy()\n",
    "y_val = df_val['Outcome'].copy()\n",
    "\n",
    "X_test = df_test.drop(['Outcome'], axis=1).copy()\n",
    "y_test = df_test['Outcome'].copy()\n",
    "\n",
    "#Standardization\n",
    "from sklearn.preprocessing import RobustScaler\n",
    "\n",
    "RS = RobustScaler()\n",
    "X_train_RS = RS.fit_transform(X_train)\n",
    "X_val_RS = RS.transform(X_val)\n",
    "X_test_RS = RS.transform(X_test)"
   ]
  },
  {
   "cell_type": "code",
   "execution_count": 8,
   "metadata": {},
   "outputs": [
    {
     "data": {
      "text/plain": [
       "array([[ 0.6       , -0.07100592,  1.        , ..., -0.48369565,\n",
       "        -0.29211858,  2.27692308],\n",
       "       [ 1.2       ,  0.14201183, -0.125     , ...,  0.0923913 ,\n",
       "         0.07519884,  0.67692308],\n",
       "       [ 0.2       , -0.04733728,  0.        , ..., -0.36413043,\n",
       "         0.08098337,  1.04615385],\n",
       "       ...,\n",
       "       [-0.4       ,  1.70414201, -0.75      , ..., -0.23369565,\n",
       "         0.14461316,  1.84615385],\n",
       "       [ 0.        ,  0.16568047,  0.5       , ...,  0.10326087,\n",
       "        -0.12436732, -0.18461538],\n",
       "       [ 0.4       , -0.68639053,  0.375     , ..., -0.50543478,\n",
       "        -0.26030369,  0.49230769]])"
      ]
     },
     "execution_count": 8,
     "metadata": {},
     "output_type": "execute_result"
    }
   ],
   "source": [
    "X_train_RS"
   ]
  },
  {
   "cell_type": "markdown",
   "metadata": {},
   "source": [
    "# 4 - In this part, you are asked to implement a program for logistic regression from scratch."
   ]
  },
  {
   "cell_type": "markdown",
   "metadata": {},
   "source": [
    "## Implement a L2-regularized logistic regression model to train stochastic gradient descent to return the loss from 500 epochs of training"
   ]
  },
  {
   "cell_type": "code",
   "execution_count": 9,
   "metadata": {},
   "outputs": [],
   "source": [
    "# sigmoid function\n",
    "def sigmoid(a):\n",
    "    ans = 1/(1+np.exp(-a))\n",
    "    return ans\n",
    "\n",
    "# loss function\n",
    "def J_loss(sample_numbers, y_true, y_probability, lambda_L2, weight):\n",
    "    loss = -1/sample_numbers * sum((y_true*np.log(y_probability)) + (1- y_true) * np.log(1-y_probability)) + (lambda_L2 / (2 * sample_numbers)) * np.sum(np.square(weight))\n",
    "    return loss\n",
    "\n",
    "sample_numbers, feature_numbers = X_train_RS.shape\n",
    "weight = np.ones(feature_numbers)\n",
    "learning_rate = 0.0001\n",
    "lambda_L2 = 0.0001\n",
    "epochs = 500\n",
    "train_loss = []\n",
    "val_loss = []"
   ]
  },
  {
   "cell_type": "code",
   "execution_count": 10,
   "metadata": {},
   "outputs": [],
   "source": [
    "for epoch in range(1,epochs+1):\n",
    "    if epoch == 1:\n",
    "        for i in range(sample_numbers):\n",
    "            weight = weight - learning_rate* ((sigmoid(np.dot(weight.T, X_train_RS[i]))-y_train[i])*X_train_RS[i])\n",
    "    else:\n",
    "        for i in range(sample_numbers):\n",
    "            weight = weight - learning_rate* ((sigmoid(np.dot(weight.T, X_train_RS[i]))-y_train[i])*X_train_RS[i] + lambda_L2*weight)\n",
    "    \n",
    "    # train loss\n",
    "    y_prob_train = sigmoid(np.dot(weight,X_train_RS.T))\n",
    "    loss_of_train = J_loss(X_train_RS.shape[0], y_train, y_prob_train, lambda_L2, weight)\n",
    "    train_loss.append(loss_of_train)\n",
    "    \n",
    "    # validate loss\n",
    "    y_prob_val = sigmoid(np.dot(weight,X_val_RS.T))\n",
    "    loss_of_val = J_loss(X_val_RS.shape[0], y_val, y_prob_val, lambda_L2, weight)\n",
    "    val_loss.append(loss_of_val)\n",
    "    "
   ]
  },
  {
   "cell_type": "markdown",
   "metadata": {},
   "source": [
    "## Plot the training and validation loss curves."
   ]
  },
  {
   "cell_type": "code",
   "execution_count": 11,
   "metadata": {},
   "outputs": [
    {
     "data": {
      "text/plain": [
       "Text(0, 0.5, 'Loss')"
      ]
     },
     "execution_count": 11,
     "metadata": {},
     "output_type": "execute_result"
    },
    {
     "data": {
      "image/png": "[encoded data removed]",
      "text/plain": [
       "<Figure size 432x288 with 1 Axes>"
      ]
     },
     "metadata": {
      "needs_background": "light"
     },
     "output_type": "display_data"
    }
   ],
   "source": [
    "plt.plot(train_loss)\n",
    "plt.title(\"Training Loss Curve\")\n",
    "plt.xlabel(\"Epochs\")\n",
    "plt.ylabel(\"Loss\")"
   ]
  },
  {
   "cell_type": "code",
   "execution_count": 12,
   "metadata": {},
   "outputs": [
    {
     "data": {
      "text/plain": [
       "Text(0, 0.5, 'Loss')"
      ]
     },
     "execution_count": 12,
     "metadata": {},
     "output_type": "execute_result"
    },
    {
     "data": {
      "image/png": "[encoded data removed]",
      "text/plain": [
       "<Figure size 432x288 with 1 Axes>"
      ]
     },
     "metadata": {
      "needs_background": "light"
     },
     "output_type": "display_data"
    }
   ],
   "source": [
    "plt.plot(val_loss)\n",
    "plt.title(\"Validation Loss Curve\")\n",
    "plt.xlabel(\"Epochs\")\n",
    "plt.ylabel(\"Loss\")"
   ]
  },
  {
   "cell_type": "markdown",
   "metadata": {},
   "source": [
    "## Indicate which iteration gives the best model, and explain your decision."
   ]
  },
  {
   "cell_type": "code",
   "execution_count": 13,
   "metadata": {},
   "outputs": [
    {
     "data": {
      "text/plain": [
       "287"
      ]
     },
     "execution_count": 13,
     "metadata": {},
     "output_type": "execute_result"
    }
   ],
   "source": [
    "Epoch_place_with_min_loss = val_loss.index(min(val_loss))\n",
    "Epoch_place_with_min_loss"
   ]
  },
  {
   "cell_type": "markdown",
   "metadata": {},
   "source": [
    "- 288th Epoch gives the best model because we can see the minimum loss showed up at 288th Epoch in Validation set."
   ]
  },
  {
   "cell_type": "markdown",
   "metadata": {},
   "source": [
    "## List and explain your hyperparameter choices (learning rate, regularization parameter)."
   ]
  },
  {
   "cell_type": "code",
   "execution_count": 14,
   "metadata": {},
   "outputs": [
    {
     "name": "stdout",
     "output_type": "stream",
     "text": [
      "When Learning Rate = 1\n"
     ]
    },
    {
     "data": {
      "image/png": "[encoded data removed]",
      "text/plain": [
       "<Figure size 432x288 with 1 Axes>"
      ]
     },
     "metadata": {
      "needs_background": "light"
     },
     "output_type": "display_data"
    },
    {
     "name": "stdout",
     "output_type": "stream",
     "text": [
      "When Learning Rate = 0.01\n"
     ]
    },
    {
     "data": {
      "image/png": "[encoded data removed]",
      "text/plain": [
       "<Figure size 432x288 with 1 Axes>"
      ]
     },
     "metadata": {
      "needs_background": "light"
     },
     "output_type": "display_data"
    },
    {
     "name": "stdout",
     "output_type": "stream",
     "text": [
      "When Learning Rate = 0.0001\n"
     ]
    },
    {
     "data": {
      "image/png": "[encoded data removed]",
      "text/plain": [
       "<Figure size 432x288 with 1 Axes>"
      ]
     },
     "metadata": {
      "needs_background": "light"
     },
     "output_type": "display_data"
    },
    {
     "name": "stdout",
     "output_type": "stream",
     "text": [
      "When Learning Rate = 1e-06\n"
     ]
    },
    {
     "data": {
      "image/png": "[encoded data removed]",
      "text/plain": [
       "<Figure size 432x288 with 1 Axes>"
      ]
     },
     "metadata": {
      "needs_background": "light"
     },
     "output_type": "display_data"
    }
   ],
   "source": [
    "lambda_L2 = 0.1 # fix regularization parameter\n",
    "weight = np.ones(feature_numbers)\n",
    "epochs = 500\n",
    "train_loss = []\n",
    "val_loss = []\n",
    "\n",
    "for learning_rate in [1, 0.01, 0.0001, 0.000001]:\n",
    "    for epoch in range(1,epochs+1):\n",
    "        if epoch == 1:\n",
    "            for i in range(sample_numbers):\n",
    "                weight = weight - learning_rate* ((sigmoid(np.dot(weight.T, X_train_RS[i]))-y_train[i])*X_train_RS[i])\n",
    "        else:\n",
    "            for i in range(sample_numbers):\n",
    "                weight = weight - learning_rate* ((sigmoid(np.dot(weight.T, X_train_RS[i]))-y_train[i])*X_train_RS[i] + lambda_L2*weight)\n",
    "    \n",
    "        # validate loss\n",
    "        y_prob_val = sigmoid(np.dot(weight,X_val_RS.T))\n",
    "        loss_of_val = J_loss(X_val_RS.shape[0], y_val, y_prob_val, lambda_L2, weight)\n",
    "        val_loss.append(loss_of_val)\n",
    "    print('When Learning Rate =', learning_rate)\n",
    "    plt.plot(val_loss)\n",
    "    plt.title(\"Validation Loss Curve\")\n",
    "    plt.xlabel(\"Epochs\")\n",
    "    plt.ylabel(\"Loss\")\n",
    "    plt.show()\n",
    "    weight = np.ones(feature_numbers)\n",
    "    train_loss = []\n",
    "    val_loss = []"
   ]
  },
  {
   "cell_type": "markdown",
   "metadata": {},
   "source": [
    "- the learning rate determine how fast we update weights. If the learning is too large (in this case: 1 ~ 0.01), we may get sub-optimal weights and unstable model training. If the learning rate is too small (in my case: 0.000001), the loss decreased slowly and needs many interations to converge to the best weights. So I choose learning rate = 0.0001"
   ]
  },
  {
   "cell_type": "code",
   "execution_count": 15,
   "metadata": {},
   "outputs": [
    {
     "name": "stdout",
     "output_type": "stream",
     "text": [
      "When regularization parameter = 100\n"
     ]
    },
    {
     "data": {
      "image/png": "[encoded data removed]",
      "text/plain": [
       "<Figure size 432x288 with 1 Axes>"
      ]
     },
     "metadata": {
      "needs_background": "light"
     },
     "output_type": "display_data"
    },
    {
     "name": "stdout",
     "output_type": "stream",
     "text": [
      "When regularization parameter = 10\n"
     ]
    },
    {
     "data": {
      "image/png": "[encoded data removed]",
      "text/plain": [
       "<Figure size 432x288 with 1 Axes>"
      ]
     },
     "metadata": {
      "needs_background": "light"
     },
     "output_type": "display_data"
    },
    {
     "name": "stdout",
     "output_type": "stream",
     "text": [
      "When regularization parameter = 1\n"
     ]
    },
    {
     "data": {
      "image/png": "[encoded data removed]",
      "text/plain": [
       "<Figure size 432x288 with 1 Axes>"
      ]
     },
     "metadata": {
      "needs_background": "light"
     },
     "output_type": "display_data"
    },
    {
     "name": "stdout",
     "output_type": "stream",
     "text": [
      "When regularization parameter = 0.1\n"
     ]
    },
    {
     "data": {
      "image/png": "[encoded data removed]",
      "text/plain": [
       "<Figure size 432x288 with 1 Axes>"
      ]
     },
     "metadata": {
      "needs_background": "light"
     },
     "output_type": "display_data"
    },
    {
     "name": "stdout",
     "output_type": "stream",
     "text": [
      "When regularization parameter = 0.0001\n"
     ]
    },
    {
     "data": {
      "image/png": "[encoded data removed]",
      "text/plain": [
       "<Figure size 432x288 with 1 Axes>"
      ]
     },
     "metadata": {
      "needs_background": "light"
     },
     "output_type": "display_data"
    }
   ],
   "source": [
    "learning_rate = 0.0001 # fix learning rate\n",
    "weight = np.ones(feature_numbers)\n",
    "epochs = 500\n",
    "train_loss = []\n",
    "val_loss = []\n",
    "\n",
    "for lambda_L2 in [100, 10, 1, 0.1, 0.0001]:\n",
    "    for epoch in range(1,epochs+1):\n",
    "        if epoch == 1:\n",
    "            for i in range(sample_numbers):\n",
    "                weight = weight - learning_rate* ((sigmoid(np.dot(weight.T, X_train_RS[i]))-y_train[i])*X_train_RS[i])\n",
    "        else:\n",
    "            for i in range(sample_numbers):\n",
    "                weight = weight - learning_rate* ((sigmoid(np.dot(weight.T, X_train_RS[i]))-y_train[i])*X_train_RS[i] + lambda_L2*weight)\n",
    "    \n",
    "        # validate loss\n",
    "        y_prob_val = sigmoid(np.dot(weight,X_val_RS.T))\n",
    "        loss_of_val = J_loss(X_val_RS.shape[0], y_val, y_prob_val, lambda_L2, weight)\n",
    "        val_loss.append(loss_of_val)\n",
    "    print('When regularization parameter =', lambda_L2)\n",
    "    plt.plot(val_loss)\n",
    "    plt.title(\"Validation Loss Curve\")\n",
    "    plt.xlabel(\"Epochs\")\n",
    "    plt.ylabel(\"Loss\")\n",
    "    plt.show()\n",
    "    weight = np.ones(feature_numbers)\n",
    "    train_loss = []\n",
    "    val_loss = []"
   ]
  },
  {
   "cell_type": "markdown",
   "metadata": {},
   "source": [
    "- In here, we can see if the regularization parameter is too large, the cross-entropy loss would be unstable and fluctuate. So I decede to choose lambda = 0.0001"
   ]
  },
  {
   "cell_type": "markdown",
   "metadata": {},
   "source": [
    "# 5 - Train a logistic regression on the data set with lambda = 0.1, 0.2, 0.3, 0.4, 0.5, 0.6, 0.7, 0.8, and 0.9, using L2, L1, and Elastic net regularizations on the training and validation set. For elastic net, use an L1 ratio of 0.5. Determine the best lambda(s) and justify your decision"
   ]
  },
  {
   "cell_type": "code",
   "execution_count": 16,
   "metadata": {},
   "outputs": [],
   "source": [
    "# Load Module\n",
    "from sklearn.linear_model import LogisticRegression\n",
    "from sklearn.metrics import log_loss, f1_score, accuracy_score, recall_score, confusion_matrix"
   ]
  },
  {
   "cell_type": "markdown",
   "metadata": {},
   "source": [
    "### L1-regularized logistic regression model"
   ]
  },
  {
   "cell_type": "code",
   "execution_count": 17,
   "metadata": {},
   "outputs": [
    {
     "name": "stdout",
     "output_type": "stream",
     "text": [
      "L1-regularized logistic regression model; lambda =  0.1\n",
      "Loss of Validation Set: 0.49304504067017546\n",
      "F1 Score: 0.56\n",
      "Accuracy: 0.7142857142857143\n",
      "Sensitivity: 0.4444444444444444\n",
      "Specificity: 0.9010989010989011\n",
      "\n",
      "L1-regularized logistic regression model; lambda =  0.2\n",
      "Loss of Validation Set: 0.49323294369460824\n",
      "F1 Score: 0.5544554455445545\n",
      "Accuracy: 0.7077922077922078\n",
      "Sensitivity: 0.4444444444444444\n",
      "Specificity: 0.8901098901098901\n",
      "\n",
      "L1-regularized logistic regression model; lambda =  0.3\n",
      "Loss of Validation Set: 0.49342504178892915\n",
      "F1 Score: 0.5544554455445545\n",
      "Accuracy: 0.7077922077922078\n",
      "Sensitivity: 0.4444444444444444\n",
      "Specificity: 0.8901098901098901\n",
      "\n",
      "L1-regularized logistic regression model; lambda =  0.4\n",
      "Loss of Validation Set: 0.49362129611482136\n",
      "F1 Score: 0.5544554455445545\n",
      "Accuracy: 0.7077922077922078\n",
      "Sensitivity: 0.4444444444444444\n",
      "Specificity: 0.8901098901098901\n",
      "\n",
      "L1-regularized logistic regression model; lambda =  0.5\n",
      "Loss of Validation Set: 0.4938216683830807\n",
      "F1 Score: 0.5544554455445545\n",
      "Accuracy: 0.7077922077922078\n",
      "Sensitivity: 0.4444444444444444\n",
      "Specificity: 0.8901098901098901\n",
      "\n",
      "L1-regularized logistic regression model; lambda =  0.6\n",
      "Loss of Validation Set: 0.4940261212997265\n",
      "F1 Score: 0.5544554455445545\n",
      "Accuracy: 0.7077922077922078\n",
      "Sensitivity: 0.4444444444444444\n",
      "Specificity: 0.8901098901098901\n",
      "\n",
      "L1-regularized logistic regression model; lambda =  0.7\n",
      "Loss of Validation Set: 0.4942329044851711\n",
      "F1 Score: 0.5544554455445545\n",
      "Accuracy: 0.7077922077922078\n",
      "Sensitivity: 0.4444444444444444\n",
      "Specificity: 0.8901098901098901\n",
      "\n",
      "L1-regularized logistic regression model; lambda =  0.8\n",
      "Loss of Validation Set: 0.49444535868917555\n",
      "F1 Score: 0.5544554455445545\n",
      "Accuracy: 0.7077922077922078\n",
      "Sensitivity: 0.4444444444444444\n",
      "Specificity: 0.8901098901098901\n",
      "\n",
      "L1-regularized logistic regression model; lambda =  0.9\n",
      "Loss of Validation Set: 0.49466178744163974\n",
      "F1 Score: 0.5544554455445545\n",
      "Accuracy: 0.7077922077922078\n",
      "Sensitivity: 0.4444444444444444\n",
      "Specificity: 0.8901098901098901\n",
      "\n"
     ]
    }
   ],
   "source": [
    "lambda_values = [0.1, 0.2, 0.3, 0.4, 0.5, 0.6, 0.7, 0.8, 0.9]\n",
    "for i in lambda_values:\n",
    "    print('L1-regularized logistic regression model; lambda = ',i)\n",
    "    lr = LogisticRegression(solver = 'saga', penalty = 'l1',C = 1/i, random_state=0)\n",
    "    lr.fit(X_train_RS, y_train)\n",
    "    val_loss = log_loss(y_val,lr.predict_proba(X_val_RS))\n",
    "    print('Loss of Validation Set:',val_loss)\n",
    "    print('F1 Score:',f1_score(y_val,lr.predict(X_val_RS)))\n",
    "    print('Accuracy:',accuracy_score(y_val,lr.predict(X_val_RS)))\n",
    "    print('Sensitivity:',recall_score(y_val,lr.predict(X_val_RS)))\n",
    "    tn, fp, fn, tp = confusion_matrix(y_val, lr.predict(X_val_RS)).ravel()\n",
    "    print('Specificity:',(tn/(fp+tn)))\n",
    "    print('')"
   ]
  },
  {
   "cell_type": "markdown",
   "metadata": {},
   "source": [
    "### L2-regularized logistic regression model"
   ]
  },
  {
   "cell_type": "code",
   "execution_count": 18,
   "metadata": {},
   "outputs": [
    {
     "name": "stdout",
     "output_type": "stream",
     "text": [
      "L2-regularized logistic regression model; lambda =  0.1\n",
      "Loss of Validation Set: 0.4929888583158815\n",
      "F1 Score: 0.56\n",
      "Accuracy: 0.7142857142857143\n",
      "Sensitivity: 0.4444444444444444\n",
      "Specificity: 0.9010989010989011\n",
      "\n",
      "L2-regularized logistic regression model; lambda =  0.2\n",
      "Loss of Validation Set: 0.4931147737428717\n",
      "F1 Score: 0.56\n",
      "Accuracy: 0.7142857142857143\n",
      "Sensitivity: 0.4444444444444444\n",
      "Specificity: 0.9010989010989011\n",
      "\n",
      "L2-regularized logistic regression model; lambda =  0.3\n",
      "Loss of Validation Set: 0.49324135486517534\n",
      "F1 Score: 0.56\n",
      "Accuracy: 0.7142857142857143\n",
      "Sensitivity: 0.4444444444444444\n",
      "Specificity: 0.9010989010989011\n",
      "\n",
      "L2-regularized logistic regression model; lambda =  0.4\n",
      "Loss of Validation Set: 0.49336857311563387\n",
      "F1 Score: 0.56\n",
      "Accuracy: 0.7142857142857143\n",
      "Sensitivity: 0.4444444444444444\n",
      "Specificity: 0.9010989010989011\n",
      "\n",
      "L2-regularized logistic regression model; lambda =  0.5\n",
      "Loss of Validation Set: 0.49349640102068726\n",
      "F1 Score: 0.56\n",
      "Accuracy: 0.7142857142857143\n",
      "Sensitivity: 0.4444444444444444\n",
      "Specificity: 0.9010989010989011\n",
      "\n",
      "L2-regularized logistic regression model; lambda =  0.6\n",
      "Loss of Validation Set: 0.49362481215001625\n",
      "F1 Score: 0.5544554455445545\n",
      "Accuracy: 0.7077922077922078\n",
      "Sensitivity: 0.4444444444444444\n",
      "Specificity: 0.8901098901098901\n",
      "\n",
      "L2-regularized logistic regression model; lambda =  0.7\n",
      "Loss of Validation Set: 0.4937537810689522\n",
      "F1 Score: 0.5544554455445545\n",
      "Accuracy: 0.7077922077922078\n",
      "Sensitivity: 0.4444444444444444\n",
      "Specificity: 0.8901098901098901\n",
      "\n",
      "L2-regularized logistic regression model; lambda =  0.8\n",
      "Loss of Validation Set: 0.4938832832935326\n",
      "F1 Score: 0.5544554455445545\n",
      "Accuracy: 0.7077922077922078\n",
      "Sensitivity: 0.4444444444444444\n",
      "Specificity: 0.8901098901098901\n",
      "\n",
      "L2-regularized logistic regression model; lambda =  0.9\n",
      "Loss of Validation Set: 0.4940132952479739\n",
      "F1 Score: 0.5544554455445545\n",
      "Accuracy: 0.7077922077922078\n",
      "Sensitivity: 0.4444444444444444\n",
      "Specificity: 0.8901098901098901\n",
      "\n"
     ]
    }
   ],
   "source": [
    "lambda_values = [0.1, 0.2, 0.3, 0.4, 0.5, 0.6, 0.7, 0.8, 0.9]\n",
    "for i in lambda_values:\n",
    "    print('L2-regularized logistic regression model; lambda = ',i)\n",
    "    lr = LogisticRegression(solver = 'saga', penalty = 'l2',C = 1/i, random_state=1)\n",
    "    lr.fit(X_train_RS, y_train)\n",
    "    val_loss = log_loss(y_val,lr.predict_proba(X_val_RS))\n",
    "    print('Loss of Validation Set:',val_loss)\n",
    "    print('F1 Score:',f1_score(y_val,lr.predict(X_val_RS)))\n",
    "    print('Accuracy:',accuracy_score(y_val,lr.predict(X_val_RS)))\n",
    "    print('Sensitivity:',recall_score(y_val,lr.predict(X_val_RS)))\n",
    "    tn, fp, fn, tp = confusion_matrix(y_val, lr.predict(X_val_RS)).ravel()\n",
    "    print('Specificity:',(tn/(fp+tn)))\n",
    "    print('')"
   ]
  },
  {
   "cell_type": "markdown",
   "metadata": {},
   "source": [
    "### Elastic Net-regularized logistic regression model"
   ]
  },
  {
   "cell_type": "code",
   "execution_count": 19,
   "metadata": {},
   "outputs": [
    {
     "name": "stdout",
     "output_type": "stream",
     "text": [
      "Elastic Net-regularized logistic regression model; lambda =  0.1\n",
      "Loss of Validation Set: 0.4930171592534673\n",
      "F1 Score: 0.56\n",
      "Accuracy: 0.7142857142857143\n",
      "Sensitivity: 0.4444444444444444\n",
      "Specificity: 0.9010989010989011\n",
      "\n",
      "Elastic Net-regularized logistic regression model; lambda =  0.2\n",
      "Loss of Validation Set: 0.4931727535680221\n",
      "F1 Score: 0.56\n",
      "Accuracy: 0.7142857142857143\n",
      "Sensitivity: 0.4444444444444444\n",
      "Specificity: 0.9010989010989011\n",
      "\n",
      "Elastic Net-regularized logistic regression model; lambda =  0.3\n",
      "Loss of Validation Set: 0.49333006509211863\n",
      "F1 Score: 0.5544554455445545\n",
      "Accuracy: 0.7077922077922078\n",
      "Sensitivity: 0.4444444444444444\n",
      "Specificity: 0.8901098901098901\n",
      "\n",
      "Elastic Net-regularized logistic regression model; lambda =  0.4\n",
      "Loss of Validation Set: 0.49348905777916663\n",
      "F1 Score: 0.5544554455445545\n",
      "Accuracy: 0.7077922077922078\n",
      "Sensitivity: 0.4444444444444444\n",
      "Specificity: 0.8901098901098901\n",
      "\n",
      "Elastic Net-regularized logistic regression model; lambda =  0.5\n",
      "Loss of Validation Set: 0.4936496964974176\n",
      "F1 Score: 0.5544554455445545\n",
      "Accuracy: 0.7077922077922078\n",
      "Sensitivity: 0.4444444444444444\n",
      "Specificity: 0.8901098901098901\n",
      "\n",
      "Elastic Net-regularized logistic regression model; lambda =  0.6\n",
      "Loss of Validation Set: 0.49381314993917286\n",
      "F1 Score: 0.5544554455445545\n",
      "Accuracy: 0.7077922077922078\n",
      "Sensitivity: 0.4444444444444444\n",
      "Specificity: 0.8901098901098901\n",
      "\n",
      "Elastic Net-regularized logistic regression model; lambda =  0.7\n",
      "Loss of Validation Set: 0.49397694004626935\n",
      "F1 Score: 0.5544554455445545\n",
      "Accuracy: 0.7077922077922078\n",
      "Sensitivity: 0.4444444444444444\n",
      "Specificity: 0.8901098901098901\n",
      "\n",
      "Elastic Net-regularized logistic regression model; lambda =  0.8\n",
      "Loss of Validation Set: 0.49414228239862573\n",
      "F1 Score: 0.5544554455445545\n",
      "Accuracy: 0.7077922077922078\n",
      "Sensitivity: 0.4444444444444444\n",
      "Specificity: 0.8901098901098901\n",
      "\n",
      "Elastic Net-regularized logistic regression model; lambda =  0.9\n",
      "Loss of Validation Set: 0.4943044181458536\n",
      "F1 Score: 0.5544554455445545\n",
      "Accuracy: 0.7077922077922078\n",
      "Sensitivity: 0.4444444444444444\n",
      "Specificity: 0.8901098901098901\n",
      "\n"
     ]
    }
   ],
   "source": [
    "lambda_values = [0.1, 0.2, 0.3, 0.4, 0.5, 0.6, 0.7, 0.8, 0.9]\n",
    "for i in lambda_values:\n",
    "    print('Elastic Net-regularized logistic regression model; lambda = ',i)\n",
    "    lr = LogisticRegression(solver = 'saga', penalty = 'elasticnet', l1_ratio = 0.5, C = 1/i, random_state=2)\n",
    "    lr.fit(X_train_RS, y_train)\n",
    "    val_loss = log_loss(y_val,lr.predict_proba(X_val_RS))\n",
    "    print('Loss of Validation Set:',val_loss)\n",
    "    print('F1 Score:',f1_score(y_val,lr.predict(X_val_RS)))\n",
    "    print('Accuracy:',accuracy_score(y_val,lr.predict(X_val_RS)))\n",
    "    print('Sensitivity:',recall_score(y_val,lr.predict(X_val_RS)))\n",
    "    tn, fp, fn, tp = confusion_matrix(y_val, lr.predict(X_val_RS)).ravel()\n",
    "    print('Specificity:',(tn/(fp+tn)))\n",
    "    print('')"
   ]
  },
  {
   "cell_type": "markdown",
   "metadata": {},
   "source": [
    "### Results\n",
    "- For L1-regularized logistic regression model, the best lambda = 0.1 Because when lambda = 0.1, it has the smallest loss in Validation Set, and has the highest F1 score, Accuracy, and Specificity.\n",
    "- For L2-regularized logistic regression model, the best lambda = 0.1 Because when lambda = 0.1, it has the smallest loss in Validation Set, and has the highest F1 score, Accuracy, and Specificity.\n",
    "- For Elastic Net-regularized logistic regression model, the best lambda = 0.1 Because when lambda = 0.1, it has the smallest loss in Validation Set, and has the highest F1 score, Accuracy, and Specificity."
   ]
  },
  {
   "cell_type": "markdown",
   "metadata": {},
   "source": [
    "# 6 - Examine the coefficients for the optimal lambdas for L1, L2, and elastic net models and explain the results. Explain the change in the coefficients as you increase and decrease regularization λ"
   ]
  },
  {
   "cell_type": "markdown",
   "metadata": {},
   "source": [
    "### L1-regularized logistic regression model"
   ]
  },
  {
   "cell_type": "code",
   "execution_count": 20,
   "metadata": {},
   "outputs": [
    {
     "name": "stdout",
     "output_type": "stream",
     "text": [
      "The coefficients for the optimal lambdas for L1 model: [[ 0.39607953  1.30137303 -0.13102904 -0.05533415 -0.20282595  0.83653324\n",
      "   0.29627686  0.42803271]]\n",
      "The odds ratio for each feature: [[1.4859875  3.67433818 0.8771923  0.94616893 0.81642033 2.30835059\n",
      "  1.34484243 1.53423627]]\n"
     ]
    }
   ],
   "source": [
    "L1_lr = LogisticRegression(solver = 'saga', penalty = 'l1',C = 1/0.1, random_state=0)\n",
    "L1_lr.fit(X_train_RS, y_train)\n",
    "print('The coefficients for the optimal lambdas for L1 model:',L1_lr.coef_)\n",
    "print('The odds ratio for each feature:', np.exp(L1_lr.coef_))"
   ]
  },
  {
   "cell_type": "markdown",
   "metadata": {},
   "source": [
    "- Pregnancies, Glucose, BMI, DiabetesPedigreeFunction, and Age are positively associated with diabetes occurrence\n",
    "- BloodPressure, SkinThickness, and Insulin are negatively associated with diabetes occurrence"
   ]
  },
  {
   "cell_type": "code",
   "execution_count": 21,
   "metadata": {},
   "outputs": [
    {
     "name": "stdout",
     "output_type": "stream",
     "text": [
      "The coefficients for the high lambdas for L1 model: [[0. 0. 0. 0. 0. 0. 0. 0.]]\n",
      "The coefficients for the low lambdas for L1 model: [[ 0.39911382  1.30474125 -0.13280032 -0.06112126 -0.20406307  0.841617\n",
      "   0.29852849  0.42950488]]\n"
     ]
    }
   ],
   "source": [
    "# High lambda\n",
    "L1_lr_high = LogisticRegression(solver = 'saga', penalty = 'l1', C = 1/100, random_state=0)\n",
    "L1_lr_high.fit(X_train_RS, y_train)\n",
    "print('The coefficients for the high lambdas for L1 model:',L1_lr_high.coef_)\n",
    "\n",
    "# Low lambda\n",
    "L1_lr_low = LogisticRegression(solver = 'saga', penalty = 'l1', C = 1/0.00000000000000000001, random_state=0)\n",
    "L1_lr_low.fit(X_train_RS, y_train)\n",
    "print('The coefficients for the low lambdas for L1 model:',L1_lr_low.coef_)"
   ]
  },
  {
   "cell_type": "markdown",
   "metadata": {},
   "source": [
    "- When lambda increases, the strength of the regularization effect increases. So all of the coefficients become 0.\n",
    "- When lambda is pretty small, the strength of the regularization effect becomes weak. So most of the coefficients don't change a lot."
   ]
  },
  {
   "cell_type": "markdown",
   "metadata": {},
   "source": [
    "### L2-regularized logistic regression model"
   ]
  },
  {
   "cell_type": "code",
   "execution_count": 22,
   "metadata": {},
   "outputs": [
    {
     "name": "stdout",
     "output_type": "stream",
     "text": [
      "The coefficients for the optimal lambdas for L2 model: [[ 0.39790687  1.30019177 -0.13201359 -0.06071132 -0.20259846  0.83842762\n",
      "   0.2978601   0.42896214]]\n",
      "The odds ratio for each feature: [[1.48870539 3.67000041 0.87632908 0.94109488 0.81660608 2.31272763\n",
      "  1.34697333 1.5356629 ]]\n"
     ]
    }
   ],
   "source": [
    "L2_lr = LogisticRegression(solver = 'saga', penalty = 'l2',C = 1/0.1, random_state=1)\n",
    "L2_lr.fit(X_train_RS, y_train)\n",
    "print('The coefficients for the optimal lambdas for L2 model:',L2_lr.coef_)\n",
    "print('The odds ratio for each feature:', np.exp(L2_lr.coef_))"
   ]
  },
  {
   "cell_type": "markdown",
   "metadata": {},
   "source": [
    "- Pregnancies, Glucose, BMI, DiabetesPedigreeFunction, and Age are positively associated with diabetes occurrence\n",
    "- BloodPressure, SkinThickness, and Insulin are negatively associated with diabetes occurrence"
   ]
  },
  {
   "cell_type": "code",
   "execution_count": 23,
   "metadata": {},
   "outputs": [
    {
     "name": "stdout",
     "output_type": "stream",
     "text": [
      "The coefficients for the high lambdas for L2 model: [[ 0.15335421  0.40499556  0.00799424 -0.00668152  0.01977269  0.25974856\n",
      "   0.14356329  0.20843559]]\n",
      "The coefficients for the low lambdas for L2 model: [[ 0.39905529  1.30477884 -0.13275278 -0.06073366 -0.20411492  0.84132697\n",
      "   0.29850562  0.42941296]]\n"
     ]
    }
   ],
   "source": [
    "# High lambda\n",
    "L2_lr_high = LogisticRegression(solver = 'saga', penalty = 'l2', C = 1/100, random_state=1)\n",
    "L2_lr_high.fit(X_train_RS, y_train)\n",
    "print('The coefficients for the high lambdas for L2 model:',L2_lr_high.coef_)\n",
    "\n",
    "# Low lambda\n",
    "L2_lr_low = LogisticRegression(solver = 'saga', penalty = 'l2', C = 1/0.00000000000000000001, random_state=1)\n",
    "L2_lr_low.fit(X_train_RS, y_train)\n",
    "print('The coefficients for the low lambdas for L2 model:',L2_lr_low.coef_)"
   ]
  },
  {
   "cell_type": "markdown",
   "metadata": {},
   "source": [
    "- When lambda increases, the strength of the regularization effect increases. So all of the coefficients become small, and some of the coefficients close to 0. And we also can see the coefficients of BloodPressure and Insulin changes from negative to positive.\n",
    "- When lambda is pretty small, the strength of the regularization effect becomes weak. So most of the coefficients don't change a lot."
   ]
  },
  {
   "cell_type": "markdown",
   "metadata": {},
   "source": [
    "### Elastic Net-regularized logistic regression model"
   ]
  },
  {
   "cell_type": "code",
   "execution_count": 24,
   "metadata": {},
   "outputs": [
    {
     "name": "stdout",
     "output_type": "stream",
     "text": [
      "The coefficients for the optimal lambdas for Elastic Net model: [[ 0.39703897  1.30077711 -0.1315467  -0.05823499 -0.20271414  0.83763428\n",
      "   0.29706811  0.42855739]]\n",
      "The odds ratio for each feature: [[1.48741389 3.67214921 0.87673833 0.94342822 0.81651162 2.31089358\n",
      "  1.34590696 1.53504146]]\n"
     ]
    }
   ],
   "source": [
    "EN_lr = LogisticRegression(solver = 'saga', penalty = 'elasticnet', l1_ratio = 0.5, C = 1/0.1, random_state=2)\n",
    "EN_lr.fit(X_train_RS, y_train)\n",
    "print('The coefficients for the optimal lambdas for Elastic Net model:',EN_lr.coef_)\n",
    "print('The odds ratio for each feature:', np.exp(EN_lr.coef_))"
   ]
  },
  {
   "cell_type": "markdown",
   "metadata": {},
   "source": [
    "- Pregnancies, Glucose, BMI, DiabetesPedigreeFunction, and Age are positively associated with diabetes occurrence\n",
    "- BloodPressure, SkinThickness, and Insulin are negatively associated with diabetes occurrence"
   ]
  },
  {
   "cell_type": "code",
   "execution_count": 25,
   "metadata": {},
   "outputs": [
    {
     "name": "stdout",
     "output_type": "stream",
     "text": [
      "The coefficients for the high lambdas for Elastic Net model: [[0.         0.21395102 0.         0.         0.         0.\n",
      "  0.         0.        ]]\n",
      "The coefficients for the low lambdas for Elastic Net model: [[ 0.39912671  1.30475765 -0.13280051 -0.06112562 -0.20409531  0.8416213\n",
      "   0.29851584  0.42952022]]\n"
     ]
    }
   ],
   "source": [
    "# High lambda\n",
    "EN_lr_high = LogisticRegression(solver = 'saga', penalty = 'elasticnet', l1_ratio = 0.5, C = 1/100, random_state=2)\n",
    "EN_lr_high.fit(X_train_RS, y_train)\n",
    "print('The coefficients for the high lambdas for Elastic Net model:',EN_lr_high.coef_)\n",
    "\n",
    "# Low lambda\n",
    "EN_lr_low = LogisticRegression(solver = 'saga', penalty = 'elasticnet', l1_ratio = 0.5, C = 1/0.00000000000000000001, random_state=2)\n",
    "EN_lr_low.fit(X_train_RS, y_train)\n",
    "print('The coefficients for the low lambdas for Elastic Net model:',EN_lr_low.coef_)"
   ]
  },
  {
   "cell_type": "markdown",
   "metadata": {},
   "source": [
    "- When lambda increases, the strength of the regularization effect increases. So most of the coefficients become 0.\n",
    "- When lambda is pretty small, the strength of the regularization effect becomes weak. So most of the coefficients don't change a lot."
   ]
  },
  {
   "cell_type": "markdown",
   "metadata": {},
   "source": [
    "# 7 - Present and describe the results from the best performing logistic regression model, including a confusion matrix, accuracy, and F1 score on the test set"
   ]
  },
  {
   "cell_type": "code",
   "execution_count": 26,
   "metadata": {},
   "outputs": [],
   "source": [
    "# Load Module\n",
    "from sklearn.metrics import plot_confusion_matrix\n",
    "import matplotlib.pyplot as plt"
   ]
  },
  {
   "cell_type": "markdown",
   "metadata": {},
   "source": [
    "### L1-regularized logistic regression model"
   ]
  },
  {
   "cell_type": "code",
   "execution_count": 27,
   "metadata": {},
   "outputs": [
    {
     "name": "stdout",
     "output_type": "stream",
     "text": [
      "L1-regularized logistic regression model\n",
      "Loss of Test Set: 0.46573557753908335\n",
      "F1 Score: 0.6976744186046512\n",
      "Accuracy: 0.8311688311688312\n",
      "Confusion_matrix:\n"
     ]
    },
    {
     "data": {
      "image/png": "[encoded data removed]",
      "text/plain": [
       "<Figure size 432x288 with 2 Axes>"
      ]
     },
     "metadata": {
      "needs_background": "light"
     },
     "output_type": "display_data"
    }
   ],
   "source": [
    "L1_lr = LogisticRegression(solver = 'saga', penalty = 'l1',C = 1/0.1, random_state=0)\n",
    "L1_lr.fit(X_train_RS, y_train)\n",
    "test_loss = log_loss(y_test,L1_lr.predict_proba(X_test_RS))\n",
    "print('L1-regularized logistic regression model')\n",
    "print('Loss of Test Set:',test_loss)\n",
    "print('F1 Score:',f1_score(y_test,L1_lr.predict(X_test_RS)))\n",
    "print('Accuracy:',accuracy_score(y_test,L1_lr.predict(X_test_RS)))\n",
    "\n",
    "print(\"Confusion_matrix:\")\n",
    "plot_confusion_matrix(L1_lr,X_test_RS, y_test, values_format='d',display_labels=['Non-Diabetes','Diabetes'])\n",
    "plt.show()"
   ]
  },
  {
   "cell_type": "code",
   "execution_count": 28,
   "metadata": {},
   "outputs": [
    {
     "data": {
      "text/plain": [
       "0      0\n",
       "1      1\n",
       "2      1\n",
       "3      0\n",
       "4      1\n",
       "      ..\n",
       "149    0\n",
       "150    1\n",
       "151    0\n",
       "152    1\n",
       "153    0\n",
       "Name: Outcome, Length: 154, dtype: int64"
      ]
     },
     "execution_count": 28,
     "metadata": {},
     "output_type": "execute_result"
    }
   ],
   "source": [
    "y_test"
   ]
  },
  {
   "cell_type": "code",
   "execution_count": 29,
   "metadata": {},
   "outputs": [
    {
     "data": {
      "text/plain": [
       "array([[0.9954939 , 0.0045061 ],\n",
       "       [0.83001376, 0.16998624],\n",
       "       [0.21256194, 0.78743806],\n",
       "       [0.12326269, 0.87673731],\n",
       "       [0.37189344, 0.62810656],\n",
       "       [0.43423045, 0.56576955],\n",
       "       [0.95127049, 0.04872951],\n",
       "       [0.76091045, 0.23908955],\n",
       "       [0.51824472, 0.48175528],\n",
       "       [0.89326715, 0.10673285],\n",
       "       [0.2854137 , 0.7145863 ],\n",
       "       [0.72276868, 0.27723132],\n",
       "       [0.59240841, 0.40759159],\n",
       "       [0.81928852, 0.18071148],\n",
       "       [0.86761234, 0.13238766],\n",
       "       [0.29003458, 0.70996542],\n",
       "       [0.22732871, 0.77267129],\n",
       "       [0.65447776, 0.34552224],\n",
       "       [0.56960676, 0.43039324],\n",
       "       [0.83721968, 0.16278032],\n",
       "       [0.30561082, 0.69438918],\n",
       "       [0.86244179, 0.13755821],\n",
       "       [0.68126809, 0.31873191],\n",
       "       [0.7871254 , 0.2128746 ],\n",
       "       [0.58079405, 0.41920595],\n",
       "       [0.70730132, 0.29269868],\n",
       "       [0.82656846, 0.17343154],\n",
       "       [0.9602088 , 0.0397912 ],\n",
       "       [0.82174322, 0.17825678],\n",
       "       [0.09850829, 0.90149171],\n",
       "       [0.08035817, 0.91964183],\n",
       "       [0.62289162, 0.37710838],\n",
       "       [0.99376972, 0.00623028],\n",
       "       [0.65451101, 0.34548899],\n",
       "       [0.94710112, 0.05289888],\n",
       "       [0.39784264, 0.60215736],\n",
       "       [0.86252559, 0.13747441],\n",
       "       [0.96226621, 0.03773379],\n",
       "       [0.95304018, 0.04695982],\n",
       "       [0.91968284, 0.08031716],\n",
       "       [0.77822125, 0.22177875],\n",
       "       [0.15142573, 0.84857427],\n",
       "       [0.55704768, 0.44295232],\n",
       "       [0.77004535, 0.22995465],\n",
       "       [0.33232164, 0.66767836],\n",
       "       [0.95907536, 0.04092464],\n",
       "       [0.88448857, 0.11551143],\n",
       "       [0.94636137, 0.05363863],\n",
       "       [0.94032151, 0.05967849],\n",
       "       [0.33801158, 0.66198842],\n",
       "       [0.21125171, 0.78874829],\n",
       "       [0.72092924, 0.27907076],\n",
       "       [0.90076056, 0.09923944],\n",
       "       [0.97164376, 0.02835624],\n",
       "       [0.57766397, 0.42233603],\n",
       "       [0.81680514, 0.18319486],\n",
       "       [0.5410215 , 0.4589785 ],\n",
       "       [0.87206629, 0.12793371],\n",
       "       [0.90229217, 0.09770783],\n",
       "       [0.36221603, 0.63778397],\n",
       "       [0.32920974, 0.67079026],\n",
       "       [0.83582226, 0.16417774],\n",
       "       [0.98447158, 0.01552842],\n",
       "       [0.99728312, 0.00271688],\n",
       "       [0.87324497, 0.12675503],\n",
       "       [0.87362437, 0.12637563],\n",
       "       [0.18302812, 0.81697188],\n",
       "       [0.90306898, 0.09693102],\n",
       "       [0.64839329, 0.35160671],\n",
       "       [0.60743658, 0.39256342],\n",
       "       [0.63582853, 0.36417147],\n",
       "       [0.75104327, 0.24895673],\n",
       "       [0.89369925, 0.10630075],\n",
       "       [0.96137426, 0.03862574],\n",
       "       [0.19471306, 0.80528694],\n",
       "       [0.15567473, 0.84432527],\n",
       "       [0.81056297, 0.18943703],\n",
       "       [0.88927377, 0.11072623],\n",
       "       [0.92296999, 0.07703001],\n",
       "       [0.7836274 , 0.2163726 ],\n",
       "       [0.68087913, 0.31912087],\n",
       "       [0.77811322, 0.22188678],\n",
       "       [0.56418747, 0.43581253],\n",
       "       [0.90687849, 0.09312151],\n",
       "       [0.85417493, 0.14582507],\n",
       "       [0.91259739, 0.08740261],\n",
       "       [0.8567714 , 0.1432286 ],\n",
       "       [0.97481844, 0.02518156],\n",
       "       [0.89822555, 0.10177445],\n",
       "       [0.71247311, 0.28752689],\n",
       "       [0.90613287, 0.09386713],\n",
       "       [0.99124398, 0.00875602],\n",
       "       [0.79746903, 0.20253097],\n",
       "       [0.87799753, 0.12200247],\n",
       "       [0.43045068, 0.56954932],\n",
       "       [0.85608707, 0.14391293],\n",
       "       [0.96776401, 0.03223599],\n",
       "       [0.85785448, 0.14214552],\n",
       "       [0.20208907, 0.79791093],\n",
       "       [0.59014443, 0.40985557],\n",
       "       [0.90054457, 0.09945543],\n",
       "       [0.71734636, 0.28265364],\n",
       "       [0.38925737, 0.61074263],\n",
       "       [0.97588881, 0.02411119],\n",
       "       [0.6993728 , 0.3006272 ],\n",
       "       [0.41113188, 0.58886812],\n",
       "       [0.85262544, 0.14737456],\n",
       "       [0.70961802, 0.29038198],\n",
       "       [0.78653257, 0.21346743],\n",
       "       [0.76274651, 0.23725349],\n",
       "       [0.79418575, 0.20581425],\n",
       "       [0.7694996 , 0.2305004 ],\n",
       "       [0.42740362, 0.57259638],\n",
       "       [0.9092802 , 0.0907198 ],\n",
       "       [0.21790454, 0.78209546],\n",
       "       [0.88264181, 0.11735819],\n",
       "       [0.79659643, 0.20340357],\n",
       "       [0.39643942, 0.60356058],\n",
       "       [0.95920326, 0.04079674],\n",
       "       [0.78052065, 0.21947935],\n",
       "       [0.70034484, 0.29965516],\n",
       "       [0.82012666, 0.17987334],\n",
       "       [0.99689511, 0.00310489],\n",
       "       [0.17298026, 0.82701974],\n",
       "       [0.83665646, 0.16334354],\n",
       "       [0.65802972, 0.34197028],\n",
       "       [0.86286844, 0.13713156],\n",
       "       [0.76460008, 0.23539992],\n",
       "       [0.80614538, 0.19385462],\n",
       "       [0.69564321, 0.30435679],\n",
       "       [0.89091337, 0.10908663],\n",
       "       [0.56715481, 0.43284519],\n",
       "       [0.55134921, 0.44865079],\n",
       "       [0.31213643, 0.68786357],\n",
       "       [0.91608834, 0.08391166],\n",
       "       [0.83898395, 0.16101605],\n",
       "       [0.89419686, 0.10580314],\n",
       "       [0.36854201, 0.63145799],\n",
       "       [0.81719757, 0.18280243],\n",
       "       [0.76903715, 0.23096285],\n",
       "       [0.85968149, 0.14031851],\n",
       "       [0.46023268, 0.53976732],\n",
       "       [0.79641092, 0.20358908],\n",
       "       [0.86651831, 0.13348169],\n",
       "       [0.70510781, 0.29489219],\n",
       "       [0.66866006, 0.33133994],\n",
       "       [0.5751215 , 0.4248785 ],\n",
       "       [0.95945842, 0.04054158],\n",
       "       [0.96634582, 0.03365418],\n",
       "       [0.56657382, 0.43342618],\n",
       "       [0.20632682, 0.79367318],\n",
       "       [0.94990365, 0.05009635],\n",
       "       [0.25214632, 0.74785368],\n",
       "       [0.52160156, 0.47839844]])"
      ]
     },
     "execution_count": 29,
     "metadata": {},
     "output_type": "execute_result"
    }
   ],
   "source": [
    "L1_lr.predict_proba(X_test_RS)"
   ]
  },
  {
   "cell_type": "code",
   "execution_count": 30,
   "metadata": {},
   "outputs": [
    {
     "data": {
      "text/plain": [
       "(154, 2)"
      ]
     },
     "execution_count": 30,
     "metadata": {},
     "output_type": "execute_result"
    }
   ],
   "source": [
    "L1_lr.predict_proba(X_test_RS).shape"
   ]
  },
  {
   "cell_type": "code",
   "execution_count": 31,
   "metadata": {},
   "outputs": [
    {
     "data": {
      "text/plain": [
       "array([0, 0, 1, 1, 1, 1, 0, 0, 0, 0, 1, 0, 0, 0, 0, 1, 1, 0, 0, 0, 1, 0,\n",
       "       0, 0, 0, 0, 0, 0, 0, 1, 1, 0, 0, 0, 0, 1, 0, 0, 0, 0, 0, 1, 0, 0,\n",
       "       1, 0, 0, 0, 0, 1, 1, 0, 0, 0, 0, 0, 0, 0, 0, 1, 1, 0, 0, 0, 0, 0,\n",
       "       1, 0, 0, 0, 0, 0, 0, 0, 1, 1, 0, 0, 0, 0, 0, 0, 0, 0, 0, 0, 0, 0,\n",
       "       0, 0, 0, 0, 0, 0, 1, 0, 0, 0, 1, 0, 0, 0, 1, 0, 0, 1, 0, 0, 0, 0,\n",
       "       0, 0, 1, 0, 1, 0, 0, 1, 0, 0, 0, 0, 0, 1, 0, 0, 0, 0, 0, 0, 0, 0,\n",
       "       0, 1, 0, 0, 0, 1, 0, 0, 0, 1, 0, 0, 0, 0, 0, 0, 0, 0, 1, 0, 1, 0])"
      ]
     },
     "execution_count": 31,
     "metadata": {},
     "output_type": "execute_result"
    }
   ],
   "source": [
    "L1_lr.predict(X_test_RS)"
   ]
  },
  {
   "cell_type": "code",
   "execution_count": 32,
   "metadata": {},
   "outputs": [
    {
     "data": {
      "text/plain": [
       "(154,)"
      ]
     },
     "execution_count": 32,
     "metadata": {},
     "output_type": "execute_result"
    }
   ],
   "source": [
    "L1_lr.predict(X_test_RS).shape"
   ]
  },
  {
   "cell_type": "markdown",
   "metadata": {},
   "source": [
    "### L2-regularized logistic regression model"
   ]
  },
  {
   "cell_type": "code",
   "execution_count": 28,
   "metadata": {},
   "outputs": [
    {
     "name": "stdout",
     "output_type": "stream",
     "text": [
      "L2-regularized logistic regression model\n",
      "Loss of Test Set: 0.46581199134578033\n",
      "F1 Score: 0.6976744186046512\n",
      "Accuracy: 0.8311688311688312\n",
      "Confusion_matrix:\n"
     ]
    },
    {
     "data": {
      "image/png": "[encoded data removed]",
      "text/plain": [
       "<Figure size 432x288 with 2 Axes>"
      ]
     },
     "metadata": {
      "needs_background": "light"
     },
     "output_type": "display_data"
    }
   ],
   "source": [
    "L2_lr = LogisticRegression(solver = 'saga', penalty = 'l2',C = 1/0.1, random_state=1)\n",
    "L2_lr.fit(X_train_RS, y_train)\n",
    "test_loss = log_loss(y_test,L2_lr.predict_proba(X_test_RS))\n",
    "print('L2-regularized logistic regression model')\n",
    "print('Loss of Test Set:',test_loss)\n",
    "print('F1 Score:',f1_score(y_test,L2_lr.predict(X_test_RS)))\n",
    "print('Accuracy:',accuracy_score(y_test,L2_lr.predict(X_test_RS)))\n",
    "\n",
    "print(\"Confusion_matrix:\")\n",
    "plot_confusion_matrix(L2_lr,X_test_RS, y_test, values_format='d',display_labels=['Non-Diabetes','Diabetes'])\n",
    "plt.show()"
   ]
  },
  {
   "cell_type": "markdown",
   "metadata": {},
   "source": [
    "### Elastic Net-regularized logistic regression model"
   ]
  },
  {
   "cell_type": "code",
   "execution_count": 29,
   "metadata": {},
   "outputs": [
    {
     "name": "stdout",
     "output_type": "stream",
     "text": [
      "Elastic Net-regularized logistic regression model\n",
      "Loss of Test Set: 0.46578004488033176\n",
      "F1 Score: 0.6976744186046512\n",
      "Accuracy: 0.8311688311688312\n",
      "Confusion_matrix:\n"
     ]
    },
    {
     "data": {
      "image/png": "[encoded data removed]",
      "text/plain": [
       "<Figure size 432x288 with 2 Axes>"
      ]
     },
     "metadata": {
      "needs_background": "light"
     },
     "output_type": "display_data"
    }
   ],
   "source": [
    "EN_lr = LogisticRegression(solver = 'saga', penalty = 'elasticnet', l1_ratio = 0.5, C = 1/0.1, random_state=2)\n",
    "EN_lr.fit(X_train_RS, y_train)\n",
    "test_loss = log_loss(y_test,EN_lr.predict_proba(X_test_RS))\n",
    "print('Elastic Net-regularized logistic regression model')\n",
    "print('Loss of Test Set:',test_loss)\n",
    "print('F1 Score:',f1_score(y_test,EN_lr.predict(X_test_RS)))\n",
    "print('Accuracy:',accuracy_score(y_test,EN_lr.predict(X_test_RS)))\n",
    "\n",
    "print(\"Confusion_matrix:\")\n",
    "plot_confusion_matrix(EN_lr,X_test_RS, y_test, values_format='d',display_labels=['Non-Diabetes','Diabetes'])\n",
    "plt.show()"
   ]
  },
  {
   "cell_type": "markdown",
   "metadata": {},
   "source": [
    "## Among L2, L1, and Elastic-Net regularized logistic regression models, accuracy and F1 score of these three models are same but L1-regularized logistic regression model has smallest Loss of Test Set. As a result, the best performing logistic regression model is L1-regularized logistic regression model."
   ]
  },
  {
   "cell_type": "markdown",
   "metadata": {},
   "source": [
    "# 8 - Use a Naïve Bayes model to classify the locations below as either New Hampshire (NH) or Vermont."
   ]
  },
  {
   "cell_type": "markdown",
   "metadata": {},
   "source": [
    "## Without Laplacian smoothing:\n",
    "\n",
    "### Probability of each class:\n",
    "$$ \\large P(Vermont) = \\frac{N_{Vermont}}{(N_{Vermont} + N_{New Hampshire})} = \\frac{2}{2+3} = 0.4$$\n",
    "\n",
    "$$ \\large P(New Hampshire) = \\frac{N_{New Hampshire}}{(N_{Vermont} + N_{New Hampshire})} = \\frac{3}{2+3} = 0.6$$\n",
    "\n",
    "#### States in the dictionary of train set: Burlington, Rutland, Springfield, Lebanon, Hanover, White River Junction (WRJ), Hartford, Shelburne, Concord, Nashua, Lyme, Claremont\n",
    "\n",
    "$$ \\small P(Springfield|Vermont)= \\frac{N(Springfield,Vermont)}{N(Burlington,Vermont)+N(Rutland,Vermont)+N(Springfield,Vermont)+N(Lebanon,Vermont)+N(Hanover,Vermont)+N(White River Junction,Vermont)+N(Hartford,Vermont)+N(Shelburne,Vermont)+N(Concord,Vermont)+N(Nashua,Vermont)+N(Lyme,Vermont)+N(Claremont,Vermont)}$$ \n",
    "$$\\small = \\frac{1}{1+1+1+0+0+1+1+1+0+0+0+0} = \\frac{1}{6} = 0.17$$\n",
    "\n",
    "$$ \\small P(Shelburne|Vermont)= \\frac{N(Shelburne,Vermont)}{N(Burlington,Vermont)+N(Rutland,Vermont)+N(Springfield,Vermont)+N(Lebanon,Vermont)+N(Hanover,Vermont)+N(White River Junction,Vermont)+N(Hartford,Vermont)+N(Shelburne,Vermont)+N(Concord,Vermont)+N(Nashua,Vermont)+N(Lyme,Vermont)+N(Claremont,Vermont)}$$ \n",
    "$$\\small= \\frac{1}{1+1+1+0+0+1+1+1+0+0+0+0} = \\frac{1}{6} = 0.17$$\n",
    "\n",
    "$$ \\small P(Manchester|Vermont)= \\frac{N(Manchester,Vermont)}{N(Burlington,Vermont)+N(Rutland,Vermont)+N(Springfield,Vermont)+N(Lebanon,Vermont)+N(Hanover,Vermont)+N(White River Junction,Vermont)+N(Hartford,Vermont)+N(Shelburne,Vermont)+N(Concord,Vermont)+N(Nashua,Vermont)+N(Lyme,Vermont)+N(Claremont,Vermont)}$$ \n",
    "$$\\small= \\frac{0}{1+1+1+0+0+1+1+1+0+0+0+0} = \\frac{0}{6} = 0$$\n",
    "\n",
    "$$ \\small P(Springfield|NH)= \\frac{N(Springfield,NH)}{N(Burlington,NH)+N(Rutland,NH)+N(Springfield,NH)+N(Lebanon,NH)+N(Hanover,NH)+N(WRJ,NH)+N(Hartford,NH)+N(Shelburne,NH)+N(Concord,NH)+N(Nashua,NH)+N(Lyme,NH)+N(Claremont,NH)}$$ \n",
    "$$\\small= \\frac{2}{0+0+2+1+1+0+0+1+1+1+1+1} = \\frac{2}{9} = 0.22$$\n",
    "\n",
    "$$ \\small P(Shelburne|NH)= \\frac{N(Shelburne,NH)}{N(Burlington,NH)+N(Rutland,NH)+N(Springfield,NH)+N(Lebanon,NH)+N(Hanover,NH)+N(WRJ,NH)+N(Hartford,NH)+N(Shelburne,NH)+N(Concord,NH)+N(Nashua,NH)+N(Lyme,NH)+N(Claremont,NH)}$$ \n",
    "$$\\small= \\frac{1}{0+0+2+1+1+0+0+1+1+1+1+1} = \\frac{1}{9} = 0.11$$\n",
    "\n",
    "$$ \\small P(Manchester|NH)= \\frac{N(Manchester,NH)}{N(Burlington,NH)+N(Rutland,NH)+N(Springfield,NH)+N(Lebanon,NH)+N(Hanover,NH)+N(WRJ,NH)+N(Hartford,NH)+N(Shelburne,NH)+N(Concord,NH)+N(Nashua,NH)+N(Lyme,NH)+N(Claremont,NH)}$$ \n",
    "$$\\small= \\frac{0}{0+0+2+1+1+0+0+1+1+1+1+1} = \\frac{0}{9} = 0$$\n",
    "\n",
    "### Classifying New Document:\n",
    "$$ \\small P(Springfield, Shelburne, Manchester|Vermont)= P(Springfield|Vermont)P(Shelburne|Vermont)P(Manchester|Vermont)= 0.17x0.17x0 = 0$$\n",
    "\n",
    "$$ \\small P(Springfield, Shelburne, Manchester|NH)= P(Springfield|NH)P(Shelburne|NH)P(Manchester|NH)= 0.22x0.11x0 = 0$$\n",
    "\n",
    "Posterior Probability:\n",
    "$$\\small P(Vermont|Springfield, Shelburne, Manchester)=\\frac{P(Springfield, Shelburne, Manchester|Vermont)xP(Vermont)}{P(Springfield, Shelburne, Manchester)}=\\frac{0x0.4}{P(Springfield, Shelburne, Manchester)} = 0 $$\n",
    "\n",
    "$$\\small P(NH|Springfield, Shelburne, Manchester)=\\frac{P(Springfield, Shelburne, Manchester|NH)xP(NH)}{P(Springfield, Shelburne, Manchester)}=\\frac{0x0.6}{P(Springfield, Shelburne, Manchester)} = 0 $$\n",
    "\n",
    "Classification decision:\n",
    "$$\\small\\frac{P(Vermont|Springfield, Shelburne, Manchester)}{P(NH|Springfield, Shelburne, Manchester)} = \\frac{0}{0}$$\n",
    "#### So {Springfield, Shelburne, Manchester} could not be classified as any State"
   ]
  },
  {
   "cell_type": "markdown",
   "metadata": {},
   "source": [
    "## With Laplacian smoothing:\n",
    "\n",
    "### Probability of each class:\n",
    "$$ \\large P(Vermont) = \\frac{N_{Vermont}}{(N_{Vermont} + N_{New Hampshire})} = \\frac{2}{2+3} = 0.4$$\n",
    "\n",
    "$$ \\large P(New Hampshire) = \\frac{N_{New Hampshire}}{(N_{Vermont} + N_{New Hampshire})} = \\frac{3}{2+3} = 0.6$$\n",
    "\n",
    "#### States in the dictionary of train set: Burlington, Rutland, Springfield, Lebanon, Hanover, White River Junction (WRJ), Hartford, Shelburne, Concord, Nashua, Lyme, Claremont\n",
    "\n",
    "$$ \\small P(Springfield|Vermont)= \\frac{N(Springfield,Vermont)}{N(Burlington,Vermont)+N(Rutland,Vermont)+N(Springfield,Vermont)+N(Lebanon,Vermont)+N(Hanover,Vermont)+N(White River Junction,Vermont)+N(Hartford,Vermont)+N(Shelburne,Vermont)+N(Concord,Vermont)+N(Nashua,Vermont)+N(Lyme,Vermont)+N(Claremont,Vermont)}$$ \n",
    "$$\\small = \\frac{1+1}{2+2+2+1+1+2+2+2+1+1+1+1} = \\frac{2}{18}$$\n",
    "\n",
    "$$ \\small P(Shelburne|Vermont)= \\frac{N(Shelburne,Vermont)}{N(Burlington,Vermont)+N(Rutland,Vermont)+N(Springfield,Vermont)+N(Lebanon,Vermont)+N(Hanover,Vermont)+N(White River Junction,Vermont)+N(Hartford,Vermont)+N(Shelburne,Vermont)+N(Concord,Vermont)+N(Nashua,Vermont)+N(Lyme,Vermont)+N(Claremont,Vermont)}$$ \n",
    "$$\\small= \\frac{1+1}{2+2+2+1+1+2+2+2+1+1+1+1} = \\frac{2}{18}$$\n",
    "\n",
    "$$ \\small P(Manchester|Vermont)= \\frac{N(Manchester,Vermont)}{N(Burlington,Vermont)+N(Rutland,Vermont)+N(Springfield,Vermont)+N(Lebanon,Vermont)+N(Hanover,Vermont)+N(White River Junction,Vermont)+N(Hartford,Vermont)+N(Shelburne,Vermont)+N(Concord,Vermont)+N(Nashua,Vermont)+N(Lyme,Vermont)+N(Claremont,Vermont)}$$ \n",
    "$$\\small= \\frac{0+1}{2+2+2+1+1+2+2+2+1+1+1+1} = \\frac{1}{18}$$\n",
    "\n",
    "$$ \\small P(Springfield|NH)= \\frac{N(Springfield,NH)}{N(Burlington,NH)+N(Rutland,NH)+N(Springfield,NH)+N(Lebanon,NH)+N(Hanover,NH)+N(WRJ,NH)+N(Hartford,NH)+N(Shelburne,NH)+N(Concord,NH)+N(Nashua,NH)+N(Lyme,NH)+N(Claremont,NH)}$$ \n",
    "$$\\small= \\frac{2+1}{1+1+3+2+2+1+1+2+2+2+2+2} = \\frac{3}{21}$$\n",
    "\n",
    "$$ \\small P(Shelburne|NH)= \\frac{N(Shelburne,NH)}{N(Burlington,NH)+N(Rutland,NH)+N(Springfield,NH)+N(Lebanon,NH)+N(Hanover,NH)+N(WRJ,NH)+N(Hartford,NH)+N(Shelburne,NH)+N(Concord,NH)+N(Nashua,NH)+N(Lyme,NH)+N(Claremont,NH)}$$ \n",
    "$$\\small= \\frac{1+1}{1+1+3+2+2+1+1+2+2+2+2+2} = \\frac{2}{21}$$\n",
    "\n",
    "$$ \\small P(Manchester|NH)= \\frac{N(Manchester,NH)}{N(Burlington,NH)+N(Rutland,NH)+N(Springfield,NH)+N(Lebanon,NH)+N(Hanover,NH)+N(WRJ,NH)+N(Hartford,NH)+N(Shelburne,NH)+N(Concord,NH)+N(Nashua,NH)+N(Lyme,NH)+N(Claremont,NH)}$$ \n",
    "$$\\small= \\frac{0+1}{1+1+3+2+2+1+1+2+2+2+2+2} = \\frac{1}{21}$$\n",
    "\n",
    "### Classifying New Document:\n",
    "$$ \\small P(Springfield, Shelburne, Manchester|Vermont)= P(Springfield|Vermont)P(Shelburne|Vermont)P(Manchester|Vermont)= \\frac{2}{18}x\\frac{2}{18}x\\frac{1}{18} = 0.0006858711$$\n",
    "\n",
    "$$ \\small P(Springfield, Shelburne, Manchester|NH)= P(Springfield|NH)P(Shelburne|NH)P(Manchester|NH)= \\frac{3}{21}x\\frac{2}{21}x\\frac{1}{21} = 0.0006478782$$\n",
    "\n",
    "Posterior Probability:\n",
    "$$\\small P(Vermont|Springfield, Shelburne, Manchester)=\\frac{P(Springfield, Shelburne, Manchester|Vermont)xP(Vermont)}{P(Springfield, Shelburne, Manchester)}=\\frac{0.0006858711x0.4}{P(Springfield, Shelburne, Manchester)}$$\n",
    "\n",
    "$$\\small P(NH|Springfield, Shelburne, Manchester)=\\frac{P(Springfield, Shelburne, Manchester|NH)xP(NH)}{P(Springfield, Shelburne, Manchester)}=\\frac{0.0006478782x0.6}{P(Springfield, Shelburne, Manchester)}$$\n",
    "\n",
    "Classification decision:\n",
    "$$\\small\\frac{P(Vermont|Springfield, Shelburne, Manchester)}{P(NH|Springfield, Shelburne, Manchester)} = \\frac{0.0006858711x0.4}{0.0006478782x0.6} = 0.7057614 < 1$$\n",
    "#### So {Springfield, Shelburne, Manchester} is classified as New Hampshire."
   ]
  },
  {
   "cell_type": "code",
   "execution_count": null,
   "metadata": {},
   "outputs": [],
   "source": []
  }
 ],
 "metadata": {
  "kernelspec": {
   "display_name": "Python 3",
   "language": "python",
   "name": "python3"
  },
  "language_info": {
   "codemirror_mode": {
    "name": "ipython",
    "version": 3
   },
   "file_extension": ".py",
   "mimetype": "text/x-python",
   "name": "python",
   "nbconvert_exporter": "python",
   "pygments_lexer": "ipython3",
   "version": "3.7.7"
  }
 },
 "nbformat": 4,
 "nbformat_minor": 4
}
