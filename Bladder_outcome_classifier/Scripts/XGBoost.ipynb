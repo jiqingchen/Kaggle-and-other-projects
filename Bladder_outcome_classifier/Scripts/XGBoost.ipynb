{
 "cells": [
  {
   "cell_type": "code",
   "execution_count": 1,
   "metadata": {},
   "outputs": [],
   "source": [
    "import pandas as pd\n",
    "import numpy as np"
   ]
  },
  {
   "cell_type": "markdown",
   "metadata": {},
   "source": [
    "### load data"
   ]
  },
  {
   "cell_type": "code",
   "execution_count": 2,
   "metadata": {},
   "outputs": [
    {
     "data": {
      "text/html": [
       "<div>\n",
       "<style scoped>\n",
       "    .dataframe tbody tr th:only-of-type {\n",
       "        vertical-align: middle;\n",
       "    }\n",
       "\n",
       "    .dataframe tbody tr th {\n",
       "        vertical-align: top;\n",
       "    }\n",
       "\n",
       "    .dataframe thead th {\n",
       "        text-align: right;\n",
       "    }\n",
       "</style>\n",
       "<table border=\"1\" class=\"dataframe\">\n",
       "  <thead>\n",
       "    <tr style=\"text-align: right;\">\n",
       "      <th></th>\n",
       "      <th>Sample_Name</th>\n",
       "      <th>refage</th>\n",
       "      <th>sex</th>\n",
       "      <th>grade2</th>\n",
       "      <th>smkstat2</th>\n",
       "      <th>ImmunoTx</th>\n",
       "      <th>TenYearRFS</th>\n",
       "      <th>TenRFS</th>\n",
       "      <th>TenDead</th>\n",
       "      <th>TenYearSurv</th>\n",
       "      <th>...</th>\n",
       "      <th>Lymph</th>\n",
       "      <th>CD4T</th>\n",
       "      <th>CD8T</th>\n",
       "      <th>NLR</th>\n",
       "      <th>MLR</th>\n",
       "      <th>CD4_to_8</th>\n",
       "      <th>CD4mem_to_nv</th>\n",
       "      <th>CD8mem_to_nv</th>\n",
       "      <th>Tmem_to_nv</th>\n",
       "      <th>RecOrProg</th>\n",
       "    </tr>\n",
       "  </thead>\n",
       "  <tbody>\n",
       "    <tr>\n",
       "      <th>0</th>\n",
       "      <td>202172220017_R01C01</td>\n",
       "      <td>69</td>\n",
       "      <td>male</td>\n",
       "      <td>Grade 3 + 4</td>\n",
       "      <td>ever-smoker</td>\n",
       "      <td>With Immuno</td>\n",
       "      <td>4.109589</td>\n",
       "      <td>1</td>\n",
       "      <td>1</td>\n",
       "      <td>53.322382</td>\n",
       "      <td>...</td>\n",
       "      <td>14.1</td>\n",
       "      <td>2.5</td>\n",
       "      <td>3.6</td>\n",
       "      <td>4.730496</td>\n",
       "      <td>0.794326</td>\n",
       "      <td>0.694444</td>\n",
       "      <td>1.777778</td>\n",
       "      <td>11.000000</td>\n",
       "      <td>4.083333</td>\n",
       "      <td>yes</td>\n",
       "    </tr>\n",
       "    <tr>\n",
       "      <th>1</th>\n",
       "      <td>202172220017_R02C01</td>\n",
       "      <td>67</td>\n",
       "      <td>male</td>\n",
       "      <td>Grade 1 + 2</td>\n",
       "      <td>ever-smoker</td>\n",
       "      <td>Without Immuno</td>\n",
       "      <td>98.299795</td>\n",
       "      <td>1</td>\n",
       "      <td>1</td>\n",
       "      <td>98.299795</td>\n",
       "      <td>...</td>\n",
       "      <td>32.1</td>\n",
       "      <td>11.7</td>\n",
       "      <td>10.6</td>\n",
       "      <td>1.772586</td>\n",
       "      <td>0.230530</td>\n",
       "      <td>1.103774</td>\n",
       "      <td>1170.000000</td>\n",
       "      <td>34.333333</td>\n",
       "      <td>70.967742</td>\n",
       "      <td>no</td>\n",
       "    </tr>\n",
       "    <tr>\n",
       "      <th>2</th>\n",
       "      <td>202172220017_R03C01</td>\n",
       "      <td>69</td>\n",
       "      <td>female</td>\n",
       "      <td>Grade 1 + 2</td>\n",
       "      <td>non-smoker</td>\n",
       "      <td>With Immuno</td>\n",
       "      <td>120.000000</td>\n",
       "      <td>0</td>\n",
       "      <td>0</td>\n",
       "      <td>120.000000</td>\n",
       "      <td>...</td>\n",
       "      <td>30.9</td>\n",
       "      <td>19.1</td>\n",
       "      <td>6.5</td>\n",
       "      <td>1.977346</td>\n",
       "      <td>0.168285</td>\n",
       "      <td>2.938462</td>\n",
       "      <td>1.728571</td>\n",
       "      <td>5.500000</td>\n",
       "      <td>2.200000</td>\n",
       "      <td>no</td>\n",
       "    </tr>\n",
       "    <tr>\n",
       "      <th>3</th>\n",
       "      <td>202172220017_R05C01</td>\n",
       "      <td>63</td>\n",
       "      <td>male</td>\n",
       "      <td>Grade 1 + 2</td>\n",
       "      <td>ever-smoker</td>\n",
       "      <td>Without Immuno</td>\n",
       "      <td>28.043836</td>\n",
       "      <td>1</td>\n",
       "      <td>0</td>\n",
       "      <td>120.000000</td>\n",
       "      <td>...</td>\n",
       "      <td>40.9</td>\n",
       "      <td>19.1</td>\n",
       "      <td>14.4</td>\n",
       "      <td>1.359413</td>\n",
       "      <td>0.051345</td>\n",
       "      <td>1.326389</td>\n",
       "      <td>46.750000</td>\n",
       "      <td>13.400000</td>\n",
       "      <td>22.928571</td>\n",
       "      <td>yes</td>\n",
       "    </tr>\n",
       "    <tr>\n",
       "      <th>4</th>\n",
       "      <td>202172220017_R06C01</td>\n",
       "      <td>61</td>\n",
       "      <td>male</td>\n",
       "      <td>Grade 1 + 2</td>\n",
       "      <td>ever-smoker</td>\n",
       "      <td>Without Immuno</td>\n",
       "      <td>58.546201</td>\n",
       "      <td>1</td>\n",
       "      <td>1</td>\n",
       "      <td>58.546201</td>\n",
       "      <td>...</td>\n",
       "      <td>26.6</td>\n",
       "      <td>13.6</td>\n",
       "      <td>2.9</td>\n",
       "      <td>2.045113</td>\n",
       "      <td>0.432331</td>\n",
       "      <td>4.689655</td>\n",
       "      <td>8.769231</td>\n",
       "      <td>0.705882</td>\n",
       "      <td>4.200000</td>\n",
       "      <td>no</td>\n",
       "    </tr>\n",
       "    <tr>\n",
       "      <th>...</th>\n",
       "      <td>...</td>\n",
       "      <td>...</td>\n",
       "      <td>...</td>\n",
       "      <td>...</td>\n",
       "      <td>...</td>\n",
       "      <td>...</td>\n",
       "      <td>...</td>\n",
       "      <td>...</td>\n",
       "      <td>...</td>\n",
       "      <td>...</td>\n",
       "      <td>...</td>\n",
       "      <td>...</td>\n",
       "      <td>...</td>\n",
       "      <td>...</td>\n",
       "      <td>...</td>\n",
       "      <td>...</td>\n",
       "      <td>...</td>\n",
       "      <td>...</td>\n",
       "      <td>...</td>\n",
       "      <td>...</td>\n",
       "      <td>...</td>\n",
       "    </tr>\n",
       "    <tr>\n",
       "      <th>598</th>\n",
       "      <td>203755070060_R03C01</td>\n",
       "      <td>61</td>\n",
       "      <td>male</td>\n",
       "      <td>Grade 1 + 2</td>\n",
       "      <td>ever-smoker</td>\n",
       "      <td>Without Immuno</td>\n",
       "      <td>120.000000</td>\n",
       "      <td>0</td>\n",
       "      <td>0</td>\n",
       "      <td>120.000000</td>\n",
       "      <td>...</td>\n",
       "      <td>17.6</td>\n",
       "      <td>9.1</td>\n",
       "      <td>3.4</td>\n",
       "      <td>3.704545</td>\n",
       "      <td>0.630682</td>\n",
       "      <td>2.676471</td>\n",
       "      <td>1.600000</td>\n",
       "      <td>5.800000</td>\n",
       "      <td>2.125000</td>\n",
       "      <td>no</td>\n",
       "    </tr>\n",
       "    <tr>\n",
       "      <th>599</th>\n",
       "      <td>203755070060_R04C01</td>\n",
       "      <td>60</td>\n",
       "      <td>female</td>\n",
       "      <td>Grade 1 + 2</td>\n",
       "      <td>non-smoker</td>\n",
       "      <td>Without Immuno</td>\n",
       "      <td>4.800000</td>\n",
       "      <td>1</td>\n",
       "      <td>0</td>\n",
       "      <td>120.000000</td>\n",
       "      <td>...</td>\n",
       "      <td>42.4</td>\n",
       "      <td>26.3</td>\n",
       "      <td>4.6</td>\n",
       "      <td>1.087264</td>\n",
       "      <td>0.188679</td>\n",
       "      <td>5.717391</td>\n",
       "      <td>3.781818</td>\n",
       "      <td>0.000000</td>\n",
       "      <td>2.059406</td>\n",
       "      <td>yes</td>\n",
       "    </tr>\n",
       "    <tr>\n",
       "      <th>600</th>\n",
       "      <td>203755070060_R05C01</td>\n",
       "      <td>50</td>\n",
       "      <td>male</td>\n",
       "      <td>Grade 1 + 2</td>\n",
       "      <td>non-smoker</td>\n",
       "      <td>Without Immuno</td>\n",
       "      <td>120.000000</td>\n",
       "      <td>0</td>\n",
       "      <td>0</td>\n",
       "      <td>120.000000</td>\n",
       "      <td>...</td>\n",
       "      <td>28.9</td>\n",
       "      <td>12.2</td>\n",
       "      <td>3.9</td>\n",
       "      <td>2.027682</td>\n",
       "      <td>0.332180</td>\n",
       "      <td>3.128205</td>\n",
       "      <td>2.666667</td>\n",
       "      <td>0.560000</td>\n",
       "      <td>1.758621</td>\n",
       "      <td>no</td>\n",
       "    </tr>\n",
       "    <tr>\n",
       "      <th>601</th>\n",
       "      <td>203755070060_R06C01</td>\n",
       "      <td>67</td>\n",
       "      <td>male</td>\n",
       "      <td>Grade 3 + 4</td>\n",
       "      <td>ever-smoker</td>\n",
       "      <td>Without Immuno</td>\n",
       "      <td>120.000000</td>\n",
       "      <td>0</td>\n",
       "      <td>0</td>\n",
       "      <td>120.000000</td>\n",
       "      <td>...</td>\n",
       "      <td>27.2</td>\n",
       "      <td>14.9</td>\n",
       "      <td>3.0</td>\n",
       "      <td>2.202206</td>\n",
       "      <td>0.202206</td>\n",
       "      <td>4.966667</td>\n",
       "      <td>3.138889</td>\n",
       "      <td>0.666667</td>\n",
       "      <td>2.314815</td>\n",
       "      <td>no</td>\n",
       "    </tr>\n",
       "    <tr>\n",
       "      <th>602</th>\n",
       "      <td>203755070060_R08C01</td>\n",
       "      <td>63</td>\n",
       "      <td>male</td>\n",
       "      <td>Grade 1 + 2</td>\n",
       "      <td>ever-smoker</td>\n",
       "      <td>Without Immuno</td>\n",
       "      <td>61.944487</td>\n",
       "      <td>1</td>\n",
       "      <td>0</td>\n",
       "      <td>120.000000</td>\n",
       "      <td>...</td>\n",
       "      <td>28.9</td>\n",
       "      <td>16.7</td>\n",
       "      <td>6.6</td>\n",
       "      <td>2.238754</td>\n",
       "      <td>0.159170</td>\n",
       "      <td>2.530303</td>\n",
       "      <td>15.700000</td>\n",
       "      <td>3.714286</td>\n",
       "      <td>8.708333</td>\n",
       "      <td>yes</td>\n",
       "    </tr>\n",
       "  </tbody>\n",
       "</table>\n",
       "<p>603 rows × 49 columns</p>\n",
       "</div>"
      ],
      "text/plain": [
       "             Sample_Name  refage     sex       grade2     smkstat2  \\\n",
       "0    202172220017_R01C01      69    male  Grade 3 + 4  ever-smoker   \n",
       "1    202172220017_R02C01      67    male  Grade 1 + 2  ever-smoker   \n",
       "2    202172220017_R03C01      69  female  Grade 1 + 2   non-smoker   \n",
       "3    202172220017_R05C01      63    male  Grade 1 + 2  ever-smoker   \n",
       "4    202172220017_R06C01      61    male  Grade 1 + 2  ever-smoker   \n",
       "..                   ...     ...     ...          ...          ...   \n",
       "598  203755070060_R03C01      61    male  Grade 1 + 2  ever-smoker   \n",
       "599  203755070060_R04C01      60  female  Grade 1 + 2   non-smoker   \n",
       "600  203755070060_R05C01      50    male  Grade 1 + 2   non-smoker   \n",
       "601  203755070060_R06C01      67    male  Grade 3 + 4  ever-smoker   \n",
       "602  203755070060_R08C01      63    male  Grade 1 + 2  ever-smoker   \n",
       "\n",
       "           ImmunoTx  TenYearRFS  TenRFS  TenDead  TenYearSurv  ...  Lymph  \\\n",
       "0       With Immuno    4.109589       1        1    53.322382  ...   14.1   \n",
       "1    Without Immuno   98.299795       1        1    98.299795  ...   32.1   \n",
       "2       With Immuno  120.000000       0        0   120.000000  ...   30.9   \n",
       "3    Without Immuno   28.043836       1        0   120.000000  ...   40.9   \n",
       "4    Without Immuno   58.546201       1        1    58.546201  ...   26.6   \n",
       "..              ...         ...     ...      ...          ...  ...    ...   \n",
       "598  Without Immuno  120.000000       0        0   120.000000  ...   17.6   \n",
       "599  Without Immuno    4.800000       1        0   120.000000  ...   42.4   \n",
       "600  Without Immuno  120.000000       0        0   120.000000  ...   28.9   \n",
       "601  Without Immuno  120.000000       0        0   120.000000  ...   27.2   \n",
       "602  Without Immuno   61.944487       1        0   120.000000  ...   28.9   \n",
       "\n",
       "     CD4T  CD8T       NLR       MLR  CD4_to_8  CD4mem_to_nv  CD8mem_to_nv  \\\n",
       "0     2.5   3.6  4.730496  0.794326  0.694444      1.777778     11.000000   \n",
       "1    11.7  10.6  1.772586  0.230530  1.103774   1170.000000     34.333333   \n",
       "2    19.1   6.5  1.977346  0.168285  2.938462      1.728571      5.500000   \n",
       "3    19.1  14.4  1.359413  0.051345  1.326389     46.750000     13.400000   \n",
       "4    13.6   2.9  2.045113  0.432331  4.689655      8.769231      0.705882   \n",
       "..    ...   ...       ...       ...       ...           ...           ...   \n",
       "598   9.1   3.4  3.704545  0.630682  2.676471      1.600000      5.800000   \n",
       "599  26.3   4.6  1.087264  0.188679  5.717391      3.781818      0.000000   \n",
       "600  12.2   3.9  2.027682  0.332180  3.128205      2.666667      0.560000   \n",
       "601  14.9   3.0  2.202206  0.202206  4.966667      3.138889      0.666667   \n",
       "602  16.7   6.6  2.238754  0.159170  2.530303     15.700000      3.714286   \n",
       "\n",
       "     Tmem_to_nv  RecOrProg  \n",
       "0      4.083333        yes  \n",
       "1     70.967742         no  \n",
       "2      2.200000         no  \n",
       "3     22.928571        yes  \n",
       "4      4.200000         no  \n",
       "..          ...        ...  \n",
       "598    2.125000         no  \n",
       "599    2.059406        yes  \n",
       "600    1.758621         no  \n",
       "601    2.314815         no  \n",
       "602    8.708333        yes  \n",
       "\n",
       "[603 rows x 49 columns]"
      ]
     },
     "execution_count": 2,
     "metadata": {},
     "output_type": "execute_result"
    }
   ],
   "source": [
    "df = pd.read_csv('/Users/chenjiqing/Public/bladder cancer/ML used/NMIBC2.csv')\n",
    "df"
   ]
  },
  {
   "cell_type": "code",
   "execution_count": 3,
   "metadata": {},
   "outputs": [
    {
     "data": {
      "text/plain": [
       "Index(['Sample_Name', 'refage', 'sex', 'grade2', 'smkstat2', 'ImmunoTx',\n",
       "       'TenYearRFS', 'TenRFS', 'TenDead', 'TenYearSurv', 'SurgToBlood',\n",
       "       'SurgToBlood3', 'ProgressYN', 'RecurYN', 'Bas', 'Bmem', 'Bnv', 'CD4mem',\n",
       "       'CD4nv', 'CD8mem', 'CD8nv', 'Eos', 'Mono', 'Neu', 'NK', 'Treg', 'Bas2',\n",
       "       'Bmem2', 'Bnv2', 'CD4mem2', 'CD4nv2', 'CD8mem2', 'CD8nv2', 'Eos2',\n",
       "       'Mono2', 'Neu2', 'NK2', 'Treg2', 'T_cell', 'Lymph', 'CD4T', 'CD8T',\n",
       "       'NLR', 'MLR', 'CD4_to_8', 'CD4mem_to_nv', 'CD8mem_to_nv', 'Tmem_to_nv',\n",
       "       'RecOrProg'],\n",
       "      dtype='object')"
      ]
     },
     "execution_count": 3,
     "metadata": {},
     "output_type": "execute_result"
    }
   ],
   "source": [
    "df.columns"
   ]
  },
  {
   "cell_type": "markdown",
   "metadata": {},
   "source": [
    "### remove the variables that are not used in training"
   ]
  },
  {
   "cell_type": "code",
   "execution_count": 4,
   "metadata": {},
   "outputs": [
    {
     "data": {
      "text/plain": [
       "Index(['refage', 'sex', 'grade2', 'smkstat2', 'ImmunoTx', 'TenDead',\n",
       "       'SurgToBlood', 'Bas2', 'Bmem2', 'Bnv2', 'CD4mem2', 'CD4nv2', 'CD8mem2',\n",
       "       'CD8nv2', 'Mono2', 'Neu2', 'NK2', 'Treg2'],\n",
       "      dtype='object')"
      ]
     },
     "execution_count": 4,
     "metadata": {},
     "output_type": "execute_result"
    }
   ],
   "source": [
    "df.drop(['Sample_Name','TenYearRFS', 'TenRFS','TenYearSurv', 'SurgToBlood3','ProgressYN', 'RecurYN', 'Bas', 'Bmem', 'Bnv', 'CD4mem',\n",
    "       'CD4nv', 'CD8mem', 'CD8nv', 'Eos', 'Mono', 'Neu', 'NK', 'Treg','T_cell', 'Lymph', 'CD4T', 'CD8T',\n",
    "       'NLR', 'MLR', 'CD4_to_8', 'CD4mem_to_nv', 'CD8mem_to_nv', 'Tmem_to_nv','RecOrProg','Eos2'],axis=1,inplace=True)\n",
    "df.columns"
   ]
  },
  {
   "cell_type": "code",
   "execution_count": 5,
   "metadata": {},
   "outputs": [
    {
     "data": {
      "text/plain": [
       "refage           int64\n",
       "sex             object\n",
       "grade2          object\n",
       "smkstat2        object\n",
       "ImmunoTx        object\n",
       "TenDead          int64\n",
       "SurgToBlood    float64\n",
       "Bas2           float64\n",
       "Bmem2          float64\n",
       "Bnv2           float64\n",
       "CD4mem2        float64\n",
       "CD4nv2         float64\n",
       "CD8mem2        float64\n",
       "CD8nv2         float64\n",
       "Mono2          float64\n",
       "Neu2           float64\n",
       "NK2            float64\n",
       "Treg2          float64\n",
       "dtype: object"
      ]
     },
     "execution_count": 5,
     "metadata": {},
     "output_type": "execute_result"
    }
   ],
   "source": [
    "df.dtypes"
   ]
  },
  {
   "cell_type": "markdown",
   "metadata": {},
   "source": [
    "### Although it is ok to have whitespace in the value in 'grade2', and 'ImmunoTx'for XGBoost and classification, we can't have any whitespace if we want to draw a tree."
   ]
  },
  {
   "cell_type": "code",
   "execution_count": 6,
   "metadata": {},
   "outputs": [
    {
     "data": {
      "text/html": [
       "<div>\n",
       "<style scoped>\n",
       "    .dataframe tbody tr th:only-of-type {\n",
       "        vertical-align: middle;\n",
       "    }\n",
       "\n",
       "    .dataframe tbody tr th {\n",
       "        vertical-align: top;\n",
       "    }\n",
       "\n",
       "    .dataframe thead th {\n",
       "        text-align: right;\n",
       "    }\n",
       "</style>\n",
       "<table border=\"1\" class=\"dataframe\">\n",
       "  <thead>\n",
       "    <tr style=\"text-align: right;\">\n",
       "      <th></th>\n",
       "      <th>refage</th>\n",
       "      <th>sex</th>\n",
       "      <th>grade2</th>\n",
       "      <th>smkstat2</th>\n",
       "      <th>ImmunoTx</th>\n",
       "      <th>TenDead</th>\n",
       "      <th>SurgToBlood</th>\n",
       "      <th>Bas2</th>\n",
       "      <th>Bmem2</th>\n",
       "      <th>Bnv2</th>\n",
       "      <th>CD4mem2</th>\n",
       "      <th>CD4nv2</th>\n",
       "      <th>CD8mem2</th>\n",
       "      <th>CD8nv2</th>\n",
       "      <th>Mono2</th>\n",
       "      <th>Neu2</th>\n",
       "      <th>NK2</th>\n",
       "      <th>Treg2</th>\n",
       "    </tr>\n",
       "  </thead>\n",
       "  <tbody>\n",
       "    <tr>\n",
       "      <th>0</th>\n",
       "      <td>69</td>\n",
       "      <td>male</td>\n",
       "      <td>Grade_3_+_4</td>\n",
       "      <td>ever-smoker</td>\n",
       "      <td>With_Immuno</td>\n",
       "      <td>1</td>\n",
       "      <td>757.0</td>\n",
       "      <td>2.500</td>\n",
       "      <td>0.0</td>\n",
       "      <td>3.1</td>\n",
       "      <td>1.6</td>\n",
       "      <td>0.90</td>\n",
       "      <td>3.3</td>\n",
       "      <td>0.3</td>\n",
       "      <td>11.2</td>\n",
       "      <td>66.7</td>\n",
       "      <td>4.9</td>\n",
       "      <td>0.0</td>\n",
       "    </tr>\n",
       "    <tr>\n",
       "      <th>1</th>\n",
       "      <td>67</td>\n",
       "      <td>male</td>\n",
       "      <td>Grade_1_+_2</td>\n",
       "      <td>ever-smoker</td>\n",
       "      <td>Without_Immuno</td>\n",
       "      <td>1</td>\n",
       "      <td>739.0</td>\n",
       "      <td>2.700</td>\n",
       "      <td>0.5</td>\n",
       "      <td>3.3</td>\n",
       "      <td>11.7</td>\n",
       "      <td>0.01</td>\n",
       "      <td>10.3</td>\n",
       "      <td>0.3</td>\n",
       "      <td>7.4</td>\n",
       "      <td>56.9</td>\n",
       "      <td>6.0</td>\n",
       "      <td>0.0</td>\n",
       "    </tr>\n",
       "    <tr>\n",
       "      <th>2</th>\n",
       "      <td>69</td>\n",
       "      <td>female</td>\n",
       "      <td>Grade_1_+_2</td>\n",
       "      <td>non-smoker</td>\n",
       "      <td>With_Immuno</td>\n",
       "      <td>0</td>\n",
       "      <td>212.0</td>\n",
       "      <td>1.600</td>\n",
       "      <td>0.0</td>\n",
       "      <td>2.6</td>\n",
       "      <td>12.1</td>\n",
       "      <td>7.00</td>\n",
       "      <td>5.5</td>\n",
       "      <td>1.0</td>\n",
       "      <td>5.2</td>\n",
       "      <td>61.1</td>\n",
       "      <td>2.7</td>\n",
       "      <td>0.0</td>\n",
       "    </tr>\n",
       "    <tr>\n",
       "      <th>3</th>\n",
       "      <td>63</td>\n",
       "      <td>male</td>\n",
       "      <td>Grade_1_+_2</td>\n",
       "      <td>ever-smoker</td>\n",
       "      <td>Without_Immuno</td>\n",
       "      <td>0</td>\n",
       "      <td>650.0</td>\n",
       "      <td>0.600</td>\n",
       "      <td>0.0</td>\n",
       "      <td>3.6</td>\n",
       "      <td>18.7</td>\n",
       "      <td>0.40</td>\n",
       "      <td>13.4</td>\n",
       "      <td>1.0</td>\n",
       "      <td>2.1</td>\n",
       "      <td>55.6</td>\n",
       "      <td>3.8</td>\n",
       "      <td>0.0</td>\n",
       "    </tr>\n",
       "    <tr>\n",
       "      <th>4</th>\n",
       "      <td>61</td>\n",
       "      <td>male</td>\n",
       "      <td>Grade_1_+_2</td>\n",
       "      <td>ever-smoker</td>\n",
       "      <td>Without_Immuno</td>\n",
       "      <td>1</td>\n",
       "      <td>571.0</td>\n",
       "      <td>4.196</td>\n",
       "      <td>0.8</td>\n",
       "      <td>7.0</td>\n",
       "      <td>11.4</td>\n",
       "      <td>1.30</td>\n",
       "      <td>1.2</td>\n",
       "      <td>1.7</td>\n",
       "      <td>11.5</td>\n",
       "      <td>54.4</td>\n",
       "      <td>2.3</td>\n",
       "      <td>0.9</td>\n",
       "    </tr>\n",
       "  </tbody>\n",
       "</table>\n",
       "</div>"
      ],
      "text/plain": [
       "   refage     sex       grade2     smkstat2        ImmunoTx  TenDead  \\\n",
       "0      69    male  Grade_3_+_4  ever-smoker     With_Immuno        1   \n",
       "1      67    male  Grade_1_+_2  ever-smoker  Without_Immuno        1   \n",
       "2      69  female  Grade_1_+_2   non-smoker     With_Immuno        0   \n",
       "3      63    male  Grade_1_+_2  ever-smoker  Without_Immuno        0   \n",
       "4      61    male  Grade_1_+_2  ever-smoker  Without_Immuno        1   \n",
       "\n",
       "   SurgToBlood   Bas2  Bmem2  Bnv2  CD4mem2  CD4nv2  CD8mem2  CD8nv2  Mono2  \\\n",
       "0        757.0  2.500    0.0   3.1      1.6    0.90      3.3     0.3   11.2   \n",
       "1        739.0  2.700    0.5   3.3     11.7    0.01     10.3     0.3    7.4   \n",
       "2        212.0  1.600    0.0   2.6     12.1    7.00      5.5     1.0    5.2   \n",
       "3        650.0  0.600    0.0   3.6     18.7    0.40     13.4     1.0    2.1   \n",
       "4        571.0  4.196    0.8   7.0     11.4    1.30      1.2     1.7   11.5   \n",
       "\n",
       "   Neu2  NK2  Treg2  \n",
       "0  66.7  4.9    0.0  \n",
       "1  56.9  6.0    0.0  \n",
       "2  61.1  2.7    0.0  \n",
       "3  55.6  3.8    0.0  \n",
       "4  54.4  2.3    0.9  "
      ]
     },
     "execution_count": 6,
     "metadata": {},
     "output_type": "execute_result"
    }
   ],
   "source": [
    "df.replace(' ','_',regex=True, inplace=True)\n",
    "df.head()"
   ]
  },
  {
   "cell_type": "markdown",
   "metadata": {},
   "source": [
    "### The columns of data that we will use to make classifications"
   ]
  },
  {
   "cell_type": "code",
   "execution_count": 7,
   "metadata": {},
   "outputs": [
    {
     "data": {
      "text/html": [
       "<div>\n",
       "<style scoped>\n",
       "    .dataframe tbody tr th:only-of-type {\n",
       "        vertical-align: middle;\n",
       "    }\n",
       "\n",
       "    .dataframe tbody tr th {\n",
       "        vertical-align: top;\n",
       "    }\n",
       "\n",
       "    .dataframe thead th {\n",
       "        text-align: right;\n",
       "    }\n",
       "</style>\n",
       "<table border=\"1\" class=\"dataframe\">\n",
       "  <thead>\n",
       "    <tr style=\"text-align: right;\">\n",
       "      <th></th>\n",
       "      <th>refage</th>\n",
       "      <th>sex</th>\n",
       "      <th>grade2</th>\n",
       "      <th>smkstat2</th>\n",
       "      <th>ImmunoTx</th>\n",
       "      <th>SurgToBlood</th>\n",
       "      <th>Bas2</th>\n",
       "      <th>Bmem2</th>\n",
       "      <th>Bnv2</th>\n",
       "      <th>CD4mem2</th>\n",
       "      <th>CD4nv2</th>\n",
       "      <th>CD8mem2</th>\n",
       "      <th>CD8nv2</th>\n",
       "      <th>Mono2</th>\n",
       "      <th>Neu2</th>\n",
       "      <th>NK2</th>\n",
       "      <th>Treg2</th>\n",
       "    </tr>\n",
       "  </thead>\n",
       "  <tbody>\n",
       "    <tr>\n",
       "      <th>0</th>\n",
       "      <td>69</td>\n",
       "      <td>male</td>\n",
       "      <td>Grade_3_+_4</td>\n",
       "      <td>ever-smoker</td>\n",
       "      <td>With_Immuno</td>\n",
       "      <td>757.0</td>\n",
       "      <td>2.500</td>\n",
       "      <td>0.0</td>\n",
       "      <td>3.1</td>\n",
       "      <td>1.6</td>\n",
       "      <td>0.90</td>\n",
       "      <td>3.3</td>\n",
       "      <td>0.3</td>\n",
       "      <td>11.2</td>\n",
       "      <td>66.7</td>\n",
       "      <td>4.9</td>\n",
       "      <td>0.0</td>\n",
       "    </tr>\n",
       "    <tr>\n",
       "      <th>1</th>\n",
       "      <td>67</td>\n",
       "      <td>male</td>\n",
       "      <td>Grade_1_+_2</td>\n",
       "      <td>ever-smoker</td>\n",
       "      <td>Without_Immuno</td>\n",
       "      <td>739.0</td>\n",
       "      <td>2.700</td>\n",
       "      <td>0.5</td>\n",
       "      <td>3.3</td>\n",
       "      <td>11.7</td>\n",
       "      <td>0.01</td>\n",
       "      <td>10.3</td>\n",
       "      <td>0.3</td>\n",
       "      <td>7.4</td>\n",
       "      <td>56.9</td>\n",
       "      <td>6.0</td>\n",
       "      <td>0.0</td>\n",
       "    </tr>\n",
       "    <tr>\n",
       "      <th>2</th>\n",
       "      <td>69</td>\n",
       "      <td>female</td>\n",
       "      <td>Grade_1_+_2</td>\n",
       "      <td>non-smoker</td>\n",
       "      <td>With_Immuno</td>\n",
       "      <td>212.0</td>\n",
       "      <td>1.600</td>\n",
       "      <td>0.0</td>\n",
       "      <td>2.6</td>\n",
       "      <td>12.1</td>\n",
       "      <td>7.00</td>\n",
       "      <td>5.5</td>\n",
       "      <td>1.0</td>\n",
       "      <td>5.2</td>\n",
       "      <td>61.1</td>\n",
       "      <td>2.7</td>\n",
       "      <td>0.0</td>\n",
       "    </tr>\n",
       "    <tr>\n",
       "      <th>3</th>\n",
       "      <td>63</td>\n",
       "      <td>male</td>\n",
       "      <td>Grade_1_+_2</td>\n",
       "      <td>ever-smoker</td>\n",
       "      <td>Without_Immuno</td>\n",
       "      <td>650.0</td>\n",
       "      <td>0.600</td>\n",
       "      <td>0.0</td>\n",
       "      <td>3.6</td>\n",
       "      <td>18.7</td>\n",
       "      <td>0.40</td>\n",
       "      <td>13.4</td>\n",
       "      <td>1.0</td>\n",
       "      <td>2.1</td>\n",
       "      <td>55.6</td>\n",
       "      <td>3.8</td>\n",
       "      <td>0.0</td>\n",
       "    </tr>\n",
       "    <tr>\n",
       "      <th>4</th>\n",
       "      <td>61</td>\n",
       "      <td>male</td>\n",
       "      <td>Grade_1_+_2</td>\n",
       "      <td>ever-smoker</td>\n",
       "      <td>Without_Immuno</td>\n",
       "      <td>571.0</td>\n",
       "      <td>4.196</td>\n",
       "      <td>0.8</td>\n",
       "      <td>7.0</td>\n",
       "      <td>11.4</td>\n",
       "      <td>1.30</td>\n",
       "      <td>1.2</td>\n",
       "      <td>1.7</td>\n",
       "      <td>11.5</td>\n",
       "      <td>54.4</td>\n",
       "      <td>2.3</td>\n",
       "      <td>0.9</td>\n",
       "    </tr>\n",
       "  </tbody>\n",
       "</table>\n",
       "</div>"
      ],
      "text/plain": [
       "   refage     sex       grade2     smkstat2        ImmunoTx  SurgToBlood  \\\n",
       "0      69    male  Grade_3_+_4  ever-smoker     With_Immuno        757.0   \n",
       "1      67    male  Grade_1_+_2  ever-smoker  Without_Immuno        739.0   \n",
       "2      69  female  Grade_1_+_2   non-smoker     With_Immuno        212.0   \n",
       "3      63    male  Grade_1_+_2  ever-smoker  Without_Immuno        650.0   \n",
       "4      61    male  Grade_1_+_2  ever-smoker  Without_Immuno        571.0   \n",
       "\n",
       "    Bas2  Bmem2  Bnv2  CD4mem2  CD4nv2  CD8mem2  CD8nv2  Mono2  Neu2  NK2  \\\n",
       "0  2.500    0.0   3.1      1.6    0.90      3.3     0.3   11.2  66.7  4.9   \n",
       "1  2.700    0.5   3.3     11.7    0.01     10.3     0.3    7.4  56.9  6.0   \n",
       "2  1.600    0.0   2.6     12.1    7.00      5.5     1.0    5.2  61.1  2.7   \n",
       "3  0.600    0.0   3.6     18.7    0.40     13.4     1.0    2.1  55.6  3.8   \n",
       "4  4.196    0.8   7.0     11.4    1.30      1.2     1.7   11.5  54.4  2.3   \n",
       "\n",
       "   Treg2  \n",
       "0    0.0  \n",
       "1    0.0  \n",
       "2    0.0  \n",
       "3    0.0  \n",
       "4    0.9  "
      ]
     },
     "execution_count": 7,
     "metadata": {},
     "output_type": "execute_result"
    }
   ],
   "source": [
    "X = df.drop('TenDead',axis=1).copy()\n",
    "X.head()"
   ]
  },
  {
   "cell_type": "markdown",
   "metadata": {},
   "source": [
    "### Turn categorical variable into continuous variables for XGBoost requirement"
   ]
  },
  {
   "cell_type": "code",
   "execution_count": 8,
   "metadata": {},
   "outputs": [
    {
     "data": {
      "text/html": [
       "<div>\n",
       "<style scoped>\n",
       "    .dataframe tbody tr th:only-of-type {\n",
       "        vertical-align: middle;\n",
       "    }\n",
       "\n",
       "    .dataframe tbody tr th {\n",
       "        vertical-align: top;\n",
       "    }\n",
       "\n",
       "    .dataframe thead th {\n",
       "        text-align: right;\n",
       "    }\n",
       "</style>\n",
       "<table border=\"1\" class=\"dataframe\">\n",
       "  <thead>\n",
       "    <tr style=\"text-align: right;\">\n",
       "      <th></th>\n",
       "      <th>refage</th>\n",
       "      <th>sex</th>\n",
       "      <th>grade2</th>\n",
       "      <th>smkstat2</th>\n",
       "      <th>ImmunoTx</th>\n",
       "      <th>SurgToBlood</th>\n",
       "      <th>Bas2</th>\n",
       "      <th>Bmem2</th>\n",
       "      <th>Bnv2</th>\n",
       "      <th>CD4mem2</th>\n",
       "      <th>CD4nv2</th>\n",
       "      <th>CD8mem2</th>\n",
       "      <th>CD8nv2</th>\n",
       "      <th>Mono2</th>\n",
       "      <th>Neu2</th>\n",
       "      <th>NK2</th>\n",
       "      <th>Treg2</th>\n",
       "    </tr>\n",
       "  </thead>\n",
       "  <tbody>\n",
       "    <tr>\n",
       "      <th>0</th>\n",
       "      <td>69</td>\n",
       "      <td>1</td>\n",
       "      <td>2</td>\n",
       "      <td>2</td>\n",
       "      <td>2</td>\n",
       "      <td>757.0</td>\n",
       "      <td>2.500</td>\n",
       "      <td>0.0</td>\n",
       "      <td>3.1</td>\n",
       "      <td>1.6</td>\n",
       "      <td>0.90</td>\n",
       "      <td>3.3</td>\n",
       "      <td>0.3</td>\n",
       "      <td>11.2</td>\n",
       "      <td>66.7</td>\n",
       "      <td>4.9</td>\n",
       "      <td>0.0</td>\n",
       "    </tr>\n",
       "    <tr>\n",
       "      <th>1</th>\n",
       "      <td>67</td>\n",
       "      <td>1</td>\n",
       "      <td>1</td>\n",
       "      <td>2</td>\n",
       "      <td>1</td>\n",
       "      <td>739.0</td>\n",
       "      <td>2.700</td>\n",
       "      <td>0.5</td>\n",
       "      <td>3.3</td>\n",
       "      <td>11.7</td>\n",
       "      <td>0.01</td>\n",
       "      <td>10.3</td>\n",
       "      <td>0.3</td>\n",
       "      <td>7.4</td>\n",
       "      <td>56.9</td>\n",
       "      <td>6.0</td>\n",
       "      <td>0.0</td>\n",
       "    </tr>\n",
       "    <tr>\n",
       "      <th>2</th>\n",
       "      <td>69</td>\n",
       "      <td>2</td>\n",
       "      <td>1</td>\n",
       "      <td>1</td>\n",
       "      <td>2</td>\n",
       "      <td>212.0</td>\n",
       "      <td>1.600</td>\n",
       "      <td>0.0</td>\n",
       "      <td>2.6</td>\n",
       "      <td>12.1</td>\n",
       "      <td>7.00</td>\n",
       "      <td>5.5</td>\n",
       "      <td>1.0</td>\n",
       "      <td>5.2</td>\n",
       "      <td>61.1</td>\n",
       "      <td>2.7</td>\n",
       "      <td>0.0</td>\n",
       "    </tr>\n",
       "    <tr>\n",
       "      <th>3</th>\n",
       "      <td>63</td>\n",
       "      <td>1</td>\n",
       "      <td>1</td>\n",
       "      <td>2</td>\n",
       "      <td>1</td>\n",
       "      <td>650.0</td>\n",
       "      <td>0.600</td>\n",
       "      <td>0.0</td>\n",
       "      <td>3.6</td>\n",
       "      <td>18.7</td>\n",
       "      <td>0.40</td>\n",
       "      <td>13.4</td>\n",
       "      <td>1.0</td>\n",
       "      <td>2.1</td>\n",
       "      <td>55.6</td>\n",
       "      <td>3.8</td>\n",
       "      <td>0.0</td>\n",
       "    </tr>\n",
       "    <tr>\n",
       "      <th>4</th>\n",
       "      <td>61</td>\n",
       "      <td>1</td>\n",
       "      <td>1</td>\n",
       "      <td>2</td>\n",
       "      <td>1</td>\n",
       "      <td>571.0</td>\n",
       "      <td>4.196</td>\n",
       "      <td>0.8</td>\n",
       "      <td>7.0</td>\n",
       "      <td>11.4</td>\n",
       "      <td>1.30</td>\n",
       "      <td>1.2</td>\n",
       "      <td>1.7</td>\n",
       "      <td>11.5</td>\n",
       "      <td>54.4</td>\n",
       "      <td>2.3</td>\n",
       "      <td>0.9</td>\n",
       "    </tr>\n",
       "  </tbody>\n",
       "</table>\n",
       "</div>"
      ],
      "text/plain": [
       "   refage  sex  grade2  smkstat2  ImmunoTx  SurgToBlood   Bas2  Bmem2  Bnv2  \\\n",
       "0      69    1       2         2         2        757.0  2.500    0.0   3.1   \n",
       "1      67    1       1         2         1        739.0  2.700    0.5   3.3   \n",
       "2      69    2       1         1         2        212.0  1.600    0.0   2.6   \n",
       "3      63    1       1         2         1        650.0  0.600    0.0   3.6   \n",
       "4      61    1       1         2         1        571.0  4.196    0.8   7.0   \n",
       "\n",
       "   CD4mem2  CD4nv2  CD8mem2  CD8nv2  Mono2  Neu2  NK2  Treg2  \n",
       "0      1.6    0.90      3.3     0.3   11.2  66.7  4.9    0.0  \n",
       "1     11.7    0.01     10.3     0.3    7.4  56.9  6.0    0.0  \n",
       "2     12.1    7.00      5.5     1.0    5.2  61.1  2.7    0.0  \n",
       "3     18.7    0.40     13.4     1.0    2.1  55.6  3.8    0.0  \n",
       "4     11.4    1.30      1.2     1.7   11.5  54.4  2.3    0.9  "
      ]
     },
     "execution_count": 8,
     "metadata": {},
     "output_type": "execute_result"
    }
   ],
   "source": [
    "X2 = X.assign(sex = np.where(X['sex']=='male',1,2),\n",
    "             grade2 = np.where(X['grade2']=='Grade_1_+_2',1,2),\n",
    "             smkstat2 = np.where(X['smkstat2']=='non-smoker',1,2),\n",
    "             ImmunoTx = np.where(X['ImmunoTx']=='Without_Immuno',1,2)).copy()\n",
    "X2.head()"
   ]
  },
  {
   "cell_type": "code",
   "execution_count": 9,
   "metadata": {},
   "outputs": [
    {
     "data": {
      "text/plain": [
       "refage           int64\n",
       "sex              int64\n",
       "grade2           int64\n",
       "smkstat2         int64\n",
       "ImmunoTx         int64\n",
       "SurgToBlood    float64\n",
       "Bas2           float64\n",
       "Bmem2          float64\n",
       "Bnv2           float64\n",
       "CD4mem2        float64\n",
       "CD4nv2         float64\n",
       "CD8mem2        float64\n",
       "CD8nv2         float64\n",
       "Mono2          float64\n",
       "Neu2           float64\n",
       "NK2            float64\n",
       "Treg2          float64\n",
       "dtype: object"
      ]
     },
     "execution_count": 9,
     "metadata": {},
     "output_type": "execute_result"
    }
   ],
   "source": [
    "X2.dtypes"
   ]
  },
  {
   "cell_type": "code",
   "execution_count": 10,
   "metadata": {},
   "outputs": [
    {
     "data": {
      "text/html": [
       "<div>\n",
       "<style scoped>\n",
       "    .dataframe tbody tr th:only-of-type {\n",
       "        vertical-align: middle;\n",
       "    }\n",
       "\n",
       "    .dataframe tbody tr th {\n",
       "        vertical-align: top;\n",
       "    }\n",
       "\n",
       "    .dataframe thead th {\n",
       "        text-align: right;\n",
       "    }\n",
       "</style>\n",
       "<table border=\"1\" class=\"dataframe\">\n",
       "  <thead>\n",
       "    <tr style=\"text-align: right;\">\n",
       "      <th></th>\n",
       "      <th>refage</th>\n",
       "      <th>sex</th>\n",
       "      <th>grade2</th>\n",
       "      <th>smkstat2</th>\n",
       "      <th>ImmunoTx</th>\n",
       "      <th>SurgToBlood</th>\n",
       "      <th>Bas2</th>\n",
       "      <th>Bmem2</th>\n",
       "      <th>Bnv2</th>\n",
       "      <th>CD4mem2</th>\n",
       "      <th>CD4nv2</th>\n",
       "      <th>CD8mem2</th>\n",
       "      <th>CD8nv2</th>\n",
       "      <th>Mono2</th>\n",
       "      <th>Neu2</th>\n",
       "      <th>NK2</th>\n",
       "      <th>Treg2</th>\n",
       "    </tr>\n",
       "  </thead>\n",
       "  <tbody>\n",
       "    <tr>\n",
       "      <th>count</th>\n",
       "      <td>603.000000</td>\n",
       "      <td>603.000000</td>\n",
       "      <td>603.000000</td>\n",
       "      <td>603.000000</td>\n",
       "      <td>603.000000</td>\n",
       "      <td>598.000000</td>\n",
       "      <td>603.000000</td>\n",
       "      <td>603.000000</td>\n",
       "      <td>603.000000</td>\n",
       "      <td>603.000000</td>\n",
       "      <td>603.000000</td>\n",
       "      <td>603.000000</td>\n",
       "      <td>603.000000</td>\n",
       "      <td>603.000000</td>\n",
       "      <td>603.000000</td>\n",
       "      <td>603.000000</td>\n",
       "      <td>603.000000</td>\n",
       "    </tr>\n",
       "    <tr>\n",
       "      <th>mean</th>\n",
       "      <td>63.159204</td>\n",
       "      <td>1.242123</td>\n",
       "      <td>1.250415</td>\n",
       "      <td>1.829187</td>\n",
       "      <td>1.147595</td>\n",
       "      <td>410.316054</td>\n",
       "      <td>1.763761</td>\n",
       "      <td>0.415423</td>\n",
       "      <td>3.503317</td>\n",
       "      <td>10.161148</td>\n",
       "      <td>2.946245</td>\n",
       "      <td>4.392617</td>\n",
       "      <td>1.919619</td>\n",
       "      <td>6.473625</td>\n",
       "      <td>62.553731</td>\n",
       "      <td>3.759449</td>\n",
       "      <td>0.257625</td>\n",
       "    </tr>\n",
       "    <tr>\n",
       "      <th>std</th>\n",
       "      <td>9.727749</td>\n",
       "      <td>0.428724</td>\n",
       "      <td>0.433611</td>\n",
       "      <td>0.376658</td>\n",
       "      <td>0.354993</td>\n",
       "      <td>317.480696</td>\n",
       "      <td>1.024710</td>\n",
       "      <td>0.719480</td>\n",
       "      <td>2.106616</td>\n",
       "      <td>6.535661</td>\n",
       "      <td>2.447544</td>\n",
       "      <td>3.760594</td>\n",
       "      <td>1.696386</td>\n",
       "      <td>3.053325</td>\n",
       "      <td>11.720252</td>\n",
       "      <td>2.009762</td>\n",
       "      <td>0.501842</td>\n",
       "    </tr>\n",
       "    <tr>\n",
       "      <th>min</th>\n",
       "      <td>29.000000</td>\n",
       "      <td>1.000000</td>\n",
       "      <td>1.000000</td>\n",
       "      <td>1.000000</td>\n",
       "      <td>1.000000</td>\n",
       "      <td>-78.000000</td>\n",
       "      <td>0.000000</td>\n",
       "      <td>0.000000</td>\n",
       "      <td>0.000000</td>\n",
       "      <td>0.000000</td>\n",
       "      <td>0.010000</td>\n",
       "      <td>0.000000</td>\n",
       "      <td>0.010000</td>\n",
       "      <td>0.000000</td>\n",
       "      <td>35.000000</td>\n",
       "      <td>0.000000</td>\n",
       "      <td>0.000000</td>\n",
       "    </tr>\n",
       "    <tr>\n",
       "      <th>25%</th>\n",
       "      <td>57.000000</td>\n",
       "      <td>1.000000</td>\n",
       "      <td>1.000000</td>\n",
       "      <td>2.000000</td>\n",
       "      <td>1.000000</td>\n",
       "      <td>170.750000</td>\n",
       "      <td>1.100000</td>\n",
       "      <td>0.000000</td>\n",
       "      <td>2.000000</td>\n",
       "      <td>5.450000</td>\n",
       "      <td>1.200000</td>\n",
       "      <td>1.600000</td>\n",
       "      <td>0.600000</td>\n",
       "      <td>4.300000</td>\n",
       "      <td>55.600000</td>\n",
       "      <td>2.300000</td>\n",
       "      <td>0.000000</td>\n",
       "    </tr>\n",
       "    <tr>\n",
       "      <th>50%</th>\n",
       "      <td>66.000000</td>\n",
       "      <td>1.000000</td>\n",
       "      <td>1.000000</td>\n",
       "      <td>2.000000</td>\n",
       "      <td>1.000000</td>\n",
       "      <td>315.000000</td>\n",
       "      <td>1.700000</td>\n",
       "      <td>0.000000</td>\n",
       "      <td>3.200000</td>\n",
       "      <td>9.100000</td>\n",
       "      <td>2.400000</td>\n",
       "      <td>3.200000</td>\n",
       "      <td>1.500000</td>\n",
       "      <td>6.500000</td>\n",
       "      <td>62.800000</td>\n",
       "      <td>3.400000</td>\n",
       "      <td>0.000000</td>\n",
       "    </tr>\n",
       "    <tr>\n",
       "      <th>75%</th>\n",
       "      <td>71.000000</td>\n",
       "      <td>1.000000</td>\n",
       "      <td>1.500000</td>\n",
       "      <td>2.000000</td>\n",
       "      <td>1.000000</td>\n",
       "      <td>559.000000</td>\n",
       "      <td>2.500000</td>\n",
       "      <td>0.600000</td>\n",
       "      <td>4.600000</td>\n",
       "      <td>13.500000</td>\n",
       "      <td>4.100000</td>\n",
       "      <td>6.700000</td>\n",
       "      <td>2.800000</td>\n",
       "      <td>8.500000</td>\n",
       "      <td>70.950000</td>\n",
       "      <td>4.900000</td>\n",
       "      <td>0.300000</td>\n",
       "    </tr>\n",
       "    <tr>\n",
       "      <th>max</th>\n",
       "      <td>79.000000</td>\n",
       "      <td>2.000000</td>\n",
       "      <td>2.000000</td>\n",
       "      <td>2.000000</td>\n",
       "      <td>2.000000</td>\n",
       "      <td>1790.000000</td>\n",
       "      <td>4.196000</td>\n",
       "      <td>2.900000</td>\n",
       "      <td>9.600000</td>\n",
       "      <td>28.944000</td>\n",
       "      <td>10.392000</td>\n",
       "      <td>14.796000</td>\n",
       "      <td>6.500000</td>\n",
       "      <td>13.992000</td>\n",
       "      <td>94.100000</td>\n",
       "      <td>9.596000</td>\n",
       "      <td>1.996000</td>\n",
       "    </tr>\n",
       "  </tbody>\n",
       "</table>\n",
       "</div>"
      ],
      "text/plain": [
       "           refage         sex      grade2    smkstat2    ImmunoTx  \\\n",
       "count  603.000000  603.000000  603.000000  603.000000  603.000000   \n",
       "mean    63.159204    1.242123    1.250415    1.829187    1.147595   \n",
       "std      9.727749    0.428724    0.433611    0.376658    0.354993   \n",
       "min     29.000000    1.000000    1.000000    1.000000    1.000000   \n",
       "25%     57.000000    1.000000    1.000000    2.000000    1.000000   \n",
       "50%     66.000000    1.000000    1.000000    2.000000    1.000000   \n",
       "75%     71.000000    1.000000    1.500000    2.000000    1.000000   \n",
       "max     79.000000    2.000000    2.000000    2.000000    2.000000   \n",
       "\n",
       "       SurgToBlood        Bas2       Bmem2        Bnv2     CD4mem2  \\\n",
       "count   598.000000  603.000000  603.000000  603.000000  603.000000   \n",
       "mean    410.316054    1.763761    0.415423    3.503317   10.161148   \n",
       "std     317.480696    1.024710    0.719480    2.106616    6.535661   \n",
       "min     -78.000000    0.000000    0.000000    0.000000    0.000000   \n",
       "25%     170.750000    1.100000    0.000000    2.000000    5.450000   \n",
       "50%     315.000000    1.700000    0.000000    3.200000    9.100000   \n",
       "75%     559.000000    2.500000    0.600000    4.600000   13.500000   \n",
       "max    1790.000000    4.196000    2.900000    9.600000   28.944000   \n",
       "\n",
       "           CD4nv2     CD8mem2      CD8nv2       Mono2        Neu2         NK2  \\\n",
       "count  603.000000  603.000000  603.000000  603.000000  603.000000  603.000000   \n",
       "mean     2.946245    4.392617    1.919619    6.473625   62.553731    3.759449   \n",
       "std      2.447544    3.760594    1.696386    3.053325   11.720252    2.009762   \n",
       "min      0.010000    0.000000    0.010000    0.000000   35.000000    0.000000   \n",
       "25%      1.200000    1.600000    0.600000    4.300000   55.600000    2.300000   \n",
       "50%      2.400000    3.200000    1.500000    6.500000   62.800000    3.400000   \n",
       "75%      4.100000    6.700000    2.800000    8.500000   70.950000    4.900000   \n",
       "max     10.392000   14.796000    6.500000   13.992000   94.100000    9.596000   \n",
       "\n",
       "            Treg2  \n",
       "count  603.000000  \n",
       "mean     0.257625  \n",
       "std      0.501842  \n",
       "min      0.000000  \n",
       "25%      0.000000  \n",
       "50%      0.000000  \n",
       "75%      0.300000  \n",
       "max      1.996000  "
      ]
     },
     "execution_count": 10,
     "metadata": {},
     "output_type": "execute_result"
    }
   ],
   "source": [
    "X2.describe()"
   ]
  },
  {
   "cell_type": "markdown",
   "metadata": {},
   "source": [
    "### The column of data that we want to predict."
   ]
  },
  {
   "cell_type": "code",
   "execution_count": 11,
   "metadata": {},
   "outputs": [
    {
     "data": {
      "text/plain": [
       "0    1\n",
       "1    1\n",
       "2    0\n",
       "3    0\n",
       "4    1\n",
       "Name: TenDead, dtype: int64"
      ]
     },
     "execution_count": 11,
     "metadata": {},
     "output_type": "execute_result"
    }
   ],
   "source": [
    "#y = df.assign(RecOrProg = np.where(df['RecOrProg']=='yes',1,0))['RecOrProg'].copy()\n",
    "y = df['TenDead'].copy()\n",
    "y.head()"
   ]
  },
  {
   "cell_type": "markdown",
   "metadata": {},
   "source": [
    "### Now we simply split the data into training and testing sets and build the model. However, first, let's observe that this data is imbalanced by dividing the number of people who has tumor recurrence or progression, where y =1, by the total number of people in the dataset."
   ]
  },
  {
   "cell_type": "code",
   "execution_count": 12,
   "metadata": {},
   "outputs": [
    {
     "data": {
      "text/plain": [
       "0.29850746268656714"
      ]
     },
     "execution_count": 12,
     "metadata": {},
     "output_type": "execute_result"
    }
   ],
   "source": [
    "sum(y)/len(y)"
   ]
  },
  {
   "cell_type": "markdown",
   "metadata": {},
   "source": [
    "### 30% of the NMIBC patients in the dataset have deceased within 10 year. We can split using stratification in order to maintain tha same percentage of NmIBC patients who have tumor recurrence or progression in both the training set and the testing set."
   ]
  },
  {
   "cell_type": "code",
   "execution_count": 13,
   "metadata": {},
   "outputs": [],
   "source": [
    "from sklearn.model_selection import train_test_split\n",
    "X_train, X_test, y_train, y_test = train_test_split(X2,y,random_state=40,stratify = y,test_size=0.2)"
   ]
  },
  {
   "cell_type": "code",
   "execution_count": 14,
   "metadata": {},
   "outputs": [
    {
     "name": "stdout",
     "output_type": "stream",
     "text": [
      "0.2987551867219917\n",
      "0.2975206611570248\n"
     ]
    }
   ],
   "source": [
    "print(sum(y_train)/len(y_train))\n",
    "print(sum(y_test)/len(y_test))"
   ]
  },
  {
   "cell_type": "code",
   "execution_count": 15,
   "metadata": {},
   "outputs": [],
   "source": [
    "import xgboost as xgb\n",
    "from sklearn.metrics import balanced_accuracy_score, roc_auc_score, make_scorer\n",
    "from sklearn.model_selection import GridSearchCV\n",
    "from sklearn.metrics import confusion_matrix\n",
    "from sklearn.metrics import plot_confusion_matrix"
   ]
  },
  {
   "cell_type": "code",
   "execution_count": 16,
   "metadata": {},
   "outputs": [
    {
     "name": "stdout",
     "output_type": "stream",
     "text": [
      "[0]\tvalidation_0-auc:0.72843\n",
      "[1]\tvalidation_0-auc:0.74428\n",
      "[2]\tvalidation_0-auc:0.76863\n",
      "[3]\tvalidation_0-auc:0.76748\n",
      "[4]\tvalidation_0-auc:0.77729\n",
      "[5]\tvalidation_0-auc:0.77402\n",
      "[6]\tvalidation_0-auc:0.77092\n",
      "[7]\tvalidation_0-auc:0.76503\n",
      "[8]\tvalidation_0-auc:0.76144\n",
      "[9]\tvalidation_0-auc:0.78268\n",
      "[10]\tvalidation_0-auc:0.79739\n",
      "[11]\tvalidation_0-auc:0.78595\n",
      "[12]\tvalidation_0-auc:0.78301\n",
      "[13]\tvalidation_0-auc:0.78301\n",
      "[14]\tvalidation_0-auc:0.77941\n",
      "[15]\tvalidation_0-auc:0.77255\n",
      "[16]\tvalidation_0-auc:0.77189\n",
      "[17]\tvalidation_0-auc:0.77288\n"
     ]
    },
    {
     "name": "stderr",
     "output_type": "stream",
     "text": [
      "/Users/chenjiqing/anaconda3/envs/Class/lib/python3.7/site-packages/xgboost/sklearn.py:888: UserWarning: The use of label encoder in XGBClassifier is deprecated and will be removed in a future release. To remove this warning, do the following: 1) Pass option use_label_encoder=False when constructing XGBClassifier object; and 2) Encode your labels (y) as integers starting with 0, i.e. 0, 1, 2, ..., [num_class - 1].\n",
      "  warnings.warn(label_encoder_deprecation_msg, UserWarning)\n"
     ]
    },
    {
     "name": "stdout",
     "output_type": "stream",
     "text": [
      "[18]\tvalidation_0-auc:0.77157\n",
      "[19]\tvalidation_0-auc:0.77157\n",
      "[20]\tvalidation_0-auc:0.77386\n"
     ]
    },
    {
     "data": {
      "text/plain": [
       "XGBClassifier(base_score=0.5, booster='gbtree', colsample_bylevel=1,\n",
       "              colsample_bynode=1, colsample_bytree=1, gamma=0, gpu_id=-1,\n",
       "              importance_type='gain', interaction_constraints='',\n",
       "              learning_rate=0.300000012, max_delta_step=0, max_depth=6,\n",
       "              min_child_weight=1, missing=None, monotone_constraints='()',\n",
       "              n_estimators=100, n_jobs=4, num_parallel_tree=1, random_state=40,\n",
       "              reg_alpha=0, reg_lambda=1, scale_pos_weight=1, seed=40,\n",
       "              subsample=1, tree_method='exact', validate_parameters=1,\n",
       "              verbosity=None)"
      ]
     },
     "execution_count": 16,
     "metadata": {},
     "output_type": "execute_result"
    }
   ],
   "source": [
    "clf_xgb = xgb.XGBClassifier(objective='binary:logistic',missing=None,seed=40)\n",
    "clf_xgb.fit(X_train,\n",
    "            y_train,\n",
    "            verbose = True,\n",
    "            early_stopping_rounds=10,\n",
    "            eval_metric='auc',\n",
    "            eval_set=[(X_test,y_test)])"
   ]
  },
  {
   "cell_type": "markdown",
   "metadata": {},
   "source": [
    "### How it performms on the testing Dataset by running the Testing Dataset down the model and drawing a Confusion Matrix"
   ]
  },
  {
   "cell_type": "code",
   "execution_count": 17,
   "metadata": {},
   "outputs": [
    {
     "data": {
      "text/plain": [
       "<sklearn.metrics._plot.confusion_matrix.ConfusionMatrixDisplay at 0x7ff333732190>"
      ]
     },
     "execution_count": 17,
     "metadata": {},
     "output_type": "execute_result"
    },
    {
     "data": {
      "image/png": "[encoded data removed]",
      "text/plain": [
       "<Figure size 432x288 with 2 Axes>"
      ]
     },
     "metadata": {
      "needs_background": "light"
     },
     "output_type": "display_data"
    }
   ],
   "source": [
    "plot_confusion_matrix(clf_xgb,\n",
    "                      X_test, \n",
    "                      y_test, \n",
    "                      values_format='d',\n",
    "                      display_labels=['Alive','Death'])"
   ]
  },
  {
   "cell_type": "markdown",
   "metadata": {},
   "source": [
    "### 85 NMIBC patients who alived, 77 (91%) were correctly classified. And of the 36 NMIBC patients that deceased, 14 (39%) were correctly classified. So the XGBoost model was not awesomme. Part of the problem is that our data is imbalanced. We care about predicting who will die within 10year, we would like to capture mmore of the NMIBC patients that deceased. XGBoost has a parameter, scale_pos_weight, that helps with imbalanced data."
   ]
  },
  {
   "cell_type": "markdown",
   "metadata": {},
   "source": [
    "# Optimize Parameters using Cross Validation and GridSearch()"
   ]
  },
  {
   "cell_type": "code",
   "execution_count": 33,
   "metadata": {},
   "outputs": [],
   "source": [
    "# Round 1\n",
    "param_grid = {\n",
    "    'max_depth':[3,4,5,6,7],\n",
    "    'learning_rate':[0.1,0.05,0.01,0.005,0.001],\n",
    "    'gamma':[0,0.1,0.3,0.5,0.7],\n",
    "    'reg_lambda':[0,0.5,1.0,5.0,10],\n",
    "    'scale_pos_weight':[1,3,5,7,9]\n",
    "}"
   ]
  },
  {
   "cell_type": "markdown",
   "metadata": {},
   "source": [
    "## To speed up cross validation, and to further prevent overfitting. We are only using a random subset of the data (90%) and are only using a random subset of the features (columns) (50%) per tree."
   ]
  },
  {
   "cell_type": "code",
   "execution_count": 34,
   "metadata": {},
   "outputs": [
    {
     "name": "stdout",
     "output_type": "stream",
     "text": [
      "{'gamma': 0.3, 'learning_rate': 0.1, 'max_depth': 6, 'reg_lambda': 10, 'scale_pos_weight': 1}\n"
     ]
    },
    {
     "name": "stderr",
     "output_type": "stream",
     "text": [
      "/Users/chenjiqing/anaconda3/envs/Class/lib/python3.7/site-packages/xgboost/sklearn.py:888: UserWarning: The use of label encoder in XGBClassifier is deprecated and will be removed in a future release. To remove this warning, do the following: 1) Pass option use_label_encoder=False when constructing XGBClassifier object; and 2) Encode your labels (y) as integers starting with 0, i.e. 0, 1, 2, ..., [num_class - 1].\n",
      "  warnings.warn(label_encoder_deprecation_msg, UserWarning)\n"
     ]
    }
   ],
   "source": [
    "optimal_params = GridSearchCV(estimator=xgb.XGBClassifier(objective='binary:logistic',\n",
    "                                                          seed = 40,\n",
    "                                                          subsample=0.9,\n",
    "                                                          colsample_bytree=0.5),\n",
    "                             param_grid=param_grid,\n",
    "                             scoring='roc_auc',\n",
    "                             verbose=0,\n",
    "                             n_jobs = 10,\n",
    "                             cv = 5)\n",
    "optimal_params.fit(X_train,\n",
    "            y_train,\n",
    "            verbose = False,\n",
    "            early_stopping_rounds=10,\n",
    "            eval_metric='auc',\n",
    "            eval_set=[(X_test,y_test)])\n",
    "print(optimal_params.best_params_)"
   ]
  },
  {
   "cell_type": "markdown",
   "metadata": {},
   "source": [
    "### first round: {'gamma': 0.3, 'learning_rate': 0.1, 'max_depth': 6, 'reg_lambda': 10, 'scale_pos_weight': 1}"
   ]
  },
  {
   "cell_type": "code",
   "execution_count": 35,
   "metadata": {},
   "outputs": [],
   "source": [
    "# Round 2\n",
    "param_grid2 = {\n",
    "    'max_depth':[6],\n",
    "    'learning_rate':[0.1,0.15,0.2,0.3,0.5],\n",
    "    'gamma':[0.3],\n",
    "    'reg_lambda':[10,15,20,30,50],\n",
    "    'scale_pos_weight':[1,1.25,1.5,2]\n",
    "}"
   ]
  },
  {
   "cell_type": "code",
   "execution_count": 37,
   "metadata": {},
   "outputs": [
    {
     "name": "stdout",
     "output_type": "stream",
     "text": [
      "{'gamma': 0.3, 'learning_rate': 0.15, 'max_depth': 6, 'reg_lambda': 30, 'scale_pos_weight': 1}\n"
     ]
    },
    {
     "name": "stderr",
     "output_type": "stream",
     "text": [
      "/Users/chenjiqing/anaconda3/envs/Class/lib/python3.7/site-packages/xgboost/sklearn.py:888: UserWarning: The use of label encoder in XGBClassifier is deprecated and will be removed in a future release. To remove this warning, do the following: 1) Pass option use_label_encoder=False when constructing XGBClassifier object; and 2) Encode your labels (y) as integers starting with 0, i.e. 0, 1, 2, ..., [num_class - 1].\n",
      "  warnings.warn(label_encoder_deprecation_msg, UserWarning)\n"
     ]
    }
   ],
   "source": [
    "optimal_params2 = GridSearchCV(estimator=xgb.XGBClassifier(objective='binary:logistic',\n",
    "                                                          seed = 40,\n",
    "                                                          subsample=0.9,\n",
    "                                                          colsample_bytree=0.5),\n",
    "                             param_grid=param_grid2,\n",
    "                             scoring='roc_auc',\n",
    "                             verbose=0,\n",
    "                             n_jobs = 10,\n",
    "                             cv = 5)\n",
    "optimal_params2.fit(X_train,\n",
    "            y_train,\n",
    "            verbose = False,\n",
    "            early_stopping_rounds=10,\n",
    "            eval_metric='auc',\n",
    "            eval_set=[(X_test,y_test)])\n",
    "print(optimal_params2.best_params_)"
   ]
  },
  {
   "cell_type": "markdown",
   "metadata": {},
   "source": [
    "### second round: {'gamma': 0.3, 'learning_rate': 0.15, 'max_depth': 6, 'reg_lambda': 30, 'scale_pos_weight': 1}"
   ]
  },
  {
   "cell_type": "markdown",
   "metadata": {},
   "source": [
    "# Building, Evaluating, Drawing, and interpreting the optimal XGBoost model"
   ]
  },
  {
   "cell_type": "code",
   "execution_count": 42,
   "metadata": {},
   "outputs": [
    {
     "data": {
      "text/plain": [
       "array([[-2.43487213, -0.54870326, -0.54870326, ..., -1.01105934,\n",
       "         1.25352509, -0.47817621],\n",
       "       [-1.91544419, -0.54870326, -0.54870326, ...,  0.63765715,\n",
       "        -0.51600345, -0.47817621],\n",
       "       [ 0.88946669, -0.54870326, -0.54870326, ..., -1.68592257,\n",
       "         0.32219428, -0.47817621],\n",
       "       ...,\n",
       "       [ 0.57780992, -0.54870326, -0.54870326, ..., -0.83166532,\n",
       "         1.160392  , -0.47817621],\n",
       "       [ 1.09723786, -0.54870326, -0.54870326, ..., -1.12211278,\n",
       "         2.64865863, -0.47817621],\n",
       "       [ 0.47392434, -0.54870326,  1.82247869, ...,  0.92810461,\n",
       "        -0.79540269,  0.52824788]])"
      ]
     },
     "execution_count": 42,
     "metadata": {},
     "output_type": "execute_result"
    }
   ],
   "source": [
    "from sklearn.pipeline import make_pipeline\n",
    "from sklearn.preprocessing import StandardScaler\n",
    "scaler = StandardScaler()\n",
    "X_train2 = scaler.fit_transform(X_train)\n",
    "X_train2\n",
    "X_test2 = scaler.fit_transform(X_test)\n",
    "X_test2"
   ]
  },
  {
   "cell_type": "code",
   "execution_count": 77,
   "metadata": {},
   "outputs": [
    {
     "name": "stdout",
     "output_type": "stream",
     "text": [
      "[0]\tvalidation_0-auc:0.76177\n",
      "[1]\tvalidation_0-auc:0.77974\n",
      "[2]\tvalidation_0-auc:0.78154\n",
      "[3]\tvalidation_0-auc:0.77941\n",
      "[4]\tvalidation_0-auc:0.77533\n",
      "[5]\tvalidation_0-auc:0.78219\n",
      "[6]\tvalidation_0-auc:0.78791\n",
      "[7]\tvalidation_0-auc:0.78791\n",
      "[8]\tvalidation_0-auc:0.79346\n",
      "[9]\tvalidation_0-auc:0.79167\n",
      "[10]\tvalidation_0-auc:0.79085\n",
      "[11]\tvalidation_0-auc:0.79101\n",
      "[12]\tvalidation_0-auc:0.79395\n",
      "[13]\tvalidation_0-auc:0.79951\n",
      "[14]\tvalidation_0-auc:0.79592\n",
      "[15]\tvalidation_0-auc:0.79559\n",
      "[16]\tvalidation_0-auc:0.79722\n",
      "[17]\tvalidation_0-auc:0.80196\n",
      "[18]\tvalidation_0-auc:0.80229\n",
      "[19]\tvalidation_0-auc:0.80556\n"
     ]
    },
    {
     "name": "stderr",
     "output_type": "stream",
     "text": [
      "/Users/chenjiqing/anaconda3/envs/Class/lib/python3.7/site-packages/xgboost/sklearn.py:888: UserWarning: The use of label encoder in XGBClassifier is deprecated and will be removed in a future release. To remove this warning, do the following: 1) Pass option use_label_encoder=False when constructing XGBClassifier object; and 2) Encode your labels (y) as integers starting with 0, i.e. 0, 1, 2, ..., [num_class - 1].\n",
      "  warnings.warn(label_encoder_deprecation_msg, UserWarning)\n"
     ]
    },
    {
     "name": "stdout",
     "output_type": "stream",
     "text": [
      "[20]\tvalidation_0-auc:0.81078\n",
      "[21]\tvalidation_0-auc:0.80752\n",
      "[22]\tvalidation_0-auc:0.80784\n",
      "[23]\tvalidation_0-auc:0.80719\n",
      "[24]\tvalidation_0-auc:0.80817\n",
      "[25]\tvalidation_0-auc:0.80980\n",
      "[26]\tvalidation_0-auc:0.80621\n",
      "[27]\tvalidation_0-auc:0.81013\n",
      "[28]\tvalidation_0-auc:0.80784\n",
      "[29]\tvalidation_0-auc:0.80686\n",
      "[30]\tvalidation_0-auc:0.81144\n",
      "[31]\tvalidation_0-auc:0.81046\n",
      "[32]\tvalidation_0-auc:0.81209\n",
      "[33]\tvalidation_0-auc:0.81275\n",
      "[34]\tvalidation_0-auc:0.81176\n",
      "[35]\tvalidation_0-auc:0.81242\n",
      "[36]\tvalidation_0-auc:0.81144\n",
      "[37]\tvalidation_0-auc:0.81340\n",
      "[38]\tvalidation_0-auc:0.81601\n",
      "[39]\tvalidation_0-auc:0.81307\n",
      "[40]\tvalidation_0-auc:0.81144\n",
      "[41]\tvalidation_0-auc:0.81242\n",
      "[42]\tvalidation_0-auc:0.80882\n",
      "[43]\tvalidation_0-auc:0.81013\n",
      "[44]\tvalidation_0-auc:0.80915\n",
      "[45]\tvalidation_0-auc:0.80556\n",
      "[46]\tvalidation_0-auc:0.80686\n",
      "[47]\tvalidation_0-auc:0.80850\n"
     ]
    },
    {
     "data": {
      "text/plain": [
       "XGBClassifier(base_score=0.5, booster='gbtree', colsample_bylevel=1,\n",
       "              colsample_bynode=1, colsample_bytree=1, gamma=0.3, gpu_id=-1,\n",
       "              importance_type='gain', interaction_constraints='',\n",
       "              learning_rate=0.15, max_delta_step=0, max_depth=6,\n",
       "              min_child_weight=1, missing=nan, monotone_constraints='()',\n",
       "              n_estimators=100, n_jobs=4, num_parallel_tree=1, random_state=40,\n",
       "              reg_alpha=0, reg_lambda=30, scale_pos_weight=2.3, seed=40,\n",
       "              subsample=1, tree_method='exact', validate_parameters=1,\n",
       "              verbosity=None)"
      ]
     },
     "execution_count": 77,
     "metadata": {},
     "output_type": "execute_result"
    }
   ],
   "source": [
    "clf_xgb = xgb.XGBClassifier(objective='binary:logistic',seed=40,\n",
    "                            gamma=0.3, learning_rate = 0.15, max_depth = 6,\n",
    "                            reg_lambda=30, scale_pos_weight =2.3)\n",
    "clf_xgb.fit(X_train2,\n",
    "            y_train,\n",
    "            verbose = True,\n",
    "            early_stopping_rounds=10,\n",
    "            eval_metric='auc',\n",
    "            eval_set=[(X_test2,y_test)])"
   ]
  },
  {
   "cell_type": "code",
   "execution_count": 78,
   "metadata": {},
   "outputs": [
    {
     "data": {
      "text/plain": [
       "39"
      ]
     },
     "execution_count": 78,
     "metadata": {},
     "output_type": "execute_result"
    }
   ],
   "source": [
    "clf_xgb.best_ntree_limit"
   ]
  },
  {
   "cell_type": "markdown",
   "metadata": {},
   "source": [
    "## Refit the classifier with the number of trees from the best round."
   ]
  },
  {
   "cell_type": "code",
   "execution_count": 79,
   "metadata": {},
   "outputs": [
    {
     "name": "stdout",
     "output_type": "stream",
     "text": [
      "[23:02:02] WARNING: /Users/runner/miniforge3/conda-bld/xgboost_1607604592557/work/src/learner.cc:1061: Starting in XGBoost 1.3.0, the default evaluation metric used with the objective 'binary:logistic' was changed from 'error' to 'logloss'. Explicitly set eval_metric if you'd like to restore the old behavior.\n"
     ]
    },
    {
     "data": {
      "text/plain": [
       "XGBClassifier(base_score=0.5, booster='gbtree', colsample_bylevel=1,\n",
       "              colsample_bynode=1, colsample_bytree=1, gamma=0.3, gpu_id=-1,\n",
       "              importance_type='gain', interaction_constraints='',\n",
       "              learning_rate=0.15, max_delta_step=0, max_depth=6,\n",
       "              min_child_weight=1, missing=nan, monotone_constraints='()',\n",
       "              n_estimators=39, n_jobs=4, num_parallel_tree=1, random_state=40,\n",
       "              reg_alpha=0, reg_lambda=30, scale_pos_weight=2.3, seed=40,\n",
       "              subsample=1, tree_method='exact', validate_parameters=1,\n",
       "              verbosity=None)"
      ]
     },
     "execution_count": 79,
     "metadata": {},
     "output_type": "execute_result"
    }
   ],
   "source": [
    "clf_xgb = xgb.XGBClassifier(objective='binary:logistic',seed=40,\n",
    "                            gamma=0.3, learning_rate = 0.15, max_depth = 6,\n",
    "                            reg_lambda=30, scale_pos_weight = 2.3,n_estimators=39)\n",
    "clf_xgb.fit(X_train2,\n",
    "            y_train,)"
   ]
  },
  {
   "cell_type": "code",
   "execution_count": 80,
   "metadata": {},
   "outputs": [
    {
     "data": {
      "text/plain": [
       "0.8160130718954248"
      ]
     },
     "execution_count": 80,
     "metadata": {},
     "output_type": "execute_result"
    }
   ],
   "source": [
    "y_pred = clf_xgb.predict_proba(X_test2)[:, 1]\n",
    "roc_auc_score(y_test,y_pred)"
   ]
  },
  {
   "cell_type": "code",
   "execution_count": 81,
   "metadata": {},
   "outputs": [
    {
     "data": {
      "text/plain": [
       "<sklearn.metrics._plot.confusion_matrix.ConfusionMatrixDisplay at 0x7ff338664a90>"
      ]
     },
     "execution_count": 81,
     "metadata": {},
     "output_type": "execute_result"
    },
    {
     "data": {
      "image/png": "[encoded data removed]",
      "text/plain": [
       "<Figure size 432x288 with 2 Axes>"
      ]
     },
     "metadata": {
      "needs_background": "light"
     },
     "output_type": "display_data"
    }
   ],
   "source": [
    "plot_confusion_matrix(clf_xgb,\n",
    "                      X_test2, \n",
    "                      y_test, \n",
    "                      values_format='d',\n",
    "                      display_labels=['Alive','Death'])"
   ]
  },
  {
   "cell_type": "markdown",
   "metadata": {},
   "source": [
    "### 85 NMIBC patients who alived, 65 (76%) were correctly classified. And of the 36 NMIBC patients that deceased, 28 (78%) were correctly classified. So the XGBoost model was not awesomme. Part of the problem is that our data is imbalanced. We care about predicting who will die within 10year, we would like to capture mmore of the NMIBC patients that deceased."
   ]
  },
  {
   "cell_type": "code",
   "execution_count": 82,
   "metadata": {},
   "outputs": [
    {
     "data": {
      "text/plain": [
       "array([0.1500167 , 0.1027072 , 0.0459103 , 0.03207472, 0.02441208,\n",
       "       0.04247569, 0.05680591, 0.03406782, 0.04355264, 0.08972374,\n",
       "       0.06215218, 0.05024402, 0.04717239, 0.05628186, 0.07596856,\n",
       "       0.04443973, 0.0419945 ], dtype=float32)"
      ]
     },
     "execution_count": 82,
     "metadata": {},
     "output_type": "execute_result"
    }
   ],
   "source": [
    "clf_xgb.feature_importances_"
   ]
  },
  {
   "cell_type": "code",
   "execution_count": 54,
   "metadata": {},
   "outputs": [
    {
     "data": {
      "text/plain": [
       "'gain'"
      ]
     },
     "execution_count": 54,
     "metadata": {},
     "output_type": "execute_result"
    }
   ],
   "source": [
    "clf_xgb.importance_type"
   ]
  },
  {
   "cell_type": "code",
   "execution_count": 55,
   "metadata": {},
   "outputs": [
    {
     "data": {
      "text/plain": [
       "0.768595041322314"
      ]
     },
     "execution_count": 55,
     "metadata": {},
     "output_type": "execute_result"
    }
   ],
   "source": [
    "clf_xgb.score(X_test2, y_test)"
   ]
  },
  {
   "cell_type": "markdown",
   "metadata": {},
   "source": [
    "## Explain the model's predictions on the entire dataset"
   ]
  },
  {
   "cell_type": "code",
   "execution_count": 71,
   "metadata": {},
   "outputs": [],
   "source": [
    "import shap\n",
    "shap_values = shap.TreeExplainer(clf_xgb).shap_values(X2)"
   ]
  },
  {
   "cell_type": "markdown",
   "metadata": {},
   "source": [
    "## SHAP Summary Plot"
   ]
  },
  {
   "cell_type": "code",
   "execution_count": 72,
   "metadata": {},
   "outputs": [
    {
     "data": {
      "image/png": "[encoded data removed]",
      "text/plain": [
       "<Figure size 576x597.6 with 2 Axes>"
      ]
     },
     "metadata": {
      "needs_background": "light"
     },
     "output_type": "display_data"
    }
   ],
   "source": [
    "shap.summary_plot(shap_values, X2)"
   ]
  },
  {
   "cell_type": "markdown",
   "metadata": {},
   "source": [
    "## SHAP Dependence Plots"
   ]
  },
  {
   "cell_type": "code",
   "execution_count": 49,
   "metadata": {},
   "outputs": [
    {
     "data": {
      "image/png": "[encoded data removed]",
      "text/plain": [
       "<Figure size 540x360 with 2 Axes>"
      ]
     },
     "metadata": {
      "needs_background": "light"
     },
     "output_type": "display_data"
    }
   ],
   "source": [
    "shap.dependence_plot(\"sex\", shap_values, X2, display_features=X)"
   ]
  },
  {
   "cell_type": "code",
   "execution_count": 26,
   "metadata": {},
   "outputs": [],
   "source": [
    "import shap\n",
    "X,y = shap.datasets.nhanesi()\n",
    "X_display,y_display = shap.datasets.nhanesi(display=True)"
   ]
  },
  {
   "cell_type": "code",
   "execution_count": 27,
   "metadata": {},
   "outputs": [
    {
     "data": {
      "text/plain": [
       "array([ 15.27465753,  11.58607306,   8.14908676, ..., -18.87716895,\n",
       "       -19.68310502,  17.93858447])"
      ]
     },
     "execution_count": 27,
     "metadata": {},
     "output_type": "execute_result"
    }
   ],
   "source": [
    "y"
   ]
  },
  {
   "cell_type": "code",
   "execution_count": 28,
   "metadata": {},
   "outputs": [
    {
     "data": {
      "text/plain": [
       "array([ 15.27465753,  11.58607306,   8.14908676, ..., -18.87716895,\n",
       "       -19.68310502,  17.93858447])"
      ]
     },
     "execution_count": 28,
     "metadata": {},
     "output_type": "execute_result"
    }
   ],
   "source": [
    "y_display"
   ]
  },
  {
   "cell_type": "code",
   "execution_count": null,
   "metadata": {},
   "outputs": [],
   "source": []
  }
 ],
 "metadata": {
  "kernelspec": {
   "display_name": "Python 3",
   "language": "python",
   "name": "python3"
  },
  "language_info": {
   "codemirror_mode": {
    "name": "ipython",
    "version": 3
   },
   "file_extension": ".py",
   "mimetype": "text/x-python",
   "name": "python",
   "nbconvert_exporter": "python",
   "pygments_lexer": "ipython3",
   "version": "3.7.7"
  }
 },
 "nbformat": 4,
 "nbformat_minor": 4
}
