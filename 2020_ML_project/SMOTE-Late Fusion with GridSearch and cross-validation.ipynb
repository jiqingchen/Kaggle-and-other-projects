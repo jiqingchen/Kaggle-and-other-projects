{
 "cells": [
  {
   "cell_type": "code",
   "execution_count": 1,
   "metadata": {},
   "outputs": [
    {
     "name": "stderr",
     "output_type": "stream",
     "text": [
      "/Users/chenjiqing/anaconda3/envs/Class/lib/python3.7/site-packages/tqdm/std.py:697: FutureWarning: The Panel class is removed from pandas. Accessing it from the top-level namespace will also be removed in the next version\n",
      "  from pandas import Panel\n"
     ]
    }
   ],
   "source": [
    "import pandas as pd\n",
    "import numpy as np\n",
    "import nltk \n",
    "import nltk.corpus\n",
    "from nltk.tokenize import word_tokenize\n",
    "from nltk.tokenize import RegexpTokenizer\n",
    "import string\n",
    "from sklearn.feature_extraction.text import CountVectorizer, TfidfVectorizer\n",
    "from tqdm import tqdm\n",
    "tqdm.pandas()\n",
    "from nltk.corpus import stopwords\n",
    "from nltk.stem.snowball import SnowballStemmer\n",
    "from sklearn import preprocessing\n",
    "from sklearn.naive_bayes import MultinomialNB\n",
    "from sklearn.model_selection import train_test_split\n",
    "from sklearn import metrics"
   ]
  },
  {
   "cell_type": "code",
   "execution_count": 2,
   "metadata": {},
   "outputs": [],
   "source": [
    "from sklearn.preprocessing import StandardScaler\n",
    "from sklearn.datasets import make_moons, make_circles, make_classification\n",
    "from sklearn.neural_network import MLPClassifier\n",
    "from sklearn.neighbors import KNeighborsClassifier\n",
    "from sklearn.svm import SVC\n",
    "from sklearn.gaussian_process import GaussianProcessClassifier\n",
    "from sklearn.gaussian_process.kernels import RBF\n",
    "from sklearn.tree import DecisionTreeClassifier\n",
    "from sklearn.ensemble import RandomForestClassifier, AdaBoostClassifier\n",
    "from sklearn.naive_bayes import GaussianNB\n",
    "from sklearn.discriminant_analysis import QuadraticDiscriminantAnalysis"
   ]
  },
  {
   "cell_type": "code",
   "execution_count": 3,
   "metadata": {},
   "outputs": [
    {
     "name": "stderr",
     "output_type": "stream",
     "text": [
      "[nltk_data] Downloading package words to\n",
      "[nltk_data]     /Users/chenjiqing/nltk_data...\n",
      "[nltk_data]   Package words is already up-to-date!\n",
      "[nltk_data] Downloading package stopwords to\n",
      "[nltk_data]     /Users/chenjiqing/nltk_data...\n",
      "[nltk_data]   Package stopwords is already up-to-date!\n"
     ]
    }
   ],
   "source": [
    "import nltk\n",
    "nltk.download('words')\n",
    "nltk.download('stopwords')\n",
    "words = nltk.corpus.words.words()\n",
    "sw = stopwords.words('english')"
   ]
  },
  {
   "cell_type": "markdown",
   "metadata": {},
   "source": [
    "### load review data, clean the reviews, and save as .csv"
   ]
  },
  {
   "cell_type": "code",
   "execution_count": 4,
   "metadata": {},
   "outputs": [],
   "source": [
    "df = pd.read_json('/Users/chenjiqing/Public/2020_Fall_term/data/Toys_and_Games_Reviews_training.json', lines=True)"
   ]
  },
  {
   "cell_type": "code",
   "execution_count": 5,
   "metadata": {},
   "outputs": [
    {
     "data": {
      "text/html": [
       "<div>\n",
       "<style scoped>\n",
       "    .dataframe tbody tr th:only-of-type {\n",
       "        vertical-align: middle;\n",
       "    }\n",
       "\n",
       "    .dataframe tbody tr th {\n",
       "        vertical-align: top;\n",
       "    }\n",
       "\n",
       "    .dataframe thead th {\n",
       "        text-align: right;\n",
       "    }\n",
       "</style>\n",
       "<table border=\"1\" class=\"dataframe\">\n",
       "  <thead>\n",
       "    <tr style=\"text-align: right;\">\n",
       "      <th></th>\n",
       "      <th>overall</th>\n",
       "      <th>verified</th>\n",
       "      <th>reviewTime</th>\n",
       "      <th>reviewerID</th>\n",
       "      <th>asin</th>\n",
       "      <th>reviewerName</th>\n",
       "      <th>reviewText</th>\n",
       "      <th>summary</th>\n",
       "      <th>unixReviewTime</th>\n",
       "      <th>vote</th>\n",
       "      <th>image</th>\n",
       "      <th>style</th>\n",
       "    </tr>\n",
       "  </thead>\n",
       "  <tbody>\n",
       "    <tr>\n",
       "      <th>0</th>\n",
       "      <td>5</td>\n",
       "      <td>True</td>\n",
       "      <td>08 12, 2012</td>\n",
       "      <td>BDF1A2B47461BE6FD7B8AD896005E061</td>\n",
       "      <td>5FC455C18F7DD81A071E51B6B60A72BD</td>\n",
       "      <td>73D759DCDF02B4DDBD3FB7D29E88C6C3</td>\n",
       "      <td>I always look for this brand of cards because ...</td>\n",
       "      <td>durable cards</td>\n",
       "      <td>1344729600</td>\n",
       "      <td>NaN</td>\n",
       "      <td>NaN</td>\n",
       "      <td>NaN</td>\n",
       "    </tr>\n",
       "    <tr>\n",
       "      <th>1</th>\n",
       "      <td>5</td>\n",
       "      <td>False</td>\n",
       "      <td>01 24, 2011</td>\n",
       "      <td>91BDB36705C359620E8E0959DEFCFC79</td>\n",
       "      <td>5FC455C18F7DD81A071E51B6B60A72BD</td>\n",
       "      <td>80C0DC9C8FAB1C9BE0E1D5E83965360C</td>\n",
       "      <td>Other than KEM's or DaVinchi brands, these car...</td>\n",
       "      <td>some of the best Cards</td>\n",
       "      <td>1295827200</td>\n",
       "      <td>4</td>\n",
       "      <td>NaN</td>\n",
       "      <td>NaN</td>\n",
       "    </tr>\n",
       "    <tr>\n",
       "      <th>2</th>\n",
       "      <td>5</td>\n",
       "      <td>True</td>\n",
       "      <td>11 18, 2016</td>\n",
       "      <td>B14C8E6A493C844D2AEDCC61207BB6B1</td>\n",
       "      <td>5FC455C18F7DD81A071E51B6B60A72BD</td>\n",
       "      <td>C133754F62F0EB10D1FFF543786622DC</td>\n",
       "      <td>The better ive ever seen!!!! Excelent!</td>\n",
       "      <td>Five Stars</td>\n",
       "      <td>1479427200</td>\n",
       "      <td>NaN</td>\n",
       "      <td>NaN</td>\n",
       "      <td>NaN</td>\n",
       "    </tr>\n",
       "    <tr>\n",
       "      <th>3</th>\n",
       "      <td>5</td>\n",
       "      <td>True</td>\n",
       "      <td>03 7, 2016</td>\n",
       "      <td>D53FA93ED4A6B67662D920473DE9C7F7</td>\n",
       "      <td>5FC455C18F7DD81A071E51B6B60A72BD</td>\n",
       "      <td>59820C0C923F245A167B53E24FFBF5BB</td>\n",
       "      <td>get it</td>\n",
       "      <td>Five Stars</td>\n",
       "      <td>1457308800</td>\n",
       "      <td>NaN</td>\n",
       "      <td>NaN</td>\n",
       "      <td>NaN</td>\n",
       "    </tr>\n",
       "    <tr>\n",
       "      <th>4</th>\n",
       "      <td>5</td>\n",
       "      <td>False</td>\n",
       "      <td>05 22, 2015</td>\n",
       "      <td>B59D69D00FEA8B83388D292010CAB2E9</td>\n",
       "      <td>5FC455C18F7DD81A071E51B6B60A72BD</td>\n",
       "      <td>2843F6C4145178E4F87A6CD895F4887F</td>\n",
       "      <td>Really nice cards. Will make great use of them...</td>\n",
       "      <td>playing cards</td>\n",
       "      <td>1432252800</td>\n",
       "      <td>NaN</td>\n",
       "      <td>NaN</td>\n",
       "      <td>NaN</td>\n",
       "    </tr>\n",
       "  </tbody>\n",
       "</table>\n",
       "</div>"
      ],
      "text/plain": [
       "   overall  verified   reviewTime                        reviewerID  \\\n",
       "0        5      True  08 12, 2012  BDF1A2B47461BE6FD7B8AD896005E061   \n",
       "1        5     False  01 24, 2011  91BDB36705C359620E8E0959DEFCFC79   \n",
       "2        5      True  11 18, 2016  B14C8E6A493C844D2AEDCC61207BB6B1   \n",
       "3        5      True   03 7, 2016  D53FA93ED4A6B67662D920473DE9C7F7   \n",
       "4        5     False  05 22, 2015  B59D69D00FEA8B83388D292010CAB2E9   \n",
       "\n",
       "                               asin                      reviewerName  \\\n",
       "0  5FC455C18F7DD81A071E51B6B60A72BD  73D759DCDF02B4DDBD3FB7D29E88C6C3   \n",
       "1  5FC455C18F7DD81A071E51B6B60A72BD  80C0DC9C8FAB1C9BE0E1D5E83965360C   \n",
       "2  5FC455C18F7DD81A071E51B6B60A72BD  C133754F62F0EB10D1FFF543786622DC   \n",
       "3  5FC455C18F7DD81A071E51B6B60A72BD  59820C0C923F245A167B53E24FFBF5BB   \n",
       "4  5FC455C18F7DD81A071E51B6B60A72BD  2843F6C4145178E4F87A6CD895F4887F   \n",
       "\n",
       "                                          reviewText                 summary  \\\n",
       "0  I always look for this brand of cards because ...           durable cards   \n",
       "1  Other than KEM's or DaVinchi brands, these car...  some of the best Cards   \n",
       "2             The better ive ever seen!!!! Excelent!              Five Stars   \n",
       "3                                             get it              Five Stars   \n",
       "4  Really nice cards. Will make great use of them...           playing cards   \n",
       "\n",
       "   unixReviewTime vote image style  \n",
       "0      1344729600  NaN   NaN   NaN  \n",
       "1      1295827200    4   NaN   NaN  \n",
       "2      1479427200  NaN   NaN   NaN  \n",
       "3      1457308800  NaN   NaN   NaN  \n",
       "4      1432252800  NaN   NaN   NaN  "
      ]
     },
     "execution_count": 5,
     "metadata": {},
     "output_type": "execute_result"
    }
   ],
   "source": [
    "df.head()"
   ]
  },
  {
   "cell_type": "code",
   "execution_count": 7,
   "metadata": {},
   "outputs": [
    {
     "name": "stdout",
     "output_type": "stream",
     "text": [
      "Number of samples: 1460818 Number of Features: 12\n"
     ]
    }
   ],
   "source": [
    "print(\"Number of samples: {} Number of Features: {}\".format(df.shape[0], df.shape[1]))"
   ]
  },
  {
   "cell_type": "code",
   "execution_count": 14,
   "metadata": {},
   "outputs": [],
   "source": [
    "clean_df = df[df['reviewText'].notna()]\n",
    "df2 = clean_df[['asin', 'overall', 'reviewText', 'summary']]"
   ]
  },
  {
   "cell_type": "code",
   "execution_count": 15,
   "metadata": {},
   "outputs": [
    {
     "data": {
      "text/plain": [
       "(63017, 2)"
      ]
     },
     "execution_count": 15,
     "metadata": {},
     "output_type": "execute_result"
    }
   ],
   "source": [
    "avg = df2[['asin', 'overall']].groupby('asin').mean()\n",
    "# assian traget=1 if averaged overall>4.5 and target=0 otherwise\n",
    "avg2 = avg.assign(\n",
    "    Target = lambda dataframe: dataframe['overall'].map(lambda overall: \"1\" if overall >4.5 else \"0\") \n",
    ")\n",
    "avg2 = avg2.rename_axis(\"asin\").reset_index()\n",
    "avg2.columns = ['asin','overall_avg', 'Target']\n",
    "\n",
    "# select coloumns\n",
    "df3 = df2[['asin', 'overall', 'reviewText', 'summary']]\n",
    "\n",
    "df4 = df3.groupby('asin')['reviewText'].apply(' '.join).reset_index()\n",
    "df4.head()\n",
    "df4.shape"
   ]
  },
  {
   "cell_type": "code",
   "execution_count": 53,
   "metadata": {},
   "outputs": [
    {
     "data": {
      "text/html": [
       "<div>\n",
       "<style scoped>\n",
       "    .dataframe tbody tr th:only-of-type {\n",
       "        vertical-align: middle;\n",
       "    }\n",
       "\n",
       "    .dataframe tbody tr th {\n",
       "        vertical-align: top;\n",
       "    }\n",
       "\n",
       "    .dataframe thead th {\n",
       "        text-align: right;\n",
       "    }\n",
       "</style>\n",
       "<table border=\"1\" class=\"dataframe\">\n",
       "  <thead>\n",
       "    <tr style=\"text-align: right;\">\n",
       "      <th></th>\n",
       "      <th>asin</th>\n",
       "      <th>reviewText</th>\n",
       "      <th>overall_avg</th>\n",
       "      <th>Target</th>\n",
       "    </tr>\n",
       "  </thead>\n",
       "  <tbody>\n",
       "    <tr>\n",
       "      <th>23</th>\n",
       "      <td>001046FB00BA52AC83EC1AFA36639395</td>\n",
       "      <td>Could not keep balls inflated after blowing th...</td>\n",
       "      <td>4.000000</td>\n",
       "      <td>0</td>\n",
       "    </tr>\n",
       "    <tr>\n",
       "      <th>24</th>\n",
       "      <td>0010BA5BFC56BAAB9AFCC9662AEF5D71</td>\n",
       "      <td>Wow! This is the real deal. It is fully as adv...</td>\n",
       "      <td>4.700000</td>\n",
       "      <td>1</td>\n",
       "    </tr>\n",
       "    <tr>\n",
       "      <th>25</th>\n",
       "      <td>001284527CE20A55C595B9C0CFEC7568</td>\n",
       "      <td>My 4 year old loves these Grandsons are five, ...</td>\n",
       "      <td>4.888889</td>\n",
       "      <td>1</td>\n",
       "    </tr>\n",
       "    <tr>\n",
       "      <th>26</th>\n",
       "      <td>0013DF468664DE1FA3CD41A72E671C9D</td>\n",
       "      <td>Great jigsaw puzzle! Challenging in places, bu...</td>\n",
       "      <td>4.666667</td>\n",
       "      <td>1</td>\n",
       "    </tr>\n",
       "    <tr>\n",
       "      <th>27</th>\n",
       "      <td>0014D30399BE488500B05894FD3186A7</td>\n",
       "      <td>My 7 month old grandson loves this.  The only ...</td>\n",
       "      <td>4.571429</td>\n",
       "      <td>1</td>\n",
       "    </tr>\n",
       "    <tr>\n",
       "      <th>28</th>\n",
       "      <td>001C05706A0288190C0AF0455310E657</td>\n",
       "      <td>My son loves this toy. It is easier to deal wi...</td>\n",
       "      <td>4.772727</td>\n",
       "      <td>1</td>\n",
       "    </tr>\n",
       "    <tr>\n",
       "      <th>29</th>\n",
       "      <td>001D1C8B0D953E22EE70BDFE53D966FC</td>\n",
       "      <td>I got them exactly the day that they were expe...</td>\n",
       "      <td>4.400000</td>\n",
       "      <td>0</td>\n",
       "    </tr>\n",
       "    <tr>\n",
       "      <th>30</th>\n",
       "      <td>001DBBD8771DFFEDD764111BA02203EC</td>\n",
       "      <td>Son loved them My children love it! My son lov...</td>\n",
       "      <td>4.600000</td>\n",
       "      <td>1</td>\n",
       "    </tr>\n",
       "    <tr>\n",
       "      <th>31</th>\n",
       "      <td>001DC2730F3CB75EEAFDBA036CF4A268</td>\n",
       "      <td>When these arrived, one already didn't light u...</td>\n",
       "      <td>3.181818</td>\n",
       "      <td>0</td>\n",
       "    </tr>\n",
       "  </tbody>\n",
       "</table>\n",
       "</div>"
      ],
      "text/plain": [
       "                                asin  \\\n",
       "23  001046FB00BA52AC83EC1AFA36639395   \n",
       "24  0010BA5BFC56BAAB9AFCC9662AEF5D71   \n",
       "25  001284527CE20A55C595B9C0CFEC7568   \n",
       "26  0013DF468664DE1FA3CD41A72E671C9D   \n",
       "27  0014D30399BE488500B05894FD3186A7   \n",
       "28  001C05706A0288190C0AF0455310E657   \n",
       "29  001D1C8B0D953E22EE70BDFE53D966FC   \n",
       "30  001DBBD8771DFFEDD764111BA02203EC   \n",
       "31  001DC2730F3CB75EEAFDBA036CF4A268   \n",
       "\n",
       "                                           reviewText  overall_avg Target  \n",
       "23  Could not keep balls inflated after blowing th...     4.000000      0  \n",
       "24  Wow! This is the real deal. It is fully as adv...     4.700000      1  \n",
       "25  My 4 year old loves these Grandsons are five, ...     4.888889      1  \n",
       "26  Great jigsaw puzzle! Challenging in places, bu...     4.666667      1  \n",
       "27  My 7 month old grandson loves this.  The only ...     4.571429      1  \n",
       "28  My son loves this toy. It is easier to deal wi...     4.772727      1  \n",
       "29  I got them exactly the day that they were expe...     4.400000      0  \n",
       "30  Son loved them My children love it! My son lov...     4.600000      1  \n",
       "31  When these arrived, one already didn't light u...     3.181818      0  "
      ]
     },
     "execution_count": 53,
     "metadata": {},
     "output_type": "execute_result"
    }
   ],
   "source": [
    "# assign target to df2\n",
    "dft = df4.merge(avg2, on = 'asin', how ='left')"
   ]
  },
  {
   "cell_type": "code",
   "execution_count": 3,
   "metadata": {},
   "outputs": [
    {
     "data": {
      "text/html": [
       "<div>\n",
       "<style scoped>\n",
       "    .dataframe tbody tr th:only-of-type {\n",
       "        vertical-align: middle;\n",
       "    }\n",
       "\n",
       "    .dataframe tbody tr th {\n",
       "        vertical-align: top;\n",
       "    }\n",
       "\n",
       "    .dataframe thead th {\n",
       "        text-align: right;\n",
       "    }\n",
       "</style>\n",
       "<table border=\"1\" class=\"dataframe\">\n",
       "  <thead>\n",
       "    <tr style=\"text-align: right;\">\n",
       "      <th></th>\n",
       "      <th>Unnamed: 0</th>\n",
       "      <th>Unnamed: 0.1</th>\n",
       "      <th>asin</th>\n",
       "      <th>reviewText</th>\n",
       "      <th>overall_avg</th>\n",
       "      <th>Target</th>\n",
       "      <th>count</th>\n",
       "      <th>sentiment_scores</th>\n",
       "    </tr>\n",
       "  </thead>\n",
       "  <tbody>\n",
       "    <tr>\n",
       "      <th>0</th>\n",
       "      <td>0</td>\n",
       "      <td>0</td>\n",
       "      <td>000254CDA01E5AE839E7EE3F6FC1D2F1</td>\n",
       "      <td>The child who recieved them opened the box and...</td>\n",
       "      <td>4.625000</td>\n",
       "      <td>1</td>\n",
       "      <td>24</td>\n",
       "      <td>0.487121</td>\n",
       "    </tr>\n",
       "    <tr>\n",
       "      <th>1</th>\n",
       "      <td>1</td>\n",
       "      <td>1</td>\n",
       "      <td>0002E81AED1B9840434EE28E39876BE4</td>\n",
       "      <td>Great gift for my special needs cousin Blocks ...</td>\n",
       "      <td>2.538462</td>\n",
       "      <td>0</td>\n",
       "      <td>13</td>\n",
       "      <td>-0.223308</td>\n",
       "    </tr>\n",
       "    <tr>\n",
       "      <th>2</th>\n",
       "      <td>2</td>\n",
       "      <td>2</td>\n",
       "      <td>0003806D9BE7957D8AB9AF9EC04F52D0</td>\n",
       "      <td>I needed something to occupy kids indoors that...</td>\n",
       "      <td>5.000000</td>\n",
       "      <td>1</td>\n",
       "      <td>6</td>\n",
       "      <td>0.464500</td>\n",
       "    </tr>\n",
       "    <tr>\n",
       "      <th>3</th>\n",
       "      <td>3</td>\n",
       "      <td>3</td>\n",
       "      <td>00049B538C925B3EF702FFF6FBD48DFE</td>\n",
       "      <td>This is a very nicely detailed and painted die...</td>\n",
       "      <td>4.625000</td>\n",
       "      <td>1</td>\n",
       "      <td>8</td>\n",
       "      <td>0.133913</td>\n",
       "    </tr>\n",
       "    <tr>\n",
       "      <th>4</th>\n",
       "      <td>4</td>\n",
       "      <td>4</td>\n",
       "      <td>0004D0377FDC88F2DD349170E36324E7</td>\n",
       "      <td>Cute This bear is so cool and cute. The fabric...</td>\n",
       "      <td>5.000000</td>\n",
       "      <td>1</td>\n",
       "      <td>5</td>\n",
       "      <td>0.557400</td>\n",
       "    </tr>\n",
       "    <tr>\n",
       "      <th>...</th>\n",
       "      <td>...</td>\n",
       "      <td>...</td>\n",
       "      <td>...</td>\n",
       "      <td>...</td>\n",
       "      <td>...</td>\n",
       "      <td>...</td>\n",
       "      <td>...</td>\n",
       "      <td>...</td>\n",
       "    </tr>\n",
       "    <tr>\n",
       "      <th>63012</th>\n",
       "      <td>63012</td>\n",
       "      <td>63012</td>\n",
       "      <td>FFFAB16CD5964F60F014EFAA1210AFEE</td>\n",
       "      <td>These stickers are really adorable. The variet...</td>\n",
       "      <td>4.928571</td>\n",
       "      <td>1</td>\n",
       "      <td>14</td>\n",
       "      <td>0.517586</td>\n",
       "    </tr>\n",
       "    <tr>\n",
       "      <th>63013</th>\n",
       "      <td>63013</td>\n",
       "      <td>63013</td>\n",
       "      <td>FFFAB94C16EAEC9E1DEBF24E231C53BB</td>\n",
       "      <td>great little toy. &lt;div id=\"video-block-R3SMI4X...</td>\n",
       "      <td>4.380952</td>\n",
       "      <td>0</td>\n",
       "      <td>21</td>\n",
       "      <td>0.530857</td>\n",
       "    </tr>\n",
       "    <tr>\n",
       "      <th>63014</th>\n",
       "      <td>63014</td>\n",
       "      <td>63014</td>\n",
       "      <td>FFFB0C64CBC232115CE8FFF2BE870122</td>\n",
       "      <td>I am a collector of everything Firefly / Seren...</td>\n",
       "      <td>4.850000</td>\n",
       "      <td>1</td>\n",
       "      <td>20</td>\n",
       "      <td>0.529530</td>\n",
       "    </tr>\n",
       "    <tr>\n",
       "      <th>63015</th>\n",
       "      <td>63015</td>\n",
       "      <td>63015</td>\n",
       "      <td>FFFB5BB91B42C9A34457AD075B499DF9</td>\n",
       "      <td>This made a cute Easter gift, but was soon for...</td>\n",
       "      <td>4.090909</td>\n",
       "      <td>0</td>\n",
       "      <td>11</td>\n",
       "      <td>0.557400</td>\n",
       "    </tr>\n",
       "    <tr>\n",
       "      <th>63016</th>\n",
       "      <td>63016</td>\n",
       "      <td>63016</td>\n",
       "      <td>FFFE6F164253092524A23147EBA2EEB3</td>\n",
       "      <td>Again great issue, this one has some assembly....</td>\n",
       "      <td>4.800000</td>\n",
       "      <td>1</td>\n",
       "      <td>5</td>\n",
       "      <td>0.557400</td>\n",
       "    </tr>\n",
       "  </tbody>\n",
       "</table>\n",
       "<p>63017 rows × 8 columns</p>\n",
       "</div>"
      ],
      "text/plain": [
       "       Unnamed: 0  Unnamed: 0.1                              asin  \\\n",
       "0               0             0  000254CDA01E5AE839E7EE3F6FC1D2F1   \n",
       "1               1             1  0002E81AED1B9840434EE28E39876BE4   \n",
       "2               2             2  0003806D9BE7957D8AB9AF9EC04F52D0   \n",
       "3               3             3  00049B538C925B3EF702FFF6FBD48DFE   \n",
       "4               4             4  0004D0377FDC88F2DD349170E36324E7   \n",
       "...           ...           ...                               ...   \n",
       "63012       63012         63012  FFFAB16CD5964F60F014EFAA1210AFEE   \n",
       "63013       63013         63013  FFFAB94C16EAEC9E1DEBF24E231C53BB   \n",
       "63014       63014         63014  FFFB0C64CBC232115CE8FFF2BE870122   \n",
       "63015       63015         63015  FFFB5BB91B42C9A34457AD075B499DF9   \n",
       "63016       63016         63016  FFFE6F164253092524A23147EBA2EEB3   \n",
       "\n",
       "                                              reviewText  overall_avg  Target  \\\n",
       "0      The child who recieved them opened the box and...     4.625000       1   \n",
       "1      Great gift for my special needs cousin Blocks ...     2.538462       0   \n",
       "2      I needed something to occupy kids indoors that...     5.000000       1   \n",
       "3      This is a very nicely detailed and painted die...     4.625000       1   \n",
       "4      Cute This bear is so cool and cute. The fabric...     5.000000       1   \n",
       "...                                                  ...          ...     ...   \n",
       "63012  These stickers are really adorable. The variet...     4.928571       1   \n",
       "63013  great little toy. <div id=\"video-block-R3SMI4X...     4.380952       0   \n",
       "63014  I am a collector of everything Firefly / Seren...     4.850000       1   \n",
       "63015  This made a cute Easter gift, but was soon for...     4.090909       0   \n",
       "63016  Again great issue, this one has some assembly....     4.800000       1   \n",
       "\n",
       "       count  sentiment_scores  \n",
       "0         24          0.487121  \n",
       "1         13         -0.223308  \n",
       "2          6          0.464500  \n",
       "3          8          0.133913  \n",
       "4          5          0.557400  \n",
       "...      ...               ...  \n",
       "63012     14          0.517586  \n",
       "63013     21          0.530857  \n",
       "63014     20          0.529530  \n",
       "63015     11          0.557400  \n",
       "63016      5          0.557400  \n",
       "\n",
       "[63017 rows x 8 columns]"
      ]
     },
     "execution_count": 3,
     "metadata": {},
     "output_type": "execute_result"
    }
   ],
   "source": [
    "# dft.to_csv('df_combined_text.csv')\n",
    "dft = pd.read_csv('df_combined_text.csv')\n",
    "dft"
   ]
  },
  {
   "cell_type": "code",
   "execution_count": 4,
   "metadata": {},
   "outputs": [
    {
     "name": "stdout",
     "output_type": "stream",
     "text": [
      "1    5461\n",
      "0    4539\n",
      "Name: Target, dtype: int64\n"
     ]
    }
   ],
   "source": [
    "dft_small = dft.sample(n =10000)\n",
    "print(dft_small.Target.value_counts())"
   ]
  },
  {
   "cell_type": "markdown",
   "metadata": {},
   "source": [
    "# Bag of Words"
   ]
  },
  {
   "cell_type": "code",
   "execution_count": 19,
   "metadata": {},
   "outputs": [],
   "source": [
    "# create a count vectorizer object\n",
    "token = RegexpTokenizer(r'[a-zA-Z]+')\n",
    "count_vectorizer = CountVectorizer(lowercase=True,stop_words='english',ngram_range = (1,1),tokenizer = token.tokenize)\n",
    "\n",
    "# fit the count vectorizer using the text data\n",
    "text_counts = count_vectorizer.fit_transform(dft['reviewText'])\n",
    "\n",
    "# collect the vocabulary items used in the vectorizer\n",
    "# dictionary = count_vectorizer.vocabulary_.items()\n",
    "\n",
    "# words appear in documents.\n",
    "tokens = count_vectorizer.get_feature_names()\n",
    "#print(tokens)"
   ]
  },
  {
   "cell_type": "code",
   "execution_count": 20,
   "metadata": {},
   "outputs": [],
   "source": [
    "# split traning data and testing data\n",
    "X_train, X_test, y_train, y_test = train_test_split(\n",
    "    text_counts, dft['Target'], test_size=0.2, random_state=1)"
   ]
  },
  {
   "cell_type": "markdown",
   "metadata": {},
   "source": [
    "### Bag of Words-multinomial NB"
   ]
  },
  {
   "cell_type": "code",
   "execution_count": 27,
   "metadata": {},
   "outputs": [
    {
     "name": "stdout",
     "output_type": "stream",
     "text": [
      "MultinomialNB Accuracy: 0.7145350682323072\n",
      "              precision    recall  f1-score   support\n",
      "\n",
      "           0       0.72      0.61      0.66      5774\n",
      "           1       0.71      0.80      0.75      6830\n",
      "\n",
      "    accuracy                           0.71     12604\n",
      "   macro avg       0.72      0.71      0.71     12604\n",
      "weighted avg       0.72      0.71      0.71     12604\n",
      "\n"
     ]
    }
   ],
   "source": [
    "# from sklearn.model_selection import cross_val_score ## for cross-validation\n",
    "from sklearn import metrics\n",
    "\n",
    "clf = MultinomialNB().fit(X_train, y_train)\n",
    "\n",
    "predicted= clf.predict(X_test)\n",
    "\n",
    "print(\"MultinomialNB Accuracy:\",metrics.accuracy_score(y_test, predicted))\n",
    "from sklearn.metrics import classification_report\n",
    "print(classification_report(y_test,predicted))\n",
    "\n",
    "# scores = cross_val_score(clf, text_counts, dft['Target'], cv=5) ## for cross-validation\n",
    "# print(\"Accuracy: %0.2f (+/- %0.2f)\" % (scores.mean(), scores.std() * 2)) ## for cross-validation"
   ]
  },
  {
   "cell_type": "markdown",
   "metadata": {},
   "source": [
    "### Bag of Words- logisticRegression"
   ]
  },
  {
   "cell_type": "code",
   "execution_count": 29,
   "metadata": {},
   "outputs": [
    {
     "name": "stdout",
     "output_type": "stream",
     "text": [
      "LASSO-LR Accuracy: 0.7711044112980007\n",
      "0.7711044112980007\n",
      "              precision    recall  f1-score   support\n",
      "\n",
      "           0       0.76      0.73      0.75      5774\n",
      "           1       0.78      0.81      0.79      6830\n",
      "\n",
      "    accuracy                           0.77     12604\n",
      "   macro avg       0.77      0.77      0.77     12604\n",
      "weighted avg       0.77      0.77      0.77     12604\n",
      "\n"
     ]
    }
   ],
   "source": [
    "#Import model\n",
    "from sklearn.linear_model import Lasso, LogisticRegression\n",
    "from sklearn import metrics\n",
    "#Create a Classifier\n",
    "clf2 = LogisticRegression(C=1, penalty='l1', solver='liblinear') # Linear Kernel\n",
    "\n",
    "#Train the model using the training sets\n",
    "clf2.fit(X_train, y_train)\n",
    "\n",
    "#Predict the response for test dataset\n",
    "y_pred2 = clf2.predict(X_test)\n",
    "# print(y_pred)\n",
    "print(\"LASSO-LR Accuracy:\",metrics.accuracy_score(y_test, y_pred2))\n",
    "# print(clf.decision_function(X_test))\n",
    "# print(clf.predict_proba(X_test))\n",
    "\n",
    "from sklearn.metrics import classification_report\n",
    "print(classification_report(y_test,y_pred2))"
   ]
  },
  {
   "cell_type": "markdown",
   "metadata": {},
   "source": [
    "### Bag of Words- logisticRegression-CrossValidation"
   ]
  },
  {
   "cell_type": "code",
   "execution_count": null,
   "metadata": {},
   "outputs": [],
   "source": [
    "from sklearn.linear_model import LogisticRegressionCV\n",
    "from sklearn import metrics\n",
    "\n",
    "#Create a svm Classifier\n",
    "clf3 = LogisticRegressionCV(penalty='l1', solver='liblinear',cv=10) # Linear Kernel\n",
    "\n",
    "#Train the model using the training sets\n",
    "clf3.fit(X_train, y_train)\n",
    "#Predict the response for test dataset\n",
    "y_pred3 = clf3.predict(X_test)\n",
    "# print(y_pred2)\n",
    "print(\"logisticRegression-cross-validation Accuracy:\",metrics.accuracy_score(y_test, y_pred3))\n",
    "from sklearn.metrics import classification_report\n",
    "print(classification_report(y_test,y_pred3))"
   ]
  },
  {
   "cell_type": "markdown",
   "metadata": {},
   "source": [
    "# TFIDF"
   ]
  },
  {
   "cell_type": "code",
   "execution_count": 5,
   "metadata": {},
   "outputs": [],
   "source": [
    "tf=TfidfVectorizer()\n",
    "text_tf= tf.fit_transform(dft_small['reviewText'])"
   ]
  },
  {
   "cell_type": "code",
   "execution_count": 6,
   "metadata": {},
   "outputs": [],
   "source": [
    "X_train, X_test, y_train, y_test = train_test_split(\n",
    "    text_tf, dft_small['Target'], test_size=0.2, random_state=1)"
   ]
  },
  {
   "cell_type": "markdown",
   "metadata": {},
   "source": [
    "# SMOTE"
   ]
  },
  {
   "cell_type": "code",
   "execution_count": 7,
   "metadata": {},
   "outputs": [
    {
     "name": "stdout",
     "output_type": "stream",
     "text": [
      "0.7.0\n",
      "The scikit-learn version is 0.23.2.\n"
     ]
    }
   ],
   "source": [
    "# pip install imblearn\n",
    "# check version number\n",
    "import imblearn\n",
    "print(imblearn.__version__)\n",
    "import sklearn\n",
    "print('The scikit-learn version is {}.'.format(sklearn.__version__)) # The scikit-learn version should be 0.23.2."
   ]
  },
  {
   "cell_type": "markdown",
   "metadata": {},
   "source": [
    "## SMOTE-TFIDF-LogisticRegression (default k = 5)"
   ]
  },
  {
   "cell_type": "code",
   "execution_count": 6,
   "metadata": {},
   "outputs": [
    {
     "name": "stdout",
     "output_type": "stream",
     "text": [
      "              precision    recall  f1-score   support\n",
      "\n",
      "           0       0.79      0.81      0.80      5774\n",
      "           1       0.83      0.82      0.82      6830\n",
      "\n",
      "    accuracy                           0.81     12604\n",
      "   macro avg       0.81      0.81      0.81     12604\n",
      "weighted avg       0.81      0.81      0.81     12604\n",
      "\n"
     ]
    }
   ],
   "source": [
    "#Import model\n",
    "from sklearn.linear_model import Lasso, LogisticRegression\n",
    "from sklearn import metrics\n",
    "from numpy import mean\n",
    "from sklearn.model_selection import cross_val_score\n",
    "from sklearn.model_selection import RepeatedStratifiedKFold\n",
    "from imblearn.pipeline import Pipeline\n",
    "from imblearn.over_sampling import SMOTE\n",
    "from imblearn.under_sampling import RandomUnderSampler\n",
    "\n",
    "model = LogisticRegression(C=1, penalty='l1', solver='liblinear') # Linear Kernel\n",
    "oversample = SMOTE()\n",
    "X, y = oversample.fit_resample(X_train, y_train)\n",
    "\n",
    "#Train the model using the training sets\n",
    "model.fit(X, y)\n",
    "\n",
    "#Predict the response for test dataset\n",
    "y_pred4 = model.predict(X_test)\n",
    "\n",
    "# evaluate \n",
    "from sklearn.metrics import classification_report\n",
    "print(classification_report(y_test,y_pred4))"
   ]
  },
  {
   "cell_type": "markdown",
   "metadata": {},
   "source": [
    "## SMOTE-TFIDF-LogisticRegression (k = 1~7)"
   ]
  },
  {
   "cell_type": "code",
   "execution_count": 8,
   "metadata": {},
   "outputs": [
    {
     "name": "stdout",
     "output_type": "stream",
     "text": [
      "k =  1\n",
      "              precision    recall  f1-score   support\n",
      "\n",
      "           0       0.79      0.80      0.80      5774\n",
      "           1       0.83      0.82      0.82      6830\n",
      "\n",
      "    accuracy                           0.81     12604\n",
      "   macro avg       0.81      0.81      0.81     12604\n",
      "weighted avg       0.81      0.81      0.81     12604\n",
      "\n",
      "k =  2\n",
      "              precision    recall  f1-score   support\n",
      "\n",
      "           0       0.79      0.81      0.80      5774\n",
      "           1       0.83      0.82      0.83      6830\n",
      "\n",
      "    accuracy                           0.81     12604\n",
      "   macro avg       0.81      0.81      0.81     12604\n",
      "weighted avg       0.81      0.81      0.81     12604\n",
      "\n",
      "k =  3\n",
      "              precision    recall  f1-score   support\n",
      "\n",
      "           0       0.79      0.80      0.80      5774\n",
      "           1       0.83      0.82      0.82      6830\n",
      "\n",
      "    accuracy                           0.81     12604\n",
      "   macro avg       0.81      0.81      0.81     12604\n",
      "weighted avg       0.81      0.81      0.81     12604\n",
      "\n",
      "k =  4\n",
      "              precision    recall  f1-score   support\n",
      "\n",
      "           0       0.79      0.80      0.80      5774\n",
      "           1       0.83      0.82      0.82      6830\n",
      "\n",
      "    accuracy                           0.81     12604\n",
      "   macro avg       0.81      0.81      0.81     12604\n",
      "weighted avg       0.81      0.81      0.81     12604\n",
      "\n",
      "k =  5\n",
      "              precision    recall  f1-score   support\n",
      "\n",
      "           0       0.79      0.81      0.80      5774\n",
      "           1       0.83      0.82      0.82      6830\n",
      "\n",
      "    accuracy                           0.81     12604\n",
      "   macro avg       0.81      0.81      0.81     12604\n",
      "weighted avg       0.81      0.81      0.81     12604\n",
      "\n",
      "k =  6\n",
      "              precision    recall  f1-score   support\n",
      "\n",
      "           0       0.79      0.80      0.80      5774\n",
      "           1       0.83      0.82      0.82      6830\n",
      "\n",
      "    accuracy                           0.81     12604\n",
      "   macro avg       0.81      0.81      0.81     12604\n",
      "weighted avg       0.81      0.81      0.81     12604\n",
      "\n",
      "k =  7\n",
      "              precision    recall  f1-score   support\n",
      "\n",
      "           0       0.79      0.81      0.80      5774\n",
      "           1       0.83      0.82      0.82      6830\n",
      "\n",
      "    accuracy                           0.81     12604\n",
      "   macro avg       0.81      0.81      0.81     12604\n",
      "weighted avg       0.81      0.81      0.81     12604\n",
      "\n"
     ]
    }
   ],
   "source": [
    "k_values = [1,2,3,4,5,6,7]\n",
    "for k in k_values:\n",
    "    model = LogisticRegression(C=1, penalty='l1', solver='liblinear') # Linear Kernel\n",
    "    oversample = SMOTE(k_neighbors=k)\n",
    "    X, y = oversample.fit_resample(X_train, y_train)\n",
    "    model.fit(X, y)\n",
    "    y_pred5 = model.predict(X_test)\n",
    "    print('k = ', k)\n",
    "    print(classification_report(y_test,y_pred5))"
   ]
  },
  {
   "cell_type": "markdown",
   "metadata": {},
   "source": [
    "### TFIDF-multinomial NB"
   ]
  },
  {
   "cell_type": "code",
   "execution_count": 22,
   "metadata": {},
   "outputs": [
    {
     "name": "stdout",
     "output_type": "stream",
     "text": [
      "MultinomialNB Accuracy: 0.7159631862900666\n",
      "              precision    recall  f1-score   support\n",
      "\n",
      "           0       0.74      0.59      0.65      5774\n",
      "           1       0.70      0.83      0.76      6830\n",
      "\n",
      "    accuracy                           0.72     12604\n",
      "   macro avg       0.72      0.71      0.71     12604\n",
      "weighted avg       0.72      0.72      0.71     12604\n",
      "\n"
     ]
    }
   ],
   "source": [
    "clf = MultinomialNB().fit(X_train, y_train)\n",
    "\n",
    "predicted= clf.predict(X_test)\n",
    "\n",
    "print(\"MultinomialNB Accuracy:\",metrics.accuracy_score(y_test, predicted))\n",
    "print(classification_report(y_test,predicted))"
   ]
  },
  {
   "cell_type": "markdown",
   "metadata": {},
   "source": [
    "### TFIDF-logistic regression (for comparison with TFIDF-Late Fusion, I only use 10,000 samples)"
   ]
  },
  {
   "cell_type": "code",
   "execution_count": 8,
   "metadata": {},
   "outputs": [
    {
     "name": "stdout",
     "output_type": "stream",
     "text": [
      "Logistic Regression Accuracy: 0.789\n",
      "              precision    recall  f1-score   support\n",
      "\n",
      "           0       0.80      0.75      0.77       953\n",
      "           1       0.78      0.83      0.80      1047\n",
      "\n",
      "    accuracy                           0.79      2000\n",
      "   macro avg       0.79      0.79      0.79      2000\n",
      "weighted avg       0.79      0.79      0.79      2000\n",
      "\n"
     ]
    }
   ],
   "source": [
    "#Import model\n",
    "from sklearn.linear_model import Lasso, LogisticRegression\n",
    "from sklearn import metrics\n",
    "#Create a Classifier\n",
    "clf3 = LogisticRegression(C=1, penalty='l1', solver='liblinear') # Linear Kernel\n",
    "\n",
    "#Train the model using the training sets\n",
    "clf3.fit(X_train, y_train)\n",
    "\n",
    "#Predict the response for test dataset\n",
    "y_pred3 = clf3.predict(X_test)\n",
    "# print(y_pred)\n",
    "print(\"Logistic Regression Accuracy:\",metrics.accuracy_score(y_test, y_pred3))\n",
    "# print(clf.decision_function(X_test))\n",
    "# print(clf.predict_proba(X_test))\n",
    "\n",
    "from sklearn.metrics import classification_report\n",
    "print(classification_report(y_test,y_pred3))"
   ]
  },
  {
   "cell_type": "markdown",
   "metadata": {},
   "source": [
    "## TFIDF-Late Fusion (only use 10,000 samples; memmory isn't enough for all samples)"
   ]
  },
  {
   "cell_type": "code",
   "execution_count": 9,
   "metadata": {},
   "outputs": [
    {
     "name": "stdout",
     "output_type": "stream",
     "text": [
      "Late Fusion- LR,GNB,RF\n",
      "              precision    recall  f1-score   support\n",
      "\n",
      "           0       0.77      0.69      0.73       953\n",
      "           1       0.74      0.82      0.78      1047\n",
      "\n",
      "    accuracy                           0.76      2000\n",
      "   macro avg       0.76      0.75      0.75      2000\n",
      "weighted avg       0.76      0.76      0.75      2000\n",
      "\n"
     ]
    }
   ],
   "source": [
    "from sklearn.ensemble import VotingClassifier\n",
    "clf1 = LogisticRegression(C=1, penalty='l1', solver='liblinear')\n",
    "clf2 = GaussianNB()\n",
    "clf3 = RandomForestClassifier(n_estimators=50, random_state=1)\n",
    "eclf = VotingClassifier(estimators=[('lr', clf1),('rf', clf3), ('gnb', clf2)],voting='hard')\n",
    "eclf.fit(X_train.toarray(), y_train)\n",
    "y_pred_V = eclf.predict(X_test.toarray())\n",
    "print('Late Fusion- LR,GNB,RF')\n",
    "print(classification_report(y_test,y_pred_V))"
   ]
  },
  {
   "cell_type": "code",
   "execution_count": 13,
   "metadata": {},
   "outputs": [
    {
     "data": {
      "text/plain": [
       "array([0, 1, 1, ..., 0, 0, 0])"
      ]
     },
     "execution_count": 13,
     "metadata": {},
     "output_type": "execute_result"
    }
   ],
   "source": [
    "y_pred_V"
   ]
  },
  {
   "cell_type": "markdown",
   "metadata": {},
   "source": [
    "## SMOTE - Late Fusion with GridSearchCV (only use 10,000 samples; memmory isn't enough for all samples)"
   ]
  },
  {
   "cell_type": "code",
   "execution_count": 11,
   "metadata": {},
   "outputs": [
    {
     "name": "stdout",
     "output_type": "stream",
     "text": [
      "              precision    recall  f1-score   support\n",
      "\n",
      "           0       0.74      0.72      0.73       953\n",
      "           1       0.75      0.77      0.76      1047\n",
      "\n",
      "    accuracy                           0.75      2000\n",
      "   macro avg       0.75      0.74      0.74      2000\n",
      "weighted avg       0.75      0.75      0.75      2000\n",
      "\n"
     ]
    }
   ],
   "source": [
    "from sklearn.model_selection import GridSearchCV\n",
    "from imblearn.over_sampling import SMOTE\n",
    "oversample = SMOTE()\n",
    "X, y = oversample.fit_resample(X_train, y_train)\n",
    "params = {'lr__C': [1.0, 100.0], 'rf__n_estimators': [20, 200]}\n",
    "grid = GridSearchCV(estimator=eclf, param_grid=params, cv=5)\n",
    "grid = grid.fit(X.toarray(), y)\n",
    "y_pred_V = grid.predict(X_test.toarray())\n",
    "print(classification_report(y_test,y_pred_V))"
   ]
  },
  {
   "cell_type": "markdown",
   "metadata": {},
   "source": [
    "### Prediction csv (not includes SMOTE / Late Fusion / GridSearch / cross-validation)"
   ]
  },
  {
   "cell_type": "code",
   "execution_count": 7,
   "metadata": {},
   "outputs": [],
   "source": [
    "toy_test = pd.read_json('/Users/chenjiqing/Public/2020_Fall_term/data/Toys_and_Games_Reviews_test.json', lines=True)"
   ]
  },
  {
   "cell_type": "code",
   "execution_count": 8,
   "metadata": {},
   "outputs": [
    {
     "data": {
      "text/html": [
       "<div>\n",
       "<style scoped>\n",
       "    .dataframe tbody tr th:only-of-type {\n",
       "        vertical-align: middle;\n",
       "    }\n",
       "\n",
       "    .dataframe tbody tr th {\n",
       "        vertical-align: top;\n",
       "    }\n",
       "\n",
       "    .dataframe thead th {\n",
       "        text-align: right;\n",
       "    }\n",
       "</style>\n",
       "<table border=\"1\" class=\"dataframe\">\n",
       "  <thead>\n",
       "    <tr style=\"text-align: right;\">\n",
       "      <th></th>\n",
       "      <th>verified</th>\n",
       "      <th>reviewTime</th>\n",
       "      <th>reviewerID</th>\n",
       "      <th>asin</th>\n",
       "      <th>reviewerName</th>\n",
       "      <th>reviewText</th>\n",
       "      <th>summary</th>\n",
       "      <th>unixReviewTime</th>\n",
       "      <th>vote</th>\n",
       "      <th>style</th>\n",
       "      <th>image</th>\n",
       "    </tr>\n",
       "  </thead>\n",
       "  <tbody>\n",
       "    <tr>\n",
       "      <th>0</th>\n",
       "      <td>True</td>\n",
       "      <td>01 9, 2014</td>\n",
       "      <td>F65C6B80659643241B55D2F8606CA762</td>\n",
       "      <td>B53842B7FB95A7EED604789C4527FED4</td>\n",
       "      <td>C13E13DA2073260C2194C15D782E86A9</td>\n",
       "      <td>I bought this item for my granddaughter and sh...</td>\n",
       "      <td>xmas present</td>\n",
       "      <td>1389225600</td>\n",
       "      <td>NaN</td>\n",
       "      <td>NaN</td>\n",
       "      <td>NaN</td>\n",
       "    </tr>\n",
       "    <tr>\n",
       "      <th>1</th>\n",
       "      <td>True</td>\n",
       "      <td>01 7, 2014</td>\n",
       "      <td>B59B4F985BFB64754C6DA13A1825344C</td>\n",
       "      <td>B53842B7FB95A7EED604789C4527FED4</td>\n",
       "      <td>EB6C1EA748A0926CF57E2915043A1B2C</td>\n",
       "      <td>My kids didn't care for this. It's not exactly...</td>\n",
       "      <td>Not what I expected, my kids didn't care for it.</td>\n",
       "      <td>1389052800</td>\n",
       "      <td>NaN</td>\n",
       "      <td>NaN</td>\n",
       "      <td>NaN</td>\n",
       "    </tr>\n",
       "    <tr>\n",
       "      <th>2</th>\n",
       "      <td>True</td>\n",
       "      <td>06 17, 2014</td>\n",
       "      <td>7CA53EA426A3925851477B594C14C1B1</td>\n",
       "      <td>B53842B7FB95A7EED604789C4527FED4</td>\n",
       "      <td>3C05450791D51827DF4ADAC95DB284C3</td>\n",
       "      <td>Don't waste time or money on this, it does not...</td>\n",
       "      <td>Does not work</td>\n",
       "      <td>1402963200</td>\n",
       "      <td>NaN</td>\n",
       "      <td>NaN</td>\n",
       "      <td>NaN</td>\n",
       "    </tr>\n",
       "    <tr>\n",
       "      <th>3</th>\n",
       "      <td>True</td>\n",
       "      <td>03 26, 2014</td>\n",
       "      <td>2421E7DA831836AC70B3599A07CC6813</td>\n",
       "      <td>B53842B7FB95A7EED604789C4527FED4</td>\n",
       "      <td>EFB1465497243F7027F6D6C101F3CDDC</td>\n",
       "      <td>This is a fun idea but unfortunately the handl...</td>\n",
       "      <td>Fun idea</td>\n",
       "      <td>1395792000</td>\n",
       "      <td>NaN</td>\n",
       "      <td>NaN</td>\n",
       "      <td>NaN</td>\n",
       "    </tr>\n",
       "    <tr>\n",
       "      <th>4</th>\n",
       "      <td>False</td>\n",
       "      <td>02 22, 2014</td>\n",
       "      <td>3A27A6CCDFEB41598C949DEE4B130773</td>\n",
       "      <td>B53842B7FB95A7EED604789C4527FED4</td>\n",
       "      <td>3CF804E7182AB12879C33C914E1C5CD8</td>\n",
       "      <td>This is a very sturdy tub toy and has handled ...</td>\n",
       "      <td>Super toy and very durable.</td>\n",
       "      <td>1393027200</td>\n",
       "      <td>NaN</td>\n",
       "      <td>NaN</td>\n",
       "      <td>NaN</td>\n",
       "    </tr>\n",
       "  </tbody>\n",
       "</table>\n",
       "</div>"
      ],
      "text/plain": [
       "   verified   reviewTime                        reviewerID  \\\n",
       "0      True   01 9, 2014  F65C6B80659643241B55D2F8606CA762   \n",
       "1      True   01 7, 2014  B59B4F985BFB64754C6DA13A1825344C   \n",
       "2      True  06 17, 2014  7CA53EA426A3925851477B594C14C1B1   \n",
       "3      True  03 26, 2014  2421E7DA831836AC70B3599A07CC6813   \n",
       "4     False  02 22, 2014  3A27A6CCDFEB41598C949DEE4B130773   \n",
       "\n",
       "                               asin                      reviewerName  \\\n",
       "0  B53842B7FB95A7EED604789C4527FED4  C13E13DA2073260C2194C15D782E86A9   \n",
       "1  B53842B7FB95A7EED604789C4527FED4  EB6C1EA748A0926CF57E2915043A1B2C   \n",
       "2  B53842B7FB95A7EED604789C4527FED4  3C05450791D51827DF4ADAC95DB284C3   \n",
       "3  B53842B7FB95A7EED604789C4527FED4  EFB1465497243F7027F6D6C101F3CDDC   \n",
       "4  B53842B7FB95A7EED604789C4527FED4  3CF804E7182AB12879C33C914E1C5CD8   \n",
       "\n",
       "                                          reviewText  \\\n",
       "0  I bought this item for my granddaughter and sh...   \n",
       "1  My kids didn't care for this. It's not exactly...   \n",
       "2  Don't waste time or money on this, it does not...   \n",
       "3  This is a fun idea but unfortunately the handl...   \n",
       "4  This is a very sturdy tub toy and has handled ...   \n",
       "\n",
       "                                            summary  unixReviewTime vote  \\\n",
       "0                                      xmas present      1389225600  NaN   \n",
       "1  Not what I expected, my kids didn't care for it.      1389052800  NaN   \n",
       "2                                     Does not work      1402963200  NaN   \n",
       "3                                          Fun idea      1395792000  NaN   \n",
       "4                       Super toy and very durable.      1393027200  NaN   \n",
       "\n",
       "  style image  \n",
       "0   NaN   NaN  \n",
       "1   NaN   NaN  \n",
       "2   NaN   NaN  \n",
       "3   NaN   NaN  \n",
       "4   NaN   NaN  "
      ]
     },
     "execution_count": 8,
     "metadata": {},
     "output_type": "execute_result"
    }
   ],
   "source": [
    "toy_test.head()"
   ]
  },
  {
   "cell_type": "code",
   "execution_count": 9,
   "metadata": {},
   "outputs": [
    {
     "name": "stdout",
     "output_type": "stream",
     "text": [
      "(367913, 2)\n",
      "(15755, 2)\n",
      "                               asin  \\\n",
      "0  00027761289A98A2884B5F152D3DBF91   \n",
      "1  000D550D33ABEA8BAF3C8E0FD88C1707   \n",
      "2  0024011FC5EBE2E578E9032EC2EEE3EA   \n",
      "3  00255AA8E14A573176D24AC68524541E   \n",
      "4  00290349FBB97F31976D0471975A4789   \n",
      "\n",
      "                                          reviewText  \n",
      "0  Bought for a contest. Although for a child it ...  \n",
      "1  I do a lot of model kit building, mainly warsh...  \n",
      "2  I bought this game for the kids at my son's 2n...  \n",
      "3  I bought this as a gift and the recipient abso...  \n",
      "4  Daughter likes this very much. Cheap alternati...  \n"
     ]
    }
   ],
   "source": [
    "# select coloumns\n",
    "toy_test2 = toy_test[['asin', 'reviewText']]\n",
    "clean_toy_test = toy_test2[toy_test2['reviewText'].notna()]\n",
    "print(clean_toy_test.shape)\n",
    "clean_toy_test2 = clean_toy_test.groupby('asin')['reviewText'].apply(' '.join).reset_index()\n",
    "clean_toy_test2.head()\n",
    "print(clean_toy_test2.shape)\n",
    "print(clean_toy_test2.head())"
   ]
  },
  {
   "cell_type": "code",
   "execution_count": 10,
   "metadata": {},
   "outputs": [
    {
     "name": "stdout",
     "output_type": "stream",
     "text": [
      "  (0, 151962)\t0.023741331568156925\n",
      "  (0, 150233)\t0.04345880328538978\n",
      "  (0, 149852)\t0.09747095777753212\n",
      "  (0, 149579)\t0.06048949819576235\n",
      "  (0, 149535)\t0.06183491648218076\n",
      "  (0, 149032)\t0.2778927754827474\n",
      "  (0, 149007)\t0.4872246723760914\n",
      "  (0, 148765)\t0.051447773837739984\n",
      "  (0, 148460)\t0.027844353062162683\n",
      "  (0, 148136)\t0.06312839290438638\n",
      "  (0, 148060)\t0.025540837543542732\n",
      "  (0, 147699)\t0.02744615601266229\n",
      "  (0, 147326)\t0.04353980785843322\n",
      "  (0, 144443)\t0.03814688138154437\n",
      "  (0, 144436)\t0.06730124544369397\n",
      "  (0, 143947)\t0.05292031195780934\n",
      "  (0, 138762)\t0.044955461570473816\n",
      "  (0, 138179)\t0.05761758813169907\n",
      "  (0, 136830)\t0.01981248823203037\n",
      "  (0, 136132)\t0.2620215065391931\n",
      "  (0, 134375)\t0.06675042782912839\n",
      "  (0, 133683)\t0.15166240771362147\n",
      "  (0, 130133)\t0.07600260619822456\n",
      "  (0, 128897)\t0.09791091504848393\n",
      "  (0, 126167)\t0.03350106024236067\n",
      "  :\t:\n",
      "  (15754, 32708)\t0.043311182308391996\n",
      "  (15754, 32548)\t0.05560010630609238\n",
      "  (15754, 31284)\t0.11200288028675763\n",
      "  (15754, 31268)\t0.04924598118797573\n",
      "  (15754, 30402)\t0.03681537797745903\n",
      "  (15754, 27593)\t0.037325251082230566\n",
      "  (15754, 27335)\t0.08913947274124384\n",
      "  (15754, 26927)\t0.02171575541132558\n",
      "  (15754, 26920)\t0.0735529415116346\n",
      "  (15754, 26632)\t0.05814650790850486\n",
      "  (15754, 26616)\t0.0529689386192156\n",
      "  (15754, 26511)\t0.08868500542401432\n",
      "  (15754, 25270)\t0.03250378631671215\n",
      "  (15754, 18644)\t0.0342393307943863\n",
      "  (15754, 18578)\t0.11784335667785009\n",
      "  (15754, 17743)\t0.09341774381232158\n",
      "  (15754, 16542)\t0.039984016961463476\n",
      "  (15754, 15743)\t0.0636681259621383\n",
      "  (15754, 15723)\t0.04279457197803233\n",
      "  (15754, 15672)\t0.03002622406316758\n",
      "  (15754, 14941)\t0.09952721126605121\n",
      "  (15754, 14718)\t0.051728449284611164\n",
      "  (15754, 14372)\t0.033066769128843536\n",
      "  (15754, 13917)\t0.08798200656333209\n",
      "  (15754, 12175)\t0.06336416536447459\n"
     ]
    }
   ],
   "source": [
    "tf2=TfidfVectorizer(vocabulary = tf.vocabulary_)\n",
    "text_tf2= tf2.fit_transform(clean_toy_test2['reviewText'])\n",
    "print(text_tf2)"
   ]
  },
  {
   "cell_type": "code",
   "execution_count": 11,
   "metadata": {},
   "outputs": [],
   "source": [
    "y_toy_test_pred = clf3.predict(text_tf2)"
   ]
  },
  {
   "cell_type": "code",
   "execution_count": 14,
   "metadata": {},
   "outputs": [
    {
     "name": "stdout",
     "output_type": "stream",
     "text": [
      "[0 0 0 ... 0 0 0]\n"
     ]
    }
   ],
   "source": [
    "print(y_toy_test_pred)"
   ]
  },
  {
   "cell_type": "code",
   "execution_count": 21,
   "metadata": {},
   "outputs": [
    {
     "name": "stdout",
     "output_type": "stream",
     "text": [
      "                                   asin\n",
      "0      00027761289A98A2884B5F152D3DBF91\n",
      "1      000D550D33ABEA8BAF3C8E0FD88C1707\n",
      "2      0024011FC5EBE2E578E9032EC2EEE3EA\n",
      "3      00255AA8E14A573176D24AC68524541E\n",
      "4      00290349FBB97F31976D0471975A4789\n",
      "...                                 ...\n",
      "15750  FFE0E00A3198C981F461CA920E1BE2E0\n",
      "15751  FFE23C8B29D211456D9774F49E277905\n",
      "15752  FFF41906931B0E2371E123299500D8E5\n",
      "15753  FFF574CC84FD43D875FF7257B3797BF3\n",
      "15754  FFF970B0EBBEA7752C6BAEBE3F4361D8\n",
      "\n",
      "[15755 rows x 1 columns]\n",
      "                                   asin  preds\n",
      "0      00027761289A98A2884B5F152D3DBF91      0\n",
      "1      000D550D33ABEA8BAF3C8E0FD88C1707      0\n",
      "2      0024011FC5EBE2E578E9032EC2EEE3EA      0\n",
      "3      00255AA8E14A573176D24AC68524541E      1\n",
      "4      00290349FBB97F31976D0471975A4789      1\n",
      "...                                 ...    ...\n",
      "15750  FFE0E00A3198C981F461CA920E1BE2E0      0\n",
      "15751  FFE23C8B29D211456D9774F49E277905      1\n",
      "15752  FFF41906931B0E2371E123299500D8E5      0\n",
      "15753  FFF574CC84FD43D875FF7257B3797BF3      0\n",
      "15754  FFF970B0EBBEA7752C6BAEBE3F4361D8      0\n",
      "\n",
      "[15755 rows x 2 columns]\n"
     ]
    }
   ],
   "source": [
    "dft_predict1 = clean_toy_test2[['asin']]\n",
    "print(dft_predict1)\n",
    "dft_predict1['preds'] = y_toy_test_pred\n",
    "print(dft_predict1)\n",
    "dft_predict1.to_csv('predictions.csv', index=False)"
   ]
  }
 ],
 "metadata": {
  "kernelspec": {
   "display_name": "Python 3",
   "language": "python",
   "name": "python3"
  },
  "language_info": {
   "codemirror_mode": {
    "name": "ipython",
    "version": 3
   },
   "file_extension": ".py",
   "mimetype": "text/x-python",
   "name": "python",
   "nbconvert_exporter": "python",
   "pygments_lexer": "ipython3",
   "version": "3.7.7"
  }
 },
 "nbformat": 4,
 "nbformat_minor": 4
}
