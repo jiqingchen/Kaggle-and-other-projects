{
 "cells": [
  {
   "cell_type": "markdown",
   "metadata": {},
   "source": [
    "## Import Statements"
   ]
  },
  {
   "cell_type": "code",
   "execution_count": 2,
   "metadata": {},
   "outputs": [
    {
     "name": "stderr",
     "output_type": "stream",
     "text": [
      "/opt/anaconda3/lib/python3.7/site-packages/tqdm/std.py:658: FutureWarning: The Panel class is removed from pandas. Accessing it from the top-level namespace will also be removed in the next version\n",
      "  from pandas import Panel\n"
     ]
    }
   ],
   "source": [
    "import pandas as pd\n",
    "import numpy as np\n",
    "import nltk \n",
    "import nltk.corpus\n",
    "from nltk.tokenize import word_tokenize\n",
    "from nltk.tokenize import RegexpTokenizer\n",
    "import string\n",
    "from sklearn.feature_extraction.text import CountVectorizer, TfidfVectorizer\n",
    "from tqdm import tqdm\n",
    "tqdm.pandas()\n",
    "from nltk.corpus import stopwords\n",
    "from nltk.stem.snowball import SnowballStemmer\n",
    "from sklearn import preprocessing\n",
    "from sklearn.naive_bayes import MultinomialNB\n",
    "from sklearn.model_selection import train_test_split\n",
    "import string\n",
    "from nltk import pos_tag\n",
    "from nltk.tokenize import TweetTokenizer\n",
    "import seaborn as sns\n",
    "from sklearn.metrics import roc_auc_score, roc_curve\n",
    "import matplotlib.pyplot as plt\n",
    "from matplotlib.pyplot import figure\n",
    "from sklearn.decomposition import PCA\n",
    "from sklearn.metrics import classification_report\n",
    "from sklearn.preprocessing import StandardScaler\n",
    "from sklearn.datasets import make_moons, make_circles, make_classification\n",
    "from sklearn.neural_network import MLPClassifier\n",
    "from sklearn.neighbors import KNeighborsClassifier\n",
    "from sklearn.svm import SVC\n",
    "from sklearn.gaussian_process import GaussianProcessClassifier\n",
    "from sklearn.gaussian_process.kernels import RBF\n",
    "from sklearn.tree import DecisionTreeClassifier\n",
    "from sklearn.ensemble import RandomForestClassifier, AdaBoostClassifier\n",
    "from sklearn.naive_bayes import GaussianNB\n",
    "from sklearn.discriminant_analysis import QuadraticDiscriminantAnalysis\n",
    "from vaderSentiment.vaderSentiment import SentimentIntensityAnalyzer \n",
    "from sklearn.linear_model import Lasso, LogisticRegression\n",
    "from sklearn import metrics\n",
    "from sklearn.model_selection import cross_val_score\n",
    "from imblearn.over_sampling import SMOTE\n",
    "from sklearn.ensemble import BaggingClassifier\n",
    "from textblob import TextBlob\n",
    "from sklearn.model_selection import StratifiedKFold\n",
    "from sklearn.metrics import f1_score"
   ]
  },
  {
   "cell_type": "code",
   "execution_count": 3,
   "metadata": {},
   "outputs": [],
   "source": [
    "nltk.download('words')\n",
    "nltk.download('stopwords')\n",
    "words = nltk.corpus.words.words()\n",
    "sw = stopwords.words('english')"
   ]
  },
  {
   "cell_type": "markdown",
   "metadata": {},
   "source": [
    "## Load review data, group reviews by product, and remove NaN's"
   ]
  },
  {
   "cell_type": "code",
   "execution_count": null,
   "metadata": {},
   "outputs": [],
   "source": [
    "path_to_datasets = \" \" #please insert the path_to_dataset here\n",
    "df = pd.read_json(path_to_datasets + 'Toys_and_Games_Reviews_training.json', lines=True)\n",
    "#df = pd.read_json('/Users/ybchoi/Dropbox (Dartmouth College)/classes/q5_fall2020/ML&stats/dataAll/Toys_and_Games_Reviews_training.json', lines=True)"
   ]
  },
  {
   "cell_type": "markdown",
   "metadata": {},
   "source": [
    "## Review count "
   ]
  },
  {
   "cell_type": "code",
   "execution_count": null,
   "metadata": {},
   "outputs": [],
   "source": [
    "# count review number\n",
    "df_count = df.groupby([\"asin\"])['reviewText'].count().reset_index(name=\"count\")\n",
    "df_count.head()\n",
    "import matplotlib.pyplot as plt\n",
    "hist = df_count.hist(bins = 100)\n",
    "plt.yscale('log')\n",
    "plt.title('')"
   ]
  },
  {
   "cell_type": "code",
   "execution_count": null,
   "metadata": {},
   "outputs": [],
   "source": [
    "#remove items with NaN reviews\n",
    "clean_df = df[df['reviewText'].notna()]\n",
    "df2 = clean_df[['asin', 'overall', 'reviewText', 'summary']]"
   ]
  },
  {
   "cell_type": "code",
   "execution_count": null,
   "metadata": {},
   "outputs": [],
   "source": [
    "#Group reviews by product\n",
    "\n",
    "avg = df2[['asin', 'overall']].groupby('asin').mean()\n",
    "# assian traget=1 if averaged overall>4.5 and target=0 otherwise\n",
    "avg2 = avg.assign(\n",
    "    Target = lambda dataframe: dataframe['overall'].map(lambda overall: \"1\" if overall >4.5 else \"0\") \n",
    ")\n",
    "avg2 = avg2.rename_axis(\"asin\").reset_index()\n",
    "avg2.columns = ['asin','overall_avg', 'Target']\n",
    "\n",
    "# select coloumns\n",
    "df3 = df2[['asin', 'overall', 'reviewText', 'summary']]\n",
    "\n",
    "df4 = df3.groupby('asin')['reviewText'].apply(' '.join).reset_index()"
   ]
  },
  {
   "cell_type": "markdown",
   "metadata": {},
   "source": [
    "### Sentiment feature generation using vaderSentiment Analysis "
   ]
  },
  {
   "cell_type": "code",
   "execution_count": null,
   "metadata": {},
   "outputs": [],
   "source": [
    "#function to print sentiments from cleanedText. \n",
    "    #source used: https://www.geeksforgeeks.org/python-sentiment-analysis-using-vader/\n",
    "    #resources used: https://pypi.org/project/vaderSentiment/ \n",
    "    #resources used: https://github.com/cjhutto/vaderSentiment#about-the-scoring\n",
    "    #resource: https://towardsdatascience.com/sentimental-analysis-using-vader-a3415fef7664\n",
    "\n",
    "sid = SentimentIntensityAnalyzer()\n",
    "#df['vaderTest'] = df['reviewText'].apply(lambda review: sid.polarity_scores(review))\n",
    "dft['scores'] = dft['reviewText'].apply(lambda review: sid.polarity_scores(review))\n",
    "dft['compound']  = dft['scores'].apply(lambda score_dict: score_dict['compound'])\n",
    "dft['comp_score'] = dft['compound'].apply(lambda c: 'Positive' if c >0 else 'Negative' if c <0 else 'Neutral')\n",
    "\n",
    "dft.head(20)\n",
    "\n",
    "dft.to_csv('dft_vaderSentimentAdded.csv')\n",
    "dft = pd.read_csv('dft_vaderSentimentAdded.csv')"
   ]
  },
  {
   "cell_type": "markdown",
   "metadata": {},
   "source": [
    "### Sentiment feature generation using TextBlobSentiment Analysis "
   ]
  },
  {
   "cell_type": "code",
   "execution_count": null,
   "metadata": {},
   "outputs": [],
   "source": [
    "# function to print textblob results of reviewText. \n",
    "    #resource: https://medium.com/@b.terryjack/nlp-pre-trained-sentiment-analysis-1eb52a9d742c\n",
    "\n",
    "def detect_polarity(text):\n",
    "    return TextBlob(text).sentiment.polarity\n",
    "\n",
    "def detect_subjectivity(text):\n",
    "    return TextBlob(text).sentiment.subjectivity\n",
    "\n",
    "dft['polarity'] = dft['reviewText'].apply(detect_polarity)\n",
    "dft['subjectivity'] = dft['reviewText'].apply(detect_subjectivity)"
   ]
  },
  {
   "cell_type": "code",
   "execution_count": null,
   "metadata": {},
   "outputs": [],
   "source": [
    "dft['polarity'] = dft['reviewText'].apply(detect_polarity)\n",
    "dft['subjectivity'] = dft['reviewText'].apply(detect_subjectivity)"
   ]
  },
  {
   "cell_type": "code",
   "execution_count": null,
   "metadata": {},
   "outputs": [],
   "source": [
    "dft.to_csv('dft_TextBlobSentAdded.csv')"
   ]
  },
  {
   "cell_type": "markdown",
   "metadata": {},
   "source": [
    "### Sentiment Data visualization"
   ]
  },
  {
   "cell_type": "code",
   "execution_count": null,
   "metadata": {},
   "outputs": [],
   "source": [
    "#Resource: https://towardsdatascience.com/having-fun-with-textblob-7e9eed783d3f\n",
    "x=dft['Target'].value_counts()\n",
    "x=x.sort_index()\n",
    "plt.figure(figsize=(10,6))\n",
    "ax= sns.barplot(x.index, x.values, alpha=0.8)\n",
    "plt.title(\"Review Rating Distribution\")\n",
    "plt.ylabel('Count')\n",
    "plt.xlabel('Review Rating')\n",
    "rects = ax.patches\n",
    "labels = x.values\n",
    "for rect, label in zip(rects, labels):\n",
    "    height = rect.get_height()\n",
    "    ax.text(rect.get_x() + rect.get_width()/2, height + 5, label, ha='center', va='bottom')\n",
    "plt.show();"
   ]
  },
  {
   "cell_type": "code",
   "execution_count": null,
   "metadata": {},
   "outputs": [],
   "source": [
    "#histogram of vader compound scores\n",
    "num_bins = 50\n",
    "plt.figure(figsize=(10,6))\n",
    "n, bins, patches = plt.hist(dft.compound, num_bins, facecolor='blue', alpha=0.5)\n",
    "plt.xlabel('')\n",
    "plt.ylabel('Count')\n",
    "plt.title('Histogram of vaderSentiments')\n",
    "plt.show();"
   ]
  },
  {
   "cell_type": "code",
   "execution_count": null,
   "metadata": {},
   "outputs": [],
   "source": [
    "#boxplot of vader compound scores by overall ratings\n",
    "plt.figure(figsize=(10,6))\n",
    "sns.boxenplot(x='overall', y='compound', data=dft)\n",
    "plt.show();"
   ]
  },
  {
   "cell_type": "code",
   "execution_count": null,
   "metadata": {},
   "outputs": [],
   "source": [
    "#histogram of TextBlob polairty(sentiment) scores\n",
    "num_bins = 50\n",
    "plt.figure(figsize=(10,6))\n",
    "n, bins, patches = plt.hist(dft.polarity, num_bins, facecolor='blue', alpha=0.5)\n",
    "plt.xlabel('Polarity')\n",
    "plt.ylabel('Count')\n",
    "plt.title('Histogram of polarity')\n",
    "plt.show();"
   ]
  },
  {
   "cell_type": "code",
   "execution_count": null,
   "metadata": {},
   "outputs": [],
   "source": [
    "#boxplot of TextBlob polarity scores by overall ratings\n",
    "plt.figure(figsize=(10,6))\n",
    "sns.boxenplot(x='overall', y='polarity', data=dft)\n",
    "plt.show();"
   ]
  },
  {
   "cell_type": "code",
   "execution_count": null,
   "metadata": {},
   "outputs": [],
   "source": [
    "#bargraph of TextBlob polarity scores by classes \n",
    "sns.barplot(x='Target', y='polarity', data=sample_dft)"
   ]
  },
  {
   "cell_type": "code",
   "execution_count": null,
   "metadata": {},
   "outputs": [],
   "source": [
    "#boxplot of TextBlob subjectivity scores by overall ratings\n",
    "plt.figure(figsize=(10,6))\n",
    "sns.boxenplot(x='overall', y='subjectivity', data=dft)\n",
    "plt.show();"
   ]
  },
  {
   "cell_type": "code",
   "execution_count": null,
   "metadata": {},
   "outputs": [],
   "source": [
    "#bargraph of TextBlob subjectivity scores by classes \n",
    "sns.barplot(x='Target', y='subjectivity', data=sample_dft)"
   ]
  },
  {
   "cell_type": "code",
   "execution_count": null,
   "metadata": {},
   "outputs": [],
   "source": [
    "Senti = pd.read_csv('dft_TextBlobSentAdded.csv')\n",
    "avgSenti = Senti[['asin', 'sentiment_scores']].groupby('asin').mean()"
   ]
  },
  {
   "cell_type": "code",
   "execution_count": null,
   "metadata": {},
   "outputs": [],
   "source": [
    "# add target and count to df4\n",
    "dft = df4.merge(avg2, on = 'asin', how ='left')\n",
    "dft = dft.merge(df_count, on = 'asin', how ='left')\n",
    "dft = dft.merge(avgSenti, on = 'asin', how ='left')"
   ]
  },
  {
   "cell_type": "markdown",
   "metadata": {},
   "source": [
    "# Feature Generation\n",
    "### Wordclouds, BoW, TFIDF, review characteristics, and Sentiment Analysis"
   ]
  },
  {
   "cell_type": "code",
   "execution_count": 9,
   "metadata": {},
   "outputs": [],
   "source": [
    "#Load saved csv\n",
    "dft = pd.read_csv('df_combined_text.csv')"
   ]
  },
  {
   "cell_type": "markdown",
   "metadata": {},
   "source": [
    "### Visualizing n-grams as wordclouds by target class"
   ]
  },
  {
   "cell_type": "code",
   "execution_count": null,
   "metadata": {},
   "outputs": [],
   "source": [
    "##source: https://www.kaggle.com/peterwittek/wordclouds-of-titles-and-abstracts-with-n-grams\n",
    "## source: https://medium.com/@jiayangcheng21/creating-bigram-and-trigram-word-cloud-for-ios-app-reviews-using-pythons-nltk-natural-language-55eaec5997af\n",
    "###source: https://www.datacamp.com/community/tutorials/wordcloud-python\n",
    "\n",
    "import nltk\n",
    "from wordcloud import WordCloud, STOPWORDS\n",
    "\n",
    "#subsetting data by target class\n",
    "dft_classOne = dft[dft['Target']==1]\n",
    "#dft_classOne.head()\n",
    "dft_classZero = dft[dft['Target']==0]\n",
    "#dft_classZero.head()\n",
    "\n",
    "text_classOne = \" \".join(review for review in dft_classOne['reviewText'])\n",
    "print (\"There are {} words in the combination of all review.\".format(len(text_classOne)))\n",
    "\n",
    "text_classZero = \" \".join(review for review in dft_classZero['reviewText'])\n",
    "print (\"There are {} words in the combination of all review.\".format(len(text_classZero)))\n",
    "\n",
    "#generate wordclouds\n",
    "\n",
    "wordcloud_quadri_classOne = WordCloud(background_color ='white', collocation_threshold = 4).generate(text_classOne)\n",
    "\n",
    "wordcloud_quadri_classZero = WordCloud(background_color ='white', collocation_threshold = 4).generate(text_classZero)\n",
    "\n",
    "#import matplotlib.pyplot as plt\n",
    "# Display the generated world cloud image for target class == 1\n",
    "plt.title('Most Frequently Occurring n-grams for Awesome Class')\n",
    "plt.imshow(wordcloud_quadri_classOne, interpolation='bilinear')\n",
    "plt.axis(\"off\")\n",
    "plt.show()\n",
    "\n",
    "wordcloud_quadri_classOne.to_file(\"WordCloud_Awsome.png\")\n",
    "\n",
    "# Display the generated world cloud image for target class == 0\n",
    "plt.title('Most Frequently Occurring n-grams for Not Awesome Class')\n",
    "plt.imshow(wordcloud_quadri_classZero, interpolation='bilinear')\n",
    "plt.axis(\"off\")\n",
    "plt.show()\n",
    "\n",
    "wordcloud_quadri_classZero.to_file(\"WordCloud_notAwsome.png\")"
   ]
  },
  {
   "cell_type": "markdown",
   "metadata": {},
   "source": [
    "### BoW feature generation and visualization"
   ]
  },
  {
   "cell_type": "code",
   "execution_count": 108,
   "metadata": {},
   "outputs": [],
   "source": [
    "# create a count vectorizer object\n",
    "token = RegexpTokenizer(r'[a-zA-Z0-9]+')\n",
    "count_vectorizer = CountVectorizer(lowercase=True,stop_words='english',ngram_range = (1,1),tokenizer = token.tokenize)\n",
    "# fit the count vectorizer using the text data\n",
    "text_counts = count_vectorizer.fit_transform(dft['CleanedText'])\n",
    "# collect the vocabulary items used in the vectorizer\n",
    "dictionary = count_vectorizer.vocabulary_.items()  "
   ]
  },
  {
   "cell_type": "code",
   "execution_count": 30,
   "metadata": {},
   "outputs": [
    {
     "data": {
      "text/plain": [
       "<matplotlib.axes._subplots.AxesSubplot at 0x7f9857607490>"
      ]
     },
     "execution_count": 30,
     "metadata": {},
     "output_type": "execute_result"
    },
    {
     "data": {
      "image/png": "[encoded data removed]",
      "text/plain": [
       "<Figure size 360x720 with 1 Axes>"
      ]
     },
     "metadata": {
      "needs_background": "light"
     },
     "output_type": "display_data"
    }
   ],
   "source": [
    "#Visualize BoW feature count distribution\n",
    "\n",
    "# lists to store the vocab and counts\n",
    "vocab = []\n",
    "count = []\n",
    "# iterate through each vocab and count append the value to designated lists\n",
    "for key, value in dictionary:\n",
    "    vocab.append(key)\n",
    "    count.append(value)\n",
    "# store the count in panadas dataframe with vocab as index\n",
    "freq= pd.Series((' '.join(dft['CleanedText']).split())).value_counts().sort_values(ascending = False)\n",
    "top_vacab = freq.head(20)\n",
    "top_vacab.plot(kind = 'barh', figsize=(5,10),xlim= (0,1000000))"
   ]
  },
  {
   "cell_type": "markdown",
   "metadata": {},
   "source": [
    "### TIFDF feature generation and visualization"
   ]
  },
  {
   "cell_type": "code",
   "execution_count": null,
   "metadata": {},
   "outputs": [],
   "source": [
    "#create TFIDF vector\n",
    "tf=TfidfVectorizer()\n",
    "text_tf= tf.fit_transform(dft['reviewText'])"
   ]
  },
  {
   "cell_type": "code",
   "execution_count": null,
   "metadata": {},
   "outputs": [],
   "source": [
    "#Visualize TFIDF feature value distribution\n",
    "#Citation: https://buhrmann.github.io/tfidf-analysis.html\n",
    "\n",
    "from sklearn.pipeline import Pipeline\n",
    "vec_pipe = Pipeline([('tfidf',TfidfVectorizer())])\n",
    "Xtr = vec_pipe.fit_transform(dft['reviewText'])\n",
    "vec = vec_pipe.named_steps['tfidf']\n",
    "features = vec.get_feature_names()"
   ]
  },
  {
   "cell_type": "code",
   "execution_count": null,
   "metadata": {},
   "outputs": [],
   "source": [
    "def top_feats_by_class(Xtr, y, features, min_tfidf=0.1, top_n=25):\n",
    "    ''' Return a list of dfs, where each df holds top_n features and their mean tfidf value\n",
    "        calculated across documents with the same class label. '''\n",
    "    dfs = []\n",
    "    labels = np.unique(y)\n",
    "    for label in labels:\n",
    "        ids = np.where(y==label)\n",
    "        feats_df = top_mean_feats(Xtr, features, ids, min_tfidf=min_tfidf, top_n=top_n)\n",
    "        feats_df.label = label\n",
    "        dfs.append(feats_df)\n",
    "    return dfs"
   ]
  },
  {
   "cell_type": "code",
   "execution_count": null,
   "metadata": {},
   "outputs": [],
   "source": [
    "def plot_tfidf_classfeats_h(dfs):\n",
    "    ''' Plot the data frames returned by the function plot_tfidf_classfeats(). '''\n",
    "    fig = plt.figure(figsize=(12, 9), facecolor=\"w\")\n",
    "    x = np.arange(len(dfs[0]))\n",
    "    for i, df in enumerate(dfs):\n",
    "        ax = fig.add_subplot(1, len(dfs), i+1)\n",
    "        ax.spines[\"top\"].set_visible(False)\n",
    "        ax.spines[\"right\"].set_visible(False)\n",
    "        ax.set_frame_on(False)\n",
    "        ax.get_xaxis().tick_bottom()\n",
    "        ax.get_yaxis().tick_left()\n",
    "        ax.set_xlabel(\"Mean Tf-Idf Score\", labelpad=16, fontsize=14)\n",
    "        ax.set_title(\"label = \" + str(df.label), fontsize=16)\n",
    "        ax.ticklabel_format(axis='x', style='sci', scilimits=(-2,2))\n",
    "        ax.barh(x, df.tfidf, align='center', color='#3F5D7D')\n",
    "        ax.set_yticks(x)\n",
    "        ax.set_ylim([-1, x[-1]+1])\n",
    "        yticks = ax.set_yticklabels(df.feature)\n",
    "        plt.subplots_adjust(bottom=0.09, right=0.97, left=0.15, top=0.95, wspace=0.52)\n",
    "    plt.show()"
   ]
  },
  {
   "cell_type": "code",
   "execution_count": null,
   "metadata": {},
   "outputs": [],
   "source": [
    "feats = top_feats_by_class(Xtr, dft['Target'], features, min_tfidf=0.1, top_n=25)"
   ]
  },
  {
   "cell_type": "code",
   "execution_count": null,
   "metadata": {},
   "outputs": [],
   "source": [
    "plot_tfidf_classfeats_h(feats)"
   ]
  },
  {
   "cell_type": "markdown",
   "metadata": {},
   "source": [
    "### Features based on product review characteristics"
   ]
  },
  {
   "cell_type": "code",
   "execution_count": 12,
   "metadata": {},
   "outputs": [
    {
     "name": "stderr",
     "output_type": "stream",
     "text": [
      "/opt/anaconda3/lib/python3.7/site-packages/ipykernel_launcher.py:5: SettingWithCopyWarning: \n",
      "A value is trying to be set on a copy of a slice from a DataFrame.\n",
      "Try using .loc[row_indexer,col_indexer] = value instead\n",
      "\n",
      "See the caveats in the documentation: https://pandas.pydata.org/pandas-docs/stable/user_guide/indexing.html#returning-a-view-versus-a-copy\n",
      "  \"\"\"\n",
      "/opt/anaconda3/lib/python3.7/site-packages/ipykernel_launcher.py:6: SettingWithCopyWarning: \n",
      "A value is trying to be set on a copy of a slice from a DataFrame.\n",
      "Try using .loc[row_indexer,col_indexer] = value instead\n",
      "\n",
      "See the caveats in the documentation: https://pandas.pydata.org/pandas-docs/stable/user_guide/indexing.html#returning-a-view-versus-a-copy\n",
      "  \n"
     ]
    }
   ],
   "source": [
    "##Citation: https://www.kaggle.com/shaz13/feature-engineering-for-nlp-classification#Pause-And-Think!\n",
    "\n",
    "not_awesome_review = dft[dft['Target'] == 0]\n",
    "awesome_review = dft[dft['Target'] == 1]\n",
    "\n",
    "not_awesome_review['length'] = not_awesome_review['reviewText'].apply(lambda x : len(x))\n",
    "awesome_review['length'] = awesome_review['reviewText'].apply(lambda x : len(x))\n",
    "dft['length'] = dft['reviewText'].apply(lambda x : len(x))\n",
    "\n",
    "not_awesome = not_awesome_review['length'].values\n",
    "awesome = awesome_review['length'].values\n",
    "data = [awesome, not_awesome]"
   ]
  },
  {
   "cell_type": "code",
   "execution_count": 13,
   "metadata": {},
   "outputs": [
    {
     "data": {
      "text/plain": [
       "{'whiskers': [<matplotlib.lines.Line2D at 0x7ff4b90f3050>,\n",
       "  <matplotlib.lines.Line2D at 0x7ff4b8b25cd0>,\n",
       "  <matplotlib.lines.Line2D at 0x7ff4bd156210>,\n",
       "  <matplotlib.lines.Line2D at 0x7ff4d9747150>],\n",
       " 'caps': [<matplotlib.lines.Line2D at 0x7ff4a94db250>,\n",
       "  <matplotlib.lines.Line2D at 0x7ff4797a5c10>,\n",
       "  <matplotlib.lines.Line2D at 0x7ff4bd156bd0>,\n",
       "  <matplotlib.lines.Line2D at 0x7ff4bd15e110>],\n",
       " 'boxes': [<matplotlib.lines.Line2D at 0x7ff4885b5e90>,\n",
       "  <matplotlib.lines.Line2D at 0x7ff4bd14dcd0>],\n",
       " 'medians': [<matplotlib.lines.Line2D at 0x7ff4bd14d190>,\n",
       "  <matplotlib.lines.Line2D at 0x7ff4bd15e610>],\n",
       " 'fliers': [<matplotlib.lines.Line2D at 0x7ff4ba698750>,\n",
       "  <matplotlib.lines.Line2D at 0x7ff4bd15eb10>],\n",
       " 'means': []}"
      ]
     },
     "execution_count": 13,
     "metadata": {},
     "output_type": "execute_result"
    },
    {
     "data": {
      "image/png": "[encoded data removed]",
      "text/plain": [
       "<Figure size 720x720 with 1 Axes>"
      ]
     },
     "metadata": {
      "needs_background": "light"
     },
     "output_type": "display_data"
    }
   ],
   "source": [
    "#box plot of feature for awesome vs not awesome products\n",
    "fig1, ax1 = plt.subplots(figsize = (10,10))\n",
    "ax1.set_title('length of review')\n",
    "ax1.set_xlabel('awesome vs. not_awesome')\n",
    "ax1.set_ylabel('length')\n",
    "ax1.set_xticklabels(['awesome', 'not_awesome'])\n",
    "ax1.set_ylim([0, 800])\n",
    "ax1.boxplot(data)"
   ]
  },
  {
   "cell_type": "code",
   "execution_count": null,
   "metadata": {},
   "outputs": [],
   "source": [
    "#generate features based on words, length, punctuation, etc.\n",
    "for df in ([dft]):\n",
    "    df['length'] = df['reviewText'].apply(lambda x : len(x))\n",
    "    df['capitals'] = df['reviewText'].apply(lambda comment: sum(1 for c in comment if c.isupper()))\n",
    "    df['caps_vs_length'] = df.apply(lambda row: float(row['capitals'])/float(row['length']),axis=1)\n",
    "    df['num_exclamation_marks'] = df['reviewText'].apply(lambda comment: comment.count('!'))\n",
    "    df['num_question_marks'] = df['reviewText'].apply(lambda comment: comment.count('?'))\n",
    "    df['num_punctuation'] = df['reviewText'].apply(lambda comment: sum(comment.count(w) for w in '.,;:'))\n",
    "    df['num_symbols'] = df['reviewText'].apply(lambda comment: sum(comment.count(w) for w in '*&$%'))\n",
    "    df['num_words'] = df['reviewText'].apply(lambda comment: len(comment.split()))\n",
    "    df['num_unique_words'] = df['reviewText'].apply(lambda comment: len(set(w for w in comment.split())))\n",
    "    df['words_vs_unique'] = df['num_unique_words'] / df['num_words']\n",
    "    df['num_smilies'] = df['reviewText'].apply(lambda comment: sum(comment.count(w) for w in (':-)', ':)', ';-)', ';)')))\n",
    "    df['num_sad'] = df['reviewText'].apply(lambda comment: sum(comment.count(w) for w in (':-<', ':()', ';-()', ';(')))"
   ]
  },
  {
   "cell_type": "code",
   "execution_count": null,
   "metadata": {},
   "outputs": [],
   "source": [
    "#generate features based on the parts of speech\n",
    "for df in ([dft]):\n",
    "    df['nouns'], df['adjectives'], df['verbs'] = zip(*df['reviewText'].progress_apply(\n",
    "        lambda comment: tag_part_of_speech(comment)))\n",
    "    df['nouns_vs_length'] = df['nouns'] / df['length']\n",
    "    df['adjectives_vs_length'] = df['adjectives'] / df['length']\n",
    "    df['verbs_vs_length'] = df['verbs'] /df['length']\n",
    "    df['nouns_vs_words'] = df['nouns'] / df['num_words']\n",
    "    df['adjectives_vs_words'] = df['adjectives'] / df['num_words']\n",
    "    df['verbs_vs_words'] = df['verbs'] / df['num_words']\n",
    "    # More Handy Features\n",
    "    df[\"count_words_title\"] = df[\"reviewText\"].apply(lambda x: len([w for w in str(x).split() if w.istitle()]))\n",
    "    df[\"mean_word_len\"] = df[\"reviewText\"].apply(lambda x: np.mean([len(w) for w in str(x).split()]))\n",
    "    df['punct_percent']= df['num_punctuation']*100/df['num_words']"
   ]
  },
  {
   "cell_type": "markdown",
   "metadata": {},
   "source": [
    "# Testing classifier-feature combinations"
   ]
  },
  {
   "cell_type": "markdown",
   "metadata": {},
   "source": [
    "### running Logit classifier on vaderSentiment avg"
   ]
  },
  {
   "cell_type": "code",
   "execution_count": null,
   "metadata": {},
   "outputs": [],
   "source": [
    "#averaging vader compound scores by product\n",
    "dft_vd = dft[['asin', 'compound']].groupby('asin').mean()\n",
    "Target = dft[['asin','Target']].groupby('asin').mean()\n",
    "print(dft1)"
   ]
  },
  {
   "cell_type": "code",
   "execution_count": null,
   "metadata": {},
   "outputs": [],
   "source": [
    "X_train, X_test, y_train, y_test = train_test_split(\n",
    "    dft_vd, Target, test_size=0.2, random_state=1)\n",
    "\n",
    "#Create a Classifier\n",
    "clf = LogisticRegression(C=1, penalty='l1', solver='liblinear') # Linear Kernel\n",
    "\n",
    "#Train the model using the training sets\n",
    "clf.fit(X_train, y_train)\n",
    "\n",
    "#Predict the response for test dataset\n",
    "y_pred = clf.predict(X_test)\n",
    "\n",
    "print(\"LASSO-LR Accuracy:\",metrics.accuracy_score(y_test, y_pred)) \n",
    "\n",
    "scores = clf.score(X_test, y_test) # accuracy\n",
    "print(scores)\n",
    "\n",
    "\n",
    "print(classification_report(y_test,y_pred))"
   ]
  },
  {
   "cell_type": "markdown",
   "metadata": {},
   "source": [
    "### running Logit classifier on TextBlob avg"
   ]
  },
  {
   "cell_type": "code",
   "execution_count": null,
   "metadata": {},
   "outputs": [],
   "source": [
    "#averaging TextBlob scores by product\n",
    "dft_tb = dft[['asin', 'subjectivity', 'polarity']].groupby('asin').mean()\n",
    "Target = dft[['asin','Target']].groupby('asin').mean()\n",
    "print(dft2)"
   ]
  },
  {
   "cell_type": "code",
   "execution_count": null,
   "metadata": {},
   "outputs": [],
   "source": [
    "X_train, X_test, y_train, y_test = train_test_split(\n",
    "    dft_tb, Target, test_size=0.2, random_state=1)\n",
    "\n",
    "#Create a Classifier\n",
    "clf = LogisticRegression(C=1, penalty='l1', solver='liblinear') # Linear Kernel\n",
    "\n",
    "#Train the model using the training sets\n",
    "clf.fit(X_train, y_train)\n",
    "\n",
    "#Predict the response for test dataset\n",
    "y_pred = clf.predict(X_test)\n",
    "\n",
    "print(\"LASSO-LR Accuracy:\",metrics.accuracy_score(y_test, y_pred))\n",
    "\n",
    "scores = clf.score(X_test, y_test) # accuracy\n",
    "print(scores)\n",
    "\n",
    "print(classification_report(y_test,y_pred))"
   ]
  },
  {
   "cell_type": "markdown",
   "metadata": {},
   "source": [
    "### Bag of Words-multinomial NB"
   ]
  },
  {
   "cell_type": "code",
   "execution_count": null,
   "metadata": {},
   "outputs": [],
   "source": [
    "# training data\n",
    "X_train = text_counts\n",
    "y_train = dft['Target']\n",
    "\n",
    "# Create a Classifier\n",
    "clf_BoW_NB = MultinomialNB()\n",
    "\n",
    "# cross-validation\n",
    "scores = cross_val_score(clf_BoW_NB, X_train, y_train, cv=10, scoring='precision')\n",
    "scores2 = cross_val_score(clf_BoW_NB, X_train, y_train, cv=10, scoring='recall')\n",
    "scores3 = cross_val_score(clf_BoW_NB, X_train, y_train, cv=10, scoring='f1')\n",
    "\n",
    "print(\"Precision: %0.2f (+/- %0.2f)\" % (scores.mean(), scores.std() * 2))\n",
    "print(\"Recall: %0.2f (+/- %0.2f)\" % (scores2.mean(), scores2.std() * 2))\n",
    "print(\"F1-score: %0.2f (+/- %0.2f)\" % (scores3.mean(), scores3.std() * 2))"
   ]
  },
  {
   "cell_type": "markdown",
   "metadata": {},
   "source": [
    "### Bag of Words- logisticRegression"
   ]
  },
  {
   "cell_type": "code",
   "execution_count": null,
   "metadata": {},
   "outputs": [],
   "source": [
    "# Create a Classifier\n",
    "clf_BoW_LR = LogisticRegression(C=1, penalty='l1', solver='liblinear') # Linear Kernel\n",
    "\n",
    "# cross-validation\n",
    "scores = cross_val_score(clf_BoW_LR, X_train, y_train, cv=10, scoring='precision')\n",
    "scores2 = cross_val_score(clf_BoW_LR, X_train, y_train, cv=10, scoring='recall')\n",
    "scores3 = cross_val_score(clf_BoW_LR, X_train, y_train, cv=10, scoring='f1')\n",
    "\n",
    "print(\"Precision: %0.2f (+/- %0.2f)\" % (scores.mean(), scores.std() * 2))\n",
    "print(\"Recall: %0.2f (+/- %0.2f)\" % (scores2.mean(), scores2.std() * 2))\n",
    "print(\"F1-score: %0.2f (+/- %0.2f)\" % (scores3.mean(), scores3.std() * 2))"
   ]
  },
  {
   "cell_type": "markdown",
   "metadata": {},
   "source": [
    "### add count and sentiment score into text_tf (sparse matrix)"
   ]
  },
  {
   "cell_type": "code",
   "execution_count": null,
   "metadata": {},
   "outputs": [],
   "source": [
    "# add count into text_tf (sparse matrix)\n",
    "from scipy import sparse\n",
    "text_tf_count = sparse.hstack((text_tf,np.array(dft['count'])[:,None]))\n",
    "text_tf_senti = sparse.hstack((text_tf,np.array(dft['sentiment_scores'])[:,None]))"
   ]
  },
  {
   "cell_type": "markdown",
   "metadata": {},
   "source": [
    "### TFIDF-Bagging"
   ]
  },
  {
   "cell_type": "code",
   "execution_count": null,
   "metadata": {},
   "outputs": [],
   "source": [
    "# training data\n",
    "X_train_TF = text_tf\n",
    "y_train_TF = dft['Target']\n",
    "\n",
    "##source: https://medium.com/@rrfd/boosting-bagging-and-stacking-ensemble-methods-with-sklearn-and-mlens-a455c0c982de\n",
    "seed = 1075\n",
    "np.random.seed(seed)\n",
    "\n",
    "#Create a Classifier\n",
    "clf = LogisticRegression(C=1, penalty='l1', solver='liblinear') # Linear Kernel\n",
    "bagging_clf = BaggingClassifier(clf, max_samples=0.2, max_features=10, random_state=seed)\n",
    "scores = cross_val_score(bagging_clf, X_train_TF, y_train_TF, cv=10, n_jobs=-1)\n",
    "scores2 = cross_val_score(bagging_clf, X_train_TF, y_train_TF, cv=10, scoring='recall')\n",
    "scores3 = cross_val_score(bagging_clf, X_train_TF, y_train_TF, cv=10, scoring='f1')\n",
    "\n",
    "print(\"Precision: %0.2f (+/- %0.2f)\" % (scores.mean(), scores.std() * 2))\n",
    "print(\"Recall: %0.2f (+/- %0.2f)\" % (scores2.mean(), scores2.std() * 2))\n",
    "print(\"F1-score: %0.2f (+/- %0.2f)\" % (scores3.mean(), scores3.std() * 2))"
   ]
  },
  {
   "cell_type": "markdown",
   "metadata": {},
   "source": [
    "### TFIDF-multinomial NB"
   ]
  },
  {
   "cell_type": "code",
   "execution_count": null,
   "metadata": {},
   "outputs": [],
   "source": [
    "# Create a Classifier\n",
    "clf_TF_NB = MultinomialNB()\n",
    "\n",
    "# cross-validation\n",
    "scores = cross_val_score(clf_TF_NB, X_train_TF, y_train_TF, cv=10, scoring='precision')\n",
    "scores2 = cross_val_score(clf_TF_NB, X_train_TF, y_train_TF, cv=10, scoring='recall')\n",
    "scores3 = cross_val_score(clf_TF_NB, X_train_TF, y_train_TF, cv=10, scoring='f1')\n",
    "\n",
    "print(\"Precision: %0.2f (+/- %0.2f)\" % (scores.mean(), scores.std() * 2))\n",
    "print(\"Recall: %0.2f (+/- %0.2f)\" % (scores2.mean(), scores2.std() * 2))\n",
    "print(\"F1-score: %0.2f (+/- %0.2f)\" % (scores3.mean(), scores3.std() * 2))"
   ]
  },
  {
   "cell_type": "markdown",
   "metadata": {},
   "source": [
    "### TFIDF-logisticRegression"
   ]
  },
  {
   "cell_type": "code",
   "execution_count": null,
   "metadata": {},
   "outputs": [],
   "source": [
    "# Create a Classifier\n",
    "clf_TF_LR = LogisticRegression(C=1, penalty='l1', solver='liblinear') # Linear Kernel\n",
    "\n",
    "# cross-validation\n",
    "scores = cross_val_score(clf_TF_LR, X_train_TF, y_train_TF, cv=10, scoring='precision')\n",
    "scores2 = cross_val_score(clf_TF_LR, X_train_TF, y_train_TF, cv=10, scoring='recall')\n",
    "scores3 = cross_val_score(clf_TF_LR, X_train_TF, y_train_TF, cv=10, scoring='f1')\n",
    "\n",
    "print(\"Precision: %0.2f (+/- %0.2f)\" % (scores.mean(), scores.std() * 2))\n",
    "print(\"Recall: %0.2f (+/- %0.2f)\" % (scores2.mean(), scores2.std() * 2))\n",
    "print(\"F1-score: %0.2f (+/- %0.2f)\" % (scores3.mean(), scores3.std() * 2))"
   ]
  },
  {
   "cell_type": "markdown",
   "metadata": {},
   "source": [
    "### TFIDF-SMOTE-logistic regression"
   ]
  },
  {
   "cell_type": "code",
   "execution_count": null,
   "metadata": {},
   "outputs": [],
   "source": [
    "oversample = SMOTE()\n",
    "X, y = oversample.fit_resample(X_train_TF, y_train_TF)\n",
    "\n",
    "scores = cross_val_score(clf_TF_LR, X, y, cv=10, scoring='precision')\n",
    "scores2 = cross_val_score(clf_TF_LR, X, y, cv=10, scoring='recall')\n",
    "scores3 = cross_val_score(clf_TF_LR, X, y, cv=10, scoring='f1')\n",
    "print(\"Precision: %0.2f (+/- %0.2f)\" % (scores.mean(), scores.std() * 2))\n",
    "print(\"Recall: %0.2f (+/- %0.2f)\" % (scores2.mean(), scores2.std() * 2))\n",
    "print(\"F1-score: %0.2f (+/- %0.2f)\" % (scores3.mean(), scores3.std() * 2))"
   ]
  },
  {
   "cell_type": "markdown",
   "metadata": {},
   "source": [
    "### TFIDF+Senti - logistic regression"
   ]
  },
  {
   "cell_type": "code",
   "execution_count": null,
   "metadata": {},
   "outputs": [],
   "source": [
    "X_train_TF = text_tf_senti\n",
    "y_train_TF = dft['Target']\n",
    "\n",
    "# cross-validation\n",
    "scores = cross_val_score(clf_TF_LR, X_train_TF, y_train_TF, cv=10, scoring='precision')\n",
    "scores2 = cross_val_score(clf_TF_LR, X_train_TF, y_train_TF, cv=10, scoring='recall')\n",
    "scores3 = cross_val_score(clf_TF_LR, X_train_TF, y_train_TF, cv=10, scoring='f1')\n",
    "print(\"Precision: %0.2f (+/- %0.2f)\" % (scores.mean(), scores.std() * 2))\n",
    "print(\"Recall: %0.2f (+/- %0.2f)\" % (scores2.mean(), scores2.std() * 2))\n",
    "print(\"F1-score: %0.2f (+/- %0.2f)\" % (scores3.mean(), scores3.std() * 2))"
   ]
  },
  {
   "cell_type": "markdown",
   "metadata": {},
   "source": [
    "### TFIDF-Late Fusion"
   ]
  },
  {
   "cell_type": "code",
   "execution_count": null,
   "metadata": {},
   "outputs": [],
   "source": [
    "X = text_tf\n",
    "y = dft['Target']\n",
    "\n",
    "clflg = LogisticRegression(C=1, penalty='l1', solver='liblinear')\n",
    "clfnb = MultinomialNB()\n",
    "clfrf = RandomForestClassifier(n_estimators=50, random_state=1)\n",
    "clfdt = DecisionTreeClassifier(random_state=0)\n",
    "\n",
    "alphas = np.linspace(0, 1, 5)\n",
    "\n",
    "clfs = [clflg, clfnb, clfrf, clfdt]\n",
    "\n",
    "# probability threshold\n",
    "pt = 0.5\n",
    "\n",
    "cv = StratifiedKFold(n_splits=10, random_state=None, shuffle=True)\n",
    "for alpha1 in alphas:\n",
    "    for alpha2 in alphas:\n",
    "        if(alpha1 + alpha2>1):\n",
    "            continue\n",
    "        for alpha3 in alphas:\n",
    "            if(alpha1 + alpha2 + alpha3 > 1):\n",
    "                continue\n",
    "            f1scores = []\n",
    "            for (train_index, test_index) in cv.split(X, y):                \n",
    "                clflg.fit(X[train_index, :], np.array(y)[train_index])\n",
    "                clfnb.fit(X[train_index, :], np.array(y)[train_index])\n",
    "                clfrf.fit(X[train_index, :], np.array(y)[train_index])\n",
    "                clfdt.fit(X[train_index, :], np.array(y)[train_index])\n",
    "                prob = (alpha1*clfs[0].predict_proba(X[test_index, :]) + \\\n",
    "                        alpha2*clfs[1].predict_proba(X[test_index, :]) + \\\n",
    "                        alpha3*clfs[2].predict_proba(X[test_index, :]) + \\\n",
    "                       (1 - alpha1 - alpha2 - alpha3)*clfs[3].predict_proba(X[test_index, :]))[:, 1]\n",
    "                #print(prob)\n",
    "                y_pred = np.zeros(len(prob))\n",
    "                idx = (prob>=pt)\n",
    "                y_pred[idx] = 1\n",
    "                #print(classification_report(np.array(y)[test_index], y_pred))\n",
    "                f1scores.append(f1_score(np.array(y)[test_index], y_pred))\n",
    "            print('alpha1 = ', alpha1, 'alpha2 = ', alpha2, 'alpha3 = ', alpha3)\n",
    "            print(f1scores)\n",
    "            f1scores = np.array(f1scores)\n",
    "            print('mean f1 = ', f1scores.mean())"
   ]
  },
  {
   "cell_type": "markdown",
   "metadata": {},
   "source": [
    "# Classification Accuracy Comparisons"
   ]
  },
  {
   "cell_type": "markdown",
   "metadata": {},
   "source": [
    "### ROC Curve for Comparison of Classification-Feature Pairs"
   ]
  },
  {
   "cell_type": "markdown",
   "metadata": {},
   "source": [
    "#### original feature-classifier combinations for deliverable 3"
   ]
  },
  {
   "cell_type": "code",
   "execution_count": null,
   "metadata": {},
   "outputs": [],
   "source": [
    "##BoW vector generation\n",
    "token = RegexpTokenizer(r'[a-zA-Z]+')\n",
    "count_vectorizer = CountVectorizer(lowercase=True,stop_words='english',ngram_range = (1,1),tokenizer = token.tokenize)\n",
    "\n",
    "# fit the count vectorizer using the text data\n",
    "text_counts = count_vectorizer.fit_transform(dft['reviewText'])"
   ]
  },
  {
   "cell_type": "code",
   "execution_count": null,
   "metadata": {},
   "outputs": [],
   "source": [
    "#generate test and training set for BoW\n",
    "X_train, X_test, y_train, y_test = train_test_split(\n",
    "    text_counts, dft['Target'], test_size=0.3, random_state=1)"
   ]
  },
  {
   "cell_type": "code",
   "execution_count": null,
   "metadata": {},
   "outputs": [],
   "source": [
    "#TFIDF vector generation\n",
    "tf=TfidfVectorizer()\n",
    "text_tf= tf.fit_transform(dft['reviewText'])\n"
   ]
  },
  {
   "cell_type": "code",
   "execution_count": null,
   "metadata": {},
   "outputs": [],
   "source": [
    "#generate test and training set for TFIDF\n",
    "X_train2, X_test2, y_train2, y_test2 = train_test_split(\n",
    "    text_tf, dft['Target'], test_size=0.2, random_state=1)"
   ]
  },
  {
   "cell_type": "code",
   "execution_count": null,
   "metadata": {},
   "outputs": [],
   "source": [
    "#train each classifier-feature pair combination\n",
    "clf1 = MultinomialNB()\n",
    "clf1.fit(X_train, y_train)\n",
    "probas1 = clf1.predict_proba(X_test)\n",
    "\n",
    "clf2 = LogisticRegression(C=1, penalty='l1', solver='liblinear')\n",
    "clf2.fit(X_train,y_train)\n",
    "probas2 = clf2.predict_proba(X_test)\n",
    "\n",
    "clf4 = MultinomialNB()\n",
    "clf4.fit(X_train2, y_train2)\n",
    "probas4 = clf4.predict_proba(X_test2)\n",
    "\n",
    "clf5 = LogisticRegression(C=1, penalty='l1', solver='liblinear')\n",
    "clf5.fit(X_train2,y_train2)\n",
    "probas5 = clf5.predict_proba(X_test2)"
   ]
  },
  {
   "cell_type": "markdown",
   "metadata": {},
   "source": [
    "#### new feature-classifier combinations for deliverable 4"
   ]
  },
  {
   "cell_type": "code",
   "execution_count": null,
   "metadata": {},
   "outputs": [],
   "source": [
    "clf5 = LogisticRegression(C=2, penalty='l1', solver='liblinear')\n",
    "clf5.fit(X_train2,y_train2)\n",
    "probas5 = clf5.predict_proba(X_test2)\n",
    "\n",
    "clf6 = LogisticRegression(C=1, penalty='l1', solver='liblinear') # Linear Kernel\n",
    "oversample = SMOTE(k_neighbors=2)\n",
    "X, y = oversample.fit_resample(X_train2, y_train2)\n",
    "clf6.fit(X, y)\n",
    "probas6 = clf6.predict_proba(X_test2)\n",
    "\n",
    "clf1 = LogisticRegression(C=1, penalty='l1', solver='liblinear')\n",
    "clf2 = GaussianNB()\n",
    "clf3 = RandomForestClassifier(n_estimators=50, random_state=1)\n",
    "eclf = VotingClassifier(estimators=[('lr', clf1),('rf', clf3), ('gnb', clf2)],voting='hard')\n",
    "eclf.fit(X_train2.toarray(), y_train2)\n",
    "probas7 = eclf.predict_proba(X_test2)\n",
    "\n",
    "params = {'lr__C': [1.0, 100.0], 'rf__n_estimators': [20, 200]}\n",
    "grid = GridSearchCV(\n",
    "    estimator=LogisticRegression(penalty='l1', solver='liblinear'), \n",
    "    param_grid= {'C': [1.0, 100], 'class_weight': [None, 'balanced']}\n",
    "    , cv=5)\n",
    "grid = grid.fit(X_train2, y_train2)\n",
    "probas8 = grid.predict_proba(X_test2)"
   ]
  },
  {
   "cell_type": "code",
   "execution_count": null,
   "metadata": {},
   "outputs": [],
   "source": [
    "f = plt.figure(figsize=[10,10]) \n",
    "plt.plot(roc_curve(y_test2, probas5[:,1])[0], roc_curve(y_test2, probas5[:,1])[1], label = 'Logit TFIDF')\n",
    "plt.plot(roc_curve(y_test2, probas6[:,1])[0], roc_curve(y_test2, probas6[:,1])[1], label = 'Logit TFIDF SMOTE')\n",
    "plt.plot(roc_curve(y_test2, probas7[:,1])[0], roc_curve(y_test2, probas7[:,1])[1], label = 'Voting Classifier')\n",
    "plt.plot(roc_curve(y_test2, probas8[:,1])[0], roc_curve(y_test2, probas8[:,1])[1], label = 'Logit TFIDF GridCV')\n",
    "\n",
    "plt.title('ROC Curve for Different Classifiers')\n",
    "plt.grid()\n",
    "plt.xlabel('False Positive Rate (1 - Specificity)')\n",
    "plt.ylabel('True Positive Rate (Sensitivity)')\n",
    "\n",
    "plt.legend(bbox_to_anchor=(1.0, .5))\n",
    "\n",
    "plt.show()"
   ]
  },
  {
   "cell_type": "markdown",
   "metadata": {},
   "source": [
    "### Confusion Matrix for Best Model Prediction (TFIDF - Logit combination)"
   ]
  },
  {
   "cell_type": "code",
   "execution_count": null,
   "metadata": {},
   "outputs": [],
   "source": [
    "from sklearn.metrics import confusion_matrix\n",
    "\n",
    "##implementation pulled from https://scikit-learn.org/stable/auto_examples/model_selection/plot_confusion_matrix.html\n",
    "\n",
    "from sklearn.model_selection import train_test_split\n",
    "from sklearn.metrics import plot_confusion_matrix\n",
    "classifier = LogisticRegression(C=2, penalty='l1', solver='liblinear').fit(X_train2, y_train2)\n",
    "# Plot non-normalized confusion matrix\n",
    "titles_options = [(\"Confusion matrix, without normalization\", None),\n",
    "                  (\"Normalized confusion matrix\", 'true')]\n",
    "for title, normalize in titles_options:\n",
    "    disp = plot_confusion_matrix(classifier, X_test, y_test,\n",
    "                                 cmap=plt.cm.Blues,\n",
    "                                 normalize=normalize)\n",
    "    disp.ax_.set_title(title)\n",
    "\n",
    "    print(title)\n",
    "    print(disp.confusion_matrix)\n",
    "\n",
    "plt.show()"
   ]
  },
  {
   "cell_type": "code",
   "execution_count": null,
   "metadata": {},
   "outputs": [],
   "source": []
  },
  {
   "cell_type": "markdown",
   "metadata": {},
   "source": [
    "### Prediction csv (not includes SMOTE / Late Fusion / GridSearch / cross-validation)"
   ]
  },
  {
   "cell_type": "code",
   "execution_count": null,
   "metadata": {},
   "outputs": [],
   "source": [
    "toy_test = pd.read_json('/Users/chenjiqing/Public/2020_Fall_term/data/Toys_and_Games_Reviews_test.json', lines=True)"
   ]
  },
  {
   "cell_type": "code",
   "execution_count": null,
   "metadata": {},
   "outputs": [],
   "source": [
    "vader_sntimentscore_test = pd.read_csv('dft_test_vaderSentimentAdded.csv')\n",
    "avg_vader_sntimentscore_test = vader_sntimentscore_test[['asin', 'sentiment_scores']].groupby('asin').mean()\n",
    "avg_vader_sntimentscore_test"
   ]
  },
  {
   "cell_type": "code",
   "execution_count": null,
   "metadata": {},
   "outputs": [],
   "source": [
    "# select coloumns\n",
    "toy_test2 = toy_test[['asin', 'reviewText']]\n",
    "clean_toy_test = toy_test2[toy_test2['reviewText'].notna()]\n",
    "print(clean_toy_test.shape)\n",
    "clean_toy_test2 = clean_toy_test.groupby('asin')['reviewText'].apply(' '.join).reset_index()\n",
    "clean_toy_test2.head()\n",
    "print(clean_toy_test2.shape)\n",
    "print(clean_toy_test2.head())"
   ]
  },
  {
   "cell_type": "code",
   "execution_count": null,
   "metadata": {},
   "outputs": [],
   "source": [
    "tf2=TfidfVectorizer(vocabulary = tf.vocabulary_)\n",
    "text_tf2= tf2.fit_transform(clean_toy_test2['reviewText'])\n",
    "text_tf_senti_test = sparse.hstack((text_tf2,np.array(avg_vader_sntimentscore_test['sentiment_scores'])[:,None]))\n",
    "print(text_tf_senti_test)"
   ]
  },
  {
   "cell_type": "code",
   "execution_count": null,
   "metadata": {},
   "outputs": [],
   "source": [
    "y_toy_test_pred = clf_TFIDF_vader.predict(text_tf_senti_test)"
   ]
  },
  {
   "cell_type": "code",
   "execution_count": null,
   "metadata": {},
   "outputs": [],
   "source": [
    "dft_predict1 = clean_toy_test2[['asin']]\n",
    "print(dft_predict1)\n",
    "dft_predict1['preds'] = y_toy_test_pred\n",
    "print(dft_predict1)\n",
    "dft_predict1.to_csv('predictions.csv', index=False)"
   ]
  }
 ],
 "metadata": {
  "kernelspec": {
   "display_name": "Python 3",
   "language": "python",
   "name": "python3"
  },
  "language_info": {
   "codemirror_mode": {
    "name": "ipython",
    "version": 3
   },
   "file_extension": ".py",
   "mimetype": "text/x-python",
   "name": "python",
   "nbconvert_exporter": "python",
   "pygments_lexer": "ipython3",
   "version": "3.7.7"
  }
 },
 "nbformat": 4,
 "nbformat_minor": 4
}
